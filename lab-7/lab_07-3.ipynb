{
 "cells": [
  {
   "cell_type": "markdown",
   "id": "0154af6f-ac7f-4d6e-ba33-3b9fb24fad39",
   "metadata": {},
   "source": [
    "# Interactive Visualization with Plotly"
   ]
  },
  {
   "cell_type": "markdown",
   "id": "a0273f7a-3a37-4486-89a1-1791021f1b53",
   "metadata": {},
   "source": [
    "For this lab, you'll need to install Plotly. Make sure to follow *both* the [plotly](https://plotly.com/python/getting-started/#installation) steps and the [jupyter support](https://plotly.com/python/getting-started/#jupyterlab-support) steps."
   ]
  },
  {
   "cell_type": "markdown",
   "id": "22e7c867-6aed-4f51-89ed-914258be3122",
   "metadata": {},
   "source": [
    "[Plotly](https://plotly.com/python/) is an interactive visualization package which is as part of the [Plotly and Dash](https://plot.ly) enterprise. Here we'll showcase just a few graphs to get you acquainted with their [Plotly Express](https://plotly.com/python/plotly-express/) module. We'll use [data from the titanic disaster](https://www.kaggle.com/competitions/titanic/data)."
   ]
  },
  {
   "cell_type": "code",
   "execution_count": 1,
   "id": "79fc9985",
   "metadata": {},
   "outputs": [
    {
     "name": "stdout",
     "output_type": "stream",
     "text": [
      "Requirement already satisfied: plotly==5.19.0 in c:\\users\\91630\\miniconda3\\envs\\env_1\\lib\\site-packages (5.19.0)\n",
      "Requirement already satisfied: tenacity>=6.2.0 in c:\\users\\91630\\miniconda3\\envs\\env_1\\lib\\site-packages (from plotly==5.19.0) (8.2.3)\n",
      "Requirement already satisfied: packaging in c:\\users\\91630\\miniconda3\\envs\\env_1\\lib\\site-packages (from plotly==5.19.0) (23.2)\n",
      "Note: you may need to restart the kernel to use updated packages.\n"
     ]
    }
   ],
   "source": [
    " pip install plotly==5.19.0"
   ]
  },
  {
   "cell_type": "code",
   "execution_count": 6,
   "id": "2f1eb15d",
   "metadata": {},
   "outputs": [
    {
     "name": "stdout",
     "output_type": "stream",
     "text": [
      "Collecting jupyterlab>=3\n",
      "  Downloading jupyterlab-4.1.2-py3-none-any.whl.metadata (15 kB)\n",
      "Collecting ipywidgets>=7.6\n",
      "  Downloading ipywidgets-8.1.2-py3-none-any.whl.metadata (2.4 kB)\n",
      "Collecting async-lru>=1.0.0 (from jupyterlab>=3)\n",
      "  Downloading async_lru-2.0.4-py3-none-any.whl.metadata (4.5 kB)\n",
      "Collecting httpx>=0.25.0 (from jupyterlab>=3)\n",
      "  Downloading httpx-0.27.0-py3-none-any.whl.metadata (7.2 kB)\n",
      "Requirement already satisfied: ipykernel in c:\\users\\91630\\miniconda3\\envs\\env_1\\lib\\site-packages (from jupyterlab>=3) (6.29.2)\n",
      "Requirement already satisfied: jinja2>=3.0.3 in c:\\users\\91630\\miniconda3\\envs\\env_1\\lib\\site-packages (from jupyterlab>=3) (3.1.3)\n",
      "Requirement already satisfied: jupyter-core in c:\\users\\91630\\miniconda3\\envs\\env_1\\lib\\site-packages (from jupyterlab>=3) (5.7.1)\n",
      "Collecting jupyter-lsp>=2.0.0 (from jupyterlab>=3)\n",
      "  Downloading jupyter_lsp-2.2.3-py3-none-any.whl.metadata (1.8 kB)\n",
      "Collecting jupyter-server<3,>=2.4.0 (from jupyterlab>=3)\n",
      "  Downloading jupyter_server-2.12.5-py3-none-any.whl.metadata (8.4 kB)\n",
      "Collecting jupyterlab-server<3,>=2.19.0 (from jupyterlab>=3)\n",
      "  Downloading jupyterlab_server-2.25.3-py3-none-any.whl.metadata (5.9 kB)\n",
      "Collecting notebook-shim>=0.2 (from jupyterlab>=3)\n",
      "  Downloading notebook_shim-0.2.4-py3-none-any.whl.metadata (4.0 kB)\n",
      "Requirement already satisfied: packaging in c:\\users\\91630\\miniconda3\\envs\\env_1\\lib\\site-packages (from jupyterlab>=3) (23.2)\n",
      "Requirement already satisfied: tornado>=6.2.0 in c:\\users\\91630\\miniconda3\\envs\\env_1\\lib\\site-packages (from jupyterlab>=3) (6.4)\n",
      "Requirement already satisfied: traitlets in c:\\users\\91630\\miniconda3\\envs\\env_1\\lib\\site-packages (from jupyterlab>=3) (5.14.1)\n",
      "Requirement already satisfied: comm>=0.1.3 in c:\\users\\91630\\miniconda3\\envs\\env_1\\lib\\site-packages (from ipywidgets>=7.6) (0.2.1)\n",
      "Requirement already satisfied: ipython>=6.1.0 in c:\\users\\91630\\miniconda3\\envs\\env_1\\lib\\site-packages (from ipywidgets>=7.6) (8.21.0)\n",
      "Collecting widgetsnbextension~=4.0.10 (from ipywidgets>=7.6)\n",
      "  Downloading widgetsnbextension-4.0.10-py3-none-any.whl.metadata (1.6 kB)\n",
      "Collecting jupyterlab-widgets~=3.0.10 (from ipywidgets>=7.6)\n",
      "  Downloading jupyterlab_widgets-3.0.10-py3-none-any.whl.metadata (4.1 kB)\n",
      "Collecting anyio (from httpx>=0.25.0->jupyterlab>=3)\n",
      "  Downloading anyio-4.3.0-py3-none-any.whl.metadata (4.6 kB)\n",
      "Requirement already satisfied: certifi in c:\\users\\91630\\miniconda3\\envs\\env_1\\lib\\site-packages (from httpx>=0.25.0->jupyterlab>=3) (2024.2.2)\n",
      "Collecting httpcore==1.* (from httpx>=0.25.0->jupyterlab>=3)\n",
      "  Downloading httpcore-1.0.4-py3-none-any.whl.metadata (20 kB)\n",
      "Requirement already satisfied: idna in c:\\users\\91630\\miniconda3\\envs\\env_1\\lib\\site-packages (from httpx>=0.25.0->jupyterlab>=3) (3.6)\n",
      "Collecting sniffio (from httpx>=0.25.0->jupyterlab>=3)\n",
      "  Downloading sniffio-1.3.1-py3-none-any.whl.metadata (3.9 kB)\n",
      "Collecting h11<0.15,>=0.13 (from httpcore==1.*->httpx>=0.25.0->jupyterlab>=3)\n",
      "  Downloading h11-0.14.0-py3-none-any.whl.metadata (8.2 kB)\n",
      "Requirement already satisfied: decorator in c:\\users\\91630\\miniconda3\\envs\\env_1\\lib\\site-packages (from ipython>=6.1.0->ipywidgets>=7.6) (5.1.1)\n",
      "Requirement already satisfied: jedi>=0.16 in c:\\users\\91630\\miniconda3\\envs\\env_1\\lib\\site-packages (from ipython>=6.1.0->ipywidgets>=7.6) (0.19.1)\n",
      "Requirement already satisfied: matplotlib-inline in c:\\users\\91630\\miniconda3\\envs\\env_1\\lib\\site-packages (from ipython>=6.1.0->ipywidgets>=7.6) (0.1.6)\n",
      "Requirement already satisfied: prompt-toolkit<3.1.0,>=3.0.41 in c:\\users\\91630\\miniconda3\\envs\\env_1\\lib\\site-packages (from ipython>=6.1.0->ipywidgets>=7.6) (3.0.43)\n",
      "Requirement already satisfied: pygments>=2.4.0 in c:\\users\\91630\\miniconda3\\envs\\env_1\\lib\\site-packages (from ipython>=6.1.0->ipywidgets>=7.6) (2.17.2)\n",
      "Requirement already satisfied: stack-data in c:\\users\\91630\\miniconda3\\envs\\env_1\\lib\\site-packages (from ipython>=6.1.0->ipywidgets>=7.6) (0.6.3)\n",
      "Requirement already satisfied: colorama in c:\\users\\91630\\miniconda3\\envs\\env_1\\lib\\site-packages (from ipython>=6.1.0->ipywidgets>=7.6) (0.4.6)\n",
      "Requirement already satisfied: MarkupSafe>=2.0 in c:\\users\\91630\\miniconda3\\envs\\env_1\\lib\\site-packages (from jinja2>=3.0.3->jupyterlab>=3) (2.1.5)\n",
      "Collecting argon2-cffi (from jupyter-server<3,>=2.4.0->jupyterlab>=3)\n",
      "  Downloading argon2_cffi-23.1.0-py3-none-any.whl.metadata (5.2 kB)\n",
      "Requirement already satisfied: jupyter-client>=7.4.4 in c:\\users\\91630\\miniconda3\\envs\\env_1\\lib\\site-packages (from jupyter-server<3,>=2.4.0->jupyterlab>=3) (8.6.0)\n",
      "Collecting jupyter-events>=0.9.0 (from jupyter-server<3,>=2.4.0->jupyterlab>=3)\n",
      "  Downloading jupyter_events-0.9.0-py3-none-any.whl.metadata (5.7 kB)\n",
      "Collecting jupyter-server-terminals (from jupyter-server<3,>=2.4.0->jupyterlab>=3)\n",
      "  Downloading jupyter_server_terminals-0.5.2-py3-none-any.whl.metadata (5.6 kB)\n",
      "Collecting nbconvert>=6.4.4 (from jupyter-server<3,>=2.4.0->jupyterlab>=3)\n",
      "  Downloading nbconvert-7.16.1-py3-none-any.whl.metadata (8.0 kB)\n",
      "Collecting nbformat>=5.3.0 (from jupyter-server<3,>=2.4.0->jupyterlab>=3)\n",
      "  Downloading nbformat-5.9.2-py3-none-any.whl.metadata (3.4 kB)\n",
      "Collecting overrides (from jupyter-server<3,>=2.4.0->jupyterlab>=3)\n",
      "  Downloading overrides-7.7.0-py3-none-any.whl.metadata (5.8 kB)\n",
      "Collecting prometheus-client (from jupyter-server<3,>=2.4.0->jupyterlab>=3)\n",
      "  Downloading prometheus_client-0.20.0-py3-none-any.whl.metadata (1.8 kB)\n",
      "Collecting pywinpty (from jupyter-server<3,>=2.4.0->jupyterlab>=3)\n",
      "  Downloading pywinpty-2.0.13-cp311-none-win_amd64.whl.metadata (5.2 kB)\n",
      "Requirement already satisfied: pyzmq>=24 in c:\\users\\91630\\miniconda3\\envs\\env_1\\lib\\site-packages (from jupyter-server<3,>=2.4.0->jupyterlab>=3) (25.1.2)\n",
      "Collecting send2trash>=1.8.2 (from jupyter-server<3,>=2.4.0->jupyterlab>=3)\n",
      "  Downloading Send2Trash-1.8.2-py3-none-any.whl.metadata (4.0 kB)\n",
      "Collecting terminado>=0.8.3 (from jupyter-server<3,>=2.4.0->jupyterlab>=3)\n",
      "  Downloading terminado-0.18.0-py3-none-any.whl.metadata (5.8 kB)\n",
      "Collecting websocket-client (from jupyter-server<3,>=2.4.0->jupyterlab>=3)\n",
      "  Downloading websocket_client-1.7.0-py3-none-any.whl.metadata (7.9 kB)\n",
      "Requirement already satisfied: platformdirs>=2.5 in c:\\users\\91630\\miniconda3\\envs\\env_1\\lib\\site-packages (from jupyter-core->jupyterlab>=3) (4.2.0)\n",
      "Requirement already satisfied: pywin32>=300 in c:\\users\\91630\\miniconda3\\envs\\env_1\\lib\\site-packages (from jupyter-core->jupyterlab>=3) (306)\n",
      "Collecting babel>=2.10 (from jupyterlab-server<3,>=2.19.0->jupyterlab>=3)\n",
      "  Downloading Babel-2.14.0-py3-none-any.whl.metadata (1.6 kB)\n",
      "Collecting json5>=0.9.0 (from jupyterlab-server<3,>=2.19.0->jupyterlab>=3)\n",
      "  Downloading json5-0.9.17-py2.py3-none-any.whl.metadata (24 kB)\n",
      "Collecting jsonschema>=4.18.0 (from jupyterlab-server<3,>=2.19.0->jupyterlab>=3)\n",
      "  Downloading jsonschema-4.21.1-py3-none-any.whl.metadata (7.8 kB)\n",
      "Requirement already satisfied: requests>=2.31 in c:\\users\\91630\\miniconda3\\envs\\env_1\\lib\\site-packages (from jupyterlab-server<3,>=2.19.0->jupyterlab>=3) (2.31.0)\n",
      "Requirement already satisfied: debugpy>=1.6.5 in c:\\users\\91630\\miniconda3\\envs\\env_1\\lib\\site-packages (from ipykernel->jupyterlab>=3) (1.8.1)\n",
      "Requirement already satisfied: nest-asyncio in c:\\users\\91630\\miniconda3\\envs\\env_1\\lib\\site-packages (from ipykernel->jupyterlab>=3) (1.6.0)\n",
      "Requirement already satisfied: psutil in c:\\users\\91630\\miniconda3\\envs\\env_1\\lib\\site-packages (from ipykernel->jupyterlab>=3) (5.9.8)\n",
      "Requirement already satisfied: parso<0.9.0,>=0.8.3 in c:\\users\\91630\\miniconda3\\envs\\env_1\\lib\\site-packages (from jedi>=0.16->ipython>=6.1.0->ipywidgets>=7.6) (0.8.3)\n",
      "Collecting attrs>=22.2.0 (from jsonschema>=4.18.0->jupyterlab-server<3,>=2.19.0->jupyterlab>=3)\n",
      "  Downloading attrs-23.2.0-py3-none-any.whl.metadata (9.5 kB)\n",
      "Collecting jsonschema-specifications>=2023.03.6 (from jsonschema>=4.18.0->jupyterlab-server<3,>=2.19.0->jupyterlab>=3)\n",
      "  Downloading jsonschema_specifications-2023.12.1-py3-none-any.whl.metadata (3.0 kB)\n",
      "Collecting referencing>=0.28.4 (from jsonschema>=4.18.0->jupyterlab-server<3,>=2.19.0->jupyterlab>=3)\n",
      "  Downloading referencing-0.33.0-py3-none-any.whl.metadata (2.7 kB)\n",
      "Collecting rpds-py>=0.7.1 (from jsonschema>=4.18.0->jupyterlab-server<3,>=2.19.0->jupyterlab>=3)\n",
      "  Downloading rpds_py-0.18.0-cp311-none-win_amd64.whl.metadata (4.2 kB)\n",
      "Requirement already satisfied: python-dateutil>=2.8.2 in c:\\users\\91630\\miniconda3\\envs\\env_1\\lib\\site-packages (from jupyter-client>=7.4.4->jupyter-server<3,>=2.4.0->jupyterlab>=3) (2.8.2)\n",
      "Collecting python-json-logger>=2.0.4 (from jupyter-events>=0.9.0->jupyter-server<3,>=2.4.0->jupyterlab>=3)\n",
      "  Downloading python_json_logger-2.0.7-py3-none-any.whl.metadata (6.5 kB)\n",
      "Collecting pyyaml>=5.3 (from jupyter-events>=0.9.0->jupyter-server<3,>=2.4.0->jupyterlab>=3)\n",
      "  Downloading PyYAML-6.0.1-cp311-cp311-win_amd64.whl.metadata (2.1 kB)\n",
      "Collecting rfc3339-validator (from jupyter-events>=0.9.0->jupyter-server<3,>=2.4.0->jupyterlab>=3)\n",
      "  Downloading rfc3339_validator-0.1.4-py2.py3-none-any.whl.metadata (1.5 kB)\n",
      "Collecting rfc3986-validator>=0.1.1 (from jupyter-events>=0.9.0->jupyter-server<3,>=2.4.0->jupyterlab>=3)\n",
      "  Downloading rfc3986_validator-0.1.1-py2.py3-none-any.whl (4.2 kB)\n",
      "Collecting beautifulsoup4 (from nbconvert>=6.4.4->jupyter-server<3,>=2.4.0->jupyterlab>=3)\n",
      "  Downloading beautifulsoup4-4.12.3-py3-none-any.whl.metadata (3.8 kB)\n",
      "Collecting bleach!=5.0.0 (from nbconvert>=6.4.4->jupyter-server<3,>=2.4.0->jupyterlab>=3)\n",
      "  Downloading bleach-6.1.0-py3-none-any.whl.metadata (30 kB)\n",
      "Collecting defusedxml (from nbconvert>=6.4.4->jupyter-server<3,>=2.4.0->jupyterlab>=3)\n",
      "  Downloading defusedxml-0.7.1-py2.py3-none-any.whl.metadata (32 kB)\n",
      "Collecting jupyterlab-pygments (from nbconvert>=6.4.4->jupyter-server<3,>=2.4.0->jupyterlab>=3)\n",
      "  Downloading jupyterlab_pygments-0.3.0-py3-none-any.whl.metadata (4.4 kB)\n",
      "Collecting mistune<4,>=2.0.3 (from nbconvert>=6.4.4->jupyter-server<3,>=2.4.0->jupyterlab>=3)\n",
      "  Downloading mistune-3.0.2-py3-none-any.whl.metadata (1.7 kB)\n",
      "Collecting nbclient>=0.5.0 (from nbconvert>=6.4.4->jupyter-server<3,>=2.4.0->jupyterlab>=3)\n",
      "  Downloading nbclient-0.9.0-py3-none-any.whl.metadata (7.8 kB)\n",
      "Collecting pandocfilters>=1.4.1 (from nbconvert>=6.4.4->jupyter-server<3,>=2.4.0->jupyterlab>=3)\n",
      "  Downloading pandocfilters-1.5.1-py2.py3-none-any.whl.metadata (9.0 kB)\n",
      "Collecting tinycss2 (from nbconvert>=6.4.4->jupyter-server<3,>=2.4.0->jupyterlab>=3)\n",
      "  Downloading tinycss2-1.2.1-py3-none-any.whl.metadata (3.0 kB)\n",
      "Collecting fastjsonschema (from nbformat>=5.3.0->jupyter-server<3,>=2.4.0->jupyterlab>=3)\n",
      "  Downloading fastjsonschema-2.19.1-py3-none-any.whl.metadata (2.1 kB)\n",
      "Requirement already satisfied: wcwidth in c:\\users\\91630\\miniconda3\\envs\\env_1\\lib\\site-packages (from prompt-toolkit<3.1.0,>=3.0.41->ipython>=6.1.0->ipywidgets>=7.6) (0.2.13)\n",
      "Requirement already satisfied: charset-normalizer<4,>=2 in c:\\users\\91630\\miniconda3\\envs\\env_1\\lib\\site-packages (from requests>=2.31->jupyterlab-server<3,>=2.19.0->jupyterlab>=3) (3.3.2)\n",
      "Requirement already satisfied: urllib3<3,>=1.21.1 in c:\\users\\91630\\miniconda3\\envs\\env_1\\lib\\site-packages (from requests>=2.31->jupyterlab-server<3,>=2.19.0->jupyterlab>=3) (2.2.0)\n",
      "Collecting argon2-cffi-bindings (from argon2-cffi->jupyter-server<3,>=2.4.0->jupyterlab>=3)\n",
      "  Downloading argon2_cffi_bindings-21.2.0-cp36-abi3-win_amd64.whl.metadata (6.7 kB)\n",
      "Requirement already satisfied: executing>=1.2.0 in c:\\users\\91630\\miniconda3\\envs\\env_1\\lib\\site-packages (from stack-data->ipython>=6.1.0->ipywidgets>=7.6) (2.0.1)\n",
      "Requirement already satisfied: asttokens>=2.1.0 in c:\\users\\91630\\miniconda3\\envs\\env_1\\lib\\site-packages (from stack-data->ipython>=6.1.0->ipywidgets>=7.6) (2.4.1)\n",
      "Requirement already satisfied: pure-eval in c:\\users\\91630\\miniconda3\\envs\\env_1\\lib\\site-packages (from stack-data->ipython>=6.1.0->ipywidgets>=7.6) (0.2.2)\n",
      "Requirement already satisfied: six>=1.12.0 in c:\\users\\91630\\miniconda3\\envs\\env_1\\lib\\site-packages (from asttokens>=2.1.0->stack-data->ipython>=6.1.0->ipywidgets>=7.6) (1.16.0)\n",
      "Collecting webencodings (from bleach!=5.0.0->nbconvert>=6.4.4->jupyter-server<3,>=2.4.0->jupyterlab>=3)\n",
      "  Downloading webencodings-0.5.1-py2.py3-none-any.whl (11 kB)\n",
      "Collecting fqdn (from jsonschema[format-nongpl]>=4.18.0->jupyter-events>=0.9.0->jupyter-server<3,>=2.4.0->jupyterlab>=3)\n",
      "  Downloading fqdn-1.5.1-py3-none-any.whl.metadata (1.4 kB)\n",
      "Collecting isoduration (from jsonschema[format-nongpl]>=4.18.0->jupyter-events>=0.9.0->jupyter-server<3,>=2.4.0->jupyterlab>=3)\n",
      "  Downloading isoduration-20.11.0-py3-none-any.whl (11 kB)\n",
      "Collecting jsonpointer>1.13 (from jsonschema[format-nongpl]>=4.18.0->jupyter-events>=0.9.0->jupyter-server<3,>=2.4.0->jupyterlab>=3)\n",
      "  Downloading jsonpointer-2.4-py2.py3-none-any.whl.metadata (2.5 kB)\n",
      "Collecting uri-template (from jsonschema[format-nongpl]>=4.18.0->jupyter-events>=0.9.0->jupyter-server<3,>=2.4.0->jupyterlab>=3)\n",
      "  Downloading uri_template-1.3.0-py3-none-any.whl.metadata (8.8 kB)\n",
      "Collecting webcolors>=1.11 (from jsonschema[format-nongpl]>=4.18.0->jupyter-events>=0.9.0->jupyter-server<3,>=2.4.0->jupyterlab>=3)\n",
      "  Downloading webcolors-1.13-py3-none-any.whl.metadata (2.6 kB)\n",
      "Collecting cffi>=1.0.1 (from argon2-cffi-bindings->argon2-cffi->jupyter-server<3,>=2.4.0->jupyterlab>=3)\n",
      "  Downloading cffi-1.16.0-cp311-cp311-win_amd64.whl.metadata (1.5 kB)\n",
      "Collecting soupsieve>1.2 (from beautifulsoup4->nbconvert>=6.4.4->jupyter-server<3,>=2.4.0->jupyterlab>=3)\n",
      "  Downloading soupsieve-2.5-py3-none-any.whl.metadata (4.7 kB)\n",
      "Collecting pycparser (from cffi>=1.0.1->argon2-cffi-bindings->argon2-cffi->jupyter-server<3,>=2.4.0->jupyterlab>=3)\n",
      "  Downloading pycparser-2.21-py2.py3-none-any.whl.metadata (1.1 kB)\n",
      "Collecting arrow>=0.15.0 (from isoduration->jsonschema[format-nongpl]>=4.18.0->jupyter-events>=0.9.0->jupyter-server<3,>=2.4.0->jupyterlab>=3)\n",
      "  Downloading arrow-1.3.0-py3-none-any.whl.metadata (7.5 kB)\n",
      "Collecting types-python-dateutil>=2.8.10 (from arrow>=0.15.0->isoduration->jsonschema[format-nongpl]>=4.18.0->jupyter-events>=0.9.0->jupyter-server<3,>=2.4.0->jupyterlab>=3)\n",
      "  Downloading types_python_dateutil-2.8.19.20240106-py3-none-any.whl.metadata (1.8 kB)\n",
      "Downloading jupyterlab-4.1.2-py3-none-any.whl (11.4 MB)\n",
      "   ---------------------------------------- 0.0/11.4 MB ? eta -:--:--\n",
      "   ---------------------------------------- 0.1/11.4 MB 3.6 MB/s eta 0:00:04\n",
      "   - -------------------------------------- 0.5/11.4 MB 5.8 MB/s eta 0:00:02\n",
      "   --- ------------------------------------ 1.0/11.4 MB 7.9 MB/s eta 0:00:02\n",
      "   ------ --------------------------------- 1.8/11.4 MB 10.2 MB/s eta 0:00:01\n",
      "   -------- ------------------------------- 2.5/11.4 MB 11.4 MB/s eta 0:00:01\n",
      "   --------- ------------------------------ 2.7/11.4 MB 10.2 MB/s eta 0:00:01\n",
      "   ------------ --------------------------- 3.7/11.4 MB 11.6 MB/s eta 0:00:01\n",
      "   ---------------- ----------------------- 4.7/11.4 MB 13.1 MB/s eta 0:00:01\n",
      "   ------------------ --------------------- 5.2/11.4 MB 12.7 MB/s eta 0:00:01\n",
      "   ------------------- -------------------- 5.6/11.4 MB 12.8 MB/s eta 0:00:01\n",
      "   --------------------- ------------------ 6.2/11.4 MB 12.3 MB/s eta 0:00:01\n",
      "   ----------------------- ---------------- 6.8/11.4 MB 12.4 MB/s eta 0:00:01\n",
      "   ------------------------- -------------- 7.3/11.4 MB 12.6 MB/s eta 0:00:01\n",
      "   ------------------------- -------------- 7.3/11.4 MB 11.3 MB/s eta 0:00:01\n",
      "   ------------------------- -------------- 7.3/11.4 MB 11.3 MB/s eta 0:00:01\n",
      "   ------------------------- -------------- 7.3/11.4 MB 11.3 MB/s eta 0:00:01\n",
      "   ------------------------------- -------- 9.1/11.4 MB 11.6 MB/s eta 0:00:01\n",
      "   --------------------------------- ------ 9.4/11.4 MB 11.4 MB/s eta 0:00:01\n",
      "   ---------------------------------- ----- 10.0/11.4 MB 11.4 MB/s eta 0:00:01\n",
      "   ------------------------------------- -- 10.6/11.4 MB 12.4 MB/s eta 0:00:01\n",
      "   ------------------------------------- -- 10.8/11.4 MB 12.3 MB/s eta 0:00:01\n",
      "   ---------------------------------------  11.3/11.4 MB 11.7 MB/s eta 0:00:01\n",
      "   ---------------------------------------- 11.4/11.4 MB 11.3 MB/s eta 0:00:00\n",
      "Downloading ipywidgets-8.1.2-py3-none-any.whl (139 kB)\n",
      "   ---------------------------------------- 0.0/139.4 kB ? eta -:--:--\n",
      "   ---------------------------------------- 139.4/139.4 kB 8.6 MB/s eta 0:00:00\n",
      "Downloading async_lru-2.0.4-py3-none-any.whl (6.1 kB)\n",
      "Downloading httpx-0.27.0-py3-none-any.whl (75 kB)\n",
      "   ---------------------------------------- 0.0/75.6 kB ? eta -:--:--\n",
      "   ---------------------------------------- 75.6/75.6 kB ? eta 0:00:00\n",
      "Downloading httpcore-1.0.4-py3-none-any.whl (77 kB)\n",
      "   ---------------------------------------- 0.0/77.8 kB ? eta -:--:--\n",
      "   ---------------------------------------- 77.8/77.8 kB 4.2 MB/s eta 0:00:00\n",
      "Downloading jupyter_lsp-2.2.3-py3-none-any.whl (69 kB)\n",
      "   ---------------------------------------- 0.0/69.3 kB ? eta -:--:--\n",
      "   ---------------------------------------- 69.3/69.3 kB ? eta 0:00:00\n",
      "Downloading jupyter_server-2.12.5-py3-none-any.whl (380 kB)\n",
      "   ---------------------------------------- 0.0/380.3 kB ? eta -:--:--\n",
      "   ---------------------------------------  378.9/380.3 kB 7.8 MB/s eta 0:00:01\n",
      "   ---------------------------------------- 380.3/380.3 kB 7.9 MB/s eta 0:00:00\n",
      "Downloading jupyterlab_server-2.25.3-py3-none-any.whl (58 kB)\n",
      "   ---------------------------------------- 0.0/59.0 kB ? eta -:--:--\n",
      "   ---------------------------------------- 0.0/59.0 kB ? eta -:--:--\n",
      "   ---------------------------------------- 59.0/59.0 kB 3.2 MB/s eta 0:00:00\n",
      "Downloading jupyterlab_widgets-3.0.10-py3-none-any.whl (215 kB)\n",
      "   ---------------------------------------- 0.0/215.0 kB ? eta -:--:--\n",
      "   ---------------------------------------- 215.0/215.0 kB 6.6 MB/s eta 0:00:00\n",
      "Downloading notebook_shim-0.2.4-py3-none-any.whl (13 kB)\n",
      "Downloading widgetsnbextension-4.0.10-py3-none-any.whl (2.3 MB)\n",
      "   ---------------------------------------- 0.0/2.3 MB ? eta -:--:--\n",
      "   --------- ------------------------------ 0.6/2.3 MB 17.3 MB/s eta 0:00:01\n",
      "   ------------------- -------------------- 1.1/2.3 MB 14.0 MB/s eta 0:00:01\n",
      "   ------------------------------- -------- 1.8/2.3 MB 14.2 MB/s eta 0:00:01\n",
      "   ---------------------------------------- 2.3/2.3 MB 14.6 MB/s eta 0:00:00\n",
      "Downloading anyio-4.3.0-py3-none-any.whl (85 kB)\n",
      "   ---------------------------------------- 0.0/85.6 kB ? eta -:--:--\n",
      "   ---------------------------------------- 85.6/85.6 kB 4.7 MB/s eta 0:00:00\n",
      "Downloading Babel-2.14.0-py3-none-any.whl (11.0 MB)\n",
      "   ---------------------------------------- 0.0/11.0 MB ? eta -:--:--\n",
      "   --- ------------------------------------ 0.9/11.0 MB 28.4 MB/s eta 0:00:01\n",
      "   ------ --------------------------------- 1.8/11.0 MB 23.2 MB/s eta 0:00:01\n",
      "   --------- ------------------------------ 2.7/11.0 MB 21.6 MB/s eta 0:00:01\n",
      "   ------------ --------------------------- 3.5/11.0 MB 20.3 MB/s eta 0:00:01\n",
      "   -------------- ------------------------- 4.1/11.0 MB 19.9 MB/s eta 0:00:01\n",
      "   --------------- ------------------------ 4.3/11.0 MB 17.2 MB/s eta 0:00:01\n",
      "   --------------- ------------------------ 4.3/11.0 MB 17.2 MB/s eta 0:00:01\n",
      "   --------------- ------------------------ 4.3/11.0 MB 17.2 MB/s eta 0:00:01\n",
      "   --------------- ------------------------ 4.3/11.0 MB 17.2 MB/s eta 0:00:01\n",
      "   ------------------ --------------------- 5.0/11.0 MB 11.0 MB/s eta 0:00:01\n",
      "   -------------------- ------------------- 5.7/11.0 MB 12.1 MB/s eta 0:00:01\n",
      "   -------------------- ------------------- 5.7/11.0 MB 12.1 MB/s eta 0:00:01\n",
      "   ---------------------- ----------------- 6.2/11.0 MB 10.5 MB/s eta 0:00:01\n",
      "   ---------------------- ----------------- 6.3/11.0 MB 10.6 MB/s eta 0:00:01\n",
      "   ------------------------ --------------- 6.8/11.0 MB 10.1 MB/s eta 0:00:01\n",
      "   ------------------------- -------------- 7.1/11.0 MB 9.6 MB/s eta 0:00:01\n",
      "   -------------------------- ------------- 7.3/11.0 MB 9.3 MB/s eta 0:00:01\n",
      "   --------------------------- ------------ 7.5/11.0 MB 9.1 MB/s eta 0:00:01\n",
      "   ---------------------------- ----------- 8.0/11.0 MB 9.1 MB/s eta 0:00:01\n",
      "   ------------------------------ --------- 8.3/11.0 MB 9.3 MB/s eta 0:00:01\n",
      "   ------------------------------- -------- 8.7/11.0 MB 9.3 MB/s eta 0:00:01\n",
      "   --------------------------------- ------ 9.2/11.0 MB 9.2 MB/s eta 0:00:01\n",
      "   ----------------------------------- ---- 9.7/11.0 MB 9.1 MB/s eta 0:00:01\n",
      "   ------------------------------------ --- 10.0/11.0 MB 9.0 MB/s eta 0:00:01\n",
      "   ------------------------------------- -- 10.4/11.0 MB 8.8 MB/s eta 0:00:01\n",
      "   ---------------------------------------  10.9/11.0 MB 8.8 MB/s eta 0:00:01\n",
      "   ---------------------------------------  11.0/11.0 MB 8.7 MB/s eta 0:00:01\n",
      "   ---------------------------------------- 11.0/11.0 MB 8.4 MB/s eta 0:00:00\n",
      "Downloading json5-0.9.17-py2.py3-none-any.whl (23 kB)\n",
      "Downloading jsonschema-4.21.1-py3-none-any.whl (85 kB)\n",
      "   ---------------------------------------- 0.0/85.5 kB ? eta -:--:--\n",
      "   ---------------------------------------- 85.5/85.5 kB 4.7 MB/s eta 0:00:00\n",
      "Downloading jupyter_events-0.9.0-py3-none-any.whl (18 kB)\n",
      "Downloading nbconvert-7.16.1-py3-none-any.whl (257 kB)\n",
      "   ---------------------------------------- 0.0/257.3 kB ? eta -:--:--\n",
      "   ----------------------------------- ---- 225.3/257.3 kB 4.6 MB/s eta 0:00:01\n",
      "   ---------------------------------------- 257.3/257.3 kB 2.6 MB/s eta 0:00:00\n",
      "Downloading nbformat-5.9.2-py3-none-any.whl (77 kB)\n",
      "   ---------------------------------------- 0.0/77.6 kB ? eta -:--:--\n",
      "   ---------------------------------------- 77.6/77.6 kB ? eta 0:00:00\n",
      "Downloading Send2Trash-1.8.2-py3-none-any.whl (18 kB)\n",
      "Downloading sniffio-1.3.1-py3-none-any.whl (10 kB)\n",
      "Downloading terminado-0.18.0-py3-none-any.whl (14 kB)\n",
      "Downloading pywinpty-2.0.13-cp311-none-win_amd64.whl (1.4 MB)\n",
      "   ---------------------------------------- 0.0/1.4 MB ? eta -:--:--\n",
      "   -------- ------------------------------- 0.3/1.4 MB 17.9 MB/s eta 0:00:01\n",
      "   -------- ------------------------------- 0.3/1.4 MB 17.9 MB/s eta 0:00:01\n",
      "   ---------- ----------------------------- 0.4/1.4 MB 2.6 MB/s eta 0:00:01\n",
      "   ------------------------- -------------- 0.9/1.4 MB 4.7 MB/s eta 0:00:01\n",
      "   --------------------------------- ------ 1.2/1.4 MB 5.3 MB/s eta 0:00:01\n",
      "   --------------------------------- ------ 1.2/1.4 MB 5.3 MB/s eta 0:00:01\n",
      "   ---------------------------------------- 1.4/1.4 MB 4.4 MB/s eta 0:00:00\n",
      "Downloading argon2_cffi-23.1.0-py3-none-any.whl (15 kB)\n",
      "Downloading jupyter_server_terminals-0.5.2-py3-none-any.whl (13 kB)\n",
      "Downloading overrides-7.7.0-py3-none-any.whl (17 kB)\n",
      "Downloading prometheus_client-0.20.0-py3-none-any.whl (54 kB)\n",
      "   ---------------------------------------- 0.0/54.5 kB ? eta -:--:--\n",
      "   ---------------------------------------- 54.5/54.5 kB 2.8 MB/s eta 0:00:00\n",
      "Downloading websocket_client-1.7.0-py3-none-any.whl (58 kB)\n",
      "   ---------------------------------------- 0.0/58.5 kB ? eta -:--:--\n",
      "   ---------------------------------------- 58.5/58.5 kB ? eta 0:00:00\n",
      "Downloading attrs-23.2.0-py3-none-any.whl (60 kB)\n",
      "   ---------------------------------------- 0.0/60.8 kB ? eta -:--:--\n",
      "   --------------------------------- ------ 51.2/60.8 kB 1.3 MB/s eta 0:00:01\n",
      "   ---------------------------------------- 60.8/60.8 kB 1.1 MB/s eta 0:00:00\n",
      "Downloading bleach-6.1.0-py3-none-any.whl (162 kB)\n",
      "   ---------------------------------------- 0.0/162.8 kB ? eta -:--:--\n",
      "   ---------------------------------------- 162.8/162.8 kB 4.9 MB/s eta 0:00:00\n",
      "Downloading h11-0.14.0-py3-none-any.whl (58 kB)\n",
      "   ---------------------------------------- 0.0/58.3 kB ? eta -:--:--\n",
      "   ---------------------------------------- 58.3/58.3 kB 3.2 MB/s eta 0:00:00\n",
      "Downloading jsonschema_specifications-2023.12.1-py3-none-any.whl (18 kB)\n",
      "Downloading mistune-3.0.2-py3-none-any.whl (47 kB)\n",
      "   ---------------------------------------- 0.0/48.0 kB ? eta -:--:--\n",
      "   ---------------------------------------- 48.0/48.0 kB 2.4 MB/s eta 0:00:00\n",
      "Downloading nbclient-0.9.0-py3-none-any.whl (24 kB)\n",
      "Downloading pandocfilters-1.5.1-py2.py3-none-any.whl (8.7 kB)\n",
      "Downloading python_json_logger-2.0.7-py3-none-any.whl (8.1 kB)\n",
      "Downloading PyYAML-6.0.1-cp311-cp311-win_amd64.whl (144 kB)\n",
      "   ---------------------------------------- 0.0/144.7 kB ? eta -:--:--\n",
      "   ---------------------------------------- 144.7/144.7 kB 9.0 MB/s eta 0:00:00\n",
      "Downloading referencing-0.33.0-py3-none-any.whl (26 kB)\n",
      "Downloading rpds_py-0.18.0-cp311-none-win_amd64.whl (206 kB)\n",
      "   ---------------------------------------- 0.0/206.7 kB ? eta -:--:--\n",
      "   ---------------------------------------- 206.7/206.7 kB 6.1 MB/s eta 0:00:00\n",
      "Downloading argon2_cffi_bindings-21.2.0-cp36-abi3-win_amd64.whl (30 kB)\n",
      "Downloading beautifulsoup4-4.12.3-py3-none-any.whl (147 kB)\n",
      "   ---------------------------------------- 0.0/147.9 kB ? eta -:--:--\n",
      "   ---------------------------------------- 147.9/147.9 kB 8.6 MB/s eta 0:00:00\n",
      "Downloading defusedxml-0.7.1-py2.py3-none-any.whl (25 kB)\n",
      "Downloading fastjsonschema-2.19.1-py3-none-any.whl (23 kB)\n",
      "Downloading jupyterlab_pygments-0.3.0-py3-none-any.whl (15 kB)\n",
      "Downloading rfc3339_validator-0.1.4-py2.py3-none-any.whl (3.5 kB)\n",
      "Downloading tinycss2-1.2.1-py3-none-any.whl (21 kB)\n",
      "Downloading cffi-1.16.0-cp311-cp311-win_amd64.whl (181 kB)\n",
      "   ---------------------------------------- 0.0/181.5 kB ? eta -:--:--\n",
      "   ------------------------------- -------- 143.4/181.5 kB 8.3 MB/s eta 0:00:01\n",
      "   ------------------------------- -------- 143.4/181.5 kB 8.3 MB/s eta 0:00:01\n",
      "   ---------------------------------------- 181.5/181.5 kB 1.4 MB/s eta 0:00:00\n",
      "Downloading jsonpointer-2.4-py2.py3-none-any.whl (7.8 kB)\n",
      "Downloading soupsieve-2.5-py3-none-any.whl (36 kB)\n",
      "Downloading webcolors-1.13-py3-none-any.whl (14 kB)\n",
      "Downloading fqdn-1.5.1-py3-none-any.whl (9.1 kB)\n",
      "Downloading uri_template-1.3.0-py3-none-any.whl (11 kB)\n",
      "Downloading arrow-1.3.0-py3-none-any.whl (66 kB)\n",
      "   ---------------------------------------- 0.0/66.4 kB ? eta -:--:--\n",
      "   ---------------------------------------- 66.4/66.4 kB 3.7 MB/s eta 0:00:00\n",
      "Downloading pycparser-2.21-py2.py3-none-any.whl (118 kB)\n",
      "   ---------------------------------------- 0.0/118.7 kB ? eta -:--:--\n",
      "   ---------------------------------------- 118.7/118.7 kB 6.8 MB/s eta 0:00:00\n",
      "Downloading types_python_dateutil-2.8.19.20240106-py3-none-any.whl (9.7 kB)\n",
      "Installing collected packages: webencodings, fastjsonschema, widgetsnbextension, websocket-client, webcolors, uri-template, types-python-dateutil, tinycss2, soupsieve, sniffio, send2trash, rpds-py, rfc3986-validator, rfc3339-validator, pyyaml, pywinpty, python-json-logger, pycparser, prometheus-client, pandocfilters, overrides, mistune, jupyterlab-widgets, jupyterlab-pygments, jsonpointer, json5, h11, fqdn, defusedxml, bleach, babel, attrs, async-lru, terminado, referencing, httpcore, cffi, beautifulsoup4, arrow, anyio, jupyter-server-terminals, jsonschema-specifications, isoduration, httpx, argon2-cffi-bindings, jsonschema, ipywidgets, argon2-cffi, nbformat, nbclient, jupyter-events, nbconvert, jupyter-server, notebook-shim, jupyterlab-server, jupyter-lsp, jupyterlab\n",
      "Successfully installed anyio-4.3.0 argon2-cffi-23.1.0 argon2-cffi-bindings-21.2.0 arrow-1.3.0 async-lru-2.0.4 attrs-23.2.0 babel-2.14.0 beautifulsoup4-4.12.3 bleach-6.1.0 cffi-1.16.0 defusedxml-0.7.1 fastjsonschema-2.19.1 fqdn-1.5.1 h11-0.14.0 httpcore-1.0.4 httpx-0.27.0 ipywidgets-8.1.2 isoduration-20.11.0 json5-0.9.17 jsonpointer-2.4 jsonschema-4.21.1 jsonschema-specifications-2023.12.1 jupyter-events-0.9.0 jupyter-lsp-2.2.3 jupyter-server-2.12.5 jupyter-server-terminals-0.5.2 jupyterlab-4.1.2 jupyterlab-pygments-0.3.0 jupyterlab-server-2.25.3 jupyterlab-widgets-3.0.10 mistune-3.0.2 nbclient-0.9.0 nbconvert-7.16.1 nbformat-5.9.2 notebook-shim-0.2.4 overrides-7.7.0 pandocfilters-1.5.1 prometheus-client-0.20.0 pycparser-2.21 python-json-logger-2.0.7 pywinpty-2.0.13 pyyaml-6.0.1 referencing-0.33.0 rfc3339-validator-0.1.4 rfc3986-validator-0.1.1 rpds-py-0.18.0 send2trash-1.8.2 sniffio-1.3.1 soupsieve-2.5 terminado-0.18.0 tinycss2-1.2.1 types-python-dateutil-2.8.19.20240106 uri-template-1.3.0 webcolors-1.13 webencodings-0.5.1 websocket-client-1.7.0 widgetsnbextension-4.0.10\n",
      "Note: you may need to restart the kernel to use updated packages.\n"
     ]
    },
    {
     "name": "stderr",
     "output_type": "stream",
     "text": [
      "  WARNING: The script wsdump.exe is installed in 'C:\\Users\\91630\\miniconda3\\envs\\ENV_1\\Scripts' which is not on PATH.\n",
      "  Consider adding this directory to PATH or, if you prefer to suppress this warning, use --no-warn-script-location.\n",
      "  WARNING: The script send2trash.exe is installed in 'C:\\Users\\91630\\miniconda3\\envs\\ENV_1\\Scripts' which is not on PATH.\n",
      "  Consider adding this directory to PATH or, if you prefer to suppress this warning, use --no-warn-script-location.\n",
      "  WARNING: The script pyjson5.exe is installed in 'C:\\Users\\91630\\miniconda3\\envs\\ENV_1\\Scripts' which is not on PATH.\n",
      "  Consider adding this directory to PATH or, if you prefer to suppress this warning, use --no-warn-script-location.\n",
      "  WARNING: The script pybabel.exe is installed in 'C:\\Users\\91630\\miniconda3\\envs\\ENV_1\\Scripts' which is not on PATH.\n",
      "  Consider adding this directory to PATH or, if you prefer to suppress this warning, use --no-warn-script-location.\n",
      "  WARNING: The script httpx.exe is installed in 'C:\\Users\\91630\\miniconda3\\envs\\ENV_1\\Scripts' which is not on PATH.\n",
      "  Consider adding this directory to PATH or, if you prefer to suppress this warning, use --no-warn-script-location.\n",
      "  WARNING: The script jsonschema.exe is installed in 'C:\\Users\\91630\\miniconda3\\envs\\ENV_1\\Scripts' which is not on PATH.\n",
      "  Consider adding this directory to PATH or, if you prefer to suppress this warning, use --no-warn-script-location.\n",
      "  WARNING: The script jupyter-trust.exe is installed in 'C:\\Users\\91630\\miniconda3\\envs\\ENV_1\\Scripts' which is not on PATH.\n",
      "  Consider adding this directory to PATH or, if you prefer to suppress this warning, use --no-warn-script-location.\n",
      "  WARNING: The script jupyter-execute.exe is installed in 'C:\\Users\\91630\\miniconda3\\envs\\ENV_1\\Scripts' which is not on PATH.\n",
      "  Consider adding this directory to PATH or, if you prefer to suppress this warning, use --no-warn-script-location.\n",
      "  WARNING: The script jupyter-events.exe is installed in 'C:\\Users\\91630\\miniconda3\\envs\\ENV_1\\Scripts' which is not on PATH.\n",
      "  Consider adding this directory to PATH or, if you prefer to suppress this warning, use --no-warn-script-location.\n",
      "  WARNING: The scripts jupyter-dejavu.exe and jupyter-nbconvert.exe are installed in 'C:\\Users\\91630\\miniconda3\\envs\\ENV_1\\Scripts' which is not on PATH.\n",
      "  Consider adding this directory to PATH or, if you prefer to suppress this warning, use --no-warn-script-location.\n",
      "  WARNING: The script jupyter-server.exe is installed in 'C:\\Users\\91630\\miniconda3\\envs\\ENV_1\\Scripts' which is not on PATH.\n",
      "  Consider adding this directory to PATH or, if you prefer to suppress this warning, use --no-warn-script-location.\n",
      "  WARNING: The scripts jlpm.exe, jupyter-lab.exe, jupyter-labextension.exe and jupyter-labhub.exe are installed in 'C:\\Users\\91630\\miniconda3\\envs\\ENV_1\\Scripts' which is not on PATH.\n",
      "  Consider adding this directory to PATH or, if you prefer to suppress this warning, use --no-warn-script-location.\n"
     ]
    }
   ],
   "source": [
    "pip install \"jupyterlab>=3\" \"ipywidgets>=7.6\""
   ]
  },
  {
   "cell_type": "code",
   "execution_count": 7,
   "id": "97824066",
   "metadata": {},
   "outputs": [
    {
     "name": "stdout",
     "output_type": "stream",
     "text": [
      "Collecting jupyter-dash\n",
      "  Downloading jupyter_dash-0.4.2-py3-none-any.whl.metadata (3.6 kB)\n",
      "Requirement already satisfied: dash in c:\\users\\91630\\miniconda3\\envs\\env_1\\lib\\site-packages (from jupyter-dash) (2.15.0)\n",
      "Requirement already satisfied: requests in c:\\users\\91630\\miniconda3\\envs\\env_1\\lib\\site-packages (from jupyter-dash) (2.31.0)\n",
      "Requirement already satisfied: flask in c:\\users\\91630\\miniconda3\\envs\\env_1\\lib\\site-packages (from jupyter-dash) (3.0.2)\n",
      "Requirement already satisfied: retrying in c:\\users\\91630\\miniconda3\\envs\\env_1\\lib\\site-packages (from jupyter-dash) (1.3.4)\n",
      "Requirement already satisfied: ipython in c:\\users\\91630\\miniconda3\\envs\\env_1\\lib\\site-packages (from jupyter-dash) (8.21.0)\n",
      "Requirement already satisfied: ipykernel in c:\\users\\91630\\miniconda3\\envs\\env_1\\lib\\site-packages (from jupyter-dash) (6.29.2)\n",
      "Collecting ansi2html (from jupyter-dash)\n",
      "  Downloading ansi2html-1.9.1-py3-none-any.whl.metadata (3.7 kB)\n",
      "Requirement already satisfied: nest-asyncio in c:\\users\\91630\\miniconda3\\envs\\env_1\\lib\\site-packages (from jupyter-dash) (1.6.0)\n",
      "Requirement already satisfied: Werkzeug<3.1 in c:\\users\\91630\\miniconda3\\envs\\env_1\\lib\\site-packages (from dash->jupyter-dash) (3.0.1)\n",
      "Requirement already satisfied: plotly>=5.0.0 in c:\\users\\91630\\miniconda3\\envs\\env_1\\lib\\site-packages (from dash->jupyter-dash) (5.19.0)\n",
      "Requirement already satisfied: dash-html-components==2.0.0 in c:\\users\\91630\\miniconda3\\envs\\env_1\\lib\\site-packages (from dash->jupyter-dash) (2.0.0)\n",
      "Requirement already satisfied: dash-core-components==2.0.0 in c:\\users\\91630\\miniconda3\\envs\\env_1\\lib\\site-packages (from dash->jupyter-dash) (2.0.0)\n",
      "Requirement already satisfied: dash-table==5.0.0 in c:\\users\\91630\\miniconda3\\envs\\env_1\\lib\\site-packages (from dash->jupyter-dash) (5.0.0)\n",
      "Requirement already satisfied: typing-extensions>=4.1.1 in c:\\users\\91630\\miniconda3\\envs\\env_1\\lib\\site-packages (from dash->jupyter-dash) (4.9.0)\n",
      "Requirement already satisfied: setuptools in c:\\users\\91630\\miniconda3\\envs\\env_1\\lib\\site-packages (from dash->jupyter-dash) (68.2.2)\n",
      "Requirement already satisfied: importlib-metadata in c:\\users\\91630\\miniconda3\\envs\\env_1\\lib\\site-packages (from dash->jupyter-dash) (7.0.1)\n",
      "Requirement already satisfied: Jinja2>=3.1.2 in c:\\users\\91630\\miniconda3\\envs\\env_1\\lib\\site-packages (from flask->jupyter-dash) (3.1.3)\n",
      "Requirement already satisfied: itsdangerous>=2.1.2 in c:\\users\\91630\\miniconda3\\envs\\env_1\\lib\\site-packages (from flask->jupyter-dash) (2.1.2)\n",
      "Requirement already satisfied: click>=8.1.3 in c:\\users\\91630\\miniconda3\\envs\\env_1\\lib\\site-packages (from flask->jupyter-dash) (8.1.7)\n",
      "Requirement already satisfied: blinker>=1.6.2 in c:\\users\\91630\\miniconda3\\envs\\env_1\\lib\\site-packages (from flask->jupyter-dash) (1.7.0)\n",
      "Requirement already satisfied: comm>=0.1.1 in c:\\users\\91630\\miniconda3\\envs\\env_1\\lib\\site-packages (from ipykernel->jupyter-dash) (0.2.1)\n",
      "Requirement already satisfied: debugpy>=1.6.5 in c:\\users\\91630\\miniconda3\\envs\\env_1\\lib\\site-packages (from ipykernel->jupyter-dash) (1.8.1)\n",
      "Requirement already satisfied: jupyter-client>=6.1.12 in c:\\users\\91630\\miniconda3\\envs\\env_1\\lib\\site-packages (from ipykernel->jupyter-dash) (8.6.0)\n",
      "Requirement already satisfied: jupyter-core!=5.0.*,>=4.12 in c:\\users\\91630\\miniconda3\\envs\\env_1\\lib\\site-packages (from ipykernel->jupyter-dash) (5.7.1)\n",
      "Requirement already satisfied: matplotlib-inline>=0.1 in c:\\users\\91630\\miniconda3\\envs\\env_1\\lib\\site-packages (from ipykernel->jupyter-dash) (0.1.6)\n",
      "Requirement already satisfied: packaging in c:\\users\\91630\\miniconda3\\envs\\env_1\\lib\\site-packages (from ipykernel->jupyter-dash) (23.2)\n",
      "Requirement already satisfied: psutil in c:\\users\\91630\\miniconda3\\envs\\env_1\\lib\\site-packages (from ipykernel->jupyter-dash) (5.9.8)\n",
      "Requirement already satisfied: pyzmq>=24 in c:\\users\\91630\\miniconda3\\envs\\env_1\\lib\\site-packages (from ipykernel->jupyter-dash) (25.1.2)\n",
      "Requirement already satisfied: tornado>=6.1 in c:\\users\\91630\\miniconda3\\envs\\env_1\\lib\\site-packages (from ipykernel->jupyter-dash) (6.4)\n",
      "Requirement already satisfied: traitlets>=5.4.0 in c:\\users\\91630\\miniconda3\\envs\\env_1\\lib\\site-packages (from ipykernel->jupyter-dash) (5.14.1)\n",
      "Requirement already satisfied: decorator in c:\\users\\91630\\miniconda3\\envs\\env_1\\lib\\site-packages (from ipython->jupyter-dash) (5.1.1)\n",
      "Requirement already satisfied: jedi>=0.16 in c:\\users\\91630\\miniconda3\\envs\\env_1\\lib\\site-packages (from ipython->jupyter-dash) (0.19.1)\n",
      "Requirement already satisfied: prompt-toolkit<3.1.0,>=3.0.41 in c:\\users\\91630\\miniconda3\\envs\\env_1\\lib\\site-packages (from ipython->jupyter-dash) (3.0.43)\n",
      "Requirement already satisfied: pygments>=2.4.0 in c:\\users\\91630\\miniconda3\\envs\\env_1\\lib\\site-packages (from ipython->jupyter-dash) (2.17.2)\n",
      "Requirement already satisfied: stack-data in c:\\users\\91630\\miniconda3\\envs\\env_1\\lib\\site-packages (from ipython->jupyter-dash) (0.6.3)\n",
      "Requirement already satisfied: colorama in c:\\users\\91630\\miniconda3\\envs\\env_1\\lib\\site-packages (from ipython->jupyter-dash) (0.4.6)\n",
      "Requirement already satisfied: charset-normalizer<4,>=2 in c:\\users\\91630\\miniconda3\\envs\\env_1\\lib\\site-packages (from requests->jupyter-dash) (3.3.2)\n",
      "Requirement already satisfied: idna<4,>=2.5 in c:\\users\\91630\\miniconda3\\envs\\env_1\\lib\\site-packages (from requests->jupyter-dash) (3.6)\n",
      "Requirement already satisfied: urllib3<3,>=1.21.1 in c:\\users\\91630\\miniconda3\\envs\\env_1\\lib\\site-packages (from requests->jupyter-dash) (2.2.0)\n",
      "Requirement already satisfied: certifi>=2017.4.17 in c:\\users\\91630\\miniconda3\\envs\\env_1\\lib\\site-packages (from requests->jupyter-dash) (2024.2.2)\n",
      "Requirement already satisfied: six>=1.7.0 in c:\\users\\91630\\miniconda3\\envs\\env_1\\lib\\site-packages (from retrying->jupyter-dash) (1.16.0)\n",
      "Requirement already satisfied: parso<0.9.0,>=0.8.3 in c:\\users\\91630\\miniconda3\\envs\\env_1\\lib\\site-packages (from jedi>=0.16->ipython->jupyter-dash) (0.8.3)\n",
      "Requirement already satisfied: MarkupSafe>=2.0 in c:\\users\\91630\\miniconda3\\envs\\env_1\\lib\\site-packages (from Jinja2>=3.1.2->flask->jupyter-dash) (2.1.5)\n",
      "Requirement already satisfied: python-dateutil>=2.8.2 in c:\\users\\91630\\miniconda3\\envs\\env_1\\lib\\site-packages (from jupyter-client>=6.1.12->ipykernel->jupyter-dash) (2.8.2)\n",
      "Requirement already satisfied: platformdirs>=2.5 in c:\\users\\91630\\miniconda3\\envs\\env_1\\lib\\site-packages (from jupyter-core!=5.0.*,>=4.12->ipykernel->jupyter-dash) (4.2.0)\n",
      "Requirement already satisfied: pywin32>=300 in c:\\users\\91630\\miniconda3\\envs\\env_1\\lib\\site-packages (from jupyter-core!=5.0.*,>=4.12->ipykernel->jupyter-dash) (306)\n",
      "Requirement already satisfied: tenacity>=6.2.0 in c:\\users\\91630\\miniconda3\\envs\\env_1\\lib\\site-packages (from plotly>=5.0.0->dash->jupyter-dash) (8.2.3)\n",
      "Requirement already satisfied: wcwidth in c:\\users\\91630\\miniconda3\\envs\\env_1\\lib\\site-packages (from prompt-toolkit<3.1.0,>=3.0.41->ipython->jupyter-dash) (0.2.13)\n",
      "Requirement already satisfied: zipp>=0.5 in c:\\users\\91630\\miniconda3\\envs\\env_1\\lib\\site-packages (from importlib-metadata->dash->jupyter-dash) (3.17.0)\n",
      "Requirement already satisfied: executing>=1.2.0 in c:\\users\\91630\\miniconda3\\envs\\env_1\\lib\\site-packages (from stack-data->ipython->jupyter-dash) (2.0.1)\n",
      "Requirement already satisfied: asttokens>=2.1.0 in c:\\users\\91630\\miniconda3\\envs\\env_1\\lib\\site-packages (from stack-data->ipython->jupyter-dash) (2.4.1)\n",
      "Requirement already satisfied: pure-eval in c:\\users\\91630\\miniconda3\\envs\\env_1\\lib\\site-packages (from stack-data->ipython->jupyter-dash) (0.2.2)\n",
      "Downloading jupyter_dash-0.4.2-py3-none-any.whl (23 kB)\n",
      "Downloading ansi2html-1.9.1-py3-none-any.whl (17 kB)\n",
      "Installing collected packages: ansi2html, jupyter-dash\n",
      "Successfully installed ansi2html-1.9.1 jupyter-dash-0.4.2\n",
      "Note: you may need to restart the kernel to use updated packages.\n"
     ]
    },
    {
     "name": "stderr",
     "output_type": "stream",
     "text": [
      "  WARNING: The script ansi2html.exe is installed in 'C:\\Users\\91630\\miniconda3\\envs\\ENV_1\\Scripts' which is not on PATH.\n",
      "  Consider adding this directory to PATH or, if you prefer to suppress this warning, use --no-warn-script-location.\n"
     ]
    }
   ],
   "source": [
    "pip install jupyter-dash"
   ]
  },
  {
   "cell_type": "code",
   "execution_count": null,
   "id": "96553ece",
   "metadata": {},
   "outputs": [],
   "source": []
  },
  {
   "cell_type": "code",
   "execution_count": 3,
   "id": "a8c1e687-0dcd-4d7a-84fe-b0756d0fa8e0",
   "metadata": {
    "tags": []
   },
   "outputs": [],
   "source": [
    "import plotly.express as px\n",
    "import pandas as pd"
   ]
  },
  {
   "cell_type": "code",
   "execution_count": 68,
   "id": "103f2afc-3037-4cbb-8e47-8187bdc146f3",
   "metadata": {
    "tags": []
   },
   "outputs": [],
   "source": [
    "df = pd.read_csv(\"C:\\\\Users\\\\91630\\\\OneDrive\\\\Desktop\\\\Informatics assignments\\\\project\\\\lab-7\\\\titanic.csv\")"
   ]
  },
  {
   "cell_type": "code",
   "execution_count": 23,
   "id": "2cc15772-2c52-4156-9911-49ece4907a25",
   "metadata": {
    "tags": []
   },
   "outputs": [
    {
     "name": "stdout",
     "output_type": "stream",
     "text": [
      "<class 'pandas.core.frame.DataFrame'>\n",
      "RangeIndex: 891 entries, 0 to 890\n",
      "Data columns (total 12 columns):\n",
      " #   Column       Non-Null Count  Dtype  \n",
      "---  ------       --------------  -----  \n",
      " 0   PassengerId  891 non-null    int64  \n",
      " 1   Survived     891 non-null    int64  \n",
      " 2   Pclass       891 non-null    int64  \n",
      " 3   Name         891 non-null    object \n",
      " 4   Sex          891 non-null    object \n",
      " 5   Age          714 non-null    float64\n",
      " 6   SibSp        891 non-null    int64  \n",
      " 7   Parch        891 non-null    int64  \n",
      " 8   Ticket       891 non-null    object \n",
      " 9   Fare         891 non-null    float64\n",
      " 10  Cabin        204 non-null    object \n",
      " 11  Embarked     889 non-null    object \n",
      "dtypes: float64(2), int64(5), object(5)\n",
      "memory usage: 83.7+ KB\n"
     ]
    }
   ],
   "source": [
    "df.info()"
   ]
  },
  {
   "cell_type": "markdown",
   "id": "f1606511-9659-4be0-9f14-5c2aa98d70c0",
   "metadata": {},
   "source": [
    "## Scatter Plots"
   ]
  },
  {
   "cell_type": "code",
   "execution_count": 24,
   "id": "8c2fc706-999b-4254-bdc0-c101abe6c0ac",
   "metadata": {
    "tags": []
   },
   "outputs": [
    {
     "data": {
      "application/vnd.plotly.v1+json": {
       "config": {
        "plotlyServerURL": "https://plot.ly"
       },
       "data": [
        {
         "customdata": [
          [
           "Braund, Mr. Owen Harris",
           "male"
          ],
          [
           "Cumings, Mrs. John Bradley (Florence Briggs Thayer)",
           "female"
          ],
          [
           "Heikkinen, Miss. Laina",
           "female"
          ],
          [
           "Futrelle, Mrs. Jacques Heath (Lily May Peel)",
           "female"
          ],
          [
           "Allen, Mr. William Henry",
           "male"
          ],
          [
           "Moran, Mr. James",
           "male"
          ],
          [
           "McCarthy, Mr. Timothy J",
           "male"
          ],
          [
           "Palsson, Master. Gosta Leonard",
           "male"
          ],
          [
           "Johnson, Mrs. Oscar W (Elisabeth Vilhelmina Berg)",
           "female"
          ],
          [
           "Nasser, Mrs. Nicholas (Adele Achem)",
           "female"
          ],
          [
           "Sandstrom, Miss. Marguerite Rut",
           "female"
          ],
          [
           "Bonnell, Miss. Elizabeth",
           "female"
          ],
          [
           "Saundercock, Mr. William Henry",
           "male"
          ],
          [
           "Andersson, Mr. Anders Johan",
           "male"
          ],
          [
           "Vestrom, Miss. Hulda Amanda Adolfina",
           "female"
          ],
          [
           "Hewlett, Mrs. (Mary D Kingcome) ",
           "female"
          ],
          [
           "Rice, Master. Eugene",
           "male"
          ],
          [
           "Williams, Mr. Charles Eugene",
           "male"
          ],
          [
           "Vander Planke, Mrs. Julius (Emelia Maria Vandemoortele)",
           "female"
          ],
          [
           "Masselmani, Mrs. Fatima",
           "female"
          ],
          [
           "Fynney, Mr. Joseph J",
           "male"
          ],
          [
           "Beesley, Mr. Lawrence",
           "male"
          ],
          [
           "McGowan, Miss. Anna \"Annie\"",
           "female"
          ],
          [
           "Sloper, Mr. William Thompson",
           "male"
          ],
          [
           "Palsson, Miss. Torborg Danira",
           "female"
          ],
          [
           "Asplund, Mrs. Carl Oscar (Selma Augusta Emilia Johansson)",
           "female"
          ],
          [
           "Emir, Mr. Farred Chehab",
           "male"
          ],
          [
           "Fortune, Mr. Charles Alexander",
           "male"
          ],
          [
           "O'Dwyer, Miss. Ellen \"Nellie\"",
           "female"
          ],
          [
           "Todoroff, Mr. Lalio",
           "male"
          ],
          [
           "Uruchurtu, Don. Manuel E",
           "male"
          ],
          [
           "Spencer, Mrs. William Augustus (Marie Eugenie)",
           "female"
          ],
          [
           "Glynn, Miss. Mary Agatha",
           "female"
          ],
          [
           "Wheadon, Mr. Edward H",
           "male"
          ],
          [
           "Meyer, Mr. Edgar Joseph",
           "male"
          ],
          [
           "Holverson, Mr. Alexander Oskar",
           "male"
          ],
          [
           "Mamee, Mr. Hanna",
           "male"
          ],
          [
           "Cann, Mr. Ernest Charles",
           "male"
          ],
          [
           "Vander Planke, Miss. Augusta Maria",
           "female"
          ],
          [
           "Nicola-Yarred, Miss. Jamila",
           "female"
          ],
          [
           "Ahlin, Mrs. Johan (Johanna Persdotter Larsson)",
           "female"
          ],
          [
           "Turpin, Mrs. William John Robert (Dorothy Ann Wonnacott)",
           "female"
          ],
          [
           "Kraeff, Mr. Theodor",
           "male"
          ],
          [
           "Laroche, Miss. Simonne Marie Anne Andree",
           "female"
          ],
          [
           "Devaney, Miss. Margaret Delia",
           "female"
          ],
          [
           "Rogers, Mr. William John",
           "male"
          ],
          [
           "Lennon, Mr. Denis",
           "male"
          ],
          [
           "O'Driscoll, Miss. Bridget",
           "female"
          ],
          [
           "Samaan, Mr. Youssef",
           "male"
          ],
          [
           "Arnold-Franchi, Mrs. Josef (Josefine Franchi)",
           "female"
          ],
          [
           "Panula, Master. Juha Niilo",
           "male"
          ],
          [
           "Nosworthy, Mr. Richard Cater",
           "male"
          ],
          [
           "Harper, Mrs. Henry Sleeper (Myna Haxtun)",
           "female"
          ],
          [
           "Faunthorpe, Mrs. Lizzie (Elizabeth Anne Wilkinson)",
           "female"
          ],
          [
           "Ostby, Mr. Engelhart Cornelius",
           "male"
          ],
          [
           "Woolner, Mr. Hugh",
           "male"
          ],
          [
           "Rugg, Miss. Emily",
           "female"
          ],
          [
           "Novel, Mr. Mansouer",
           "male"
          ],
          [
           "West, Miss. Constance Mirium",
           "female"
          ],
          [
           "Goodwin, Master. William Frederick",
           "male"
          ],
          [
           "Sirayanian, Mr. Orsen",
           "male"
          ],
          [
           "Icard, Miss. Amelie",
           "female"
          ],
          [
           "Harris, Mr. Henry Birkhardt",
           "male"
          ],
          [
           "Skoog, Master. Harald",
           "male"
          ],
          [
           "Stewart, Mr. Albert A",
           "male"
          ],
          [
           "Moubarek, Master. Gerios",
           "male"
          ],
          [
           "Nye, Mrs. (Elizabeth Ramell)",
           "female"
          ],
          [
           "Crease, Mr. Ernest James",
           "male"
          ],
          [
           "Andersson, Miss. Erna Alexandra",
           "female"
          ],
          [
           "Kink, Mr. Vincenz",
           "male"
          ],
          [
           "Jenkin, Mr. Stephen Curnow",
           "male"
          ],
          [
           "Goodwin, Miss. Lillian Amy",
           "female"
          ],
          [
           "Hood, Mr. Ambrose Jr",
           "male"
          ],
          [
           "Chronopoulos, Mr. Apostolos",
           "male"
          ],
          [
           "Bing, Mr. Lee",
           "male"
          ],
          [
           "Moen, Mr. Sigurd Hansen",
           "male"
          ],
          [
           "Staneff, Mr. Ivan",
           "male"
          ],
          [
           "Moutal, Mr. Rahamin Haim",
           "male"
          ],
          [
           "Caldwell, Master. Alden Gates",
           "male"
          ],
          [
           "Dowdell, Miss. Elizabeth",
           "female"
          ],
          [
           "Waelens, Mr. Achille",
           "male"
          ],
          [
           "Sheerlinck, Mr. Jan Baptist",
           "male"
          ],
          [
           "McDermott, Miss. Brigdet Delia",
           "female"
          ],
          [
           "Carrau, Mr. Francisco M",
           "male"
          ],
          [
           "Ilett, Miss. Bertha",
           "female"
          ],
          [
           "Backstrom, Mrs. Karl Alfred (Maria Mathilda Gustafsson)",
           "female"
          ],
          [
           "Ford, Mr. William Neal",
           "male"
          ],
          [
           "Slocovski, Mr. Selman Francis",
           "male"
          ],
          [
           "Fortune, Miss. Mabel Helen",
           "female"
          ],
          [
           "Celotti, Mr. Francesco",
           "male"
          ],
          [
           "Christmann, Mr. Emil",
           "male"
          ],
          [
           "Andreasson, Mr. Paul Edvin",
           "male"
          ],
          [
           "Chaffee, Mr. Herbert Fuller",
           "male"
          ],
          [
           "Dean, Mr. Bertram Frank",
           "male"
          ],
          [
           "Coxon, Mr. Daniel",
           "male"
          ],
          [
           "Shorney, Mr. Charles Joseph",
           "male"
          ],
          [
           "Goldschmidt, Mr. George B",
           "male"
          ],
          [
           "Greenfield, Mr. William Bertram",
           "male"
          ],
          [
           "Doling, Mrs. John T (Ada Julia Bone)",
           "female"
          ],
          [
           "Kantor, Mr. Sinai",
           "male"
          ],
          [
           "Petranec, Miss. Matilda",
           "female"
          ],
          [
           "Petroff, Mr. Pastcho (\"Pentcho\")",
           "male"
          ],
          [
           "White, Mr. Richard Frasar",
           "male"
          ],
          [
           "Johansson, Mr. Gustaf Joel",
           "male"
          ],
          [
           "Gustafsson, Mr. Anders Vilhelm",
           "male"
          ],
          [
           "Mionoff, Mr. Stoytcho",
           "male"
          ],
          [
           "Salkjelsvik, Miss. Anna Kristine",
           "female"
          ],
          [
           "Moss, Mr. Albert Johan",
           "male"
          ],
          [
           "Rekic, Mr. Tido",
           "male"
          ],
          [
           "Moran, Miss. Bertha",
           "female"
          ],
          [
           "Porter, Mr. Walter Chamberlain",
           "male"
          ],
          [
           "Zabour, Miss. Hileni",
           "female"
          ],
          [
           "Barton, Mr. David John",
           "male"
          ],
          [
           "Jussila, Miss. Katriina",
           "female"
          ],
          [
           "Attalah, Miss. Malake",
           "female"
          ],
          [
           "Pekoniemi, Mr. Edvard",
           "male"
          ],
          [
           "Connors, Mr. Patrick",
           "male"
          ],
          [
           "Turpin, Mr. William John Robert",
           "male"
          ],
          [
           "Baxter, Mr. Quigg Edmond",
           "male"
          ],
          [
           "Andersson, Miss. Ellis Anna Maria",
           "female"
          ],
          [
           "Hickman, Mr. Stanley George",
           "male"
          ],
          [
           "Moore, Mr. Leonard Charles",
           "male"
          ],
          [
           "Nasser, Mr. Nicholas",
           "male"
          ],
          [
           "Webber, Miss. Susan",
           "female"
          ],
          [
           "White, Mr. Percival Wayland",
           "male"
          ],
          [
           "Nicola-Yarred, Master. Elias",
           "male"
          ],
          [
           "McMahon, Mr. Martin",
           "male"
          ],
          [
           "Madsen, Mr. Fridtjof Arne",
           "male"
          ],
          [
           "Peter, Miss. Anna",
           "female"
          ],
          [
           "Ekstrom, Mr. Johan",
           "male"
          ],
          [
           "Drazenoic, Mr. Jozef",
           "male"
          ],
          [
           "Coelho, Mr. Domingos Fernandeo",
           "male"
          ],
          [
           "Robins, Mrs. Alexander A (Grace Charity Laury)",
           "female"
          ],
          [
           "Weisz, Mrs. Leopold (Mathilde Francoise Pede)",
           "female"
          ],
          [
           "Sobey, Mr. Samuel James Hayden",
           "male"
          ],
          [
           "Richard, Mr. Emile",
           "male"
          ],
          [
           "Newsom, Miss. Helen Monypeny",
           "female"
          ],
          [
           "Futrelle, Mr. Jacques Heath",
           "male"
          ],
          [
           "Osen, Mr. Olaf Elon",
           "male"
          ],
          [
           "Giglio, Mr. Victor",
           "male"
          ],
          [
           "Boulos, Mrs. Joseph (Sultana)",
           "female"
          ],
          [
           "Nysten, Miss. Anna Sofia",
           "female"
          ],
          [
           "Hakkarainen, Mrs. Pekka Pietari (Elin Matilda Dolck)",
           "female"
          ],
          [
           "Burke, Mr. Jeremiah",
           "male"
          ],
          [
           "Andrew, Mr. Edgardo Samuel",
           "male"
          ],
          [
           "Nicholls, Mr. Joseph Charles",
           "male"
          ],
          [
           "Andersson, Mr. August Edvard (\"Wennerstrom\")",
           "male"
          ],
          [
           "Ford, Miss. Robina Maggie \"Ruby\"",
           "female"
          ],
          [
           "Navratil, Mr. Michel (\"Louis M Hoffman\")",
           "male"
          ],
          [
           "Byles, Rev. Thomas Roussel Davids",
           "male"
          ],
          [
           "Bateman, Rev. Robert James",
           "male"
          ],
          [
           "Pears, Mrs. Thomas (Edith Wearne)",
           "female"
          ],
          [
           "Meo, Mr. Alfonzo",
           "male"
          ],
          [
           "van Billiard, Mr. Austin Blyler",
           "male"
          ],
          [
           "Olsen, Mr. Ole Martin",
           "male"
          ],
          [
           "Williams, Mr. Charles Duane",
           "male"
          ],
          [
           "Gilnagh, Miss. Katherine \"Katie\"",
           "female"
          ],
          [
           "Corn, Mr. Harry",
           "male"
          ],
          [
           "Smiljanic, Mr. Mile",
           "male"
          ],
          [
           "Sage, Master. Thomas Henry",
           "male"
          ],
          [
           "Cribb, Mr. John Hatfield",
           "male"
          ],
          [
           "Watt, Mrs. James (Elizabeth \"Bessie\" Inglis Milne)",
           "female"
          ],
          [
           "Bengtsson, Mr. John Viktor",
           "male"
          ],
          [
           "Calic, Mr. Jovo",
           "male"
          ],
          [
           "Panula, Master. Eino Viljami",
           "male"
          ],
          [
           "Goldsmith, Master. Frank John William \"Frankie\"",
           "male"
          ],
          [
           "Chibnall, Mrs. (Edith Martha Bowerman)",
           "female"
          ],
          [
           "Skoog, Mrs. William (Anna Bernhardina Karlsson)",
           "female"
          ],
          [
           "Baumann, Mr. John D",
           "male"
          ],
          [
           "Ling, Mr. Lee",
           "male"
          ],
          [
           "Van der hoef, Mr. Wyckoff",
           "male"
          ],
          [
           "Rice, Master. Arthur",
           "male"
          ],
          [
           "Johnson, Miss. Eleanor Ileen",
           "female"
          ],
          [
           "Sivola, Mr. Antti Wilhelm",
           "male"
          ],
          [
           "Smith, Mr. James Clinch",
           "male"
          ],
          [
           "Klasen, Mr. Klas Albin",
           "male"
          ],
          [
           "Lefebre, Master. Henry Forbes",
           "male"
          ],
          [
           "Isham, Miss. Ann Elizabeth",
           "female"
          ],
          [
           "Hale, Mr. Reginald",
           "male"
          ],
          [
           "Leonard, Mr. Lionel",
           "male"
          ],
          [
           "Sage, Miss. Constance Gladys",
           "female"
          ],
          [
           "Pernot, Mr. Rene",
           "male"
          ],
          [
           "Asplund, Master. Clarence Gustaf Hugo",
           "male"
          ],
          [
           "Becker, Master. Richard F",
           "male"
          ],
          [
           "Kink-Heilmann, Miss. Luise Gretchen",
           "female"
          ],
          [
           "Rood, Mr. Hugh Roscoe",
           "male"
          ],
          [
           "O'Brien, Mrs. Thomas (Johanna \"Hannah\" Godfrey)",
           "female"
          ],
          [
           "Romaine, Mr. Charles Hallace (\"Mr C Rolmane\")",
           "male"
          ],
          [
           "Bourke, Mr. John",
           "male"
          ],
          [
           "Turcin, Mr. Stjepan",
           "male"
          ],
          [
           "Pinsky, Mrs. (Rosa)",
           "female"
          ],
          [
           "Carbines, Mr. William",
           "male"
          ],
          [
           "Andersen-Jensen, Miss. Carla Christine Nielsine",
           "female"
          ],
          [
           "Navratil, Master. Michel M",
           "male"
          ],
          [
           "Brown, Mrs. James Joseph (Margaret Tobin)",
           "female"
          ],
          [
           "Lurette, Miss. Elise",
           "female"
          ],
          [
           "Mernagh, Mr. Robert",
           "male"
          ],
          [
           "Olsen, Mr. Karl Siegwart Andreas",
           "male"
          ],
          [
           "Madigan, Miss. Margaret \"Maggie\"",
           "female"
          ],
          [
           "Yrois, Miss. Henriette (\"Mrs Harbeck\")",
           "female"
          ],
          [
           "Vande Walle, Mr. Nestor Cyriel",
           "male"
          ],
          [
           "Sage, Mr. Frederick",
           "male"
          ],
          [
           "Johanson, Mr. Jakob Alfred",
           "male"
          ],
          [
           "Youseff, Mr. Gerious",
           "male"
          ],
          [
           "Cohen, Mr. Gurshon \"Gus\"",
           "male"
          ],
          [
           "Strom, Miss. Telma Matilda",
           "female"
          ],
          [
           "Backstrom, Mr. Karl Alfred",
           "male"
          ],
          [
           "Albimona, Mr. Nassef Cassem",
           "male"
          ],
          [
           "Carr, Miss. Helen \"Ellen\"",
           "female"
          ],
          [
           "Blank, Mr. Henry",
           "male"
          ],
          [
           "Ali, Mr. Ahmed",
           "male"
          ],
          [
           "Cameron, Miss. Clear Annie",
           "female"
          ],
          [
           "Perkin, Mr. John Henry",
           "male"
          ],
          [
           "Givard, Mr. Hans Kristensen",
           "male"
          ],
          [
           "Kiernan, Mr. Philip",
           "male"
          ],
          [
           "Newell, Miss. Madeleine",
           "female"
          ],
          [
           "Honkanen, Miss. Eliina",
           "female"
          ],
          [
           "Jacobsohn, Mr. Sidney Samuel",
           "male"
          ],
          [
           "Bazzani, Miss. Albina",
           "female"
          ],
          [
           "Harris, Mr. Walter",
           "male"
          ],
          [
           "Sunderland, Mr. Victor Francis",
           "male"
          ],
          [
           "Bracken, Mr. James H",
           "male"
          ],
          [
           "Green, Mr. George Henry",
           "male"
          ],
          [
           "Nenkoff, Mr. Christo",
           "male"
          ],
          [
           "Hoyt, Mr. Frederick Maxfield",
           "male"
          ],
          [
           "Berglund, Mr. Karl Ivar Sven",
           "male"
          ],
          [
           "Mellors, Mr. William John",
           "male"
          ],
          [
           "Lovell, Mr. John Hall (\"Henry\")",
           "male"
          ],
          [
           "Fahlstrom, Mr. Arne Jonas",
           "male"
          ],
          [
           "Lefebre, Miss. Mathilde",
           "female"
          ],
          [
           "Harris, Mrs. Henry Birkhardt (Irene Wallach)",
           "female"
          ],
          [
           "Larsson, Mr. Bengt Edvin",
           "male"
          ],
          [
           "Sjostedt, Mr. Ernst Adolf",
           "male"
          ],
          [
           "Asplund, Miss. Lillian Gertrud",
           "female"
          ],
          [
           "Leyson, Mr. Robert William Norman",
           "male"
          ],
          [
           "Harknett, Miss. Alice Phoebe",
           "female"
          ],
          [
           "Hold, Mr. Stephen",
           "male"
          ],
          [
           "Collyer, Miss. Marjorie \"Lottie\"",
           "female"
          ],
          [
           "Pengelly, Mr. Frederick William",
           "male"
          ],
          [
           "Hunt, Mr. George Henry",
           "male"
          ],
          [
           "Zabour, Miss. Thamine",
           "female"
          ],
          [
           "Murphy, Miss. Katherine \"Kate\"",
           "female"
          ],
          [
           "Coleridge, Mr. Reginald Charles",
           "male"
          ],
          [
           "Maenpaa, Mr. Matti Alexanteri",
           "male"
          ],
          [
           "Attalah, Mr. Sleiman",
           "male"
          ],
          [
           "Minahan, Dr. William Edward",
           "male"
          ],
          [
           "Lindahl, Miss. Agda Thorilda Viktoria",
           "female"
          ],
          [
           "Hamalainen, Mrs. William (Anna)",
           "female"
          ],
          [
           "Beckwith, Mr. Richard Leonard",
           "male"
          ],
          [
           "Carter, Rev. Ernest Courtenay",
           "male"
          ],
          [
           "Reed, Mr. James George",
           "male"
          ],
          [
           "Strom, Mrs. Wilhelm (Elna Matilda Persson)",
           "female"
          ],
          [
           "Stead, Mr. William Thomas",
           "male"
          ],
          [
           "Lobb, Mr. William Arthur",
           "male"
          ],
          [
           "Rosblom, Mrs. Viktor (Helena Wilhelmina)",
           "female"
          ],
          [
           "Touma, Mrs. Darwis (Hanne Youssef Razi)",
           "female"
          ],
          [
           "Thorne, Mrs. Gertrude Maybelle",
           "female"
          ],
          [
           "Cherry, Miss. Gladys",
           "female"
          ],
          [
           "Ward, Miss. Anna",
           "female"
          ],
          [
           "Parrish, Mrs. (Lutie Davis)",
           "female"
          ],
          [
           "Smith, Mr. Thomas",
           "male"
          ],
          [
           "Asplund, Master. Edvin Rojj Felix",
           "male"
          ],
          [
           "Taussig, Mr. Emil",
           "male"
          ],
          [
           "Harrison, Mr. William",
           "male"
          ],
          [
           "Henry, Miss. Delia",
           "female"
          ],
          [
           "Reeves, Mr. David",
           "male"
          ],
          [
           "Panula, Mr. Ernesti Arvid",
           "male"
          ],
          [
           "Persson, Mr. Ernst Ulrik",
           "male"
          ],
          [
           "Graham, Mrs. William Thompson (Edith Junkins)",
           "female"
          ],
          [
           "Bissette, Miss. Amelia",
           "female"
          ],
          [
           "Cairns, Mr. Alexander",
           "male"
          ],
          [
           "Tornquist, Mr. William Henry",
           "male"
          ],
          [
           "Mellinger, Mrs. (Elizabeth Anne Maidment)",
           "female"
          ],
          [
           "Natsch, Mr. Charles H",
           "male"
          ],
          [
           "Healy, Miss. Hanora \"Nora\"",
           "female"
          ],
          [
           "Andrews, Miss. Kornelia Theodosia",
           "female"
          ],
          [
           "Lindblom, Miss. Augusta Charlotta",
           "female"
          ],
          [
           "Parkes, Mr. Francis \"Frank\"",
           "male"
          ],
          [
           "Rice, Master. Eric",
           "male"
          ],
          [
           "Abbott, Mrs. Stanton (Rosa Hunt)",
           "female"
          ],
          [
           "Duane, Mr. Frank",
           "male"
          ],
          [
           "Olsson, Mr. Nils Johan Goransson",
           "male"
          ],
          [
           "de Pelsmaeker, Mr. Alfons",
           "male"
          ],
          [
           "Dorking, Mr. Edward Arthur",
           "male"
          ],
          [
           "Smith, Mr. Richard William",
           "male"
          ],
          [
           "Stankovic, Mr. Ivan",
           "male"
          ],
          [
           "de Mulder, Mr. Theodore",
           "male"
          ],
          [
           "Naidenoff, Mr. Penko",
           "male"
          ],
          [
           "Hosono, Mr. Masabumi",
           "male"
          ],
          [
           "Connolly, Miss. Kate",
           "female"
          ],
          [
           "Barber, Miss. Ellen \"Nellie\"",
           "female"
          ],
          [
           "Bishop, Mrs. Dickinson H (Helen Walton)",
           "female"
          ],
          [
           "Levy, Mr. Rene Jacques",
           "male"
          ],
          [
           "Haas, Miss. Aloisia",
           "female"
          ],
          [
           "Mineff, Mr. Ivan",
           "male"
          ],
          [
           "Lewy, Mr. Ervin G",
           "male"
          ],
          [
           "Hanna, Mr. Mansour",
           "male"
          ],
          [
           "Allison, Miss. Helen Loraine",
           "female"
          ],
          [
           "Saalfeld, Mr. Adolphe",
           "male"
          ],
          [
           "Baxter, Mrs. James (Helene DeLaudeniere Chaput)",
           "female"
          ],
          [
           "Kelly, Miss. Anna Katherine \"Annie Kate\"",
           "female"
          ],
          [
           "McCoy, Mr. Bernard",
           "male"
          ],
          [
           "Johnson, Mr. William Cahoone Jr",
           "male"
          ],
          [
           "Keane, Miss. Nora A",
           "female"
          ],
          [
           "Williams, Mr. Howard Hugh \"Harry\"",
           "male"
          ],
          [
           "Allison, Master. Hudson Trevor",
           "male"
          ],
          [
           "Fleming, Miss. Margaret",
           "female"
          ],
          [
           "Penasco y Castellana, Mrs. Victor de Satode (Maria Josefa Perez de Soto y Vallejo)",
           "female"
          ],
          [
           "Abelson, Mr. Samuel",
           "male"
          ],
          [
           "Francatelli, Miss. Laura Mabel",
           "female"
          ],
          [
           "Hays, Miss. Margaret Bechstein",
           "female"
          ],
          [
           "Ryerson, Miss. Emily Borie",
           "female"
          ],
          [
           "Lahtinen, Mrs. William (Anna Sylfven)",
           "female"
          ],
          [
           "Hendekovic, Mr. Ignjac",
           "male"
          ],
          [
           "Hart, Mr. Benjamin",
           "male"
          ],
          [
           "Nilsson, Miss. Helmina Josefina",
           "female"
          ],
          [
           "Kantor, Mrs. Sinai (Miriam Sternin)",
           "female"
          ],
          [
           "Moraweck, Dr. Ernest",
           "male"
          ],
          [
           "Wick, Miss. Mary Natalie",
           "female"
          ],
          [
           "Spedden, Mrs. Frederic Oakley (Margaretta Corning Stone)",
           "female"
          ],
          [
           "Dennis, Mr. Samuel",
           "male"
          ],
          [
           "Danoff, Mr. Yoto",
           "male"
          ],
          [
           "Slayter, Miss. Hilda Mary",
           "female"
          ],
          [
           "Caldwell, Mrs. Albert Francis (Sylvia Mae Harbaugh)",
           "female"
          ],
          [
           "Sage, Mr. George John Jr",
           "male"
          ],
          [
           "Young, Miss. Marie Grice",
           "female"
          ],
          [
           "Nysveen, Mr. Johan Hansen",
           "male"
          ],
          [
           "Ball, Mrs. (Ada E Hall)",
           "female"
          ],
          [
           "Goldsmith, Mrs. Frank John (Emily Alice Brown)",
           "female"
          ],
          [
           "Hippach, Miss. Jean Gertrude",
           "female"
          ],
          [
           "McCoy, Miss. Agnes",
           "female"
          ],
          [
           "Partner, Mr. Austen",
           "male"
          ],
          [
           "Graham, Mr. George Edward",
           "male"
          ],
          [
           "Vander Planke, Mr. Leo Edmondus",
           "male"
          ],
          [
           "Frauenthal, Mrs. Henry William (Clara Heinsheimer)",
           "female"
          ],
          [
           "Denkoff, Mr. Mitto",
           "male"
          ],
          [
           "Pears, Mr. Thomas Clinton",
           "male"
          ],
          [
           "Burns, Miss. Elizabeth Margaret",
           "female"
          ],
          [
           "Dahl, Mr. Karl Edwart",
           "male"
          ],
          [
           "Blackwell, Mr. Stephen Weart",
           "male"
          ],
          [
           "Navratil, Master. Edmond Roger",
           "male"
          ],
          [
           "Fortune, Miss. Alice Elizabeth",
           "female"
          ],
          [
           "Collander, Mr. Erik Gustaf",
           "male"
          ],
          [
           "Sedgwick, Mr. Charles Frederick Waddington",
           "male"
          ],
          [
           "Fox, Mr. Stanley Hubert",
           "male"
          ],
          [
           "Brown, Miss. Amelia \"Mildred\"",
           "female"
          ],
          [
           "Smith, Miss. Marion Elsie",
           "female"
          ],
          [
           "Davison, Mrs. Thomas Henry (Mary E Finck)",
           "female"
          ],
          [
           "Coutts, Master. William Loch \"William\"",
           "male"
          ],
          [
           "Dimic, Mr. Jovan",
           "male"
          ],
          [
           "Odahl, Mr. Nils Martin",
           "male"
          ],
          [
           "Williams-Lambert, Mr. Fletcher Fellows",
           "male"
          ],
          [
           "Elias, Mr. Tannous",
           "male"
          ],
          [
           "Arnold-Franchi, Mr. Josef",
           "male"
          ],
          [
           "Yousif, Mr. Wazli",
           "male"
          ],
          [
           "Vanden Steen, Mr. Leo Peter",
           "male"
          ],
          [
           "Bowerman, Miss. Elsie Edith",
           "female"
          ],
          [
           "Funk, Miss. Annie Clemmer",
           "female"
          ],
          [
           "McGovern, Miss. Mary",
           "female"
          ],
          [
           "Mockler, Miss. Helen Mary \"Ellie\"",
           "female"
          ],
          [
           "Skoog, Mr. Wilhelm",
           "male"
          ],
          [
           "del Carlo, Mr. Sebastiano",
           "male"
          ],
          [
           "Barbara, Mrs. (Catherine David)",
           "female"
          ],
          [
           "Asim, Mr. Adola",
           "male"
          ],
          [
           "O'Brien, Mr. Thomas",
           "male"
          ],
          [
           "Adahl, Mr. Mauritz Nils Martin",
           "male"
          ],
          [
           "Warren, Mrs. Frank Manley (Anna Sophia Atkinson)",
           "female"
          ],
          [
           "Moussa, Mrs. (Mantoura Boulos)",
           "female"
          ],
          [
           "Jermyn, Miss. Annie",
           "female"
          ],
          [
           "Aubart, Mme. Leontine Pauline",
           "female"
          ],
          [
           "Harder, Mr. George Achilles",
           "male"
          ],
          [
           "Wiklund, Mr. Jakob Alfred",
           "male"
          ],
          [
           "Beavan, Mr. William Thomas",
           "male"
          ],
          [
           "Ringhini, Mr. Sante",
           "male"
          ],
          [
           "Palsson, Miss. Stina Viola",
           "female"
          ],
          [
           "Meyer, Mrs. Edgar Joseph (Leila Saks)",
           "female"
          ],
          [
           "Landergren, Miss. Aurora Adelia",
           "female"
          ],
          [
           "Widener, Mr. Harry Elkins",
           "male"
          ],
          [
           "Betros, Mr. Tannous",
           "male"
          ],
          [
           "Gustafsson, Mr. Karl Gideon",
           "male"
          ],
          [
           "Bidois, Miss. Rosalie",
           "female"
          ],
          [
           "Nakid, Miss. Maria (\"Mary\")",
           "female"
          ],
          [
           "Tikkanen, Mr. Juho",
           "male"
          ],
          [
           "Holverson, Mrs. Alexander Oskar (Mary Aline Towner)",
           "female"
          ],
          [
           "Plotcharsky, Mr. Vasil",
           "male"
          ],
          [
           "Davies, Mr. Charles Henry",
           "male"
          ],
          [
           "Goodwin, Master. Sidney Leonard",
           "male"
          ],
          [
           "Buss, Miss. Kate",
           "female"
          ],
          [
           "Sadlier, Mr. Matthew",
           "male"
          ],
          [
           "Lehmann, Miss. Bertha",
           "female"
          ],
          [
           "Carter, Mr. William Ernest",
           "male"
          ],
          [
           "Jansson, Mr. Carl Olof",
           "male"
          ],
          [
           "Gustafsson, Mr. Johan Birger",
           "male"
          ],
          [
           "Newell, Miss. Marjorie",
           "female"
          ],
          [
           "Sandstrom, Mrs. Hjalmar (Agnes Charlotta Bengtsson)",
           "female"
          ],
          [
           "Johansson, Mr. Erik",
           "male"
          ],
          [
           "Olsson, Miss. Elina",
           "female"
          ],
          [
           "McKane, Mr. Peter David",
           "male"
          ],
          [
           "Pain, Dr. Alfred",
           "male"
          ],
          [
           "Trout, Mrs. William H (Jessie L)",
           "female"
          ],
          [
           "Niskanen, Mr. Juha",
           "male"
          ],
          [
           "Adams, Mr. John",
           "male"
          ],
          [
           "Jussila, Miss. Mari Aina",
           "female"
          ],
          [
           "Hakkarainen, Mr. Pekka Pietari",
           "male"
          ],
          [
           "Oreskovic, Miss. Marija",
           "female"
          ],
          [
           "Gale, Mr. Shadrach",
           "male"
          ],
          [
           "Widegren, Mr. Carl/Charles Peter",
           "male"
          ],
          [
           "Richards, Master. William Rowe",
           "male"
          ],
          [
           "Birkeland, Mr. Hans Martin Monsen",
           "male"
          ],
          [
           "Lefebre, Miss. Ida",
           "female"
          ],
          [
           "Sdycoff, Mr. Todor",
           "male"
          ],
          [
           "Hart, Mr. Henry",
           "male"
          ],
          [
           "Minahan, Miss. Daisy E",
           "female"
          ],
          [
           "Cunningham, Mr. Alfred Fleming",
           "male"
          ],
          [
           "Sundman, Mr. Johan Julian",
           "male"
          ],
          [
           "Meek, Mrs. Thomas (Annie Louise Rowley)",
           "female"
          ],
          [
           "Drew, Mrs. James Vivian (Lulu Thorne Christian)",
           "female"
          ],
          [
           "Silven, Miss. Lyyli Karoliina",
           "female"
          ],
          [
           "Matthews, Mr. William John",
           "male"
          ],
          [
           "Van Impe, Miss. Catharina",
           "female"
          ],
          [
           "Gheorgheff, Mr. Stanio",
           "male"
          ],
          [
           "Charters, Mr. David",
           "male"
          ],
          [
           "Zimmerman, Mr. Leo",
           "male"
          ],
          [
           "Danbom, Mrs. Ernst Gilbert (Anna Sigrid Maria Brogren)",
           "female"
          ],
          [
           "Rosblom, Mr. Viktor Richard",
           "male"
          ],
          [
           "Wiseman, Mr. Phillippe",
           "male"
          ],
          [
           "Clarke, Mrs. Charles V (Ada Maria Winfield)",
           "female"
          ],
          [
           "Phillips, Miss. Kate Florence (\"Mrs Kate Louise Phillips Marshall\")",
           "female"
          ],
          [
           "Flynn, Mr. James",
           "male"
          ],
          [
           "Pickard, Mr. Berk (Berk Trembisky)",
           "male"
          ],
          [
           "Bjornstrom-Steffansson, Mr. Mauritz Hakan",
           "male"
          ],
          [
           "Thorneycroft, Mrs. Percival (Florence Kate White)",
           "female"
          ],
          [
           "Louch, Mrs. Charles Alexander (Alice Adelaide Slow)",
           "female"
          ],
          [
           "Kallio, Mr. Nikolai Erland",
           "male"
          ],
          [
           "Silvey, Mr. William Baird",
           "male"
          ],
          [
           "Carter, Miss. Lucile Polk",
           "female"
          ],
          [
           "Ford, Miss. Doolina Margaret \"Daisy\"",
           "female"
          ],
          [
           "Richards, Mrs. Sidney (Emily Hocking)",
           "female"
          ],
          [
           "Fortune, Mr. Mark",
           "male"
          ],
          [
           "Kvillner, Mr. Johan Henrik Johannesson",
           "male"
          ],
          [
           "Hart, Mrs. Benjamin (Esther Ada Bloomfield)",
           "female"
          ],
          [
           "Hampe, Mr. Leon",
           "male"
          ],
          [
           "Petterson, Mr. Johan Emil",
           "male"
          ],
          [
           "Reynaldo, Ms. Encarnacion",
           "female"
          ],
          [
           "Johannesen-Bratthammer, Mr. Bernt",
           "male"
          ],
          [
           "Dodge, Master. Washington",
           "male"
          ],
          [
           "Mellinger, Miss. Madeleine Violet",
           "female"
          ],
          [
           "Seward, Mr. Frederic Kimber",
           "male"
          ],
          [
           "Baclini, Miss. Marie Catherine",
           "female"
          ],
          [
           "Peuchen, Major. Arthur Godfrey",
           "male"
          ],
          [
           "West, Mr. Edwy Arthur",
           "male"
          ],
          [
           "Hagland, Mr. Ingvald Olai Olsen",
           "male"
          ],
          [
           "Foreman, Mr. Benjamin Laventall",
           "male"
          ],
          [
           "Goldenberg, Mr. Samuel L",
           "male"
          ],
          [
           "Peduzzi, Mr. Joseph",
           "male"
          ],
          [
           "Jalsevac, Mr. Ivan",
           "male"
          ],
          [
           "Millet, Mr. Francis Davis",
           "male"
          ],
          [
           "Kenyon, Mrs. Frederick R (Marion)",
           "female"
          ],
          [
           "Toomey, Miss. Ellen",
           "female"
          ],
          [
           "O'Connor, Mr. Maurice",
           "male"
          ],
          [
           "Anderson, Mr. Harry",
           "male"
          ],
          [
           "Morley, Mr. William",
           "male"
          ],
          [
           "Gee, Mr. Arthur H",
           "male"
          ],
          [
           "Milling, Mr. Jacob Christian",
           "male"
          ],
          [
           "Maisner, Mr. Simon",
           "male"
          ],
          [
           "Goncalves, Mr. Manuel Estanslas",
           "male"
          ],
          [
           "Campbell, Mr. William",
           "male"
          ],
          [
           "Smart, Mr. John Montgomery",
           "male"
          ],
          [
           "Scanlan, Mr. James",
           "male"
          ],
          [
           "Baclini, Miss. Helene Barbara",
           "female"
          ],
          [
           "Keefe, Mr. Arthur",
           "male"
          ],
          [
           "Cacic, Mr. Luka",
           "male"
          ],
          [
           "West, Mrs. Edwy Arthur (Ada Mary Worth)",
           "female"
          ],
          [
           "Jerwan, Mrs. Amin S (Marie Marthe Thuillard)",
           "female"
          ],
          [
           "Strandberg, Miss. Ida Sofia",
           "female"
          ],
          [
           "Clifford, Mr. George Quincy",
           "male"
          ],
          [
           "Renouf, Mr. Peter Henry",
           "male"
          ],
          [
           "Braund, Mr. Lewis Richard",
           "male"
          ],
          [
           "Karlsson, Mr. Nils August",
           "male"
          ],
          [
           "Hirvonen, Miss. Hildur E",
           "female"
          ],
          [
           "Goodwin, Master. Harold Victor",
           "male"
          ],
          [
           "Frost, Mr. Anthony Wood \"Archie\"",
           "male"
          ],
          [
           "Rouse, Mr. Richard Henry",
           "male"
          ],
          [
           "Turkula, Mrs. (Hedwig)",
           "female"
          ],
          [
           "Bishop, Mr. Dickinson H",
           "male"
          ],
          [
           "Lefebre, Miss. Jeannie",
           "female"
          ],
          [
           "Hoyt, Mrs. Frederick Maxfield (Jane Anne Forby)",
           "female"
          ],
          [
           "Kent, Mr. Edward Austin",
           "male"
          ],
          [
           "Somerton, Mr. Francis William",
           "male"
          ],
          [
           "Coutts, Master. Eden Leslie \"Neville\"",
           "male"
          ],
          [
           "Hagland, Mr. Konrad Mathias Reiersen",
           "male"
          ],
          [
           "Windelov, Mr. Einar",
           "male"
          ],
          [
           "Molson, Mr. Harry Markland",
           "male"
          ],
          [
           "Artagaveytia, Mr. Ramon",
           "male"
          ],
          [
           "Stanley, Mr. Edward Roland",
           "male"
          ],
          [
           "Yousseff, Mr. Gerious",
           "male"
          ],
          [
           "Eustis, Miss. Elizabeth Mussey",
           "female"
          ],
          [
           "Shellard, Mr. Frederick William",
           "male"
          ],
          [
           "Allison, Mrs. Hudson J C (Bessie Waldo Daniels)",
           "female"
          ],
          [
           "Svensson, Mr. Olof",
           "male"
          ],
          [
           "Calic, Mr. Petar",
           "male"
          ],
          [
           "Canavan, Miss. Mary",
           "female"
          ],
          [
           "O'Sullivan, Miss. Bridget Mary",
           "female"
          ],
          [
           "Laitinen, Miss. Kristina Sofia",
           "female"
          ],
          [
           "Maioni, Miss. Roberta",
           "female"
          ],
          [
           "Penasco y Castellana, Mr. Victor de Satode",
           "male"
          ],
          [
           "Quick, Mrs. Frederick Charles (Jane Richards)",
           "female"
          ],
          [
           "Bradley, Mr. George (\"George Arthur Brayton\")",
           "male"
          ],
          [
           "Olsen, Mr. Henry Margido",
           "male"
          ],
          [
           "Lang, Mr. Fang",
           "male"
          ],
          [
           "Daly, Mr. Eugene Patrick",
           "male"
          ],
          [
           "Webber, Mr. James",
           "male"
          ],
          [
           "McGough, Mr. James Robert",
           "male"
          ],
          [
           "Rothschild, Mrs. Martin (Elizabeth L. Barrett)",
           "female"
          ],
          [
           "Coleff, Mr. Satio",
           "male"
          ],
          [
           "Walker, Mr. William Anderson",
           "male"
          ],
          [
           "Lemore, Mrs. (Amelia Milley)",
           "female"
          ],
          [
           "Ryan, Mr. Patrick",
           "male"
          ],
          [
           "Angle, Mrs. William A (Florence \"Mary\" Agnes Hughes)",
           "female"
          ],
          [
           "Pavlovic, Mr. Stefo",
           "male"
          ],
          [
           "Perreault, Miss. Anne",
           "female"
          ],
          [
           "Vovk, Mr. Janko",
           "male"
          ],
          [
           "Lahoud, Mr. Sarkis",
           "male"
          ],
          [
           "Hippach, Mrs. Louis Albert (Ida Sophia Fischer)",
           "female"
          ],
          [
           "Kassem, Mr. Fared",
           "male"
          ],
          [
           "Farrell, Mr. James",
           "male"
          ],
          [
           "Ridsdale, Miss. Lucy",
           "female"
          ],
          [
           "Farthing, Mr. John",
           "male"
          ],
          [
           "Salonen, Mr. Johan Werner",
           "male"
          ],
          [
           "Hocking, Mr. Richard George",
           "male"
          ],
          [
           "Quick, Miss. Phyllis May",
           "female"
          ],
          [
           "Toufik, Mr. Nakli",
           "male"
          ],
          [
           "Elias, Mr. Joseph Jr",
           "male"
          ],
          [
           "Peter, Mrs. Catherine (Catherine Rizk)",
           "female"
          ],
          [
           "Cacic, Miss. Marija",
           "female"
          ],
          [
           "Hart, Miss. Eva Miriam",
           "female"
          ],
          [
           "Butt, Major. Archibald Willingham",
           "male"
          ],
          [
           "LeRoy, Miss. Bertha",
           "female"
          ],
          [
           "Risien, Mr. Samuel Beard",
           "male"
          ],
          [
           "Frolicher, Miss. Hedwig Margaritha",
           "female"
          ],
          [
           "Crosby, Miss. Harriet R",
           "female"
          ],
          [
           "Andersson, Miss. Ingeborg Constanzia",
           "female"
          ],
          [
           "Andersson, Miss. Sigrid Elisabeth",
           "female"
          ],
          [
           "Beane, Mr. Edward",
           "male"
          ],
          [
           "Douglas, Mr. Walter Donald",
           "male"
          ],
          [
           "Nicholson, Mr. Arthur Ernest",
           "male"
          ],
          [
           "Beane, Mrs. Edward (Ethel Clarke)",
           "female"
          ],
          [
           "Padro y Manent, Mr. Julian",
           "male"
          ],
          [
           "Goldsmith, Mr. Frank John",
           "male"
          ],
          [
           "Davies, Master. John Morgan Jr",
           "male"
          ],
          [
           "Thayer, Mr. John Borland Jr",
           "male"
          ],
          [
           "Sharp, Mr. Percival James R",
           "male"
          ],
          [
           "O'Brien, Mr. Timothy",
           "male"
          ],
          [
           "Leeni, Mr. Fahim (\"Philip Zenni\")",
           "male"
          ],
          [
           "Ohman, Miss. Velin",
           "female"
          ],
          [
           "Wright, Mr. George",
           "male"
          ],
          [
           "Duff Gordon, Lady. (Lucille Christiana Sutherland) (\"Mrs Morgan\")",
           "female"
          ],
          [
           "Robbins, Mr. Victor",
           "male"
          ],
          [
           "Taussig, Mrs. Emil (Tillie Mandelbaum)",
           "female"
          ],
          [
           "de Messemaeker, Mrs. Guillaume Joseph (Emma)",
           "female"
          ],
          [
           "Morrow, Mr. Thomas Rowan",
           "male"
          ],
          [
           "Sivic, Mr. Husein",
           "male"
          ],
          [
           "Norman, Mr. Robert Douglas",
           "male"
          ],
          [
           "Simmons, Mr. John",
           "male"
          ],
          [
           "Meanwell, Miss. (Marion Ogden)",
           "female"
          ],
          [
           "Davies, Mr. Alfred J",
           "male"
          ],
          [
           "Stoytcheff, Mr. Ilia",
           "male"
          ],
          [
           "Palsson, Mrs. Nils (Alma Cornelia Berglund)",
           "female"
          ],
          [
           "Doharr, Mr. Tannous",
           "male"
          ],
          [
           "Jonsson, Mr. Carl",
           "male"
          ],
          [
           "Harris, Mr. George",
           "male"
          ],
          [
           "Appleton, Mrs. Edward Dale (Charlotte Lamson)",
           "female"
          ],
          [
           "Flynn, Mr. John Irwin (\"Irving\")",
           "male"
          ],
          [
           "Kelly, Miss. Mary",
           "female"
          ],
          [
           "Rush, Mr. Alfred George John",
           "male"
          ],
          [
           "Patchett, Mr. George",
           "male"
          ],
          [
           "Garside, Miss. Ethel",
           "female"
          ],
          [
           "Silvey, Mrs. William Baird (Alice Munger)",
           "female"
          ],
          [
           "Caram, Mrs. Joseph (Maria Elias)",
           "female"
          ],
          [
           "Jussila, Mr. Eiriik",
           "male"
          ],
          [
           "Christy, Miss. Julie Rachel",
           "female"
          ],
          [
           "Thayer, Mrs. John Borland (Marian Longstreth Morris)",
           "female"
          ],
          [
           "Downton, Mr. William James",
           "male"
          ],
          [
           "Ross, Mr. John Hugo",
           "male"
          ],
          [
           "Paulner, Mr. Uscher",
           "male"
          ],
          [
           "Taussig, Miss. Ruth",
           "female"
          ],
          [
           "Jarvis, Mr. John Denzil",
           "male"
          ],
          [
           "Frolicher-Stehli, Mr. Maxmillian",
           "male"
          ],
          [
           "Gilinski, Mr. Eliezer",
           "male"
          ],
          [
           "Murdlin, Mr. Joseph",
           "male"
          ],
          [
           "Rintamaki, Mr. Matti",
           "male"
          ],
          [
           "Stephenson, Mrs. Walter Bertram (Martha Eustis)",
           "female"
          ],
          [
           "Elsbury, Mr. William James",
           "male"
          ],
          [
           "Bourke, Miss. Mary",
           "female"
          ],
          [
           "Chapman, Mr. John Henry",
           "male"
          ],
          [
           "Van Impe, Mr. Jean Baptiste",
           "male"
          ],
          [
           "Leitch, Miss. Jessie Wills",
           "female"
          ],
          [
           "Johnson, Mr. Alfred",
           "male"
          ],
          [
           "Boulos, Mr. Hanna",
           "male"
          ],
          [
           "Duff Gordon, Sir. Cosmo Edmund (\"Mr Morgan\")",
           "male"
          ],
          [
           "Jacobsohn, Mrs. Sidney Samuel (Amy Frances Christy)",
           "female"
          ],
          [
           "Slabenoff, Mr. Petco",
           "male"
          ],
          [
           "Harrington, Mr. Charles H",
           "male"
          ],
          [
           "Torber, Mr. Ernst William",
           "male"
          ],
          [
           "Homer, Mr. Harry (\"Mr E Haven\")",
           "male"
          ],
          [
           "Lindell, Mr. Edvard Bengtsson",
           "male"
          ],
          [
           "Karaic, Mr. Milan",
           "male"
          ],
          [
           "Daniel, Mr. Robert Williams",
           "male"
          ],
          [
           "Laroche, Mrs. Joseph (Juliette Marie Louise Lafargue)",
           "female"
          ],
          [
           "Shutes, Miss. Elizabeth W",
           "female"
          ],
          [
           "Andersson, Mrs. Anders Johan (Alfrida Konstantia Brogren)",
           "female"
          ],
          [
           "Jardin, Mr. Jose Neto",
           "male"
          ],
          [
           "Murphy, Miss. Margaret Jane",
           "female"
          ],
          [
           "Horgan, Mr. John",
           "male"
          ],
          [
           "Brocklebank, Mr. William Alfred",
           "male"
          ],
          [
           "Herman, Miss. Alice",
           "female"
          ],
          [
           "Danbom, Mr. Ernst Gilbert",
           "male"
          ],
          [
           "Lobb, Mrs. William Arthur (Cordelia K Stanlick)",
           "female"
          ],
          [
           "Becker, Miss. Marion Louise",
           "female"
          ],
          [
           "Gavey, Mr. Lawrence",
           "male"
          ],
          [
           "Yasbeck, Mr. Antoni",
           "male"
          ],
          [
           "Kimball, Mr. Edwin Nelson Jr",
           "male"
          ],
          [
           "Nakid, Mr. Sahid",
           "male"
          ],
          [
           "Hansen, Mr. Henry Damsgaard",
           "male"
          ],
          [
           "Bowen, Mr. David John \"Dai\"",
           "male"
          ],
          [
           "Sutton, Mr. Frederick",
           "male"
          ],
          [
           "Kirkland, Rev. Charles Leonard",
           "male"
          ],
          [
           "Longley, Miss. Gretchen Fiske",
           "female"
          ],
          [
           "Bostandyeff, Mr. Guentcho",
           "male"
          ],
          [
           "O'Connell, Mr. Patrick D",
           "male"
          ],
          [
           "Barkworth, Mr. Algernon Henry Wilson",
           "male"
          ],
          [
           "Lundahl, Mr. Johan Svensson",
           "male"
          ],
          [
           "Stahelin-Maeglin, Dr. Max",
           "male"
          ],
          [
           "Parr, Mr. William Henry Marsh",
           "male"
          ],
          [
           "Skoog, Miss. Mabel",
           "female"
          ],
          [
           "Davis, Miss. Mary",
           "female"
          ],
          [
           "Leinonen, Mr. Antti Gustaf",
           "male"
          ],
          [
           "Collyer, Mr. Harvey",
           "male"
          ],
          [
           "Panula, Mrs. Juha (Maria Emilia Ojala)",
           "female"
          ],
          [
           "Thorneycroft, Mr. Percival",
           "male"
          ],
          [
           "Jensen, Mr. Hans Peder",
           "male"
          ],
          [
           "Sagesser, Mlle. Emma",
           "female"
          ],
          [
           "Skoog, Miss. Margit Elizabeth",
           "female"
          ],
          [
           "Foo, Mr. Choong",
           "male"
          ],
          [
           "Baclini, Miss. Eugenie",
           "female"
          ],
          [
           "Harper, Mr. Henry Sleeper",
           "male"
          ],
          [
           "Cor, Mr. Liudevit",
           "male"
          ],
          [
           "Simonius-Blumer, Col. Oberst Alfons",
           "male"
          ],
          [
           "Willey, Mr. Edward",
           "male"
          ],
          [
           "Stanley, Miss. Amy Zillah Elsie",
           "female"
          ],
          [
           "Mitkoff, Mr. Mito",
           "male"
          ],
          [
           "Doling, Miss. Elsie",
           "female"
          ],
          [
           "Kalvik, Mr. Johannes Halvorsen",
           "male"
          ],
          [
           "O'Leary, Miss. Hanora \"Norah\"",
           "female"
          ],
          [
           "Hegarty, Miss. Hanora \"Nora\"",
           "female"
          ],
          [
           "Hickman, Mr. Leonard Mark",
           "male"
          ],
          [
           "Radeff, Mr. Alexander",
           "male"
          ],
          [
           "Bourke, Mrs. John (Catherine)",
           "female"
          ],
          [
           "Eitemiller, Mr. George Floyd",
           "male"
          ],
          [
           "Newell, Mr. Arthur Webster",
           "male"
          ],
          [
           "Frauenthal, Dr. Henry William",
           "male"
          ],
          [
           "Badt, Mr. Mohamed",
           "male"
          ],
          [
           "Colley, Mr. Edward Pomeroy",
           "male"
          ],
          [
           "Coleff, Mr. Peju",
           "male"
          ],
          [
           "Lindqvist, Mr. Eino William",
           "male"
          ],
          [
           "Hickman, Mr. Lewis",
           "male"
          ],
          [
           "Butler, Mr. Reginald Fenton",
           "male"
          ],
          [
           "Rommetvedt, Mr. Knud Paust",
           "male"
          ],
          [
           "Cook, Mr. Jacob",
           "male"
          ],
          [
           "Taylor, Mrs. Elmer Zebley (Juliet Cummins Wright)",
           "female"
          ],
          [
           "Brown, Mrs. Thomas William Solomon (Elizabeth Catherine Ford)",
           "female"
          ],
          [
           "Davidson, Mr. Thornton",
           "male"
          ],
          [
           "Mitchell, Mr. Henry Michael",
           "male"
          ],
          [
           "Wilhelms, Mr. Charles",
           "male"
          ],
          [
           "Watson, Mr. Ennis Hastings",
           "male"
          ],
          [
           "Edvardsson, Mr. Gustaf Hjalmar",
           "male"
          ],
          [
           "Sawyer, Mr. Frederick Charles",
           "male"
          ],
          [
           "Turja, Miss. Anna Sofia",
           "female"
          ],
          [
           "Goodwin, Mrs. Frederick (Augusta Tyler)",
           "female"
          ],
          [
           "Cardeza, Mr. Thomas Drake Martinez",
           "male"
          ],
          [
           "Peters, Miss. Katie",
           "female"
          ],
          [
           "Hassab, Mr. Hammad",
           "male"
          ],
          [
           "Olsvigen, Mr. Thor Anderson",
           "male"
          ],
          [
           "Goodwin, Mr. Charles Edward",
           "male"
          ],
          [
           "Brown, Mr. Thomas William Solomon",
           "male"
          ],
          [
           "Laroche, Mr. Joseph Philippe Lemercier",
           "male"
          ],
          [
           "Panula, Mr. Jaako Arnold",
           "male"
          ],
          [
           "Dakic, Mr. Branko",
           "male"
          ],
          [
           "Fischer, Mr. Eberhard Thelander",
           "male"
          ],
          [
           "Madill, Miss. Georgette Alexandra",
           "female"
          ],
          [
           "Dick, Mr. Albert Adrian",
           "male"
          ],
          [
           "Karun, Miss. Manca",
           "female"
          ],
          [
           "Lam, Mr. Ali",
           "male"
          ],
          [
           "Saad, Mr. Khalil",
           "male"
          ],
          [
           "Weir, Col. John",
           "male"
          ],
          [
           "Chapman, Mr. Charles Henry",
           "male"
          ],
          [
           "Kelly, Mr. James",
           "male"
          ],
          [
           "Mullens, Miss. Katherine \"Katie\"",
           "female"
          ],
          [
           "Thayer, Mr. John Borland",
           "male"
          ],
          [
           "Humblen, Mr. Adolf Mathias Nicolai Olsen",
           "male"
          ],
          [
           "Astor, Mrs. John Jacob (Madeleine Talmadge Force)",
           "female"
          ],
          [
           "Silverthorne, Mr. Spencer Victor",
           "male"
          ],
          [
           "Barbara, Miss. Saiide",
           "female"
          ],
          [
           "Gallagher, Mr. Martin",
           "male"
          ],
          [
           "Hansen, Mr. Henrik Juul",
           "male"
          ],
          [
           "Morley, Mr. Henry Samuel (\"Mr Henry Marshall\")",
           "male"
          ],
          [
           "Kelly, Mrs. Florence \"Fannie\"",
           "female"
          ],
          [
           "Calderhead, Mr. Edward Pennington",
           "male"
          ],
          [
           "Cleaver, Miss. Alice",
           "female"
          ],
          [
           "Moubarek, Master. Halim Gonios (\"William George\")",
           "male"
          ],
          [
           "Mayne, Mlle. Berthe Antonine (\"Mrs de Villiers\")",
           "female"
          ],
          [
           "Klaber, Mr. Herman",
           "male"
          ],
          [
           "Taylor, Mr. Elmer Zebley",
           "male"
          ],
          [
           "Larsson, Mr. August Viktor",
           "male"
          ],
          [
           "Greenberg, Mr. Samuel",
           "male"
          ],
          [
           "Soholt, Mr. Peter Andreas Lauritz Andersen",
           "male"
          ],
          [
           "Endres, Miss. Caroline Louise",
           "female"
          ],
          [
           "Troutt, Miss. Edwina Celia \"Winnie\"",
           "female"
          ],
          [
           "McEvoy, Mr. Michael",
           "male"
          ],
          [
           "Johnson, Mr. Malkolm Joackim",
           "male"
          ],
          [
           "Harper, Miss. Annie Jessie \"Nina\"",
           "female"
          ],
          [
           "Jensen, Mr. Svend Lauritz",
           "male"
          ],
          [
           "Gillespie, Mr. William Henry",
           "male"
          ],
          [
           "Hodges, Mr. Henry Price",
           "male"
          ],
          [
           "Chambers, Mr. Norman Campbell",
           "male"
          ],
          [
           "Oreskovic, Mr. Luka",
           "male"
          ],
          [
           "Renouf, Mrs. Peter Henry (Lillian Jefferys)",
           "female"
          ],
          [
           "Mannion, Miss. Margareth",
           "female"
          ],
          [
           "Bryhl, Mr. Kurt Arnold Gottfrid",
           "male"
          ],
          [
           "Ilmakangas, Miss. Pieta Sofia",
           "female"
          ],
          [
           "Allen, Miss. Elisabeth Walton",
           "female"
          ],
          [
           "Hassan, Mr. Houssein G N",
           "male"
          ],
          [
           "Knight, Mr. Robert J",
           "male"
          ],
          [
           "Berriman, Mr. William John",
           "male"
          ],
          [
           "Troupiansky, Mr. Moses Aaron",
           "male"
          ],
          [
           "Williams, Mr. Leslie",
           "male"
          ],
          [
           "Ford, Mrs. Edward (Margaret Ann Watson)",
           "female"
          ],
          [
           "Lesurer, Mr. Gustave J",
           "male"
          ],
          [
           "Ivanoff, Mr. Kanio",
           "male"
          ],
          [
           "Nankoff, Mr. Minko",
           "male"
          ],
          [
           "Hawksford, Mr. Walter James",
           "male"
          ],
          [
           "Cavendish, Mr. Tyrell William",
           "male"
          ],
          [
           "Ryerson, Miss. Susan Parker \"Suzette\"",
           "female"
          ],
          [
           "McNamee, Mr. Neal",
           "male"
          ],
          [
           "Stranden, Mr. Juho",
           "male"
          ],
          [
           "Crosby, Capt. Edward Gifford",
           "male"
          ],
          [
           "Abbott, Mr. Rossmore Edward",
           "male"
          ],
          [
           "Sinkkonen, Miss. Anna",
           "female"
          ],
          [
           "Marvin, Mr. Daniel Warner",
           "male"
          ],
          [
           "Connaghton, Mr. Michael",
           "male"
          ],
          [
           "Wells, Miss. Joan",
           "female"
          ],
          [
           "Moor, Master. Meier",
           "male"
          ],
          [
           "Vande Velde, Mr. Johannes Joseph",
           "male"
          ],
          [
           "Jonkoff, Mr. Lalio",
           "male"
          ],
          [
           "Herman, Mrs. Samuel (Jane Laver)",
           "female"
          ],
          [
           "Hamalainen, Master. Viljo",
           "male"
          ],
          [
           "Carlsson, Mr. August Sigfrid",
           "male"
          ],
          [
           "Bailey, Mr. Percy Andrew",
           "male"
          ],
          [
           "Theobald, Mr. Thomas Leonard",
           "male"
          ],
          [
           "Rothes, the Countess. of (Lucy Noel Martha Dyer-Edwards)",
           "female"
          ],
          [
           "Garfirth, Mr. John",
           "male"
          ],
          [
           "Nirva, Mr. Iisakki Antino Aijo",
           "male"
          ],
          [
           "Barah, Mr. Hanna Assi",
           "male"
          ],
          [
           "Carter, Mrs. William Ernest (Lucile Polk)",
           "female"
          ],
          [
           "Eklund, Mr. Hans Linus",
           "male"
          ],
          [
           "Hogeboom, Mrs. John C (Anna Andrews)",
           "female"
          ],
          [
           "Brewe, Dr. Arthur Jackson",
           "male"
          ],
          [
           "Mangan, Miss. Mary",
           "female"
          ],
          [
           "Moran, Mr. Daniel J",
           "male"
          ],
          [
           "Gronnestad, Mr. Daniel Danielsen",
           "male"
          ],
          [
           "Lievens, Mr. Rene Aime",
           "male"
          ],
          [
           "Jensen, Mr. Niels Peder",
           "male"
          ],
          [
           "Mack, Mrs. (Mary)",
           "female"
          ],
          [
           "Elias, Mr. Dibo",
           "male"
          ],
          [
           "Hocking, Mrs. Elizabeth (Eliza Needs)",
           "female"
          ],
          [
           "Myhrman, Mr. Pehr Fabian Oliver Malkolm",
           "male"
          ],
          [
           "Tobin, Mr. Roger",
           "male"
          ],
          [
           "Emanuel, Miss. Virginia Ethel",
           "female"
          ],
          [
           "Kilgannon, Mr. Thomas J",
           "male"
          ],
          [
           "Robert, Mrs. Edward Scott (Elisabeth Walton McMillan)",
           "female"
          ],
          [
           "Ayoub, Miss. Banoura",
           "female"
          ],
          [
           "Dick, Mrs. Albert Adrian (Vera Gillespie)",
           "female"
          ],
          [
           "Long, Mr. Milton Clyde",
           "male"
          ],
          [
           "Johnston, Mr. Andrew G",
           "male"
          ],
          [
           "Ali, Mr. William",
           "male"
          ],
          [
           "Harmer, Mr. Abraham (David Lishin)",
           "male"
          ],
          [
           "Sjoblom, Miss. Anna Sofia",
           "female"
          ],
          [
           "Rice, Master. George Hugh",
           "male"
          ],
          [
           "Dean, Master. Bertram Vere",
           "male"
          ],
          [
           "Guggenheim, Mr. Benjamin",
           "male"
          ],
          [
           "Keane, Mr. Andrew \"Andy\"",
           "male"
          ],
          [
           "Gaskell, Mr. Alfred",
           "male"
          ],
          [
           "Sage, Miss. Stella Anna",
           "female"
          ],
          [
           "Hoyt, Mr. William Fisher",
           "male"
          ],
          [
           "Dantcheff, Mr. Ristiu",
           "male"
          ],
          [
           "Otter, Mr. Richard",
           "male"
          ],
          [
           "Leader, Dr. Alice (Farnham)",
           "female"
          ],
          [
           "Osman, Mrs. Mara",
           "female"
          ],
          [
           "Ibrahim Shawah, Mr. Yousseff",
           "male"
          ],
          [
           "Van Impe, Mrs. Jean Baptiste (Rosalie Paula Govaert)",
           "female"
          ],
          [
           "Ponesell, Mr. Martin",
           "male"
          ],
          [
           "Collyer, Mrs. Harvey (Charlotte Annie Tate)",
           "female"
          ],
          [
           "Carter, Master. William Thornton II",
           "male"
          ],
          [
           "Thomas, Master. Assad Alexander",
           "male"
          ],
          [
           "Hedman, Mr. Oskar Arvid",
           "male"
          ],
          [
           "Johansson, Mr. Karl Johan",
           "male"
          ],
          [
           "Andrews, Mr. Thomas Jr",
           "male"
          ],
          [
           "Pettersson, Miss. Ellen Natalia",
           "female"
          ],
          [
           "Meyer, Mr. August",
           "male"
          ],
          [
           "Chambers, Mrs. Norman Campbell (Bertha Griggs)",
           "female"
          ],
          [
           "Alexander, Mr. William",
           "male"
          ],
          [
           "Lester, Mr. James",
           "male"
          ],
          [
           "Slemen, Mr. Richard James",
           "male"
          ],
          [
           "Andersson, Miss. Ebba Iris Alfrida",
           "female"
          ],
          [
           "Tomlin, Mr. Ernest Portage",
           "male"
          ],
          [
           "Fry, Mr. Richard",
           "male"
          ],
          [
           "Heininen, Miss. Wendla Maria",
           "female"
          ],
          [
           "Mallet, Mr. Albert",
           "male"
          ],
          [
           "Holm, Mr. John Fredrik Alexander",
           "male"
          ],
          [
           "Skoog, Master. Karl Thorsten",
           "male"
          ],
          [
           "Hays, Mrs. Charles Melville (Clara Jennings Gregg)",
           "female"
          ],
          [
           "Lulic, Mr. Nikola",
           "male"
          ],
          [
           "Reuchlin, Jonkheer. John George",
           "male"
          ],
          [
           "Moor, Mrs. (Beila)",
           "female"
          ],
          [
           "Panula, Master. Urho Abraham",
           "male"
          ],
          [
           "Flynn, Mr. John",
           "male"
          ],
          [
           "Lam, Mr. Len",
           "male"
          ],
          [
           "Mallet, Master. Andre",
           "male"
          ],
          [
           "McCormack, Mr. Thomas Joseph",
           "male"
          ],
          [
           "Stone, Mrs. George Nelson (Martha Evelyn)",
           "female"
          ],
          [
           "Yasbeck, Mrs. Antoni (Selini Alexander)",
           "female"
          ],
          [
           "Richards, Master. George Sibley",
           "male"
          ],
          [
           "Saad, Mr. Amin",
           "male"
          ],
          [
           "Augustsson, Mr. Albert",
           "male"
          ],
          [
           "Allum, Mr. Owen George",
           "male"
          ],
          [
           "Compton, Miss. Sara Rebecca",
           "female"
          ],
          [
           "Pasic, Mr. Jakob",
           "male"
          ],
          [
           "Sirota, Mr. Maurice",
           "male"
          ],
          [
           "Chip, Mr. Chang",
           "male"
          ],
          [
           "Marechal, Mr. Pierre",
           "male"
          ],
          [
           "Alhomaki, Mr. Ilmari Rudolf",
           "male"
          ],
          [
           "Mudd, Mr. Thomas Charles",
           "male"
          ],
          [
           "Serepeca, Miss. Augusta",
           "female"
          ],
          [
           "Lemberopolous, Mr. Peter L",
           "male"
          ],
          [
           "Culumovic, Mr. Jeso",
           "male"
          ],
          [
           "Abbing, Mr. Anthony",
           "male"
          ],
          [
           "Sage, Mr. Douglas Bullen",
           "male"
          ],
          [
           "Markoff, Mr. Marin",
           "male"
          ],
          [
           "Harper, Rev. John",
           "male"
          ],
          [
           "Goldenberg, Mrs. Samuel L (Edwiga Grabowska)",
           "female"
          ],
          [
           "Andersson, Master. Sigvard Harald Elias",
           "male"
          ],
          [
           "Svensson, Mr. Johan",
           "male"
          ],
          [
           "Boulos, Miss. Nourelain",
           "female"
          ],
          [
           "Lines, Miss. Mary Conover",
           "female"
          ],
          [
           "Carter, Mrs. Ernest Courtenay (Lilian Hughes)",
           "female"
          ],
          [
           "Aks, Mrs. Sam (Leah Rosen)",
           "female"
          ],
          [
           "Wick, Mrs. George Dennick (Mary Hitchcock)",
           "female"
          ],
          [
           "Daly, Mr. Peter Denis ",
           "male"
          ],
          [
           "Baclini, Mrs. Solomon (Latifa Qurban)",
           "female"
          ],
          [
           "Razi, Mr. Raihed",
           "male"
          ],
          [
           "Hansen, Mr. Claus Peter",
           "male"
          ],
          [
           "Giles, Mr. Frederick Edward",
           "male"
          ],
          [
           "Swift, Mrs. Frederick Joel (Margaret Welles Barron)",
           "female"
          ],
          [
           "Sage, Miss. Dorothy Edith \"Dolly\"",
           "female"
          ],
          [
           "Gill, Mr. John William",
           "male"
          ],
          [
           "Bystrom, Mrs. (Karolina)",
           "female"
          ],
          [
           "Duran y More, Miss. Asuncion",
           "female"
          ],
          [
           "Roebling, Mr. Washington Augustus II",
           "male"
          ],
          [
           "van Melkebeke, Mr. Philemon",
           "male"
          ],
          [
           "Johnson, Master. Harold Theodor",
           "male"
          ],
          [
           "Balkic, Mr. Cerin",
           "male"
          ],
          [
           "Beckwith, Mrs. Richard Leonard (Sallie Monypeny)",
           "female"
          ],
          [
           "Carlsson, Mr. Frans Olof",
           "male"
          ],
          [
           "Vander Cruyssen, Mr. Victor",
           "male"
          ],
          [
           "Abelson, Mrs. Samuel (Hannah Wizosky)",
           "female"
          ],
          [
           "Najib, Miss. Adele Kiamie \"Jane\"",
           "female"
          ],
          [
           "Gustafsson, Mr. Alfred Ossian",
           "male"
          ],
          [
           "Petroff, Mr. Nedelio",
           "male"
          ],
          [
           "Laleff, Mr. Kristo",
           "male"
          ],
          [
           "Potter, Mrs. Thomas Jr (Lily Alexenia Wilson)",
           "female"
          ],
          [
           "Shelley, Mrs. William (Imanita Parrish Hall)",
           "female"
          ],
          [
           "Markun, Mr. Johann",
           "male"
          ],
          [
           "Dahlberg, Miss. Gerda Ulrika",
           "female"
          ],
          [
           "Banfield, Mr. Frederick James",
           "male"
          ],
          [
           "Sutehall, Mr. Henry Jr",
           "male"
          ],
          [
           "Rice, Mrs. William (Margaret Norton)",
           "female"
          ],
          [
           "Montvila, Rev. Juozas",
           "male"
          ],
          [
           "Graham, Miss. Margaret Edith",
           "female"
          ],
          [
           "Johnston, Miss. Catherine Helen \"Carrie\"",
           "female"
          ],
          [
           "Behr, Mr. Karl Howell",
           "male"
          ],
          [
           "Dooley, Mr. Patrick",
           "male"
          ]
         ],
         "hovertemplate": "Age=%{x}<br>Fare=%{y}<br>Name=%{customdata[0]}<br>Sex=%{customdata[1]}<extra></extra>",
         "legendgroup": "",
         "marker": {
          "color": "#3182bd",
          "symbol": "circle"
         },
         "mode": "markers",
         "name": "",
         "orientation": "v",
         "showlegend": false,
         "type": "scatter",
         "x": [
          22,
          38,
          26,
          35,
          35,
          null,
          54,
          2,
          27,
          14,
          4,
          58,
          20,
          39,
          14,
          55,
          2,
          null,
          31,
          null,
          35,
          34,
          15,
          28,
          8,
          38,
          null,
          19,
          null,
          null,
          40,
          null,
          null,
          66,
          28,
          42,
          null,
          21,
          18,
          14,
          40,
          27,
          null,
          3,
          19,
          null,
          null,
          null,
          null,
          18,
          7,
          21,
          49,
          29,
          65,
          null,
          21,
          28.5,
          5,
          11,
          22,
          38,
          45,
          4,
          null,
          null,
          29,
          19,
          17,
          26,
          32,
          16,
          21,
          26,
          32,
          25,
          null,
          null,
          0.83,
          30,
          22,
          29,
          null,
          28,
          17,
          33,
          16,
          null,
          23,
          24,
          29,
          20,
          46,
          26,
          59,
          null,
          71,
          23,
          34,
          34,
          28,
          null,
          21,
          33,
          37,
          28,
          21,
          null,
          38,
          null,
          47,
          14.5,
          22,
          20,
          17,
          21,
          70.5,
          29,
          24,
          2,
          21,
          null,
          32.5,
          32.5,
          54,
          12,
          null,
          24,
          null,
          45,
          33,
          20,
          47,
          29,
          25,
          23,
          19,
          37,
          16,
          24,
          null,
          22,
          24,
          19,
          18,
          19,
          27,
          9,
          36.5,
          42,
          51,
          22,
          55.5,
          40.5,
          null,
          51,
          16,
          30,
          null,
          null,
          44,
          40,
          26,
          17,
          1,
          9,
          null,
          45,
          null,
          28,
          61,
          4,
          1,
          21,
          56,
          18,
          null,
          50,
          30,
          36,
          null,
          null,
          9,
          1,
          4,
          null,
          null,
          45,
          40,
          36,
          32,
          19,
          19,
          3,
          44,
          58,
          null,
          42,
          null,
          24,
          28,
          null,
          34,
          45.5,
          18,
          2,
          32,
          26,
          16,
          40,
          24,
          35,
          22,
          30,
          null,
          31,
          27,
          42,
          32,
          30,
          16,
          27,
          51,
          null,
          38,
          22,
          19,
          20.5,
          18,
          null,
          35,
          29,
          59,
          5,
          24,
          null,
          44,
          8,
          19,
          33,
          null,
          null,
          29,
          22,
          30,
          44,
          25,
          24,
          37,
          54,
          null,
          29,
          62,
          30,
          41,
          29,
          null,
          30,
          35,
          50,
          null,
          3,
          52,
          40,
          null,
          36,
          16,
          25,
          58,
          35,
          null,
          25,
          41,
          37,
          null,
          63,
          45,
          null,
          7,
          35,
          65,
          28,
          16,
          19,
          null,
          33,
          30,
          22,
          42,
          22,
          26,
          19,
          36,
          24,
          24,
          null,
          23.5,
          2,
          null,
          50,
          null,
          null,
          19,
          null,
          null,
          0.92,
          null,
          17,
          30,
          30,
          24,
          18,
          26,
          28,
          43,
          26,
          24,
          54,
          31,
          40,
          22,
          27,
          30,
          22,
          null,
          36,
          61,
          36,
          31,
          16,
          null,
          45.5,
          38,
          16,
          null,
          null,
          29,
          41,
          45,
          45,
          2,
          24,
          28,
          25,
          36,
          24,
          40,
          null,
          3,
          42,
          23,
          null,
          15,
          25,
          null,
          28,
          22,
          38,
          null,
          null,
          40,
          29,
          45,
          35,
          null,
          30,
          60,
          null,
          null,
          24,
          25,
          18,
          19,
          22,
          3,
          null,
          22,
          27,
          20,
          19,
          42,
          1,
          32,
          35,
          null,
          18,
          1,
          36,
          null,
          17,
          36,
          21,
          28,
          23,
          24,
          22,
          31,
          46,
          23,
          28,
          39,
          26,
          21,
          28,
          20,
          34,
          51,
          3,
          21,
          null,
          null,
          null,
          33,
          null,
          44,
          null,
          34,
          18,
          30,
          10,
          null,
          21,
          29,
          28,
          18,
          null,
          28,
          19,
          null,
          32,
          28,
          null,
          42,
          17,
          50,
          14,
          21,
          24,
          64,
          31,
          45,
          20,
          25,
          28,
          null,
          4,
          13,
          34,
          5,
          52,
          36,
          null,
          30,
          49,
          null,
          29,
          65,
          null,
          50,
          null,
          48,
          34,
          47,
          48,
          null,
          38,
          null,
          56,
          null,
          0.75,
          null,
          38,
          33,
          23,
          22,
          null,
          34,
          29,
          22,
          2,
          9,
          null,
          50,
          63,
          25,
          null,
          35,
          58,
          30,
          9,
          null,
          21,
          55,
          71,
          21,
          null,
          54,
          null,
          25,
          24,
          17,
          21,
          null,
          37,
          16,
          18,
          33,
          null,
          28,
          26,
          29,
          null,
          36,
          54,
          24,
          47,
          34,
          null,
          36,
          32,
          30,
          22,
          null,
          44,
          null,
          40.5,
          50,
          null,
          39,
          23,
          2,
          null,
          17,
          null,
          30,
          7,
          45,
          30,
          null,
          22,
          36,
          9,
          11,
          32,
          50,
          64,
          19,
          null,
          33,
          8,
          17,
          27,
          null,
          22,
          22,
          62,
          48,
          null,
          39,
          36,
          null,
          40,
          28,
          null,
          null,
          24,
          19,
          29,
          null,
          32,
          62,
          53,
          36,
          null,
          16,
          19,
          34,
          39,
          null,
          32,
          25,
          39,
          54,
          36,
          null,
          18,
          47,
          60,
          22,
          null,
          35,
          52,
          47,
          null,
          37,
          36,
          null,
          49,
          null,
          49,
          24,
          null,
          null,
          44,
          35,
          36,
          30,
          27,
          22,
          40,
          39,
          null,
          null,
          null,
          35,
          24,
          34,
          26,
          4,
          26,
          27,
          42,
          20,
          21,
          21,
          61,
          57,
          21,
          26,
          null,
          80,
          51,
          32,
          null,
          9,
          28,
          32,
          31,
          41,
          null,
          20,
          24,
          2,
          null,
          0.75,
          48,
          19,
          56,
          null,
          23,
          null,
          18,
          21,
          null,
          18,
          24,
          null,
          32,
          23,
          58,
          50,
          40,
          47,
          36,
          20,
          32,
          25,
          null,
          43,
          null,
          40,
          31,
          70,
          31,
          null,
          18,
          24.5,
          18,
          43,
          36,
          null,
          27,
          20,
          14,
          60,
          25,
          14,
          19,
          18,
          15,
          31,
          4,
          null,
          25,
          60,
          52,
          44,
          null,
          49,
          42,
          18,
          35,
          18,
          25,
          26,
          39,
          45,
          42,
          22,
          null,
          24,
          null,
          48,
          29,
          52,
          19,
          38,
          27,
          null,
          33,
          6,
          17,
          34,
          50,
          27,
          20,
          30,
          null,
          25,
          25,
          29,
          11,
          null,
          23,
          23,
          28.5,
          48,
          35,
          null,
          null,
          null,
          36,
          21,
          24,
          31,
          70,
          16,
          30,
          19,
          31,
          4,
          6,
          33,
          23,
          48,
          0.67,
          28,
          18,
          34,
          33,
          null,
          41,
          20,
          36,
          16,
          51,
          null,
          30.5,
          null,
          32,
          24,
          48,
          57,
          null,
          54,
          18,
          null,
          5,
          null,
          43,
          13,
          17,
          29,
          null,
          25,
          25,
          18,
          8,
          1,
          46,
          null,
          16,
          null,
          null,
          25,
          39,
          49,
          31,
          30,
          30,
          34,
          31,
          11,
          0.42,
          27,
          31,
          39,
          18,
          39,
          33,
          26,
          39,
          35,
          6,
          30.5,
          null,
          23,
          31,
          43,
          10,
          52,
          27,
          38,
          27,
          2,
          null,
          null,
          1,
          null,
          62,
          15,
          0.83,
          null,
          23,
          18,
          39,
          21,
          null,
          32,
          null,
          20,
          16,
          30,
          34.5,
          17,
          42,
          null,
          35,
          28,
          null,
          4,
          74,
          9,
          16,
          44,
          18,
          45,
          51,
          24,
          null,
          41,
          21,
          48,
          null,
          24,
          42,
          27,
          31,
          null,
          4,
          26,
          47,
          33,
          47,
          28,
          15,
          20,
          19,
          null,
          56,
          25,
          33,
          22,
          28,
          25,
          39,
          27,
          19,
          null,
          26,
          32
         ],
         "xaxis": "x",
         "y": [
          7.25,
          71.2833,
          7.925,
          53.1,
          8.05,
          8.4583,
          51.8625,
          21.075,
          11.1333,
          30.0708,
          16.7,
          26.55,
          8.05,
          31.275,
          7.8542,
          16,
          29.125,
          13,
          18,
          7.225,
          26,
          13,
          8.0292,
          35.5,
          21.075,
          31.3875,
          7.225,
          263,
          7.8792,
          7.8958,
          27.7208,
          146.5208,
          7.75,
          10.5,
          82.1708,
          52,
          7.2292,
          8.05,
          18,
          11.2417,
          9.475,
          21,
          7.8958,
          41.5792,
          7.8792,
          8.05,
          15.5,
          7.75,
          21.6792,
          17.8,
          39.6875,
          7.8,
          76.7292,
          26,
          61.9792,
          35.5,
          10.5,
          7.2292,
          27.75,
          46.9,
          7.2292,
          80,
          83.475,
          27.9,
          27.7208,
          15.2458,
          10.5,
          8.1583,
          7.925,
          8.6625,
          10.5,
          46.9,
          73.5,
          14.4542,
          56.4958,
          7.65,
          7.8958,
          8.05,
          29,
          12.475,
          9,
          9.5,
          7.7875,
          47.1,
          10.5,
          15.85,
          34.375,
          8.05,
          263,
          8.05,
          8.05,
          7.8542,
          61.175,
          20.575,
          7.25,
          8.05,
          34.6542,
          63.3583,
          23,
          26,
          7.8958,
          7.8958,
          77.2875,
          8.6542,
          7.925,
          7.8958,
          7.65,
          7.775,
          7.8958,
          24.15,
          52,
          14.4542,
          8.05,
          9.825,
          14.4583,
          7.925,
          7.75,
          21,
          247.5208,
          31.275,
          73.5,
          8.05,
          30.0708,
          13,
          77.2875,
          11.2417,
          7.75,
          7.1417,
          22.3583,
          6.975,
          7.8958,
          7.05,
          14.5,
          26,
          13,
          15.0458,
          26.2833,
          53.1,
          9.2167,
          79.2,
          15.2458,
          7.75,
          15.85,
          6.75,
          11.5,
          36.75,
          7.7958,
          34.375,
          26,
          13,
          12.525,
          66.6,
          8.05,
          14.5,
          7.3125,
          61.3792,
          7.7333,
          8.05,
          8.6625,
          69.55,
          16.1,
          15.75,
          7.775,
          8.6625,
          39.6875,
          20.525,
          55,
          27.9,
          25.925,
          56.4958,
          33.5,
          29.125,
          11.1333,
          7.925,
          30.6958,
          7.8542,
          25.4667,
          28.7125,
          13,
          0,
          69.55,
          15.05,
          31.3875,
          39,
          22.025,
          50,
          15.5,
          26.55,
          15.5,
          7.8958,
          13,
          13,
          7.8542,
          26,
          27.7208,
          146.5208,
          7.75,
          8.4042,
          7.75,
          13,
          9.5,
          69.55,
          6.4958,
          7.225,
          8.05,
          10.4625,
          15.85,
          18.7875,
          7.75,
          31,
          7.05,
          21,
          7.25,
          13,
          7.75,
          113.275,
          7.925,
          27,
          76.2917,
          10.5,
          8.05,
          13,
          8.05,
          7.8958,
          90,
          9.35,
          10.5,
          7.25,
          13,
          25.4667,
          83.475,
          7.775,
          13.5,
          31.3875,
          10.5,
          7.55,
          26,
          26.25,
          10.5,
          12.275,
          14.4542,
          15.5,
          10.5,
          7.125,
          7.225,
          90,
          7.775,
          14.5,
          52.5542,
          26,
          7.25,
          10.4625,
          26.55,
          16.1,
          20.2125,
          15.2458,
          79.2,
          86.5,
          512.3292,
          26,
          7.75,
          31.3875,
          79.65,
          0,
          7.75,
          10.5,
          39.6875,
          7.775,
          153.4625,
          135.6333,
          31,
          0,
          19.5,
          29.7,
          7.75,
          77.9583,
          7.75,
          0,
          29.125,
          20.25,
          7.75,
          7.8542,
          9.5,
          8.05,
          26,
          8.6625,
          9.5,
          7.8958,
          13,
          7.75,
          78.85,
          91.0792,
          12.875,
          8.85,
          7.8958,
          27.7208,
          7.2292,
          151.55,
          30.5,
          247.5208,
          7.75,
          23.25,
          0,
          12.35,
          8.05,
          151.55,
          110.8833,
          108.9,
          24,
          56.9292,
          83.1583,
          262.375,
          26,
          7.8958,
          26.25,
          7.8542,
          26,
          14,
          164.8667,
          134.5,
          7.25,
          7.8958,
          12.35,
          29,
          69.55,
          135.6333,
          6.2375,
          13,
          20.525,
          57.9792,
          23.25,
          28.5,
          153.4625,
          18,
          133.65,
          7.8958,
          66.6,
          134.5,
          8.05,
          35.5,
          26,
          263,
          13,
          13,
          13,
          13,
          13,
          16.1,
          15.9,
          8.6625,
          9.225,
          35,
          7.2292,
          17.8,
          7.225,
          9.5,
          55,
          13,
          7.8792,
          7.8792,
          27.9,
          27.7208,
          14.4542,
          7.05,
          15.5,
          7.25,
          75.25,
          7.2292,
          7.75,
          69.3,
          55.4417,
          6.4958,
          8.05,
          135.6333,
          21.075,
          82.1708,
          7.25,
          211.5,
          4.0125,
          7.775,
          227.525,
          15.7417,
          7.925,
          52,
          7.8958,
          73.5,
          46.9,
          13,
          7.7292,
          12,
          120,
          7.7958,
          7.925,
          113.275,
          16.7,
          7.7958,
          7.8542,
          26,
          10.5,
          12.65,
          7.925,
          8.05,
          9.825,
          15.85,
          8.6625,
          21,
          7.75,
          18.75,
          7.775,
          25.4667,
          7.8958,
          6.8583,
          90,
          0,
          7.925,
          8.05,
          32.5,
          13,
          13,
          24.15,
          7.8958,
          7.7333,
          7.875,
          14.4,
          20.2125,
          7.25,
          26,
          26,
          7.75,
          8.05,
          26.55,
          16.1,
          26,
          7.125,
          55.9,
          120,
          34.375,
          18.75,
          263,
          10.5,
          26.25,
          9.5,
          7.775,
          13,
          8.1125,
          81.8583,
          19.5,
          26.55,
          19.2583,
          30.5,
          27.75,
          19.9667,
          27.75,
          89.1042,
          8.05,
          7.8958,
          26.55,
          51.8625,
          10.5,
          7.75,
          26.55,
          8.05,
          38.5,
          13,
          8.05,
          7.05,
          0,
          26.55,
          7.725,
          19.2583,
          7.25,
          8.6625,
          27.75,
          13.7917,
          9.8375,
          52,
          21,
          7.0458,
          7.5208,
          12.2875,
          46.9,
          0,
          8.05,
          9.5875,
          91.0792,
          25.4667,
          90,
          29.7,
          8.05,
          15.9,
          19.9667,
          7.25,
          30.5,
          49.5042,
          8.05,
          14.4583,
          78.2667,
          15.1,
          151.55,
          7.7958,
          8.6625,
          7.75,
          7.6292,
          9.5875,
          86.5,
          108.9,
          26,
          26.55,
          22.525,
          56.4958,
          7.75,
          8.05,
          26.2875,
          59.4,
          7.4958,
          34.0208,
          10.5,
          24.15,
          26,
          7.8958,
          93.5,
          7.8958,
          7.225,
          57.9792,
          7.2292,
          7.75,
          10.5,
          221.7792,
          7.925,
          11.5,
          26,
          7.2292,
          7.2292,
          22.3583,
          8.6625,
          26.25,
          26.55,
          106.425,
          14.5,
          49.5,
          71,
          31.275,
          31.275,
          26,
          106.425,
          26,
          26,
          13.8625,
          20.525,
          36.75,
          110.8833,
          26,
          7.8292,
          7.225,
          7.775,
          26.55,
          39.6,
          227.525,
          79.65,
          17.4,
          7.75,
          7.8958,
          13.5,
          8.05,
          8.05,
          24.15,
          7.8958,
          21.075,
          7.2292,
          7.8542,
          10.5,
          51.4792,
          26.3875,
          7.75,
          8.05,
          14.5,
          13,
          55.9,
          14.4583,
          7.925,
          30,
          110.8833,
          26,
          40.125,
          8.7125,
          79.65,
          15,
          79.2,
          8.05,
          8.05,
          7.125,
          78.2667,
          7.25,
          7.75,
          26,
          24.15,
          33,
          0,
          7.225,
          56.9292,
          27,
          7.8958,
          42.4,
          8.05,
          26.55,
          15.55,
          7.8958,
          30.5,
          41.5792,
          153.4625,
          31.275,
          7.05,
          15.5,
          7.75,
          8.05,
          65,
          14.4,
          16.1,
          39,
          10.5,
          14.4542,
          52.5542,
          15.7417,
          7.8542,
          16.1,
          32.3208,
          12.35,
          77.9583,
          7.8958,
          7.7333,
          30,
          7.0542,
          30.5,
          0,
          27.9,
          13,
          7.925,
          26.25,
          39.6875,
          16.1,
          7.8542,
          69.3,
          27.9,
          56.4958,
          19.2583,
          76.7292,
          7.8958,
          35.5,
          7.55,
          7.55,
          7.8958,
          23,
          8.4333,
          7.8292,
          6.75,
          73.5,
          7.8958,
          15.5,
          13,
          113.275,
          133.65,
          7.225,
          25.5875,
          7.4958,
          7.925,
          73.5,
          13,
          7.775,
          8.05,
          52,
          39,
          52,
          10.5,
          13,
          0,
          7.775,
          8.05,
          9.8417,
          46.9,
          512.3292,
          8.1375,
          76.7292,
          9.225,
          46.9,
          39,
          41.5792,
          39.6875,
          10.1708,
          7.7958,
          211.3375,
          57,
          13.4167,
          56.4958,
          7.225,
          26.55,
          13.5,
          8.05,
          7.7333,
          110.8833,
          7.65,
          227.525,
          26.2875,
          14.4542,
          7.7417,
          7.8542,
          26,
          13.5,
          26.2875,
          151.55,
          15.2458,
          49.5042,
          26.55,
          52,
          9.4833,
          13,
          7.65,
          227.525,
          10.5,
          15.5,
          7.775,
          33,
          7.0542,
          13,
          13,
          53.1,
          8.6625,
          21,
          7.7375,
          26,
          7.925,
          211.3375,
          18.7875,
          0,
          13,
          13,
          16.1,
          34.375,
          512.3292,
          7.8958,
          7.8958,
          30,
          78.85,
          262.375,
          16.1,
          7.925,
          71,
          20.25,
          13,
          53.1,
          7.75,
          23,
          12.475,
          9.5,
          7.8958,
          65,
          14.5,
          7.7958,
          11.5,
          8.05,
          86.5,
          14.5,
          7.125,
          7.2292,
          120,
          7.775,
          77.9583,
          39.6,
          7.75,
          24.15,
          8.3625,
          9.5,
          7.8542,
          10.5,
          7.225,
          23,
          7.75,
          7.75,
          12.475,
          7.7375,
          211.3375,
          7.2292,
          57,
          30,
          23.45,
          7.05,
          7.25,
          7.4958,
          29.125,
          20.575,
          79.2,
          7.75,
          26,
          69.55,
          30.6958,
          7.8958,
          13,
          25.9292,
          8.6833,
          7.2292,
          24.15,
          13,
          26.25,
          120,
          8.5167,
          6.975,
          7.775,
          0,
          7.775,
          13,
          53.1,
          7.8875,
          24.15,
          10.5,
          31.275,
          8.05,
          0,
          7.925,
          37.0042,
          6.45,
          27.9,
          93.5,
          8.6625,
          0,
          12.475,
          39.6875,
          6.95,
          56.4958,
          37.0042,
          7.75,
          80,
          14.4542,
          18.75,
          7.2292,
          7.8542,
          8.3,
          83.1583,
          8.6625,
          8.05,
          56.4958,
          29.7,
          7.925,
          10.5,
          31,
          6.4375,
          8.6625,
          7.55,
          69.55,
          7.8958,
          33,
          89.1042,
          31.275,
          7.775,
          15.2458,
          39.4,
          26,
          9.35,
          164.8667,
          26.55,
          19.2583,
          7.2292,
          14.1083,
          11.5,
          25.9292,
          69.55,
          13,
          13,
          13.8583,
          50.4958,
          9.5,
          11.1333,
          7.8958,
          52.5542,
          5,
          9,
          24,
          7.225,
          9.8458,
          7.8958,
          7.8958,
          83.1583,
          26,
          7.8958,
          10.5167,
          10.5,
          7.05,
          29.125,
          13,
          30,
          23.45,
          30,
          7.75
         ],
         "yaxis": "y"
        }
       ],
       "layout": {
        "legend": {
         "tracegroupgap": 0
        },
        "margin": {
         "t": 60
        },
        "template": {
         "data": {
          "bar": [
           {
            "error_x": {
             "color": "#2a3f5f"
            },
            "error_y": {
             "color": "#2a3f5f"
            },
            "marker": {
             "line": {
              "color": "white",
              "width": 0.5
             },
             "pattern": {
              "fillmode": "overlay",
              "size": 10,
              "solidity": 0.2
             }
            },
            "type": "bar"
           }
          ],
          "barpolar": [
           {
            "marker": {
             "line": {
              "color": "white",
              "width": 0.5
             },
             "pattern": {
              "fillmode": "overlay",
              "size": 10,
              "solidity": 0.2
             }
            },
            "type": "barpolar"
           }
          ],
          "carpet": [
           {
            "aaxis": {
             "endlinecolor": "#2a3f5f",
             "gridcolor": "#C8D4E3",
             "linecolor": "#C8D4E3",
             "minorgridcolor": "#C8D4E3",
             "startlinecolor": "#2a3f5f"
            },
            "baxis": {
             "endlinecolor": "#2a3f5f",
             "gridcolor": "#C8D4E3",
             "linecolor": "#C8D4E3",
             "minorgridcolor": "#C8D4E3",
             "startlinecolor": "#2a3f5f"
            },
            "type": "carpet"
           }
          ],
          "choropleth": [
           {
            "colorbar": {
             "outlinewidth": 0,
             "ticks": ""
            },
            "type": "choropleth"
           }
          ],
          "contour": [
           {
            "colorbar": {
             "outlinewidth": 0,
             "ticks": ""
            },
            "colorscale": [
             [
              0,
              "#0d0887"
             ],
             [
              0.1111111111111111,
              "#46039f"
             ],
             [
              0.2222222222222222,
              "#7201a8"
             ],
             [
              0.3333333333333333,
              "#9c179e"
             ],
             [
              0.4444444444444444,
              "#bd3786"
             ],
             [
              0.5555555555555556,
              "#d8576b"
             ],
             [
              0.6666666666666666,
              "#ed7953"
             ],
             [
              0.7777777777777778,
              "#fb9f3a"
             ],
             [
              0.8888888888888888,
              "#fdca26"
             ],
             [
              1,
              "#f0f921"
             ]
            ],
            "type": "contour"
           }
          ],
          "contourcarpet": [
           {
            "colorbar": {
             "outlinewidth": 0,
             "ticks": ""
            },
            "type": "contourcarpet"
           }
          ],
          "heatmap": [
           {
            "colorbar": {
             "outlinewidth": 0,
             "ticks": ""
            },
            "colorscale": [
             [
              0,
              "#0d0887"
             ],
             [
              0.1111111111111111,
              "#46039f"
             ],
             [
              0.2222222222222222,
              "#7201a8"
             ],
             [
              0.3333333333333333,
              "#9c179e"
             ],
             [
              0.4444444444444444,
              "#bd3786"
             ],
             [
              0.5555555555555556,
              "#d8576b"
             ],
             [
              0.6666666666666666,
              "#ed7953"
             ],
             [
              0.7777777777777778,
              "#fb9f3a"
             ],
             [
              0.8888888888888888,
              "#fdca26"
             ],
             [
              1,
              "#f0f921"
             ]
            ],
            "type": "heatmap"
           }
          ],
          "heatmapgl": [
           {
            "colorbar": {
             "outlinewidth": 0,
             "ticks": ""
            },
            "colorscale": [
             [
              0,
              "#0d0887"
             ],
             [
              0.1111111111111111,
              "#46039f"
             ],
             [
              0.2222222222222222,
              "#7201a8"
             ],
             [
              0.3333333333333333,
              "#9c179e"
             ],
             [
              0.4444444444444444,
              "#bd3786"
             ],
             [
              0.5555555555555556,
              "#d8576b"
             ],
             [
              0.6666666666666666,
              "#ed7953"
             ],
             [
              0.7777777777777778,
              "#fb9f3a"
             ],
             [
              0.8888888888888888,
              "#fdca26"
             ],
             [
              1,
              "#f0f921"
             ]
            ],
            "type": "heatmapgl"
           }
          ],
          "histogram": [
           {
            "marker": {
             "pattern": {
              "fillmode": "overlay",
              "size": 10,
              "solidity": 0.2
             }
            },
            "type": "histogram"
           }
          ],
          "histogram2d": [
           {
            "colorbar": {
             "outlinewidth": 0,
             "ticks": ""
            },
            "colorscale": [
             [
              0,
              "#0d0887"
             ],
             [
              0.1111111111111111,
              "#46039f"
             ],
             [
              0.2222222222222222,
              "#7201a8"
             ],
             [
              0.3333333333333333,
              "#9c179e"
             ],
             [
              0.4444444444444444,
              "#bd3786"
             ],
             [
              0.5555555555555556,
              "#d8576b"
             ],
             [
              0.6666666666666666,
              "#ed7953"
             ],
             [
              0.7777777777777778,
              "#fb9f3a"
             ],
             [
              0.8888888888888888,
              "#fdca26"
             ],
             [
              1,
              "#f0f921"
             ]
            ],
            "type": "histogram2d"
           }
          ],
          "histogram2dcontour": [
           {
            "colorbar": {
             "outlinewidth": 0,
             "ticks": ""
            },
            "colorscale": [
             [
              0,
              "#0d0887"
             ],
             [
              0.1111111111111111,
              "#46039f"
             ],
             [
              0.2222222222222222,
              "#7201a8"
             ],
             [
              0.3333333333333333,
              "#9c179e"
             ],
             [
              0.4444444444444444,
              "#bd3786"
             ],
             [
              0.5555555555555556,
              "#d8576b"
             ],
             [
              0.6666666666666666,
              "#ed7953"
             ],
             [
              0.7777777777777778,
              "#fb9f3a"
             ],
             [
              0.8888888888888888,
              "#fdca26"
             ],
             [
              1,
              "#f0f921"
             ]
            ],
            "type": "histogram2dcontour"
           }
          ],
          "mesh3d": [
           {
            "colorbar": {
             "outlinewidth": 0,
             "ticks": ""
            },
            "type": "mesh3d"
           }
          ],
          "parcoords": [
           {
            "line": {
             "colorbar": {
              "outlinewidth": 0,
              "ticks": ""
             }
            },
            "type": "parcoords"
           }
          ],
          "pie": [
           {
            "automargin": true,
            "type": "pie"
           }
          ],
          "scatter": [
           {
            "fillpattern": {
             "fillmode": "overlay",
             "size": 10,
             "solidity": 0.2
            },
            "type": "scatter"
           }
          ],
          "scatter3d": [
           {
            "line": {
             "colorbar": {
              "outlinewidth": 0,
              "ticks": ""
             }
            },
            "marker": {
             "colorbar": {
              "outlinewidth": 0,
              "ticks": ""
             }
            },
            "type": "scatter3d"
           }
          ],
          "scattercarpet": [
           {
            "marker": {
             "colorbar": {
              "outlinewidth": 0,
              "ticks": ""
             }
            },
            "type": "scattercarpet"
           }
          ],
          "scattergeo": [
           {
            "marker": {
             "colorbar": {
              "outlinewidth": 0,
              "ticks": ""
             }
            },
            "type": "scattergeo"
           }
          ],
          "scattergl": [
           {
            "marker": {
             "colorbar": {
              "outlinewidth": 0,
              "ticks": ""
             }
            },
            "type": "scattergl"
           }
          ],
          "scattermapbox": [
           {
            "marker": {
             "colorbar": {
              "outlinewidth": 0,
              "ticks": ""
             }
            },
            "type": "scattermapbox"
           }
          ],
          "scatterpolar": [
           {
            "marker": {
             "colorbar": {
              "outlinewidth": 0,
              "ticks": ""
             }
            },
            "type": "scatterpolar"
           }
          ],
          "scatterpolargl": [
           {
            "marker": {
             "colorbar": {
              "outlinewidth": 0,
              "ticks": ""
             }
            },
            "type": "scatterpolargl"
           }
          ],
          "scatterternary": [
           {
            "marker": {
             "colorbar": {
              "outlinewidth": 0,
              "ticks": ""
             }
            },
            "type": "scatterternary"
           }
          ],
          "surface": [
           {
            "colorbar": {
             "outlinewidth": 0,
             "ticks": ""
            },
            "colorscale": [
             [
              0,
              "#0d0887"
             ],
             [
              0.1111111111111111,
              "#46039f"
             ],
             [
              0.2222222222222222,
              "#7201a8"
             ],
             [
              0.3333333333333333,
              "#9c179e"
             ],
             [
              0.4444444444444444,
              "#bd3786"
             ],
             [
              0.5555555555555556,
              "#d8576b"
             ],
             [
              0.6666666666666666,
              "#ed7953"
             ],
             [
              0.7777777777777778,
              "#fb9f3a"
             ],
             [
              0.8888888888888888,
              "#fdca26"
             ],
             [
              1,
              "#f0f921"
             ]
            ],
            "type": "surface"
           }
          ],
          "table": [
           {
            "cells": {
             "fill": {
              "color": "#EBF0F8"
             },
             "line": {
              "color": "white"
             }
            },
            "header": {
             "fill": {
              "color": "#C8D4E3"
             },
             "line": {
              "color": "white"
             }
            },
            "type": "table"
           }
          ]
         },
         "layout": {
          "annotationdefaults": {
           "arrowcolor": "#2a3f5f",
           "arrowhead": 0,
           "arrowwidth": 1
          },
          "autotypenumbers": "strict",
          "coloraxis": {
           "colorbar": {
            "outlinewidth": 0,
            "ticks": ""
           }
          },
          "colorscale": {
           "diverging": [
            [
             0,
             "#8e0152"
            ],
            [
             0.1,
             "#c51b7d"
            ],
            [
             0.2,
             "#de77ae"
            ],
            [
             0.3,
             "#f1b6da"
            ],
            [
             0.4,
             "#fde0ef"
            ],
            [
             0.5,
             "#f7f7f7"
            ],
            [
             0.6,
             "#e6f5d0"
            ],
            [
             0.7,
             "#b8e186"
            ],
            [
             0.8,
             "#7fbc41"
            ],
            [
             0.9,
             "#4d9221"
            ],
            [
             1,
             "#276419"
            ]
           ],
           "sequential": [
            [
             0,
             "#0d0887"
            ],
            [
             0.1111111111111111,
             "#46039f"
            ],
            [
             0.2222222222222222,
             "#7201a8"
            ],
            [
             0.3333333333333333,
             "#9c179e"
            ],
            [
             0.4444444444444444,
             "#bd3786"
            ],
            [
             0.5555555555555556,
             "#d8576b"
            ],
            [
             0.6666666666666666,
             "#ed7953"
            ],
            [
             0.7777777777777778,
             "#fb9f3a"
            ],
            [
             0.8888888888888888,
             "#fdca26"
            ],
            [
             1,
             "#f0f921"
            ]
           ],
           "sequentialminus": [
            [
             0,
             "#0d0887"
            ],
            [
             0.1111111111111111,
             "#46039f"
            ],
            [
             0.2222222222222222,
             "#7201a8"
            ],
            [
             0.3333333333333333,
             "#9c179e"
            ],
            [
             0.4444444444444444,
             "#bd3786"
            ],
            [
             0.5555555555555556,
             "#d8576b"
            ],
            [
             0.6666666666666666,
             "#ed7953"
            ],
            [
             0.7777777777777778,
             "#fb9f3a"
            ],
            [
             0.8888888888888888,
             "#fdca26"
            ],
            [
             1,
             "#f0f921"
            ]
           ]
          },
          "colorway": [
           "#636efa",
           "#EF553B",
           "#00cc96",
           "#ab63fa",
           "#FFA15A",
           "#19d3f3",
           "#FF6692",
           "#B6E880",
           "#FF97FF",
           "#FECB52"
          ],
          "font": {
           "color": "#2a3f5f"
          },
          "geo": {
           "bgcolor": "white",
           "lakecolor": "white",
           "landcolor": "white",
           "showlakes": true,
           "showland": true,
           "subunitcolor": "#C8D4E3"
          },
          "hoverlabel": {
           "align": "left"
          },
          "hovermode": "closest",
          "mapbox": {
           "style": "light"
          },
          "paper_bgcolor": "white",
          "plot_bgcolor": "white",
          "polar": {
           "angularaxis": {
            "gridcolor": "#EBF0F8",
            "linecolor": "#EBF0F8",
            "ticks": ""
           },
           "bgcolor": "white",
           "radialaxis": {
            "gridcolor": "#EBF0F8",
            "linecolor": "#EBF0F8",
            "ticks": ""
           }
          },
          "scene": {
           "xaxis": {
            "backgroundcolor": "white",
            "gridcolor": "#DFE8F3",
            "gridwidth": 2,
            "linecolor": "#EBF0F8",
            "showbackground": true,
            "ticks": "",
            "zerolinecolor": "#EBF0F8"
           },
           "yaxis": {
            "backgroundcolor": "white",
            "gridcolor": "#DFE8F3",
            "gridwidth": 2,
            "linecolor": "#EBF0F8",
            "showbackground": true,
            "ticks": "",
            "zerolinecolor": "#EBF0F8"
           },
           "zaxis": {
            "backgroundcolor": "white",
            "gridcolor": "#DFE8F3",
            "gridwidth": 2,
            "linecolor": "#EBF0F8",
            "showbackground": true,
            "ticks": "",
            "zerolinecolor": "#EBF0F8"
           }
          },
          "shapedefaults": {
           "line": {
            "color": "#2a3f5f"
           }
          },
          "ternary": {
           "aaxis": {
            "gridcolor": "#DFE8F3",
            "linecolor": "#A2B1C6",
            "ticks": ""
           },
           "baxis": {
            "gridcolor": "#DFE8F3",
            "linecolor": "#A2B1C6",
            "ticks": ""
           },
           "bgcolor": "white",
           "caxis": {
            "gridcolor": "#DFE8F3",
            "linecolor": "#A2B1C6",
            "ticks": ""
           }
          },
          "title": {
           "x": 0.05
          },
          "xaxis": {
           "automargin": true,
           "gridcolor": "#EBF0F8",
           "linecolor": "#EBF0F8",
           "ticks": "",
           "title": {
            "standoff": 15
           },
           "zerolinecolor": "#EBF0F8",
           "zerolinewidth": 2
          },
          "yaxis": {
           "automargin": true,
           "gridcolor": "#EBF0F8",
           "linecolor": "#EBF0F8",
           "ticks": "",
           "title": {
            "standoff": 15
           },
           "zerolinecolor": "#EBF0F8",
           "zerolinewidth": 2
          }
         }
        },
        "xaxis": {
         "anchor": "y",
         "domain": [
          0,
          1
         ],
         "title": {
          "text": "Age"
         }
        },
        "yaxis": {
         "anchor": "x",
         "domain": [
          0,
          1
         ],
         "title": {
          "text": "Fare"
         },
         "type": "log"
        }
       }
      },
      "text/html": [
       "<div>                            <div id=\"5f1f6c6c-d91d-4ce0-b6b9-2604a003f50a\" class=\"plotly-graph-div\" style=\"height:525px; width:100%;\"></div>            <script type=\"text/javascript\">                require([\"plotly\"], function(Plotly) {                    window.PLOTLYENV=window.PLOTLYENV || {};                                    if (document.getElementById(\"5f1f6c6c-d91d-4ce0-b6b9-2604a003f50a\")) {                    Plotly.newPlot(                        \"5f1f6c6c-d91d-4ce0-b6b9-2604a003f50a\",                        [{\"customdata\":[[\"Braund, Mr. Owen Harris\",\"male\"],[\"Cumings, Mrs. John Bradley (Florence Briggs Thayer)\",\"female\"],[\"Heikkinen, Miss. Laina\",\"female\"],[\"Futrelle, Mrs. Jacques Heath (Lily May Peel)\",\"female\"],[\"Allen, Mr. William Henry\",\"male\"],[\"Moran, Mr. James\",\"male\"],[\"McCarthy, Mr. Timothy J\",\"male\"],[\"Palsson, Master. Gosta Leonard\",\"male\"],[\"Johnson, Mrs. Oscar W (Elisabeth Vilhelmina Berg)\",\"female\"],[\"Nasser, Mrs. Nicholas (Adele Achem)\",\"female\"],[\"Sandstrom, Miss. Marguerite Rut\",\"female\"],[\"Bonnell, Miss. Elizabeth\",\"female\"],[\"Saundercock, Mr. William Henry\",\"male\"],[\"Andersson, Mr. Anders Johan\",\"male\"],[\"Vestrom, Miss. Hulda Amanda Adolfina\",\"female\"],[\"Hewlett, Mrs. (Mary D Kingcome) \",\"female\"],[\"Rice, Master. Eugene\",\"male\"],[\"Williams, Mr. Charles Eugene\",\"male\"],[\"Vander Planke, Mrs. Julius (Emelia Maria Vandemoortele)\",\"female\"],[\"Masselmani, Mrs. Fatima\",\"female\"],[\"Fynney, Mr. Joseph J\",\"male\"],[\"Beesley, Mr. Lawrence\",\"male\"],[\"McGowan, Miss. Anna \\\"Annie\\\"\",\"female\"],[\"Sloper, Mr. William Thompson\",\"male\"],[\"Palsson, Miss. Torborg Danira\",\"female\"],[\"Asplund, Mrs. Carl Oscar (Selma Augusta Emilia Johansson)\",\"female\"],[\"Emir, Mr. Farred Chehab\",\"male\"],[\"Fortune, Mr. Charles Alexander\",\"male\"],[\"O'Dwyer, Miss. Ellen \\\"Nellie\\\"\",\"female\"],[\"Todoroff, Mr. Lalio\",\"male\"],[\"Uruchurtu, Don. Manuel E\",\"male\"],[\"Spencer, Mrs. William Augustus (Marie Eugenie)\",\"female\"],[\"Glynn, Miss. Mary Agatha\",\"female\"],[\"Wheadon, Mr. Edward H\",\"male\"],[\"Meyer, Mr. Edgar Joseph\",\"male\"],[\"Holverson, Mr. Alexander Oskar\",\"male\"],[\"Mamee, Mr. Hanna\",\"male\"],[\"Cann, Mr. Ernest Charles\",\"male\"],[\"Vander Planke, Miss. Augusta Maria\",\"female\"],[\"Nicola-Yarred, Miss. Jamila\",\"female\"],[\"Ahlin, Mrs. Johan (Johanna Persdotter Larsson)\",\"female\"],[\"Turpin, Mrs. William John Robert (Dorothy Ann Wonnacott)\",\"female\"],[\"Kraeff, Mr. Theodor\",\"male\"],[\"Laroche, Miss. Simonne Marie Anne Andree\",\"female\"],[\"Devaney, Miss. Margaret Delia\",\"female\"],[\"Rogers, Mr. William John\",\"male\"],[\"Lennon, Mr. Denis\",\"male\"],[\"O'Driscoll, Miss. Bridget\",\"female\"],[\"Samaan, Mr. Youssef\",\"male\"],[\"Arnold-Franchi, Mrs. Josef (Josefine Franchi)\",\"female\"],[\"Panula, Master. Juha Niilo\",\"male\"],[\"Nosworthy, Mr. Richard Cater\",\"male\"],[\"Harper, Mrs. Henry Sleeper (Myna Haxtun)\",\"female\"],[\"Faunthorpe, Mrs. Lizzie (Elizabeth Anne Wilkinson)\",\"female\"],[\"Ostby, Mr. Engelhart Cornelius\",\"male\"],[\"Woolner, Mr. Hugh\",\"male\"],[\"Rugg, Miss. Emily\",\"female\"],[\"Novel, Mr. Mansouer\",\"male\"],[\"West, Miss. Constance Mirium\",\"female\"],[\"Goodwin, Master. William Frederick\",\"male\"],[\"Sirayanian, Mr. Orsen\",\"male\"],[\"Icard, Miss. Amelie\",\"female\"],[\"Harris, Mr. Henry Birkhardt\",\"male\"],[\"Skoog, Master. Harald\",\"male\"],[\"Stewart, Mr. Albert A\",\"male\"],[\"Moubarek, Master. Gerios\",\"male\"],[\"Nye, Mrs. (Elizabeth Ramell)\",\"female\"],[\"Crease, Mr. Ernest James\",\"male\"],[\"Andersson, Miss. Erna Alexandra\",\"female\"],[\"Kink, Mr. Vincenz\",\"male\"],[\"Jenkin, Mr. Stephen Curnow\",\"male\"],[\"Goodwin, Miss. Lillian Amy\",\"female\"],[\"Hood, Mr. Ambrose Jr\",\"male\"],[\"Chronopoulos, Mr. Apostolos\",\"male\"],[\"Bing, Mr. Lee\",\"male\"],[\"Moen, Mr. Sigurd Hansen\",\"male\"],[\"Staneff, Mr. Ivan\",\"male\"],[\"Moutal, Mr. Rahamin Haim\",\"male\"],[\"Caldwell, Master. Alden Gates\",\"male\"],[\"Dowdell, Miss. Elizabeth\",\"female\"],[\"Waelens, Mr. Achille\",\"male\"],[\"Sheerlinck, Mr. Jan Baptist\",\"male\"],[\"McDermott, Miss. Brigdet Delia\",\"female\"],[\"Carrau, Mr. Francisco M\",\"male\"],[\"Ilett, Miss. Bertha\",\"female\"],[\"Backstrom, Mrs. Karl Alfred (Maria Mathilda Gustafsson)\",\"female\"],[\"Ford, Mr. William Neal\",\"male\"],[\"Slocovski, Mr. Selman Francis\",\"male\"],[\"Fortune, Miss. Mabel Helen\",\"female\"],[\"Celotti, Mr. Francesco\",\"male\"],[\"Christmann, Mr. Emil\",\"male\"],[\"Andreasson, Mr. Paul Edvin\",\"male\"],[\"Chaffee, Mr. Herbert Fuller\",\"male\"],[\"Dean, Mr. Bertram Frank\",\"male\"],[\"Coxon, Mr. Daniel\",\"male\"],[\"Shorney, Mr. Charles Joseph\",\"male\"],[\"Goldschmidt, Mr. George B\",\"male\"],[\"Greenfield, Mr. William Bertram\",\"male\"],[\"Doling, Mrs. John T (Ada Julia Bone)\",\"female\"],[\"Kantor, Mr. Sinai\",\"male\"],[\"Petranec, Miss. Matilda\",\"female\"],[\"Petroff, Mr. Pastcho (\\\"Pentcho\\\")\",\"male\"],[\"White, Mr. Richard Frasar\",\"male\"],[\"Johansson, Mr. Gustaf Joel\",\"male\"],[\"Gustafsson, Mr. Anders Vilhelm\",\"male\"],[\"Mionoff, Mr. Stoytcho\",\"male\"],[\"Salkjelsvik, Miss. Anna Kristine\",\"female\"],[\"Moss, Mr. Albert Johan\",\"male\"],[\"Rekic, Mr. Tido\",\"male\"],[\"Moran, Miss. Bertha\",\"female\"],[\"Porter, Mr. Walter Chamberlain\",\"male\"],[\"Zabour, Miss. Hileni\",\"female\"],[\"Barton, Mr. David John\",\"male\"],[\"Jussila, Miss. Katriina\",\"female\"],[\"Attalah, Miss. Malake\",\"female\"],[\"Pekoniemi, Mr. Edvard\",\"male\"],[\"Connors, Mr. Patrick\",\"male\"],[\"Turpin, Mr. William John Robert\",\"male\"],[\"Baxter, Mr. Quigg Edmond\",\"male\"],[\"Andersson, Miss. Ellis Anna Maria\",\"female\"],[\"Hickman, Mr. Stanley George\",\"male\"],[\"Moore, Mr. Leonard Charles\",\"male\"],[\"Nasser, Mr. Nicholas\",\"male\"],[\"Webber, Miss. Susan\",\"female\"],[\"White, Mr. Percival Wayland\",\"male\"],[\"Nicola-Yarred, Master. Elias\",\"male\"],[\"McMahon, Mr. Martin\",\"male\"],[\"Madsen, Mr. Fridtjof Arne\",\"male\"],[\"Peter, Miss. Anna\",\"female\"],[\"Ekstrom, Mr. Johan\",\"male\"],[\"Drazenoic, Mr. Jozef\",\"male\"],[\"Coelho, Mr. Domingos Fernandeo\",\"male\"],[\"Robins, Mrs. Alexander A (Grace Charity Laury)\",\"female\"],[\"Weisz, Mrs. Leopold (Mathilde Francoise Pede)\",\"female\"],[\"Sobey, Mr. Samuel James Hayden\",\"male\"],[\"Richard, Mr. Emile\",\"male\"],[\"Newsom, Miss. Helen Monypeny\",\"female\"],[\"Futrelle, Mr. Jacques Heath\",\"male\"],[\"Osen, Mr. Olaf Elon\",\"male\"],[\"Giglio, Mr. Victor\",\"male\"],[\"Boulos, Mrs. Joseph (Sultana)\",\"female\"],[\"Nysten, Miss. Anna Sofia\",\"female\"],[\"Hakkarainen, Mrs. Pekka Pietari (Elin Matilda Dolck)\",\"female\"],[\"Burke, Mr. Jeremiah\",\"male\"],[\"Andrew, Mr. Edgardo Samuel\",\"male\"],[\"Nicholls, Mr. Joseph Charles\",\"male\"],[\"Andersson, Mr. August Edvard (\\\"Wennerstrom\\\")\",\"male\"],[\"Ford, Miss. Robina Maggie \\\"Ruby\\\"\",\"female\"],[\"Navratil, Mr. Michel (\\\"Louis M Hoffman\\\")\",\"male\"],[\"Byles, Rev. Thomas Roussel Davids\",\"male\"],[\"Bateman, Rev. Robert James\",\"male\"],[\"Pears, Mrs. Thomas (Edith Wearne)\",\"female\"],[\"Meo, Mr. Alfonzo\",\"male\"],[\"van Billiard, Mr. Austin Blyler\",\"male\"],[\"Olsen, Mr. Ole Martin\",\"male\"],[\"Williams, Mr. Charles Duane\",\"male\"],[\"Gilnagh, Miss. Katherine \\\"Katie\\\"\",\"female\"],[\"Corn, Mr. Harry\",\"male\"],[\"Smiljanic, Mr. Mile\",\"male\"],[\"Sage, Master. Thomas Henry\",\"male\"],[\"Cribb, Mr. John Hatfield\",\"male\"],[\"Watt, Mrs. James (Elizabeth \\\"Bessie\\\" Inglis Milne)\",\"female\"],[\"Bengtsson, Mr. John Viktor\",\"male\"],[\"Calic, Mr. Jovo\",\"male\"],[\"Panula, Master. Eino Viljami\",\"male\"],[\"Goldsmith, Master. Frank John William \\\"Frankie\\\"\",\"male\"],[\"Chibnall, Mrs. (Edith Martha Bowerman)\",\"female\"],[\"Skoog, Mrs. William (Anna Bernhardina Karlsson)\",\"female\"],[\"Baumann, Mr. John D\",\"male\"],[\"Ling, Mr. Lee\",\"male\"],[\"Van der hoef, Mr. Wyckoff\",\"male\"],[\"Rice, Master. Arthur\",\"male\"],[\"Johnson, Miss. Eleanor Ileen\",\"female\"],[\"Sivola, Mr. Antti Wilhelm\",\"male\"],[\"Smith, Mr. James Clinch\",\"male\"],[\"Klasen, Mr. Klas Albin\",\"male\"],[\"Lefebre, Master. Henry Forbes\",\"male\"],[\"Isham, Miss. Ann Elizabeth\",\"female\"],[\"Hale, Mr. Reginald\",\"male\"],[\"Leonard, Mr. Lionel\",\"male\"],[\"Sage, Miss. Constance Gladys\",\"female\"],[\"Pernot, Mr. Rene\",\"male\"],[\"Asplund, Master. Clarence Gustaf Hugo\",\"male\"],[\"Becker, Master. Richard F\",\"male\"],[\"Kink-Heilmann, Miss. Luise Gretchen\",\"female\"],[\"Rood, Mr. Hugh Roscoe\",\"male\"],[\"O'Brien, Mrs. Thomas (Johanna \\\"Hannah\\\" Godfrey)\",\"female\"],[\"Romaine, Mr. Charles Hallace (\\\"Mr C Rolmane\\\")\",\"male\"],[\"Bourke, Mr. John\",\"male\"],[\"Turcin, Mr. Stjepan\",\"male\"],[\"Pinsky, Mrs. (Rosa)\",\"female\"],[\"Carbines, Mr. William\",\"male\"],[\"Andersen-Jensen, Miss. Carla Christine Nielsine\",\"female\"],[\"Navratil, Master. Michel M\",\"male\"],[\"Brown, Mrs. James Joseph (Margaret Tobin)\",\"female\"],[\"Lurette, Miss. Elise\",\"female\"],[\"Mernagh, Mr. Robert\",\"male\"],[\"Olsen, Mr. Karl Siegwart Andreas\",\"male\"],[\"Madigan, Miss. Margaret \\\"Maggie\\\"\",\"female\"],[\"Yrois, Miss. Henriette (\\\"Mrs Harbeck\\\")\",\"female\"],[\"Vande Walle, Mr. Nestor Cyriel\",\"male\"],[\"Sage, Mr. Frederick\",\"male\"],[\"Johanson, Mr. Jakob Alfred\",\"male\"],[\"Youseff, Mr. Gerious\",\"male\"],[\"Cohen, Mr. Gurshon \\\"Gus\\\"\",\"male\"],[\"Strom, Miss. Telma Matilda\",\"female\"],[\"Backstrom, Mr. Karl Alfred\",\"male\"],[\"Albimona, Mr. Nassef Cassem\",\"male\"],[\"Carr, Miss. Helen \\\"Ellen\\\"\",\"female\"],[\"Blank, Mr. Henry\",\"male\"],[\"Ali, Mr. Ahmed\",\"male\"],[\"Cameron, Miss. Clear Annie\",\"female\"],[\"Perkin, Mr. John Henry\",\"male\"],[\"Givard, Mr. Hans Kristensen\",\"male\"],[\"Kiernan, Mr. Philip\",\"male\"],[\"Newell, Miss. Madeleine\",\"female\"],[\"Honkanen, Miss. Eliina\",\"female\"],[\"Jacobsohn, Mr. Sidney Samuel\",\"male\"],[\"Bazzani, Miss. Albina\",\"female\"],[\"Harris, Mr. Walter\",\"male\"],[\"Sunderland, Mr. Victor Francis\",\"male\"],[\"Bracken, Mr. James H\",\"male\"],[\"Green, Mr. George Henry\",\"male\"],[\"Nenkoff, Mr. Christo\",\"male\"],[\"Hoyt, Mr. Frederick Maxfield\",\"male\"],[\"Berglund, Mr. Karl Ivar Sven\",\"male\"],[\"Mellors, Mr. William John\",\"male\"],[\"Lovell, Mr. John Hall (\\\"Henry\\\")\",\"male\"],[\"Fahlstrom, Mr. Arne Jonas\",\"male\"],[\"Lefebre, Miss. Mathilde\",\"female\"],[\"Harris, Mrs. Henry Birkhardt (Irene Wallach)\",\"female\"],[\"Larsson, Mr. Bengt Edvin\",\"male\"],[\"Sjostedt, Mr. Ernst Adolf\",\"male\"],[\"Asplund, Miss. Lillian Gertrud\",\"female\"],[\"Leyson, Mr. Robert William Norman\",\"male\"],[\"Harknett, Miss. Alice Phoebe\",\"female\"],[\"Hold, Mr. Stephen\",\"male\"],[\"Collyer, Miss. Marjorie \\\"Lottie\\\"\",\"female\"],[\"Pengelly, Mr. Frederick William\",\"male\"],[\"Hunt, Mr. George Henry\",\"male\"],[\"Zabour, Miss. Thamine\",\"female\"],[\"Murphy, Miss. Katherine \\\"Kate\\\"\",\"female\"],[\"Coleridge, Mr. Reginald Charles\",\"male\"],[\"Maenpaa, Mr. Matti Alexanteri\",\"male\"],[\"Attalah, Mr. Sleiman\",\"male\"],[\"Minahan, Dr. William Edward\",\"male\"],[\"Lindahl, Miss. Agda Thorilda Viktoria\",\"female\"],[\"Hamalainen, Mrs. William (Anna)\",\"female\"],[\"Beckwith, Mr. Richard Leonard\",\"male\"],[\"Carter, Rev. Ernest Courtenay\",\"male\"],[\"Reed, Mr. James George\",\"male\"],[\"Strom, Mrs. Wilhelm (Elna Matilda Persson)\",\"female\"],[\"Stead, Mr. William Thomas\",\"male\"],[\"Lobb, Mr. William Arthur\",\"male\"],[\"Rosblom, Mrs. Viktor (Helena Wilhelmina)\",\"female\"],[\"Touma, Mrs. Darwis (Hanne Youssef Razi)\",\"female\"],[\"Thorne, Mrs. Gertrude Maybelle\",\"female\"],[\"Cherry, Miss. Gladys\",\"female\"],[\"Ward, Miss. Anna\",\"female\"],[\"Parrish, Mrs. (Lutie Davis)\",\"female\"],[\"Smith, Mr. Thomas\",\"male\"],[\"Asplund, Master. Edvin Rojj Felix\",\"male\"],[\"Taussig, Mr. Emil\",\"male\"],[\"Harrison, Mr. William\",\"male\"],[\"Henry, Miss. Delia\",\"female\"],[\"Reeves, Mr. David\",\"male\"],[\"Panula, Mr. Ernesti Arvid\",\"male\"],[\"Persson, Mr. Ernst Ulrik\",\"male\"],[\"Graham, Mrs. William Thompson (Edith Junkins)\",\"female\"],[\"Bissette, Miss. Amelia\",\"female\"],[\"Cairns, Mr. Alexander\",\"male\"],[\"Tornquist, Mr. William Henry\",\"male\"],[\"Mellinger, Mrs. (Elizabeth Anne Maidment)\",\"female\"],[\"Natsch, Mr. Charles H\",\"male\"],[\"Healy, Miss. Hanora \\\"Nora\\\"\",\"female\"],[\"Andrews, Miss. Kornelia Theodosia\",\"female\"],[\"Lindblom, Miss. Augusta Charlotta\",\"female\"],[\"Parkes, Mr. Francis \\\"Frank\\\"\",\"male\"],[\"Rice, Master. Eric\",\"male\"],[\"Abbott, Mrs. Stanton (Rosa Hunt)\",\"female\"],[\"Duane, Mr. Frank\",\"male\"],[\"Olsson, Mr. Nils Johan Goransson\",\"male\"],[\"de Pelsmaeker, Mr. Alfons\",\"male\"],[\"Dorking, Mr. Edward Arthur\",\"male\"],[\"Smith, Mr. Richard William\",\"male\"],[\"Stankovic, Mr. Ivan\",\"male\"],[\"de Mulder, Mr. Theodore\",\"male\"],[\"Naidenoff, Mr. Penko\",\"male\"],[\"Hosono, Mr. Masabumi\",\"male\"],[\"Connolly, Miss. Kate\",\"female\"],[\"Barber, Miss. Ellen \\\"Nellie\\\"\",\"female\"],[\"Bishop, Mrs. Dickinson H (Helen Walton)\",\"female\"],[\"Levy, Mr. Rene Jacques\",\"male\"],[\"Haas, Miss. Aloisia\",\"female\"],[\"Mineff, Mr. Ivan\",\"male\"],[\"Lewy, Mr. Ervin G\",\"male\"],[\"Hanna, Mr. Mansour\",\"male\"],[\"Allison, Miss. Helen Loraine\",\"female\"],[\"Saalfeld, Mr. Adolphe\",\"male\"],[\"Baxter, Mrs. James (Helene DeLaudeniere Chaput)\",\"female\"],[\"Kelly, Miss. Anna Katherine \\\"Annie Kate\\\"\",\"female\"],[\"McCoy, Mr. Bernard\",\"male\"],[\"Johnson, Mr. William Cahoone Jr\",\"male\"],[\"Keane, Miss. Nora A\",\"female\"],[\"Williams, Mr. Howard Hugh \\\"Harry\\\"\",\"male\"],[\"Allison, Master. Hudson Trevor\",\"male\"],[\"Fleming, Miss. Margaret\",\"female\"],[\"Penasco y Castellana, Mrs. Victor de Satode (Maria Josefa Perez de Soto y Vallejo)\",\"female\"],[\"Abelson, Mr. Samuel\",\"male\"],[\"Francatelli, Miss. Laura Mabel\",\"female\"],[\"Hays, Miss. Margaret Bechstein\",\"female\"],[\"Ryerson, Miss. Emily Borie\",\"female\"],[\"Lahtinen, Mrs. William (Anna Sylfven)\",\"female\"],[\"Hendekovic, Mr. Ignjac\",\"male\"],[\"Hart, Mr. Benjamin\",\"male\"],[\"Nilsson, Miss. Helmina Josefina\",\"female\"],[\"Kantor, Mrs. Sinai (Miriam Sternin)\",\"female\"],[\"Moraweck, Dr. Ernest\",\"male\"],[\"Wick, Miss. Mary Natalie\",\"female\"],[\"Spedden, Mrs. Frederic Oakley (Margaretta Corning Stone)\",\"female\"],[\"Dennis, Mr. Samuel\",\"male\"],[\"Danoff, Mr. Yoto\",\"male\"],[\"Slayter, Miss. Hilda Mary\",\"female\"],[\"Caldwell, Mrs. Albert Francis (Sylvia Mae Harbaugh)\",\"female\"],[\"Sage, Mr. George John Jr\",\"male\"],[\"Young, Miss. Marie Grice\",\"female\"],[\"Nysveen, Mr. Johan Hansen\",\"male\"],[\"Ball, Mrs. (Ada E Hall)\",\"female\"],[\"Goldsmith, Mrs. Frank John (Emily Alice Brown)\",\"female\"],[\"Hippach, Miss. Jean Gertrude\",\"female\"],[\"McCoy, Miss. Agnes\",\"female\"],[\"Partner, Mr. Austen\",\"male\"],[\"Graham, Mr. George Edward\",\"male\"],[\"Vander Planke, Mr. Leo Edmondus\",\"male\"],[\"Frauenthal, Mrs. Henry William (Clara Heinsheimer)\",\"female\"],[\"Denkoff, Mr. Mitto\",\"male\"],[\"Pears, Mr. Thomas Clinton\",\"male\"],[\"Burns, Miss. Elizabeth Margaret\",\"female\"],[\"Dahl, Mr. Karl Edwart\",\"male\"],[\"Blackwell, Mr. Stephen Weart\",\"male\"],[\"Navratil, Master. Edmond Roger\",\"male\"],[\"Fortune, Miss. Alice Elizabeth\",\"female\"],[\"Collander, Mr. Erik Gustaf\",\"male\"],[\"Sedgwick, Mr. Charles Frederick Waddington\",\"male\"],[\"Fox, Mr. Stanley Hubert\",\"male\"],[\"Brown, Miss. Amelia \\\"Mildred\\\"\",\"female\"],[\"Smith, Miss. Marion Elsie\",\"female\"],[\"Davison, Mrs. Thomas Henry (Mary E Finck)\",\"female\"],[\"Coutts, Master. William Loch \\\"William\\\"\",\"male\"],[\"Dimic, Mr. Jovan\",\"male\"],[\"Odahl, Mr. Nils Martin\",\"male\"],[\"Williams-Lambert, Mr. Fletcher Fellows\",\"male\"],[\"Elias, Mr. Tannous\",\"male\"],[\"Arnold-Franchi, Mr. Josef\",\"male\"],[\"Yousif, Mr. Wazli\",\"male\"],[\"Vanden Steen, Mr. Leo Peter\",\"male\"],[\"Bowerman, Miss. Elsie Edith\",\"female\"],[\"Funk, Miss. Annie Clemmer\",\"female\"],[\"McGovern, Miss. Mary\",\"female\"],[\"Mockler, Miss. Helen Mary \\\"Ellie\\\"\",\"female\"],[\"Skoog, Mr. Wilhelm\",\"male\"],[\"del Carlo, Mr. Sebastiano\",\"male\"],[\"Barbara, Mrs. (Catherine David)\",\"female\"],[\"Asim, Mr. Adola\",\"male\"],[\"O'Brien, Mr. Thomas\",\"male\"],[\"Adahl, Mr. Mauritz Nils Martin\",\"male\"],[\"Warren, Mrs. Frank Manley (Anna Sophia Atkinson)\",\"female\"],[\"Moussa, Mrs. (Mantoura Boulos)\",\"female\"],[\"Jermyn, Miss. Annie\",\"female\"],[\"Aubart, Mme. Leontine Pauline\",\"female\"],[\"Harder, Mr. George Achilles\",\"male\"],[\"Wiklund, Mr. Jakob Alfred\",\"male\"],[\"Beavan, Mr. William Thomas\",\"male\"],[\"Ringhini, Mr. Sante\",\"male\"],[\"Palsson, Miss. Stina Viola\",\"female\"],[\"Meyer, Mrs. Edgar Joseph (Leila Saks)\",\"female\"],[\"Landergren, Miss. Aurora Adelia\",\"female\"],[\"Widener, Mr. Harry Elkins\",\"male\"],[\"Betros, Mr. Tannous\",\"male\"],[\"Gustafsson, Mr. Karl Gideon\",\"male\"],[\"Bidois, Miss. Rosalie\",\"female\"],[\"Nakid, Miss. Maria (\\\"Mary\\\")\",\"female\"],[\"Tikkanen, Mr. Juho\",\"male\"],[\"Holverson, Mrs. Alexander Oskar (Mary Aline Towner)\",\"female\"],[\"Plotcharsky, Mr. Vasil\",\"male\"],[\"Davies, Mr. Charles Henry\",\"male\"],[\"Goodwin, Master. Sidney Leonard\",\"male\"],[\"Buss, Miss. Kate\",\"female\"],[\"Sadlier, Mr. Matthew\",\"male\"],[\"Lehmann, Miss. Bertha\",\"female\"],[\"Carter, Mr. William Ernest\",\"male\"],[\"Jansson, Mr. Carl Olof\",\"male\"],[\"Gustafsson, Mr. Johan Birger\",\"male\"],[\"Newell, Miss. Marjorie\",\"female\"],[\"Sandstrom, Mrs. Hjalmar (Agnes Charlotta Bengtsson)\",\"female\"],[\"Johansson, Mr. Erik\",\"male\"],[\"Olsson, Miss. Elina\",\"female\"],[\"McKane, Mr. Peter David\",\"male\"],[\"Pain, Dr. Alfred\",\"male\"],[\"Trout, Mrs. William H (Jessie L)\",\"female\"],[\"Niskanen, Mr. Juha\",\"male\"],[\"Adams, Mr. John\",\"male\"],[\"Jussila, Miss. Mari Aina\",\"female\"],[\"Hakkarainen, Mr. Pekka Pietari\",\"male\"],[\"Oreskovic, Miss. Marija\",\"female\"],[\"Gale, Mr. Shadrach\",\"male\"],[\"Widegren, Mr. Carl\\u002fCharles Peter\",\"male\"],[\"Richards, Master. William Rowe\",\"male\"],[\"Birkeland, Mr. Hans Martin Monsen\",\"male\"],[\"Lefebre, Miss. Ida\",\"female\"],[\"Sdycoff, Mr. Todor\",\"male\"],[\"Hart, Mr. Henry\",\"male\"],[\"Minahan, Miss. Daisy E\",\"female\"],[\"Cunningham, Mr. Alfred Fleming\",\"male\"],[\"Sundman, Mr. Johan Julian\",\"male\"],[\"Meek, Mrs. Thomas (Annie Louise Rowley)\",\"female\"],[\"Drew, Mrs. James Vivian (Lulu Thorne Christian)\",\"female\"],[\"Silven, Miss. Lyyli Karoliina\",\"female\"],[\"Matthews, Mr. William John\",\"male\"],[\"Van Impe, Miss. Catharina\",\"female\"],[\"Gheorgheff, Mr. Stanio\",\"male\"],[\"Charters, Mr. David\",\"male\"],[\"Zimmerman, Mr. Leo\",\"male\"],[\"Danbom, Mrs. Ernst Gilbert (Anna Sigrid Maria Brogren)\",\"female\"],[\"Rosblom, Mr. Viktor Richard\",\"male\"],[\"Wiseman, Mr. Phillippe\",\"male\"],[\"Clarke, Mrs. Charles V (Ada Maria Winfield)\",\"female\"],[\"Phillips, Miss. Kate Florence (\\\"Mrs Kate Louise Phillips Marshall\\\")\",\"female\"],[\"Flynn, Mr. James\",\"male\"],[\"Pickard, Mr. Berk (Berk Trembisky)\",\"male\"],[\"Bjornstrom-Steffansson, Mr. Mauritz Hakan\",\"male\"],[\"Thorneycroft, Mrs. Percival (Florence Kate White)\",\"female\"],[\"Louch, Mrs. Charles Alexander (Alice Adelaide Slow)\",\"female\"],[\"Kallio, Mr. Nikolai Erland\",\"male\"],[\"Silvey, Mr. William Baird\",\"male\"],[\"Carter, Miss. Lucile Polk\",\"female\"],[\"Ford, Miss. Doolina Margaret \\\"Daisy\\\"\",\"female\"],[\"Richards, Mrs. Sidney (Emily Hocking)\",\"female\"],[\"Fortune, Mr. Mark\",\"male\"],[\"Kvillner, Mr. Johan Henrik Johannesson\",\"male\"],[\"Hart, Mrs. Benjamin (Esther Ada Bloomfield)\",\"female\"],[\"Hampe, Mr. Leon\",\"male\"],[\"Petterson, Mr. Johan Emil\",\"male\"],[\"Reynaldo, Ms. Encarnacion\",\"female\"],[\"Johannesen-Bratthammer, Mr. Bernt\",\"male\"],[\"Dodge, Master. Washington\",\"male\"],[\"Mellinger, Miss. Madeleine Violet\",\"female\"],[\"Seward, Mr. Frederic Kimber\",\"male\"],[\"Baclini, Miss. Marie Catherine\",\"female\"],[\"Peuchen, Major. Arthur Godfrey\",\"male\"],[\"West, Mr. Edwy Arthur\",\"male\"],[\"Hagland, Mr. Ingvald Olai Olsen\",\"male\"],[\"Foreman, Mr. Benjamin Laventall\",\"male\"],[\"Goldenberg, Mr. Samuel L\",\"male\"],[\"Peduzzi, Mr. Joseph\",\"male\"],[\"Jalsevac, Mr. Ivan\",\"male\"],[\"Millet, Mr. Francis Davis\",\"male\"],[\"Kenyon, Mrs. Frederick R (Marion)\",\"female\"],[\"Toomey, Miss. Ellen\",\"female\"],[\"O'Connor, Mr. Maurice\",\"male\"],[\"Anderson, Mr. Harry\",\"male\"],[\"Morley, Mr. William\",\"male\"],[\"Gee, Mr. Arthur H\",\"male\"],[\"Milling, Mr. Jacob Christian\",\"male\"],[\"Maisner, Mr. Simon\",\"male\"],[\"Goncalves, Mr. Manuel Estanslas\",\"male\"],[\"Campbell, Mr. William\",\"male\"],[\"Smart, Mr. John Montgomery\",\"male\"],[\"Scanlan, Mr. James\",\"male\"],[\"Baclini, Miss. Helene Barbara\",\"female\"],[\"Keefe, Mr. Arthur\",\"male\"],[\"Cacic, Mr. Luka\",\"male\"],[\"West, Mrs. Edwy Arthur (Ada Mary Worth)\",\"female\"],[\"Jerwan, Mrs. Amin S (Marie Marthe Thuillard)\",\"female\"],[\"Strandberg, Miss. Ida Sofia\",\"female\"],[\"Clifford, Mr. George Quincy\",\"male\"],[\"Renouf, Mr. Peter Henry\",\"male\"],[\"Braund, Mr. Lewis Richard\",\"male\"],[\"Karlsson, Mr. Nils August\",\"male\"],[\"Hirvonen, Miss. Hildur E\",\"female\"],[\"Goodwin, Master. Harold Victor\",\"male\"],[\"Frost, Mr. Anthony Wood \\\"Archie\\\"\",\"male\"],[\"Rouse, Mr. Richard Henry\",\"male\"],[\"Turkula, Mrs. (Hedwig)\",\"female\"],[\"Bishop, Mr. Dickinson H\",\"male\"],[\"Lefebre, Miss. Jeannie\",\"female\"],[\"Hoyt, Mrs. Frederick Maxfield (Jane Anne Forby)\",\"female\"],[\"Kent, Mr. Edward Austin\",\"male\"],[\"Somerton, Mr. Francis William\",\"male\"],[\"Coutts, Master. Eden Leslie \\\"Neville\\\"\",\"male\"],[\"Hagland, Mr. Konrad Mathias Reiersen\",\"male\"],[\"Windelov, Mr. Einar\",\"male\"],[\"Molson, Mr. Harry Markland\",\"male\"],[\"Artagaveytia, Mr. Ramon\",\"male\"],[\"Stanley, Mr. Edward Roland\",\"male\"],[\"Yousseff, Mr. Gerious\",\"male\"],[\"Eustis, Miss. Elizabeth Mussey\",\"female\"],[\"Shellard, Mr. Frederick William\",\"male\"],[\"Allison, Mrs. Hudson J C (Bessie Waldo Daniels)\",\"female\"],[\"Svensson, Mr. Olof\",\"male\"],[\"Calic, Mr. Petar\",\"male\"],[\"Canavan, Miss. Mary\",\"female\"],[\"O'Sullivan, Miss. Bridget Mary\",\"female\"],[\"Laitinen, Miss. Kristina Sofia\",\"female\"],[\"Maioni, Miss. Roberta\",\"female\"],[\"Penasco y Castellana, Mr. Victor de Satode\",\"male\"],[\"Quick, Mrs. Frederick Charles (Jane Richards)\",\"female\"],[\"Bradley, Mr. George (\\\"George Arthur Brayton\\\")\",\"male\"],[\"Olsen, Mr. Henry Margido\",\"male\"],[\"Lang, Mr. Fang\",\"male\"],[\"Daly, Mr. Eugene Patrick\",\"male\"],[\"Webber, Mr. James\",\"male\"],[\"McGough, Mr. James Robert\",\"male\"],[\"Rothschild, Mrs. Martin (Elizabeth L. Barrett)\",\"female\"],[\"Coleff, Mr. Satio\",\"male\"],[\"Walker, Mr. William Anderson\",\"male\"],[\"Lemore, Mrs. (Amelia Milley)\",\"female\"],[\"Ryan, Mr. Patrick\",\"male\"],[\"Angle, Mrs. William A (Florence \\\"Mary\\\" Agnes Hughes)\",\"female\"],[\"Pavlovic, Mr. Stefo\",\"male\"],[\"Perreault, Miss. Anne\",\"female\"],[\"Vovk, Mr. Janko\",\"male\"],[\"Lahoud, Mr. Sarkis\",\"male\"],[\"Hippach, Mrs. Louis Albert (Ida Sophia Fischer)\",\"female\"],[\"Kassem, Mr. Fared\",\"male\"],[\"Farrell, Mr. James\",\"male\"],[\"Ridsdale, Miss. Lucy\",\"female\"],[\"Farthing, Mr. John\",\"male\"],[\"Salonen, Mr. Johan Werner\",\"male\"],[\"Hocking, Mr. Richard George\",\"male\"],[\"Quick, Miss. Phyllis May\",\"female\"],[\"Toufik, Mr. Nakli\",\"male\"],[\"Elias, Mr. Joseph Jr\",\"male\"],[\"Peter, Mrs. Catherine (Catherine Rizk)\",\"female\"],[\"Cacic, Miss. Marija\",\"female\"],[\"Hart, Miss. Eva Miriam\",\"female\"],[\"Butt, Major. Archibald Willingham\",\"male\"],[\"LeRoy, Miss. Bertha\",\"female\"],[\"Risien, Mr. Samuel Beard\",\"male\"],[\"Frolicher, Miss. Hedwig Margaritha\",\"female\"],[\"Crosby, Miss. Harriet R\",\"female\"],[\"Andersson, Miss. Ingeborg Constanzia\",\"female\"],[\"Andersson, Miss. Sigrid Elisabeth\",\"female\"],[\"Beane, Mr. Edward\",\"male\"],[\"Douglas, Mr. Walter Donald\",\"male\"],[\"Nicholson, Mr. Arthur Ernest\",\"male\"],[\"Beane, Mrs. Edward (Ethel Clarke)\",\"female\"],[\"Padro y Manent, Mr. Julian\",\"male\"],[\"Goldsmith, Mr. Frank John\",\"male\"],[\"Davies, Master. John Morgan Jr\",\"male\"],[\"Thayer, Mr. John Borland Jr\",\"male\"],[\"Sharp, Mr. Percival James R\",\"male\"],[\"O'Brien, Mr. Timothy\",\"male\"],[\"Leeni, Mr. Fahim (\\\"Philip Zenni\\\")\",\"male\"],[\"Ohman, Miss. Velin\",\"female\"],[\"Wright, Mr. George\",\"male\"],[\"Duff Gordon, Lady. (Lucille Christiana Sutherland) (\\\"Mrs Morgan\\\")\",\"female\"],[\"Robbins, Mr. Victor\",\"male\"],[\"Taussig, Mrs. Emil (Tillie Mandelbaum)\",\"female\"],[\"de Messemaeker, Mrs. Guillaume Joseph (Emma)\",\"female\"],[\"Morrow, Mr. Thomas Rowan\",\"male\"],[\"Sivic, Mr. Husein\",\"male\"],[\"Norman, Mr. Robert Douglas\",\"male\"],[\"Simmons, Mr. John\",\"male\"],[\"Meanwell, Miss. (Marion Ogden)\",\"female\"],[\"Davies, Mr. Alfred J\",\"male\"],[\"Stoytcheff, Mr. Ilia\",\"male\"],[\"Palsson, Mrs. Nils (Alma Cornelia Berglund)\",\"female\"],[\"Doharr, Mr. Tannous\",\"male\"],[\"Jonsson, Mr. Carl\",\"male\"],[\"Harris, Mr. George\",\"male\"],[\"Appleton, Mrs. Edward Dale (Charlotte Lamson)\",\"female\"],[\"Flynn, Mr. John Irwin (\\\"Irving\\\")\",\"male\"],[\"Kelly, Miss. Mary\",\"female\"],[\"Rush, Mr. Alfred George John\",\"male\"],[\"Patchett, Mr. George\",\"male\"],[\"Garside, Miss. Ethel\",\"female\"],[\"Silvey, Mrs. William Baird (Alice Munger)\",\"female\"],[\"Caram, Mrs. Joseph (Maria Elias)\",\"female\"],[\"Jussila, Mr. Eiriik\",\"male\"],[\"Christy, Miss. Julie Rachel\",\"female\"],[\"Thayer, Mrs. John Borland (Marian Longstreth Morris)\",\"female\"],[\"Downton, Mr. William James\",\"male\"],[\"Ross, Mr. John Hugo\",\"male\"],[\"Paulner, Mr. Uscher\",\"male\"],[\"Taussig, Miss. Ruth\",\"female\"],[\"Jarvis, Mr. John Denzil\",\"male\"],[\"Frolicher-Stehli, Mr. Maxmillian\",\"male\"],[\"Gilinski, Mr. Eliezer\",\"male\"],[\"Murdlin, Mr. Joseph\",\"male\"],[\"Rintamaki, Mr. Matti\",\"male\"],[\"Stephenson, Mrs. Walter Bertram (Martha Eustis)\",\"female\"],[\"Elsbury, Mr. William James\",\"male\"],[\"Bourke, Miss. Mary\",\"female\"],[\"Chapman, Mr. John Henry\",\"male\"],[\"Van Impe, Mr. Jean Baptiste\",\"male\"],[\"Leitch, Miss. Jessie Wills\",\"female\"],[\"Johnson, Mr. Alfred\",\"male\"],[\"Boulos, Mr. Hanna\",\"male\"],[\"Duff Gordon, Sir. Cosmo Edmund (\\\"Mr Morgan\\\")\",\"male\"],[\"Jacobsohn, Mrs. Sidney Samuel (Amy Frances Christy)\",\"female\"],[\"Slabenoff, Mr. Petco\",\"male\"],[\"Harrington, Mr. Charles H\",\"male\"],[\"Torber, Mr. Ernst William\",\"male\"],[\"Homer, Mr. Harry (\\\"Mr E Haven\\\")\",\"male\"],[\"Lindell, Mr. Edvard Bengtsson\",\"male\"],[\"Karaic, Mr. Milan\",\"male\"],[\"Daniel, Mr. Robert Williams\",\"male\"],[\"Laroche, Mrs. Joseph (Juliette Marie Louise Lafargue)\",\"female\"],[\"Shutes, Miss. Elizabeth W\",\"female\"],[\"Andersson, Mrs. Anders Johan (Alfrida Konstantia Brogren)\",\"female\"],[\"Jardin, Mr. Jose Neto\",\"male\"],[\"Murphy, Miss. Margaret Jane\",\"female\"],[\"Horgan, Mr. John\",\"male\"],[\"Brocklebank, Mr. William Alfred\",\"male\"],[\"Herman, Miss. Alice\",\"female\"],[\"Danbom, Mr. Ernst Gilbert\",\"male\"],[\"Lobb, Mrs. William Arthur (Cordelia K Stanlick)\",\"female\"],[\"Becker, Miss. Marion Louise\",\"female\"],[\"Gavey, Mr. Lawrence\",\"male\"],[\"Yasbeck, Mr. Antoni\",\"male\"],[\"Kimball, Mr. Edwin Nelson Jr\",\"male\"],[\"Nakid, Mr. Sahid\",\"male\"],[\"Hansen, Mr. Henry Damsgaard\",\"male\"],[\"Bowen, Mr. David John \\\"Dai\\\"\",\"male\"],[\"Sutton, Mr. Frederick\",\"male\"],[\"Kirkland, Rev. Charles Leonard\",\"male\"],[\"Longley, Miss. Gretchen Fiske\",\"female\"],[\"Bostandyeff, Mr. Guentcho\",\"male\"],[\"O'Connell, Mr. Patrick D\",\"male\"],[\"Barkworth, Mr. Algernon Henry Wilson\",\"male\"],[\"Lundahl, Mr. Johan Svensson\",\"male\"],[\"Stahelin-Maeglin, Dr. Max\",\"male\"],[\"Parr, Mr. William Henry Marsh\",\"male\"],[\"Skoog, Miss. Mabel\",\"female\"],[\"Davis, Miss. Mary\",\"female\"],[\"Leinonen, Mr. Antti Gustaf\",\"male\"],[\"Collyer, Mr. Harvey\",\"male\"],[\"Panula, Mrs. Juha (Maria Emilia Ojala)\",\"female\"],[\"Thorneycroft, Mr. Percival\",\"male\"],[\"Jensen, Mr. Hans Peder\",\"male\"],[\"Sagesser, Mlle. Emma\",\"female\"],[\"Skoog, Miss. Margit Elizabeth\",\"female\"],[\"Foo, Mr. Choong\",\"male\"],[\"Baclini, Miss. Eugenie\",\"female\"],[\"Harper, Mr. Henry Sleeper\",\"male\"],[\"Cor, Mr. Liudevit\",\"male\"],[\"Simonius-Blumer, Col. Oberst Alfons\",\"male\"],[\"Willey, Mr. Edward\",\"male\"],[\"Stanley, Miss. Amy Zillah Elsie\",\"female\"],[\"Mitkoff, Mr. Mito\",\"male\"],[\"Doling, Miss. Elsie\",\"female\"],[\"Kalvik, Mr. Johannes Halvorsen\",\"male\"],[\"O'Leary, Miss. Hanora \\\"Norah\\\"\",\"female\"],[\"Hegarty, Miss. Hanora \\\"Nora\\\"\",\"female\"],[\"Hickman, Mr. Leonard Mark\",\"male\"],[\"Radeff, Mr. Alexander\",\"male\"],[\"Bourke, Mrs. John (Catherine)\",\"female\"],[\"Eitemiller, Mr. George Floyd\",\"male\"],[\"Newell, Mr. Arthur Webster\",\"male\"],[\"Frauenthal, Dr. Henry William\",\"male\"],[\"Badt, Mr. Mohamed\",\"male\"],[\"Colley, Mr. Edward Pomeroy\",\"male\"],[\"Coleff, Mr. Peju\",\"male\"],[\"Lindqvist, Mr. Eino William\",\"male\"],[\"Hickman, Mr. Lewis\",\"male\"],[\"Butler, Mr. Reginald Fenton\",\"male\"],[\"Rommetvedt, Mr. Knud Paust\",\"male\"],[\"Cook, Mr. Jacob\",\"male\"],[\"Taylor, Mrs. Elmer Zebley (Juliet Cummins Wright)\",\"female\"],[\"Brown, Mrs. Thomas William Solomon (Elizabeth Catherine Ford)\",\"female\"],[\"Davidson, Mr. Thornton\",\"male\"],[\"Mitchell, Mr. Henry Michael\",\"male\"],[\"Wilhelms, Mr. Charles\",\"male\"],[\"Watson, Mr. Ennis Hastings\",\"male\"],[\"Edvardsson, Mr. Gustaf Hjalmar\",\"male\"],[\"Sawyer, Mr. Frederick Charles\",\"male\"],[\"Turja, Miss. Anna Sofia\",\"female\"],[\"Goodwin, Mrs. Frederick (Augusta Tyler)\",\"female\"],[\"Cardeza, Mr. Thomas Drake Martinez\",\"male\"],[\"Peters, Miss. Katie\",\"female\"],[\"Hassab, Mr. Hammad\",\"male\"],[\"Olsvigen, Mr. Thor Anderson\",\"male\"],[\"Goodwin, Mr. Charles Edward\",\"male\"],[\"Brown, Mr. Thomas William Solomon\",\"male\"],[\"Laroche, Mr. Joseph Philippe Lemercier\",\"male\"],[\"Panula, Mr. Jaako Arnold\",\"male\"],[\"Dakic, Mr. Branko\",\"male\"],[\"Fischer, Mr. Eberhard Thelander\",\"male\"],[\"Madill, Miss. Georgette Alexandra\",\"female\"],[\"Dick, Mr. Albert Adrian\",\"male\"],[\"Karun, Miss. Manca\",\"female\"],[\"Lam, Mr. Ali\",\"male\"],[\"Saad, Mr. Khalil\",\"male\"],[\"Weir, Col. John\",\"male\"],[\"Chapman, Mr. Charles Henry\",\"male\"],[\"Kelly, Mr. James\",\"male\"],[\"Mullens, Miss. Katherine \\\"Katie\\\"\",\"female\"],[\"Thayer, Mr. John Borland\",\"male\"],[\"Humblen, Mr. Adolf Mathias Nicolai Olsen\",\"male\"],[\"Astor, Mrs. John Jacob (Madeleine Talmadge Force)\",\"female\"],[\"Silverthorne, Mr. Spencer Victor\",\"male\"],[\"Barbara, Miss. Saiide\",\"female\"],[\"Gallagher, Mr. Martin\",\"male\"],[\"Hansen, Mr. Henrik Juul\",\"male\"],[\"Morley, Mr. Henry Samuel (\\\"Mr Henry Marshall\\\")\",\"male\"],[\"Kelly, Mrs. Florence \\\"Fannie\\\"\",\"female\"],[\"Calderhead, Mr. Edward Pennington\",\"male\"],[\"Cleaver, Miss. Alice\",\"female\"],[\"Moubarek, Master. Halim Gonios (\\\"William George\\\")\",\"male\"],[\"Mayne, Mlle. Berthe Antonine (\\\"Mrs de Villiers\\\")\",\"female\"],[\"Klaber, Mr. Herman\",\"male\"],[\"Taylor, Mr. Elmer Zebley\",\"male\"],[\"Larsson, Mr. August Viktor\",\"male\"],[\"Greenberg, Mr. Samuel\",\"male\"],[\"Soholt, Mr. Peter Andreas Lauritz Andersen\",\"male\"],[\"Endres, Miss. Caroline Louise\",\"female\"],[\"Troutt, Miss. Edwina Celia \\\"Winnie\\\"\",\"female\"],[\"McEvoy, Mr. Michael\",\"male\"],[\"Johnson, Mr. Malkolm Joackim\",\"male\"],[\"Harper, Miss. Annie Jessie \\\"Nina\\\"\",\"female\"],[\"Jensen, Mr. Svend Lauritz\",\"male\"],[\"Gillespie, Mr. William Henry\",\"male\"],[\"Hodges, Mr. Henry Price\",\"male\"],[\"Chambers, Mr. Norman Campbell\",\"male\"],[\"Oreskovic, Mr. Luka\",\"male\"],[\"Renouf, Mrs. Peter Henry (Lillian Jefferys)\",\"female\"],[\"Mannion, Miss. Margareth\",\"female\"],[\"Bryhl, Mr. Kurt Arnold Gottfrid\",\"male\"],[\"Ilmakangas, Miss. Pieta Sofia\",\"female\"],[\"Allen, Miss. Elisabeth Walton\",\"female\"],[\"Hassan, Mr. Houssein G N\",\"male\"],[\"Knight, Mr. Robert J\",\"male\"],[\"Berriman, Mr. William John\",\"male\"],[\"Troupiansky, Mr. Moses Aaron\",\"male\"],[\"Williams, Mr. Leslie\",\"male\"],[\"Ford, Mrs. Edward (Margaret Ann Watson)\",\"female\"],[\"Lesurer, Mr. Gustave J\",\"male\"],[\"Ivanoff, Mr. Kanio\",\"male\"],[\"Nankoff, Mr. Minko\",\"male\"],[\"Hawksford, Mr. Walter James\",\"male\"],[\"Cavendish, Mr. Tyrell William\",\"male\"],[\"Ryerson, Miss. Susan Parker \\\"Suzette\\\"\",\"female\"],[\"McNamee, Mr. Neal\",\"male\"],[\"Stranden, Mr. Juho\",\"male\"],[\"Crosby, Capt. Edward Gifford\",\"male\"],[\"Abbott, Mr. Rossmore Edward\",\"male\"],[\"Sinkkonen, Miss. Anna\",\"female\"],[\"Marvin, Mr. Daniel Warner\",\"male\"],[\"Connaghton, Mr. Michael\",\"male\"],[\"Wells, Miss. Joan\",\"female\"],[\"Moor, Master. Meier\",\"male\"],[\"Vande Velde, Mr. Johannes Joseph\",\"male\"],[\"Jonkoff, Mr. Lalio\",\"male\"],[\"Herman, Mrs. Samuel (Jane Laver)\",\"female\"],[\"Hamalainen, Master. Viljo\",\"male\"],[\"Carlsson, Mr. August Sigfrid\",\"male\"],[\"Bailey, Mr. Percy Andrew\",\"male\"],[\"Theobald, Mr. Thomas Leonard\",\"male\"],[\"Rothes, the Countess. of (Lucy Noel Martha Dyer-Edwards)\",\"female\"],[\"Garfirth, Mr. John\",\"male\"],[\"Nirva, Mr. Iisakki Antino Aijo\",\"male\"],[\"Barah, Mr. Hanna Assi\",\"male\"],[\"Carter, Mrs. William Ernest (Lucile Polk)\",\"female\"],[\"Eklund, Mr. Hans Linus\",\"male\"],[\"Hogeboom, Mrs. John C (Anna Andrews)\",\"female\"],[\"Brewe, Dr. Arthur Jackson\",\"male\"],[\"Mangan, Miss. Mary\",\"female\"],[\"Moran, Mr. Daniel J\",\"male\"],[\"Gronnestad, Mr. Daniel Danielsen\",\"male\"],[\"Lievens, Mr. Rene Aime\",\"male\"],[\"Jensen, Mr. Niels Peder\",\"male\"],[\"Mack, Mrs. (Mary)\",\"female\"],[\"Elias, Mr. Dibo\",\"male\"],[\"Hocking, Mrs. Elizabeth (Eliza Needs)\",\"female\"],[\"Myhrman, Mr. Pehr Fabian Oliver Malkolm\",\"male\"],[\"Tobin, Mr. Roger\",\"male\"],[\"Emanuel, Miss. Virginia Ethel\",\"female\"],[\"Kilgannon, Mr. Thomas J\",\"male\"],[\"Robert, Mrs. Edward Scott (Elisabeth Walton McMillan)\",\"female\"],[\"Ayoub, Miss. Banoura\",\"female\"],[\"Dick, Mrs. Albert Adrian (Vera Gillespie)\",\"female\"],[\"Long, Mr. Milton Clyde\",\"male\"],[\"Johnston, Mr. Andrew G\",\"male\"],[\"Ali, Mr. William\",\"male\"],[\"Harmer, Mr. Abraham (David Lishin)\",\"male\"],[\"Sjoblom, Miss. Anna Sofia\",\"female\"],[\"Rice, Master. George Hugh\",\"male\"],[\"Dean, Master. Bertram Vere\",\"male\"],[\"Guggenheim, Mr. Benjamin\",\"male\"],[\"Keane, Mr. Andrew \\\"Andy\\\"\",\"male\"],[\"Gaskell, Mr. Alfred\",\"male\"],[\"Sage, Miss. Stella Anna\",\"female\"],[\"Hoyt, Mr. William Fisher\",\"male\"],[\"Dantcheff, Mr. Ristiu\",\"male\"],[\"Otter, Mr. Richard\",\"male\"],[\"Leader, Dr. Alice (Farnham)\",\"female\"],[\"Osman, Mrs. Mara\",\"female\"],[\"Ibrahim Shawah, Mr. Yousseff\",\"male\"],[\"Van Impe, Mrs. Jean Baptiste (Rosalie Paula Govaert)\",\"female\"],[\"Ponesell, Mr. Martin\",\"male\"],[\"Collyer, Mrs. Harvey (Charlotte Annie Tate)\",\"female\"],[\"Carter, Master. William Thornton II\",\"male\"],[\"Thomas, Master. Assad Alexander\",\"male\"],[\"Hedman, Mr. Oskar Arvid\",\"male\"],[\"Johansson, Mr. Karl Johan\",\"male\"],[\"Andrews, Mr. Thomas Jr\",\"male\"],[\"Pettersson, Miss. Ellen Natalia\",\"female\"],[\"Meyer, Mr. August\",\"male\"],[\"Chambers, Mrs. Norman Campbell (Bertha Griggs)\",\"female\"],[\"Alexander, Mr. William\",\"male\"],[\"Lester, Mr. James\",\"male\"],[\"Slemen, Mr. Richard James\",\"male\"],[\"Andersson, Miss. Ebba Iris Alfrida\",\"female\"],[\"Tomlin, Mr. Ernest Portage\",\"male\"],[\"Fry, Mr. Richard\",\"male\"],[\"Heininen, Miss. Wendla Maria\",\"female\"],[\"Mallet, Mr. Albert\",\"male\"],[\"Holm, Mr. John Fredrik Alexander\",\"male\"],[\"Skoog, Master. Karl Thorsten\",\"male\"],[\"Hays, Mrs. Charles Melville (Clara Jennings Gregg)\",\"female\"],[\"Lulic, Mr. Nikola\",\"male\"],[\"Reuchlin, Jonkheer. John George\",\"male\"],[\"Moor, Mrs. (Beila)\",\"female\"],[\"Panula, Master. Urho Abraham\",\"male\"],[\"Flynn, Mr. John\",\"male\"],[\"Lam, Mr. Len\",\"male\"],[\"Mallet, Master. Andre\",\"male\"],[\"McCormack, Mr. Thomas Joseph\",\"male\"],[\"Stone, Mrs. George Nelson (Martha Evelyn)\",\"female\"],[\"Yasbeck, Mrs. Antoni (Selini Alexander)\",\"female\"],[\"Richards, Master. George Sibley\",\"male\"],[\"Saad, Mr. Amin\",\"male\"],[\"Augustsson, Mr. Albert\",\"male\"],[\"Allum, Mr. Owen George\",\"male\"],[\"Compton, Miss. Sara Rebecca\",\"female\"],[\"Pasic, Mr. Jakob\",\"male\"],[\"Sirota, Mr. Maurice\",\"male\"],[\"Chip, Mr. Chang\",\"male\"],[\"Marechal, Mr. Pierre\",\"male\"],[\"Alhomaki, Mr. Ilmari Rudolf\",\"male\"],[\"Mudd, Mr. Thomas Charles\",\"male\"],[\"Serepeca, Miss. Augusta\",\"female\"],[\"Lemberopolous, Mr. Peter L\",\"male\"],[\"Culumovic, Mr. Jeso\",\"male\"],[\"Abbing, Mr. Anthony\",\"male\"],[\"Sage, Mr. Douglas Bullen\",\"male\"],[\"Markoff, Mr. Marin\",\"male\"],[\"Harper, Rev. John\",\"male\"],[\"Goldenberg, Mrs. Samuel L (Edwiga Grabowska)\",\"female\"],[\"Andersson, Master. Sigvard Harald Elias\",\"male\"],[\"Svensson, Mr. Johan\",\"male\"],[\"Boulos, Miss. Nourelain\",\"female\"],[\"Lines, Miss. Mary Conover\",\"female\"],[\"Carter, Mrs. Ernest Courtenay (Lilian Hughes)\",\"female\"],[\"Aks, Mrs. Sam (Leah Rosen)\",\"female\"],[\"Wick, Mrs. George Dennick (Mary Hitchcock)\",\"female\"],[\"Daly, Mr. Peter Denis \",\"male\"],[\"Baclini, Mrs. Solomon (Latifa Qurban)\",\"female\"],[\"Razi, Mr. Raihed\",\"male\"],[\"Hansen, Mr. Claus Peter\",\"male\"],[\"Giles, Mr. Frederick Edward\",\"male\"],[\"Swift, Mrs. Frederick Joel (Margaret Welles Barron)\",\"female\"],[\"Sage, Miss. Dorothy Edith \\\"Dolly\\\"\",\"female\"],[\"Gill, Mr. John William\",\"male\"],[\"Bystrom, Mrs. (Karolina)\",\"female\"],[\"Duran y More, Miss. Asuncion\",\"female\"],[\"Roebling, Mr. Washington Augustus II\",\"male\"],[\"van Melkebeke, Mr. Philemon\",\"male\"],[\"Johnson, Master. Harold Theodor\",\"male\"],[\"Balkic, Mr. Cerin\",\"male\"],[\"Beckwith, Mrs. Richard Leonard (Sallie Monypeny)\",\"female\"],[\"Carlsson, Mr. Frans Olof\",\"male\"],[\"Vander Cruyssen, Mr. Victor\",\"male\"],[\"Abelson, Mrs. Samuel (Hannah Wizosky)\",\"female\"],[\"Najib, Miss. Adele Kiamie \\\"Jane\\\"\",\"female\"],[\"Gustafsson, Mr. Alfred Ossian\",\"male\"],[\"Petroff, Mr. Nedelio\",\"male\"],[\"Laleff, Mr. Kristo\",\"male\"],[\"Potter, Mrs. Thomas Jr (Lily Alexenia Wilson)\",\"female\"],[\"Shelley, Mrs. William (Imanita Parrish Hall)\",\"female\"],[\"Markun, Mr. Johann\",\"male\"],[\"Dahlberg, Miss. Gerda Ulrika\",\"female\"],[\"Banfield, Mr. Frederick James\",\"male\"],[\"Sutehall, Mr. Henry Jr\",\"male\"],[\"Rice, Mrs. William (Margaret Norton)\",\"female\"],[\"Montvila, Rev. Juozas\",\"male\"],[\"Graham, Miss. Margaret Edith\",\"female\"],[\"Johnston, Miss. Catherine Helen \\\"Carrie\\\"\",\"female\"],[\"Behr, Mr. Karl Howell\",\"male\"],[\"Dooley, Mr. Patrick\",\"male\"]],\"hovertemplate\":\"Age=%{x}\\u003cbr\\u003eFare=%{y}\\u003cbr\\u003eName=%{customdata[0]}\\u003cbr\\u003eSex=%{customdata[1]}\\u003cextra\\u003e\\u003c\\u002fextra\\u003e\",\"legendgroup\":\"\",\"marker\":{\"color\":\"#3182bd\",\"symbol\":\"circle\"},\"mode\":\"markers\",\"name\":\"\",\"orientation\":\"v\",\"showlegend\":false,\"x\":[22.0,38.0,26.0,35.0,35.0,null,54.0,2.0,27.0,14.0,4.0,58.0,20.0,39.0,14.0,55.0,2.0,null,31.0,null,35.0,34.0,15.0,28.0,8.0,38.0,null,19.0,null,null,40.0,null,null,66.0,28.0,42.0,null,21.0,18.0,14.0,40.0,27.0,null,3.0,19.0,null,null,null,null,18.0,7.0,21.0,49.0,29.0,65.0,null,21.0,28.5,5.0,11.0,22.0,38.0,45.0,4.0,null,null,29.0,19.0,17.0,26.0,32.0,16.0,21.0,26.0,32.0,25.0,null,null,0.83,30.0,22.0,29.0,null,28.0,17.0,33.0,16.0,null,23.0,24.0,29.0,20.0,46.0,26.0,59.0,null,71.0,23.0,34.0,34.0,28.0,null,21.0,33.0,37.0,28.0,21.0,null,38.0,null,47.0,14.5,22.0,20.0,17.0,21.0,70.5,29.0,24.0,2.0,21.0,null,32.5,32.5,54.0,12.0,null,24.0,null,45.0,33.0,20.0,47.0,29.0,25.0,23.0,19.0,37.0,16.0,24.0,null,22.0,24.0,19.0,18.0,19.0,27.0,9.0,36.5,42.0,51.0,22.0,55.5,40.5,null,51.0,16.0,30.0,null,null,44.0,40.0,26.0,17.0,1.0,9.0,null,45.0,null,28.0,61.0,4.0,1.0,21.0,56.0,18.0,null,50.0,30.0,36.0,null,null,9.0,1.0,4.0,null,null,45.0,40.0,36.0,32.0,19.0,19.0,3.0,44.0,58.0,null,42.0,null,24.0,28.0,null,34.0,45.5,18.0,2.0,32.0,26.0,16.0,40.0,24.0,35.0,22.0,30.0,null,31.0,27.0,42.0,32.0,30.0,16.0,27.0,51.0,null,38.0,22.0,19.0,20.5,18.0,null,35.0,29.0,59.0,5.0,24.0,null,44.0,8.0,19.0,33.0,null,null,29.0,22.0,30.0,44.0,25.0,24.0,37.0,54.0,null,29.0,62.0,30.0,41.0,29.0,null,30.0,35.0,50.0,null,3.0,52.0,40.0,null,36.0,16.0,25.0,58.0,35.0,null,25.0,41.0,37.0,null,63.0,45.0,null,7.0,35.0,65.0,28.0,16.0,19.0,null,33.0,30.0,22.0,42.0,22.0,26.0,19.0,36.0,24.0,24.0,null,23.5,2.0,null,50.0,null,null,19.0,null,null,0.92,null,17.0,30.0,30.0,24.0,18.0,26.0,28.0,43.0,26.0,24.0,54.0,31.0,40.0,22.0,27.0,30.0,22.0,null,36.0,61.0,36.0,31.0,16.0,null,45.5,38.0,16.0,null,null,29.0,41.0,45.0,45.0,2.0,24.0,28.0,25.0,36.0,24.0,40.0,null,3.0,42.0,23.0,null,15.0,25.0,null,28.0,22.0,38.0,null,null,40.0,29.0,45.0,35.0,null,30.0,60.0,null,null,24.0,25.0,18.0,19.0,22.0,3.0,null,22.0,27.0,20.0,19.0,42.0,1.0,32.0,35.0,null,18.0,1.0,36.0,null,17.0,36.0,21.0,28.0,23.0,24.0,22.0,31.0,46.0,23.0,28.0,39.0,26.0,21.0,28.0,20.0,34.0,51.0,3.0,21.0,null,null,null,33.0,null,44.0,null,34.0,18.0,30.0,10.0,null,21.0,29.0,28.0,18.0,null,28.0,19.0,null,32.0,28.0,null,42.0,17.0,50.0,14.0,21.0,24.0,64.0,31.0,45.0,20.0,25.0,28.0,null,4.0,13.0,34.0,5.0,52.0,36.0,null,30.0,49.0,null,29.0,65.0,null,50.0,null,48.0,34.0,47.0,48.0,null,38.0,null,56.0,null,0.75,null,38.0,33.0,23.0,22.0,null,34.0,29.0,22.0,2.0,9.0,null,50.0,63.0,25.0,null,35.0,58.0,30.0,9.0,null,21.0,55.0,71.0,21.0,null,54.0,null,25.0,24.0,17.0,21.0,null,37.0,16.0,18.0,33.0,null,28.0,26.0,29.0,null,36.0,54.0,24.0,47.0,34.0,null,36.0,32.0,30.0,22.0,null,44.0,null,40.5,50.0,null,39.0,23.0,2.0,null,17.0,null,30.0,7.0,45.0,30.0,null,22.0,36.0,9.0,11.0,32.0,50.0,64.0,19.0,null,33.0,8.0,17.0,27.0,null,22.0,22.0,62.0,48.0,null,39.0,36.0,null,40.0,28.0,null,null,24.0,19.0,29.0,null,32.0,62.0,53.0,36.0,null,16.0,19.0,34.0,39.0,null,32.0,25.0,39.0,54.0,36.0,null,18.0,47.0,60.0,22.0,null,35.0,52.0,47.0,null,37.0,36.0,null,49.0,null,49.0,24.0,null,null,44.0,35.0,36.0,30.0,27.0,22.0,40.0,39.0,null,null,null,35.0,24.0,34.0,26.0,4.0,26.0,27.0,42.0,20.0,21.0,21.0,61.0,57.0,21.0,26.0,null,80.0,51.0,32.0,null,9.0,28.0,32.0,31.0,41.0,null,20.0,24.0,2.0,null,0.75,48.0,19.0,56.0,null,23.0,null,18.0,21.0,null,18.0,24.0,null,32.0,23.0,58.0,50.0,40.0,47.0,36.0,20.0,32.0,25.0,null,43.0,null,40.0,31.0,70.0,31.0,null,18.0,24.5,18.0,43.0,36.0,null,27.0,20.0,14.0,60.0,25.0,14.0,19.0,18.0,15.0,31.0,4.0,null,25.0,60.0,52.0,44.0,null,49.0,42.0,18.0,35.0,18.0,25.0,26.0,39.0,45.0,42.0,22.0,null,24.0,null,48.0,29.0,52.0,19.0,38.0,27.0,null,33.0,6.0,17.0,34.0,50.0,27.0,20.0,30.0,null,25.0,25.0,29.0,11.0,null,23.0,23.0,28.5,48.0,35.0,null,null,null,36.0,21.0,24.0,31.0,70.0,16.0,30.0,19.0,31.0,4.0,6.0,33.0,23.0,48.0,0.67,28.0,18.0,34.0,33.0,null,41.0,20.0,36.0,16.0,51.0,null,30.5,null,32.0,24.0,48.0,57.0,null,54.0,18.0,null,5.0,null,43.0,13.0,17.0,29.0,null,25.0,25.0,18.0,8.0,1.0,46.0,null,16.0,null,null,25.0,39.0,49.0,31.0,30.0,30.0,34.0,31.0,11.0,0.42,27.0,31.0,39.0,18.0,39.0,33.0,26.0,39.0,35.0,6.0,30.5,null,23.0,31.0,43.0,10.0,52.0,27.0,38.0,27.0,2.0,null,null,1.0,null,62.0,15.0,0.83,null,23.0,18.0,39.0,21.0,null,32.0,null,20.0,16.0,30.0,34.5,17.0,42.0,null,35.0,28.0,null,4.0,74.0,9.0,16.0,44.0,18.0,45.0,51.0,24.0,null,41.0,21.0,48.0,null,24.0,42.0,27.0,31.0,null,4.0,26.0,47.0,33.0,47.0,28.0,15.0,20.0,19.0,null,56.0,25.0,33.0,22.0,28.0,25.0,39.0,27.0,19.0,null,26.0,32.0],\"xaxis\":\"x\",\"y\":[7.25,71.2833,7.925,53.1,8.05,8.4583,51.8625,21.075,11.1333,30.0708,16.7,26.55,8.05,31.275,7.8542,16.0,29.125,13.0,18.0,7.225,26.0,13.0,8.0292,35.5,21.075,31.3875,7.225,263.0,7.8792,7.8958,27.7208,146.5208,7.75,10.5,82.1708,52.0,7.2292,8.05,18.0,11.2417,9.475,21.0,7.8958,41.5792,7.8792,8.05,15.5,7.75,21.6792,17.8,39.6875,7.8,76.7292,26.0,61.9792,35.5,10.5,7.2292,27.75,46.9,7.2292,80.0,83.475,27.9,27.7208,15.2458,10.5,8.1583,7.925,8.6625,10.5,46.9,73.5,14.4542,56.4958,7.65,7.8958,8.05,29.0,12.475,9.0,9.5,7.7875,47.1,10.5,15.85,34.375,8.05,263.0,8.05,8.05,7.8542,61.175,20.575,7.25,8.05,34.6542,63.3583,23.0,26.0,7.8958,7.8958,77.2875,8.6542,7.925,7.8958,7.65,7.775,7.8958,24.15,52.0,14.4542,8.05,9.825,14.4583,7.925,7.75,21.0,247.5208,31.275,73.5,8.05,30.0708,13.0,77.2875,11.2417,7.75,7.1417,22.3583,6.975,7.8958,7.05,14.5,26.0,13.0,15.0458,26.2833,53.1,9.2167,79.2,15.2458,7.75,15.85,6.75,11.5,36.75,7.7958,34.375,26.0,13.0,12.525,66.6,8.05,14.5,7.3125,61.3792,7.7333,8.05,8.6625,69.55,16.1,15.75,7.775,8.6625,39.6875,20.525,55.0,27.9,25.925,56.4958,33.5,29.125,11.1333,7.925,30.6958,7.8542,25.4667,28.7125,13.0,0.0,69.55,15.05,31.3875,39.0,22.025,50.0,15.5,26.55,15.5,7.8958,13.0,13.0,7.8542,26.0,27.7208,146.5208,7.75,8.4042,7.75,13.0,9.5,69.55,6.4958,7.225,8.05,10.4625,15.85,18.7875,7.75,31.0,7.05,21.0,7.25,13.0,7.75,113.275,7.925,27.0,76.2917,10.5,8.05,13.0,8.05,7.8958,90.0,9.35,10.5,7.25,13.0,25.4667,83.475,7.775,13.5,31.3875,10.5,7.55,26.0,26.25,10.5,12.275,14.4542,15.5,10.5,7.125,7.225,90.0,7.775,14.5,52.5542,26.0,7.25,10.4625,26.55,16.1,20.2125,15.2458,79.2,86.5,512.3292,26.0,7.75,31.3875,79.65,0.0,7.75,10.5,39.6875,7.775,153.4625,135.6333,31.0,0.0,19.5,29.7,7.75,77.9583,7.75,0.0,29.125,20.25,7.75,7.8542,9.5,8.05,26.0,8.6625,9.5,7.8958,13.0,7.75,78.85,91.0792,12.875,8.85,7.8958,27.7208,7.2292,151.55,30.5,247.5208,7.75,23.25,0.0,12.35,8.05,151.55,110.8833,108.9,24.0,56.9292,83.1583,262.375,26.0,7.8958,26.25,7.8542,26.0,14.0,164.8667,134.5,7.25,7.8958,12.35,29.0,69.55,135.6333,6.2375,13.0,20.525,57.9792,23.25,28.5,153.4625,18.0,133.65,7.8958,66.6,134.5,8.05,35.5,26.0,263.0,13.0,13.0,13.0,13.0,13.0,16.1,15.9,8.6625,9.225,35.0,7.2292,17.8,7.225,9.5,55.0,13.0,7.8792,7.8792,27.9,27.7208,14.4542,7.05,15.5,7.25,75.25,7.2292,7.75,69.3,55.4417,6.4958,8.05,135.6333,21.075,82.1708,7.25,211.5,4.0125,7.775,227.525,15.7417,7.925,52.0,7.8958,73.5,46.9,13.0,7.7292,12.0,120.0,7.7958,7.925,113.275,16.7,7.7958,7.8542,26.0,10.5,12.65,7.925,8.05,9.825,15.85,8.6625,21.0,7.75,18.75,7.775,25.4667,7.8958,6.8583,90.0,0.0,7.925,8.05,32.5,13.0,13.0,24.15,7.8958,7.7333,7.875,14.4,20.2125,7.25,26.0,26.0,7.75,8.05,26.55,16.1,26.0,7.125,55.9,120.0,34.375,18.75,263.0,10.5,26.25,9.5,7.775,13.0,8.1125,81.8583,19.5,26.55,19.2583,30.5,27.75,19.9667,27.75,89.1042,8.05,7.8958,26.55,51.8625,10.5,7.75,26.55,8.05,38.5,13.0,8.05,7.05,0.0,26.55,7.725,19.2583,7.25,8.6625,27.75,13.7917,9.8375,52.0,21.0,7.0458,7.5208,12.2875,46.9,0.0,8.05,9.5875,91.0792,25.4667,90.0,29.7,8.05,15.9,19.9667,7.25,30.5,49.5042,8.05,14.4583,78.2667,15.1,151.55,7.7958,8.6625,7.75,7.6292,9.5875,86.5,108.9,26.0,26.55,22.525,56.4958,7.75,8.05,26.2875,59.4,7.4958,34.0208,10.5,24.15,26.0,7.8958,93.5,7.8958,7.225,57.9792,7.2292,7.75,10.5,221.7792,7.925,11.5,26.0,7.2292,7.2292,22.3583,8.6625,26.25,26.55,106.425,14.5,49.5,71.0,31.275,31.275,26.0,106.425,26.0,26.0,13.8625,20.525,36.75,110.8833,26.0,7.8292,7.225,7.775,26.55,39.6,227.525,79.65,17.4,7.75,7.8958,13.5,8.05,8.05,24.15,7.8958,21.075,7.2292,7.8542,10.5,51.4792,26.3875,7.75,8.05,14.5,13.0,55.9,14.4583,7.925,30.0,110.8833,26.0,40.125,8.7125,79.65,15.0,79.2,8.05,8.05,7.125,78.2667,7.25,7.75,26.0,24.15,33.0,0.0,7.225,56.9292,27.0,7.8958,42.4,8.05,26.55,15.55,7.8958,30.5,41.5792,153.4625,31.275,7.05,15.5,7.75,8.05,65.0,14.4,16.1,39.0,10.5,14.4542,52.5542,15.7417,7.8542,16.1,32.3208,12.35,77.9583,7.8958,7.7333,30.0,7.0542,30.5,0.0,27.9,13.0,7.925,26.25,39.6875,16.1,7.8542,69.3,27.9,56.4958,19.2583,76.7292,7.8958,35.5,7.55,7.55,7.8958,23.0,8.4333,7.8292,6.75,73.5,7.8958,15.5,13.0,113.275,133.65,7.225,25.5875,7.4958,7.925,73.5,13.0,7.775,8.05,52.0,39.0,52.0,10.5,13.0,0.0,7.775,8.05,9.8417,46.9,512.3292,8.1375,76.7292,9.225,46.9,39.0,41.5792,39.6875,10.1708,7.7958,211.3375,57.0,13.4167,56.4958,7.225,26.55,13.5,8.05,7.7333,110.8833,7.65,227.525,26.2875,14.4542,7.7417,7.8542,26.0,13.5,26.2875,151.55,15.2458,49.5042,26.55,52.0,9.4833,13.0,7.65,227.525,10.5,15.5,7.775,33.0,7.0542,13.0,13.0,53.1,8.6625,21.0,7.7375,26.0,7.925,211.3375,18.7875,0.0,13.0,13.0,16.1,34.375,512.3292,7.8958,7.8958,30.0,78.85,262.375,16.1,7.925,71.0,20.25,13.0,53.1,7.75,23.0,12.475,9.5,7.8958,65.0,14.5,7.7958,11.5,8.05,86.5,14.5,7.125,7.2292,120.0,7.775,77.9583,39.6,7.75,24.15,8.3625,9.5,7.8542,10.5,7.225,23.0,7.75,7.75,12.475,7.7375,211.3375,7.2292,57.0,30.0,23.45,7.05,7.25,7.4958,29.125,20.575,79.2,7.75,26.0,69.55,30.6958,7.8958,13.0,25.9292,8.6833,7.2292,24.15,13.0,26.25,120.0,8.5167,6.975,7.775,0.0,7.775,13.0,53.1,7.8875,24.15,10.5,31.275,8.05,0.0,7.925,37.0042,6.45,27.9,93.5,8.6625,0.0,12.475,39.6875,6.95,56.4958,37.0042,7.75,80.0,14.4542,18.75,7.2292,7.8542,8.3,83.1583,8.6625,8.05,56.4958,29.7,7.925,10.5,31.0,6.4375,8.6625,7.55,69.55,7.8958,33.0,89.1042,31.275,7.775,15.2458,39.4,26.0,9.35,164.8667,26.55,19.2583,7.2292,14.1083,11.5,25.9292,69.55,13.0,13.0,13.8583,50.4958,9.5,11.1333,7.8958,52.5542,5.0,9.0,24.0,7.225,9.8458,7.8958,7.8958,83.1583,26.0,7.8958,10.5167,10.5,7.05,29.125,13.0,30.0,23.45,30.0,7.75],\"yaxis\":\"y\",\"type\":\"scatter\"}],                        {\"template\":{\"data\":{\"barpolar\":[{\"marker\":{\"line\":{\"color\":\"white\",\"width\":0.5},\"pattern\":{\"fillmode\":\"overlay\",\"size\":10,\"solidity\":0.2}},\"type\":\"barpolar\"}],\"bar\":[{\"error_x\":{\"color\":\"#2a3f5f\"},\"error_y\":{\"color\":\"#2a3f5f\"},\"marker\":{\"line\":{\"color\":\"white\",\"width\":0.5},\"pattern\":{\"fillmode\":\"overlay\",\"size\":10,\"solidity\":0.2}},\"type\":\"bar\"}],\"carpet\":[{\"aaxis\":{\"endlinecolor\":\"#2a3f5f\",\"gridcolor\":\"#C8D4E3\",\"linecolor\":\"#C8D4E3\",\"minorgridcolor\":\"#C8D4E3\",\"startlinecolor\":\"#2a3f5f\"},\"baxis\":{\"endlinecolor\":\"#2a3f5f\",\"gridcolor\":\"#C8D4E3\",\"linecolor\":\"#C8D4E3\",\"minorgridcolor\":\"#C8D4E3\",\"startlinecolor\":\"#2a3f5f\"},\"type\":\"carpet\"}],\"choropleth\":[{\"colorbar\":{\"outlinewidth\":0,\"ticks\":\"\"},\"type\":\"choropleth\"}],\"contourcarpet\":[{\"colorbar\":{\"outlinewidth\":0,\"ticks\":\"\"},\"type\":\"contourcarpet\"}],\"contour\":[{\"colorbar\":{\"outlinewidth\":0,\"ticks\":\"\"},\"colorscale\":[[0.0,\"#0d0887\"],[0.1111111111111111,\"#46039f\"],[0.2222222222222222,\"#7201a8\"],[0.3333333333333333,\"#9c179e\"],[0.4444444444444444,\"#bd3786\"],[0.5555555555555556,\"#d8576b\"],[0.6666666666666666,\"#ed7953\"],[0.7777777777777778,\"#fb9f3a\"],[0.8888888888888888,\"#fdca26\"],[1.0,\"#f0f921\"]],\"type\":\"contour\"}],\"heatmapgl\":[{\"colorbar\":{\"outlinewidth\":0,\"ticks\":\"\"},\"colorscale\":[[0.0,\"#0d0887\"],[0.1111111111111111,\"#46039f\"],[0.2222222222222222,\"#7201a8\"],[0.3333333333333333,\"#9c179e\"],[0.4444444444444444,\"#bd3786\"],[0.5555555555555556,\"#d8576b\"],[0.6666666666666666,\"#ed7953\"],[0.7777777777777778,\"#fb9f3a\"],[0.8888888888888888,\"#fdca26\"],[1.0,\"#f0f921\"]],\"type\":\"heatmapgl\"}],\"heatmap\":[{\"colorbar\":{\"outlinewidth\":0,\"ticks\":\"\"},\"colorscale\":[[0.0,\"#0d0887\"],[0.1111111111111111,\"#46039f\"],[0.2222222222222222,\"#7201a8\"],[0.3333333333333333,\"#9c179e\"],[0.4444444444444444,\"#bd3786\"],[0.5555555555555556,\"#d8576b\"],[0.6666666666666666,\"#ed7953\"],[0.7777777777777778,\"#fb9f3a\"],[0.8888888888888888,\"#fdca26\"],[1.0,\"#f0f921\"]],\"type\":\"heatmap\"}],\"histogram2dcontour\":[{\"colorbar\":{\"outlinewidth\":0,\"ticks\":\"\"},\"colorscale\":[[0.0,\"#0d0887\"],[0.1111111111111111,\"#46039f\"],[0.2222222222222222,\"#7201a8\"],[0.3333333333333333,\"#9c179e\"],[0.4444444444444444,\"#bd3786\"],[0.5555555555555556,\"#d8576b\"],[0.6666666666666666,\"#ed7953\"],[0.7777777777777778,\"#fb9f3a\"],[0.8888888888888888,\"#fdca26\"],[1.0,\"#f0f921\"]],\"type\":\"histogram2dcontour\"}],\"histogram2d\":[{\"colorbar\":{\"outlinewidth\":0,\"ticks\":\"\"},\"colorscale\":[[0.0,\"#0d0887\"],[0.1111111111111111,\"#46039f\"],[0.2222222222222222,\"#7201a8\"],[0.3333333333333333,\"#9c179e\"],[0.4444444444444444,\"#bd3786\"],[0.5555555555555556,\"#d8576b\"],[0.6666666666666666,\"#ed7953\"],[0.7777777777777778,\"#fb9f3a\"],[0.8888888888888888,\"#fdca26\"],[1.0,\"#f0f921\"]],\"type\":\"histogram2d\"}],\"histogram\":[{\"marker\":{\"pattern\":{\"fillmode\":\"overlay\",\"size\":10,\"solidity\":0.2}},\"type\":\"histogram\"}],\"mesh3d\":[{\"colorbar\":{\"outlinewidth\":0,\"ticks\":\"\"},\"type\":\"mesh3d\"}],\"parcoords\":[{\"line\":{\"colorbar\":{\"outlinewidth\":0,\"ticks\":\"\"}},\"type\":\"parcoords\"}],\"pie\":[{\"automargin\":true,\"type\":\"pie\"}],\"scatter3d\":[{\"line\":{\"colorbar\":{\"outlinewidth\":0,\"ticks\":\"\"}},\"marker\":{\"colorbar\":{\"outlinewidth\":0,\"ticks\":\"\"}},\"type\":\"scatter3d\"}],\"scattercarpet\":[{\"marker\":{\"colorbar\":{\"outlinewidth\":0,\"ticks\":\"\"}},\"type\":\"scattercarpet\"}],\"scattergeo\":[{\"marker\":{\"colorbar\":{\"outlinewidth\":0,\"ticks\":\"\"}},\"type\":\"scattergeo\"}],\"scattergl\":[{\"marker\":{\"colorbar\":{\"outlinewidth\":0,\"ticks\":\"\"}},\"type\":\"scattergl\"}],\"scattermapbox\":[{\"marker\":{\"colorbar\":{\"outlinewidth\":0,\"ticks\":\"\"}},\"type\":\"scattermapbox\"}],\"scatterpolargl\":[{\"marker\":{\"colorbar\":{\"outlinewidth\":0,\"ticks\":\"\"}},\"type\":\"scatterpolargl\"}],\"scatterpolar\":[{\"marker\":{\"colorbar\":{\"outlinewidth\":0,\"ticks\":\"\"}},\"type\":\"scatterpolar\"}],\"scatter\":[{\"fillpattern\":{\"fillmode\":\"overlay\",\"size\":10,\"solidity\":0.2},\"type\":\"scatter\"}],\"scatterternary\":[{\"marker\":{\"colorbar\":{\"outlinewidth\":0,\"ticks\":\"\"}},\"type\":\"scatterternary\"}],\"surface\":[{\"colorbar\":{\"outlinewidth\":0,\"ticks\":\"\"},\"colorscale\":[[0.0,\"#0d0887\"],[0.1111111111111111,\"#46039f\"],[0.2222222222222222,\"#7201a8\"],[0.3333333333333333,\"#9c179e\"],[0.4444444444444444,\"#bd3786\"],[0.5555555555555556,\"#d8576b\"],[0.6666666666666666,\"#ed7953\"],[0.7777777777777778,\"#fb9f3a\"],[0.8888888888888888,\"#fdca26\"],[1.0,\"#f0f921\"]],\"type\":\"surface\"}],\"table\":[{\"cells\":{\"fill\":{\"color\":\"#EBF0F8\"},\"line\":{\"color\":\"white\"}},\"header\":{\"fill\":{\"color\":\"#C8D4E3\"},\"line\":{\"color\":\"white\"}},\"type\":\"table\"}]},\"layout\":{\"annotationdefaults\":{\"arrowcolor\":\"#2a3f5f\",\"arrowhead\":0,\"arrowwidth\":1},\"autotypenumbers\":\"strict\",\"coloraxis\":{\"colorbar\":{\"outlinewidth\":0,\"ticks\":\"\"}},\"colorscale\":{\"diverging\":[[0,\"#8e0152\"],[0.1,\"#c51b7d\"],[0.2,\"#de77ae\"],[0.3,\"#f1b6da\"],[0.4,\"#fde0ef\"],[0.5,\"#f7f7f7\"],[0.6,\"#e6f5d0\"],[0.7,\"#b8e186\"],[0.8,\"#7fbc41\"],[0.9,\"#4d9221\"],[1,\"#276419\"]],\"sequential\":[[0.0,\"#0d0887\"],[0.1111111111111111,\"#46039f\"],[0.2222222222222222,\"#7201a8\"],[0.3333333333333333,\"#9c179e\"],[0.4444444444444444,\"#bd3786\"],[0.5555555555555556,\"#d8576b\"],[0.6666666666666666,\"#ed7953\"],[0.7777777777777778,\"#fb9f3a\"],[0.8888888888888888,\"#fdca26\"],[1.0,\"#f0f921\"]],\"sequentialminus\":[[0.0,\"#0d0887\"],[0.1111111111111111,\"#46039f\"],[0.2222222222222222,\"#7201a8\"],[0.3333333333333333,\"#9c179e\"],[0.4444444444444444,\"#bd3786\"],[0.5555555555555556,\"#d8576b\"],[0.6666666666666666,\"#ed7953\"],[0.7777777777777778,\"#fb9f3a\"],[0.8888888888888888,\"#fdca26\"],[1.0,\"#f0f921\"]]},\"colorway\":[\"#636efa\",\"#EF553B\",\"#00cc96\",\"#ab63fa\",\"#FFA15A\",\"#19d3f3\",\"#FF6692\",\"#B6E880\",\"#FF97FF\",\"#FECB52\"],\"font\":{\"color\":\"#2a3f5f\"},\"geo\":{\"bgcolor\":\"white\",\"lakecolor\":\"white\",\"landcolor\":\"white\",\"showlakes\":true,\"showland\":true,\"subunitcolor\":\"#C8D4E3\"},\"hoverlabel\":{\"align\":\"left\"},\"hovermode\":\"closest\",\"mapbox\":{\"style\":\"light\"},\"paper_bgcolor\":\"white\",\"plot_bgcolor\":\"white\",\"polar\":{\"angularaxis\":{\"gridcolor\":\"#EBF0F8\",\"linecolor\":\"#EBF0F8\",\"ticks\":\"\"},\"bgcolor\":\"white\",\"radialaxis\":{\"gridcolor\":\"#EBF0F8\",\"linecolor\":\"#EBF0F8\",\"ticks\":\"\"}},\"scene\":{\"xaxis\":{\"backgroundcolor\":\"white\",\"gridcolor\":\"#DFE8F3\",\"gridwidth\":2,\"linecolor\":\"#EBF0F8\",\"showbackground\":true,\"ticks\":\"\",\"zerolinecolor\":\"#EBF0F8\"},\"yaxis\":{\"backgroundcolor\":\"white\",\"gridcolor\":\"#DFE8F3\",\"gridwidth\":2,\"linecolor\":\"#EBF0F8\",\"showbackground\":true,\"ticks\":\"\",\"zerolinecolor\":\"#EBF0F8\"},\"zaxis\":{\"backgroundcolor\":\"white\",\"gridcolor\":\"#DFE8F3\",\"gridwidth\":2,\"linecolor\":\"#EBF0F8\",\"showbackground\":true,\"ticks\":\"\",\"zerolinecolor\":\"#EBF0F8\"}},\"shapedefaults\":{\"line\":{\"color\":\"#2a3f5f\"}},\"ternary\":{\"aaxis\":{\"gridcolor\":\"#DFE8F3\",\"linecolor\":\"#A2B1C6\",\"ticks\":\"\"},\"baxis\":{\"gridcolor\":\"#DFE8F3\",\"linecolor\":\"#A2B1C6\",\"ticks\":\"\"},\"bgcolor\":\"white\",\"caxis\":{\"gridcolor\":\"#DFE8F3\",\"linecolor\":\"#A2B1C6\",\"ticks\":\"\"}},\"title\":{\"x\":0.05},\"xaxis\":{\"automargin\":true,\"gridcolor\":\"#EBF0F8\",\"linecolor\":\"#EBF0F8\",\"ticks\":\"\",\"title\":{\"standoff\":15},\"zerolinecolor\":\"#EBF0F8\",\"zerolinewidth\":2},\"yaxis\":{\"automargin\":true,\"gridcolor\":\"#EBF0F8\",\"linecolor\":\"#EBF0F8\",\"ticks\":\"\",\"title\":{\"standoff\":15},\"zerolinecolor\":\"#EBF0F8\",\"zerolinewidth\":2}}},\"xaxis\":{\"anchor\":\"y\",\"domain\":[0.0,1.0],\"title\":{\"text\":\"Age\"}},\"yaxis\":{\"anchor\":\"x\",\"domain\":[0.0,1.0],\"title\":{\"text\":\"Fare\"},\"type\":\"log\"},\"legend\":{\"tracegroupgap\":0},\"margin\":{\"t\":60}},                        {\"responsive\": true}                    ).then(function(){\n",
       "                            \n",
       "var gd = document.getElementById('5f1f6c6c-d91d-4ce0-b6b9-2604a003f50a');\n",
       "var x = new MutationObserver(function (mutations, observer) {{\n",
       "        var display = window.getComputedStyle(gd).display;\n",
       "        if (!display || display === 'none') {{\n",
       "            console.log([gd, 'removed!']);\n",
       "            Plotly.purge(gd);\n",
       "            observer.disconnect();\n",
       "        }}\n",
       "}});\n",
       "\n",
       "// Listen for the removal of the full notebook cells\n",
       "var notebookContainer = gd.closest('#notebook-container');\n",
       "if (notebookContainer) {{\n",
       "    x.observe(notebookContainer, {childList: true});\n",
       "}}\n",
       "\n",
       "// Listen for the clearing of the current output cell\n",
       "var outputEl = gd.closest('.output');\n",
       "if (outputEl) {{\n",
       "    x.observe(outputEl, {childList: true});\n",
       "}}\n",
       "\n",
       "                        })                };                });            </script>        </div>"
      ]
     },
     "metadata": {},
     "output_type": "display_data"
    }
   ],
   "source": [
    "fig = px.scatter(data_frame=df,\n",
    "                 x='Age',\n",
    "                 y='Fare',\n",
    "                 hover_data=['Name', 'Sex'],\n",
    "                 template='plotly_white',\n",
    "                 color_discrete_sequence=['#3182bd'],\n",
    "                 log_y=True)\n",
    "fig.show()"
   ]
  },
  {
   "cell_type": "markdown",
   "id": "a3a70154-a985-4850-b54e-0f5495f33de4",
   "metadata": {},
   "source": [
    "## Bar Charts\n",
    "\n",
    "We can create some [interesting bar chart variations](https://plot.ly/python/bar-charts/):"
   ]
  },
  {
   "cell_type": "code",
   "execution_count": 25,
   "id": "355a8a54-6e9d-4ffc-9960-251bb7d04938",
   "metadata": {
    "tags": []
   },
   "outputs": [
    {
     "data": {
      "application/vnd.plotly.v1+json": {
       "config": {
        "plotlyServerURL": "https://plot.ly"
       },
       "data": [
        {
         "alignmentgroup": "True",
         "customdata": [
          [
           "Braund, Mr. Owen Harris"
          ],
          [
           "Cumings, Mrs. John Bradley (Florence Briggs Thayer)"
          ],
          [
           "Heikkinen, Miss. Laina"
          ],
          [
           "Futrelle, Mrs. Jacques Heath (Lily May Peel)"
          ],
          [
           "Allen, Mr. William Henry"
          ],
          [
           "Moran, Mr. James"
          ],
          [
           "McCarthy, Mr. Timothy J"
          ],
          [
           "Palsson, Master. Gosta Leonard"
          ],
          [
           "Johnson, Mrs. Oscar W (Elisabeth Vilhelmina Berg)"
          ],
          [
           "Nasser, Mrs. Nicholas (Adele Achem)"
          ],
          [
           "Sandstrom, Miss. Marguerite Rut"
          ],
          [
           "Bonnell, Miss. Elizabeth"
          ],
          [
           "Saundercock, Mr. William Henry"
          ],
          [
           "Andersson, Mr. Anders Johan"
          ],
          [
           "Vestrom, Miss. Hulda Amanda Adolfina"
          ],
          [
           "Hewlett, Mrs. (Mary D Kingcome) "
          ],
          [
           "Rice, Master. Eugene"
          ],
          [
           "Williams, Mr. Charles Eugene"
          ],
          [
           "Vander Planke, Mrs. Julius (Emelia Maria Vandemoortele)"
          ],
          [
           "Masselmani, Mrs. Fatima"
          ],
          [
           "Fynney, Mr. Joseph J"
          ],
          [
           "Beesley, Mr. Lawrence"
          ],
          [
           "McGowan, Miss. Anna \"Annie\""
          ],
          [
           "Sloper, Mr. William Thompson"
          ],
          [
           "Palsson, Miss. Torborg Danira"
          ],
          [
           "Asplund, Mrs. Carl Oscar (Selma Augusta Emilia Johansson)"
          ],
          [
           "Emir, Mr. Farred Chehab"
          ],
          [
           "Fortune, Mr. Charles Alexander"
          ],
          [
           "O'Dwyer, Miss. Ellen \"Nellie\""
          ],
          [
           "Todoroff, Mr. Lalio"
          ],
          [
           "Uruchurtu, Don. Manuel E"
          ],
          [
           "Spencer, Mrs. William Augustus (Marie Eugenie)"
          ],
          [
           "Glynn, Miss. Mary Agatha"
          ],
          [
           "Wheadon, Mr. Edward H"
          ],
          [
           "Meyer, Mr. Edgar Joseph"
          ],
          [
           "Holverson, Mr. Alexander Oskar"
          ],
          [
           "Mamee, Mr. Hanna"
          ],
          [
           "Cann, Mr. Ernest Charles"
          ],
          [
           "Vander Planke, Miss. Augusta Maria"
          ],
          [
           "Nicola-Yarred, Miss. Jamila"
          ],
          [
           "Ahlin, Mrs. Johan (Johanna Persdotter Larsson)"
          ],
          [
           "Turpin, Mrs. William John Robert (Dorothy Ann Wonnacott)"
          ],
          [
           "Kraeff, Mr. Theodor"
          ],
          [
           "Laroche, Miss. Simonne Marie Anne Andree"
          ],
          [
           "Devaney, Miss. Margaret Delia"
          ],
          [
           "Rogers, Mr. William John"
          ],
          [
           "Lennon, Mr. Denis"
          ],
          [
           "O'Driscoll, Miss. Bridget"
          ],
          [
           "Samaan, Mr. Youssef"
          ],
          [
           "Arnold-Franchi, Mrs. Josef (Josefine Franchi)"
          ],
          [
           "Panula, Master. Juha Niilo"
          ],
          [
           "Nosworthy, Mr. Richard Cater"
          ],
          [
           "Harper, Mrs. Henry Sleeper (Myna Haxtun)"
          ],
          [
           "Faunthorpe, Mrs. Lizzie (Elizabeth Anne Wilkinson)"
          ],
          [
           "Ostby, Mr. Engelhart Cornelius"
          ],
          [
           "Woolner, Mr. Hugh"
          ],
          [
           "Rugg, Miss. Emily"
          ],
          [
           "Novel, Mr. Mansouer"
          ],
          [
           "West, Miss. Constance Mirium"
          ],
          [
           "Goodwin, Master. William Frederick"
          ],
          [
           "Sirayanian, Mr. Orsen"
          ],
          [
           "Icard, Miss. Amelie"
          ],
          [
           "Harris, Mr. Henry Birkhardt"
          ],
          [
           "Skoog, Master. Harald"
          ],
          [
           "Stewart, Mr. Albert A"
          ],
          [
           "Moubarek, Master. Gerios"
          ],
          [
           "Nye, Mrs. (Elizabeth Ramell)"
          ],
          [
           "Crease, Mr. Ernest James"
          ],
          [
           "Andersson, Miss. Erna Alexandra"
          ],
          [
           "Kink, Mr. Vincenz"
          ],
          [
           "Jenkin, Mr. Stephen Curnow"
          ],
          [
           "Goodwin, Miss. Lillian Amy"
          ],
          [
           "Hood, Mr. Ambrose Jr"
          ],
          [
           "Chronopoulos, Mr. Apostolos"
          ],
          [
           "Bing, Mr. Lee"
          ],
          [
           "Moen, Mr. Sigurd Hansen"
          ],
          [
           "Staneff, Mr. Ivan"
          ],
          [
           "Moutal, Mr. Rahamin Haim"
          ],
          [
           "Caldwell, Master. Alden Gates"
          ],
          [
           "Dowdell, Miss. Elizabeth"
          ],
          [
           "Waelens, Mr. Achille"
          ],
          [
           "Sheerlinck, Mr. Jan Baptist"
          ],
          [
           "McDermott, Miss. Brigdet Delia"
          ],
          [
           "Carrau, Mr. Francisco M"
          ],
          [
           "Ilett, Miss. Bertha"
          ],
          [
           "Backstrom, Mrs. Karl Alfred (Maria Mathilda Gustafsson)"
          ],
          [
           "Ford, Mr. William Neal"
          ],
          [
           "Slocovski, Mr. Selman Francis"
          ],
          [
           "Fortune, Miss. Mabel Helen"
          ],
          [
           "Celotti, Mr. Francesco"
          ],
          [
           "Christmann, Mr. Emil"
          ],
          [
           "Andreasson, Mr. Paul Edvin"
          ],
          [
           "Chaffee, Mr. Herbert Fuller"
          ],
          [
           "Dean, Mr. Bertram Frank"
          ],
          [
           "Coxon, Mr. Daniel"
          ],
          [
           "Shorney, Mr. Charles Joseph"
          ],
          [
           "Goldschmidt, Mr. George B"
          ],
          [
           "Greenfield, Mr. William Bertram"
          ],
          [
           "Doling, Mrs. John T (Ada Julia Bone)"
          ],
          [
           "Kantor, Mr. Sinai"
          ],
          [
           "Petranec, Miss. Matilda"
          ],
          [
           "Petroff, Mr. Pastcho (\"Pentcho\")"
          ],
          [
           "White, Mr. Richard Frasar"
          ],
          [
           "Johansson, Mr. Gustaf Joel"
          ],
          [
           "Gustafsson, Mr. Anders Vilhelm"
          ],
          [
           "Mionoff, Mr. Stoytcho"
          ],
          [
           "Salkjelsvik, Miss. Anna Kristine"
          ],
          [
           "Moss, Mr. Albert Johan"
          ],
          [
           "Rekic, Mr. Tido"
          ],
          [
           "Moran, Miss. Bertha"
          ],
          [
           "Porter, Mr. Walter Chamberlain"
          ],
          [
           "Zabour, Miss. Hileni"
          ],
          [
           "Barton, Mr. David John"
          ],
          [
           "Jussila, Miss. Katriina"
          ],
          [
           "Attalah, Miss. Malake"
          ],
          [
           "Pekoniemi, Mr. Edvard"
          ],
          [
           "Connors, Mr. Patrick"
          ],
          [
           "Turpin, Mr. William John Robert"
          ],
          [
           "Baxter, Mr. Quigg Edmond"
          ],
          [
           "Andersson, Miss. Ellis Anna Maria"
          ],
          [
           "Hickman, Mr. Stanley George"
          ],
          [
           "Moore, Mr. Leonard Charles"
          ],
          [
           "Nasser, Mr. Nicholas"
          ],
          [
           "Webber, Miss. Susan"
          ],
          [
           "White, Mr. Percival Wayland"
          ],
          [
           "Nicola-Yarred, Master. Elias"
          ],
          [
           "McMahon, Mr. Martin"
          ],
          [
           "Madsen, Mr. Fridtjof Arne"
          ],
          [
           "Peter, Miss. Anna"
          ],
          [
           "Ekstrom, Mr. Johan"
          ],
          [
           "Drazenoic, Mr. Jozef"
          ],
          [
           "Coelho, Mr. Domingos Fernandeo"
          ],
          [
           "Robins, Mrs. Alexander A (Grace Charity Laury)"
          ],
          [
           "Weisz, Mrs. Leopold (Mathilde Francoise Pede)"
          ],
          [
           "Sobey, Mr. Samuel James Hayden"
          ],
          [
           "Richard, Mr. Emile"
          ],
          [
           "Newsom, Miss. Helen Monypeny"
          ],
          [
           "Futrelle, Mr. Jacques Heath"
          ],
          [
           "Osen, Mr. Olaf Elon"
          ],
          [
           "Giglio, Mr. Victor"
          ],
          [
           "Boulos, Mrs. Joseph (Sultana)"
          ],
          [
           "Nysten, Miss. Anna Sofia"
          ],
          [
           "Hakkarainen, Mrs. Pekka Pietari (Elin Matilda Dolck)"
          ],
          [
           "Burke, Mr. Jeremiah"
          ],
          [
           "Andrew, Mr. Edgardo Samuel"
          ],
          [
           "Nicholls, Mr. Joseph Charles"
          ],
          [
           "Andersson, Mr. August Edvard (\"Wennerstrom\")"
          ],
          [
           "Ford, Miss. Robina Maggie \"Ruby\""
          ],
          [
           "Navratil, Mr. Michel (\"Louis M Hoffman\")"
          ],
          [
           "Byles, Rev. Thomas Roussel Davids"
          ],
          [
           "Bateman, Rev. Robert James"
          ],
          [
           "Pears, Mrs. Thomas (Edith Wearne)"
          ],
          [
           "Meo, Mr. Alfonzo"
          ],
          [
           "van Billiard, Mr. Austin Blyler"
          ],
          [
           "Olsen, Mr. Ole Martin"
          ],
          [
           "Williams, Mr. Charles Duane"
          ],
          [
           "Gilnagh, Miss. Katherine \"Katie\""
          ],
          [
           "Corn, Mr. Harry"
          ],
          [
           "Smiljanic, Mr. Mile"
          ],
          [
           "Sage, Master. Thomas Henry"
          ],
          [
           "Cribb, Mr. John Hatfield"
          ],
          [
           "Watt, Mrs. James (Elizabeth \"Bessie\" Inglis Milne)"
          ],
          [
           "Bengtsson, Mr. John Viktor"
          ],
          [
           "Calic, Mr. Jovo"
          ],
          [
           "Panula, Master. Eino Viljami"
          ],
          [
           "Goldsmith, Master. Frank John William \"Frankie\""
          ],
          [
           "Chibnall, Mrs. (Edith Martha Bowerman)"
          ],
          [
           "Skoog, Mrs. William (Anna Bernhardina Karlsson)"
          ],
          [
           "Baumann, Mr. John D"
          ],
          [
           "Ling, Mr. Lee"
          ],
          [
           "Van der hoef, Mr. Wyckoff"
          ],
          [
           "Rice, Master. Arthur"
          ],
          [
           "Johnson, Miss. Eleanor Ileen"
          ],
          [
           "Sivola, Mr. Antti Wilhelm"
          ],
          [
           "Smith, Mr. James Clinch"
          ],
          [
           "Klasen, Mr. Klas Albin"
          ],
          [
           "Lefebre, Master. Henry Forbes"
          ],
          [
           "Isham, Miss. Ann Elizabeth"
          ],
          [
           "Hale, Mr. Reginald"
          ],
          [
           "Leonard, Mr. Lionel"
          ],
          [
           "Sage, Miss. Constance Gladys"
          ],
          [
           "Pernot, Mr. Rene"
          ],
          [
           "Asplund, Master. Clarence Gustaf Hugo"
          ],
          [
           "Becker, Master. Richard F"
          ],
          [
           "Kink-Heilmann, Miss. Luise Gretchen"
          ],
          [
           "Rood, Mr. Hugh Roscoe"
          ],
          [
           "O'Brien, Mrs. Thomas (Johanna \"Hannah\" Godfrey)"
          ],
          [
           "Romaine, Mr. Charles Hallace (\"Mr C Rolmane\")"
          ],
          [
           "Bourke, Mr. John"
          ],
          [
           "Turcin, Mr. Stjepan"
          ],
          [
           "Pinsky, Mrs. (Rosa)"
          ],
          [
           "Carbines, Mr. William"
          ],
          [
           "Andersen-Jensen, Miss. Carla Christine Nielsine"
          ],
          [
           "Navratil, Master. Michel M"
          ],
          [
           "Brown, Mrs. James Joseph (Margaret Tobin)"
          ],
          [
           "Lurette, Miss. Elise"
          ],
          [
           "Mernagh, Mr. Robert"
          ],
          [
           "Olsen, Mr. Karl Siegwart Andreas"
          ],
          [
           "Madigan, Miss. Margaret \"Maggie\""
          ],
          [
           "Yrois, Miss. Henriette (\"Mrs Harbeck\")"
          ],
          [
           "Vande Walle, Mr. Nestor Cyriel"
          ],
          [
           "Sage, Mr. Frederick"
          ],
          [
           "Johanson, Mr. Jakob Alfred"
          ],
          [
           "Youseff, Mr. Gerious"
          ],
          [
           "Cohen, Mr. Gurshon \"Gus\""
          ],
          [
           "Strom, Miss. Telma Matilda"
          ],
          [
           "Backstrom, Mr. Karl Alfred"
          ],
          [
           "Albimona, Mr. Nassef Cassem"
          ],
          [
           "Carr, Miss. Helen \"Ellen\""
          ],
          [
           "Blank, Mr. Henry"
          ],
          [
           "Ali, Mr. Ahmed"
          ],
          [
           "Cameron, Miss. Clear Annie"
          ],
          [
           "Perkin, Mr. John Henry"
          ],
          [
           "Givard, Mr. Hans Kristensen"
          ],
          [
           "Kiernan, Mr. Philip"
          ],
          [
           "Newell, Miss. Madeleine"
          ],
          [
           "Honkanen, Miss. Eliina"
          ],
          [
           "Jacobsohn, Mr. Sidney Samuel"
          ],
          [
           "Bazzani, Miss. Albina"
          ],
          [
           "Harris, Mr. Walter"
          ],
          [
           "Sunderland, Mr. Victor Francis"
          ],
          [
           "Bracken, Mr. James H"
          ],
          [
           "Green, Mr. George Henry"
          ],
          [
           "Nenkoff, Mr. Christo"
          ],
          [
           "Hoyt, Mr. Frederick Maxfield"
          ],
          [
           "Berglund, Mr. Karl Ivar Sven"
          ],
          [
           "Mellors, Mr. William John"
          ],
          [
           "Lovell, Mr. John Hall (\"Henry\")"
          ],
          [
           "Fahlstrom, Mr. Arne Jonas"
          ],
          [
           "Lefebre, Miss. Mathilde"
          ],
          [
           "Harris, Mrs. Henry Birkhardt (Irene Wallach)"
          ],
          [
           "Larsson, Mr. Bengt Edvin"
          ],
          [
           "Sjostedt, Mr. Ernst Adolf"
          ],
          [
           "Asplund, Miss. Lillian Gertrud"
          ],
          [
           "Leyson, Mr. Robert William Norman"
          ],
          [
           "Harknett, Miss. Alice Phoebe"
          ],
          [
           "Hold, Mr. Stephen"
          ],
          [
           "Collyer, Miss. Marjorie \"Lottie\""
          ],
          [
           "Pengelly, Mr. Frederick William"
          ],
          [
           "Hunt, Mr. George Henry"
          ],
          [
           "Zabour, Miss. Thamine"
          ],
          [
           "Murphy, Miss. Katherine \"Kate\""
          ],
          [
           "Coleridge, Mr. Reginald Charles"
          ],
          [
           "Maenpaa, Mr. Matti Alexanteri"
          ],
          [
           "Attalah, Mr. Sleiman"
          ],
          [
           "Minahan, Dr. William Edward"
          ],
          [
           "Lindahl, Miss. Agda Thorilda Viktoria"
          ],
          [
           "Hamalainen, Mrs. William (Anna)"
          ],
          [
           "Beckwith, Mr. Richard Leonard"
          ],
          [
           "Carter, Rev. Ernest Courtenay"
          ],
          [
           "Reed, Mr. James George"
          ],
          [
           "Strom, Mrs. Wilhelm (Elna Matilda Persson)"
          ],
          [
           "Stead, Mr. William Thomas"
          ],
          [
           "Lobb, Mr. William Arthur"
          ],
          [
           "Rosblom, Mrs. Viktor (Helena Wilhelmina)"
          ],
          [
           "Touma, Mrs. Darwis (Hanne Youssef Razi)"
          ],
          [
           "Thorne, Mrs. Gertrude Maybelle"
          ],
          [
           "Cherry, Miss. Gladys"
          ],
          [
           "Ward, Miss. Anna"
          ],
          [
           "Parrish, Mrs. (Lutie Davis)"
          ],
          [
           "Smith, Mr. Thomas"
          ],
          [
           "Asplund, Master. Edvin Rojj Felix"
          ],
          [
           "Taussig, Mr. Emil"
          ],
          [
           "Harrison, Mr. William"
          ],
          [
           "Henry, Miss. Delia"
          ],
          [
           "Reeves, Mr. David"
          ],
          [
           "Panula, Mr. Ernesti Arvid"
          ],
          [
           "Persson, Mr. Ernst Ulrik"
          ],
          [
           "Graham, Mrs. William Thompson (Edith Junkins)"
          ],
          [
           "Bissette, Miss. Amelia"
          ],
          [
           "Cairns, Mr. Alexander"
          ],
          [
           "Tornquist, Mr. William Henry"
          ],
          [
           "Mellinger, Mrs. (Elizabeth Anne Maidment)"
          ],
          [
           "Natsch, Mr. Charles H"
          ],
          [
           "Healy, Miss. Hanora \"Nora\""
          ],
          [
           "Andrews, Miss. Kornelia Theodosia"
          ],
          [
           "Lindblom, Miss. Augusta Charlotta"
          ],
          [
           "Parkes, Mr. Francis \"Frank\""
          ],
          [
           "Rice, Master. Eric"
          ],
          [
           "Abbott, Mrs. Stanton (Rosa Hunt)"
          ],
          [
           "Duane, Mr. Frank"
          ],
          [
           "Olsson, Mr. Nils Johan Goransson"
          ],
          [
           "de Pelsmaeker, Mr. Alfons"
          ],
          [
           "Dorking, Mr. Edward Arthur"
          ],
          [
           "Smith, Mr. Richard William"
          ],
          [
           "Stankovic, Mr. Ivan"
          ],
          [
           "de Mulder, Mr. Theodore"
          ],
          [
           "Naidenoff, Mr. Penko"
          ],
          [
           "Hosono, Mr. Masabumi"
          ],
          [
           "Connolly, Miss. Kate"
          ],
          [
           "Barber, Miss. Ellen \"Nellie\""
          ],
          [
           "Bishop, Mrs. Dickinson H (Helen Walton)"
          ],
          [
           "Levy, Mr. Rene Jacques"
          ],
          [
           "Haas, Miss. Aloisia"
          ],
          [
           "Mineff, Mr. Ivan"
          ],
          [
           "Lewy, Mr. Ervin G"
          ],
          [
           "Hanna, Mr. Mansour"
          ],
          [
           "Allison, Miss. Helen Loraine"
          ],
          [
           "Saalfeld, Mr. Adolphe"
          ],
          [
           "Baxter, Mrs. James (Helene DeLaudeniere Chaput)"
          ],
          [
           "Kelly, Miss. Anna Katherine \"Annie Kate\""
          ],
          [
           "McCoy, Mr. Bernard"
          ],
          [
           "Johnson, Mr. William Cahoone Jr"
          ],
          [
           "Keane, Miss. Nora A"
          ],
          [
           "Williams, Mr. Howard Hugh \"Harry\""
          ],
          [
           "Allison, Master. Hudson Trevor"
          ],
          [
           "Fleming, Miss. Margaret"
          ],
          [
           "Penasco y Castellana, Mrs. Victor de Satode (Maria Josefa Perez de Soto y Vallejo)"
          ],
          [
           "Abelson, Mr. Samuel"
          ],
          [
           "Francatelli, Miss. Laura Mabel"
          ],
          [
           "Hays, Miss. Margaret Bechstein"
          ],
          [
           "Ryerson, Miss. Emily Borie"
          ],
          [
           "Lahtinen, Mrs. William (Anna Sylfven)"
          ],
          [
           "Hendekovic, Mr. Ignjac"
          ],
          [
           "Hart, Mr. Benjamin"
          ],
          [
           "Nilsson, Miss. Helmina Josefina"
          ],
          [
           "Kantor, Mrs. Sinai (Miriam Sternin)"
          ],
          [
           "Moraweck, Dr. Ernest"
          ],
          [
           "Wick, Miss. Mary Natalie"
          ],
          [
           "Spedden, Mrs. Frederic Oakley (Margaretta Corning Stone)"
          ],
          [
           "Dennis, Mr. Samuel"
          ],
          [
           "Danoff, Mr. Yoto"
          ],
          [
           "Slayter, Miss. Hilda Mary"
          ],
          [
           "Caldwell, Mrs. Albert Francis (Sylvia Mae Harbaugh)"
          ],
          [
           "Sage, Mr. George John Jr"
          ],
          [
           "Young, Miss. Marie Grice"
          ],
          [
           "Nysveen, Mr. Johan Hansen"
          ],
          [
           "Ball, Mrs. (Ada E Hall)"
          ],
          [
           "Goldsmith, Mrs. Frank John (Emily Alice Brown)"
          ],
          [
           "Hippach, Miss. Jean Gertrude"
          ],
          [
           "McCoy, Miss. Agnes"
          ],
          [
           "Partner, Mr. Austen"
          ],
          [
           "Graham, Mr. George Edward"
          ],
          [
           "Vander Planke, Mr. Leo Edmondus"
          ],
          [
           "Frauenthal, Mrs. Henry William (Clara Heinsheimer)"
          ],
          [
           "Denkoff, Mr. Mitto"
          ],
          [
           "Pears, Mr. Thomas Clinton"
          ],
          [
           "Burns, Miss. Elizabeth Margaret"
          ],
          [
           "Dahl, Mr. Karl Edwart"
          ],
          [
           "Blackwell, Mr. Stephen Weart"
          ],
          [
           "Navratil, Master. Edmond Roger"
          ],
          [
           "Fortune, Miss. Alice Elizabeth"
          ],
          [
           "Collander, Mr. Erik Gustaf"
          ],
          [
           "Sedgwick, Mr. Charles Frederick Waddington"
          ],
          [
           "Fox, Mr. Stanley Hubert"
          ],
          [
           "Brown, Miss. Amelia \"Mildred\""
          ],
          [
           "Smith, Miss. Marion Elsie"
          ],
          [
           "Davison, Mrs. Thomas Henry (Mary E Finck)"
          ],
          [
           "Coutts, Master. William Loch \"William\""
          ],
          [
           "Dimic, Mr. Jovan"
          ],
          [
           "Odahl, Mr. Nils Martin"
          ],
          [
           "Williams-Lambert, Mr. Fletcher Fellows"
          ],
          [
           "Elias, Mr. Tannous"
          ],
          [
           "Arnold-Franchi, Mr. Josef"
          ],
          [
           "Yousif, Mr. Wazli"
          ],
          [
           "Vanden Steen, Mr. Leo Peter"
          ],
          [
           "Bowerman, Miss. Elsie Edith"
          ],
          [
           "Funk, Miss. Annie Clemmer"
          ],
          [
           "McGovern, Miss. Mary"
          ],
          [
           "Mockler, Miss. Helen Mary \"Ellie\""
          ],
          [
           "Skoog, Mr. Wilhelm"
          ],
          [
           "del Carlo, Mr. Sebastiano"
          ],
          [
           "Barbara, Mrs. (Catherine David)"
          ],
          [
           "Asim, Mr. Adola"
          ],
          [
           "O'Brien, Mr. Thomas"
          ],
          [
           "Adahl, Mr. Mauritz Nils Martin"
          ],
          [
           "Warren, Mrs. Frank Manley (Anna Sophia Atkinson)"
          ],
          [
           "Moussa, Mrs. (Mantoura Boulos)"
          ],
          [
           "Jermyn, Miss. Annie"
          ],
          [
           "Aubart, Mme. Leontine Pauline"
          ],
          [
           "Harder, Mr. George Achilles"
          ],
          [
           "Wiklund, Mr. Jakob Alfred"
          ],
          [
           "Beavan, Mr. William Thomas"
          ],
          [
           "Ringhini, Mr. Sante"
          ],
          [
           "Palsson, Miss. Stina Viola"
          ],
          [
           "Meyer, Mrs. Edgar Joseph (Leila Saks)"
          ],
          [
           "Landergren, Miss. Aurora Adelia"
          ],
          [
           "Widener, Mr. Harry Elkins"
          ],
          [
           "Betros, Mr. Tannous"
          ],
          [
           "Gustafsson, Mr. Karl Gideon"
          ],
          [
           "Bidois, Miss. Rosalie"
          ],
          [
           "Nakid, Miss. Maria (\"Mary\")"
          ],
          [
           "Tikkanen, Mr. Juho"
          ],
          [
           "Holverson, Mrs. Alexander Oskar (Mary Aline Towner)"
          ],
          [
           "Plotcharsky, Mr. Vasil"
          ],
          [
           "Davies, Mr. Charles Henry"
          ],
          [
           "Goodwin, Master. Sidney Leonard"
          ],
          [
           "Buss, Miss. Kate"
          ],
          [
           "Sadlier, Mr. Matthew"
          ],
          [
           "Lehmann, Miss. Bertha"
          ],
          [
           "Carter, Mr. William Ernest"
          ],
          [
           "Jansson, Mr. Carl Olof"
          ],
          [
           "Gustafsson, Mr. Johan Birger"
          ],
          [
           "Newell, Miss. Marjorie"
          ],
          [
           "Sandstrom, Mrs. Hjalmar (Agnes Charlotta Bengtsson)"
          ],
          [
           "Johansson, Mr. Erik"
          ],
          [
           "Olsson, Miss. Elina"
          ],
          [
           "McKane, Mr. Peter David"
          ],
          [
           "Pain, Dr. Alfred"
          ],
          [
           "Trout, Mrs. William H (Jessie L)"
          ],
          [
           "Niskanen, Mr. Juha"
          ],
          [
           "Adams, Mr. John"
          ],
          [
           "Jussila, Miss. Mari Aina"
          ],
          [
           "Hakkarainen, Mr. Pekka Pietari"
          ],
          [
           "Oreskovic, Miss. Marija"
          ],
          [
           "Gale, Mr. Shadrach"
          ],
          [
           "Widegren, Mr. Carl/Charles Peter"
          ],
          [
           "Richards, Master. William Rowe"
          ],
          [
           "Birkeland, Mr. Hans Martin Monsen"
          ],
          [
           "Lefebre, Miss. Ida"
          ],
          [
           "Sdycoff, Mr. Todor"
          ],
          [
           "Hart, Mr. Henry"
          ],
          [
           "Minahan, Miss. Daisy E"
          ],
          [
           "Cunningham, Mr. Alfred Fleming"
          ],
          [
           "Sundman, Mr. Johan Julian"
          ],
          [
           "Meek, Mrs. Thomas (Annie Louise Rowley)"
          ],
          [
           "Drew, Mrs. James Vivian (Lulu Thorne Christian)"
          ],
          [
           "Silven, Miss. Lyyli Karoliina"
          ],
          [
           "Matthews, Mr. William John"
          ],
          [
           "Van Impe, Miss. Catharina"
          ],
          [
           "Gheorgheff, Mr. Stanio"
          ],
          [
           "Charters, Mr. David"
          ],
          [
           "Zimmerman, Mr. Leo"
          ],
          [
           "Danbom, Mrs. Ernst Gilbert (Anna Sigrid Maria Brogren)"
          ],
          [
           "Rosblom, Mr. Viktor Richard"
          ],
          [
           "Wiseman, Mr. Phillippe"
          ],
          [
           "Clarke, Mrs. Charles V (Ada Maria Winfield)"
          ],
          [
           "Phillips, Miss. Kate Florence (\"Mrs Kate Louise Phillips Marshall\")"
          ],
          [
           "Flynn, Mr. James"
          ],
          [
           "Pickard, Mr. Berk (Berk Trembisky)"
          ],
          [
           "Bjornstrom-Steffansson, Mr. Mauritz Hakan"
          ],
          [
           "Thorneycroft, Mrs. Percival (Florence Kate White)"
          ],
          [
           "Louch, Mrs. Charles Alexander (Alice Adelaide Slow)"
          ],
          [
           "Kallio, Mr. Nikolai Erland"
          ],
          [
           "Silvey, Mr. William Baird"
          ],
          [
           "Carter, Miss. Lucile Polk"
          ],
          [
           "Ford, Miss. Doolina Margaret \"Daisy\""
          ],
          [
           "Richards, Mrs. Sidney (Emily Hocking)"
          ],
          [
           "Fortune, Mr. Mark"
          ],
          [
           "Kvillner, Mr. Johan Henrik Johannesson"
          ],
          [
           "Hart, Mrs. Benjamin (Esther Ada Bloomfield)"
          ],
          [
           "Hampe, Mr. Leon"
          ],
          [
           "Petterson, Mr. Johan Emil"
          ],
          [
           "Reynaldo, Ms. Encarnacion"
          ],
          [
           "Johannesen-Bratthammer, Mr. Bernt"
          ],
          [
           "Dodge, Master. Washington"
          ],
          [
           "Mellinger, Miss. Madeleine Violet"
          ],
          [
           "Seward, Mr. Frederic Kimber"
          ],
          [
           "Baclini, Miss. Marie Catherine"
          ],
          [
           "Peuchen, Major. Arthur Godfrey"
          ],
          [
           "West, Mr. Edwy Arthur"
          ],
          [
           "Hagland, Mr. Ingvald Olai Olsen"
          ],
          [
           "Foreman, Mr. Benjamin Laventall"
          ],
          [
           "Goldenberg, Mr. Samuel L"
          ],
          [
           "Peduzzi, Mr. Joseph"
          ],
          [
           "Jalsevac, Mr. Ivan"
          ],
          [
           "Millet, Mr. Francis Davis"
          ],
          [
           "Kenyon, Mrs. Frederick R (Marion)"
          ],
          [
           "Toomey, Miss. Ellen"
          ],
          [
           "O'Connor, Mr. Maurice"
          ],
          [
           "Anderson, Mr. Harry"
          ],
          [
           "Morley, Mr. William"
          ],
          [
           "Gee, Mr. Arthur H"
          ],
          [
           "Milling, Mr. Jacob Christian"
          ],
          [
           "Maisner, Mr. Simon"
          ],
          [
           "Goncalves, Mr. Manuel Estanslas"
          ],
          [
           "Campbell, Mr. William"
          ],
          [
           "Smart, Mr. John Montgomery"
          ],
          [
           "Scanlan, Mr. James"
          ],
          [
           "Baclini, Miss. Helene Barbara"
          ],
          [
           "Keefe, Mr. Arthur"
          ],
          [
           "Cacic, Mr. Luka"
          ],
          [
           "West, Mrs. Edwy Arthur (Ada Mary Worth)"
          ],
          [
           "Jerwan, Mrs. Amin S (Marie Marthe Thuillard)"
          ],
          [
           "Strandberg, Miss. Ida Sofia"
          ],
          [
           "Clifford, Mr. George Quincy"
          ],
          [
           "Renouf, Mr. Peter Henry"
          ],
          [
           "Braund, Mr. Lewis Richard"
          ],
          [
           "Karlsson, Mr. Nils August"
          ],
          [
           "Hirvonen, Miss. Hildur E"
          ],
          [
           "Goodwin, Master. Harold Victor"
          ],
          [
           "Frost, Mr. Anthony Wood \"Archie\""
          ],
          [
           "Rouse, Mr. Richard Henry"
          ],
          [
           "Turkula, Mrs. (Hedwig)"
          ],
          [
           "Bishop, Mr. Dickinson H"
          ],
          [
           "Lefebre, Miss. Jeannie"
          ],
          [
           "Hoyt, Mrs. Frederick Maxfield (Jane Anne Forby)"
          ],
          [
           "Kent, Mr. Edward Austin"
          ],
          [
           "Somerton, Mr. Francis William"
          ],
          [
           "Coutts, Master. Eden Leslie \"Neville\""
          ],
          [
           "Hagland, Mr. Konrad Mathias Reiersen"
          ],
          [
           "Windelov, Mr. Einar"
          ],
          [
           "Molson, Mr. Harry Markland"
          ],
          [
           "Artagaveytia, Mr. Ramon"
          ],
          [
           "Stanley, Mr. Edward Roland"
          ],
          [
           "Yousseff, Mr. Gerious"
          ],
          [
           "Eustis, Miss. Elizabeth Mussey"
          ],
          [
           "Shellard, Mr. Frederick William"
          ],
          [
           "Allison, Mrs. Hudson J C (Bessie Waldo Daniels)"
          ],
          [
           "Svensson, Mr. Olof"
          ],
          [
           "Calic, Mr. Petar"
          ],
          [
           "Canavan, Miss. Mary"
          ],
          [
           "O'Sullivan, Miss. Bridget Mary"
          ],
          [
           "Laitinen, Miss. Kristina Sofia"
          ],
          [
           "Maioni, Miss. Roberta"
          ],
          [
           "Penasco y Castellana, Mr. Victor de Satode"
          ],
          [
           "Quick, Mrs. Frederick Charles (Jane Richards)"
          ],
          [
           "Bradley, Mr. George (\"George Arthur Brayton\")"
          ],
          [
           "Olsen, Mr. Henry Margido"
          ],
          [
           "Lang, Mr. Fang"
          ],
          [
           "Daly, Mr. Eugene Patrick"
          ],
          [
           "Webber, Mr. James"
          ],
          [
           "McGough, Mr. James Robert"
          ],
          [
           "Rothschild, Mrs. Martin (Elizabeth L. Barrett)"
          ],
          [
           "Coleff, Mr. Satio"
          ],
          [
           "Walker, Mr. William Anderson"
          ],
          [
           "Lemore, Mrs. (Amelia Milley)"
          ],
          [
           "Ryan, Mr. Patrick"
          ],
          [
           "Angle, Mrs. William A (Florence \"Mary\" Agnes Hughes)"
          ],
          [
           "Pavlovic, Mr. Stefo"
          ],
          [
           "Perreault, Miss. Anne"
          ],
          [
           "Vovk, Mr. Janko"
          ],
          [
           "Lahoud, Mr. Sarkis"
          ],
          [
           "Hippach, Mrs. Louis Albert (Ida Sophia Fischer)"
          ],
          [
           "Kassem, Mr. Fared"
          ],
          [
           "Farrell, Mr. James"
          ],
          [
           "Ridsdale, Miss. Lucy"
          ],
          [
           "Farthing, Mr. John"
          ],
          [
           "Salonen, Mr. Johan Werner"
          ],
          [
           "Hocking, Mr. Richard George"
          ],
          [
           "Quick, Miss. Phyllis May"
          ],
          [
           "Toufik, Mr. Nakli"
          ],
          [
           "Elias, Mr. Joseph Jr"
          ],
          [
           "Peter, Mrs. Catherine (Catherine Rizk)"
          ],
          [
           "Cacic, Miss. Marija"
          ],
          [
           "Hart, Miss. Eva Miriam"
          ],
          [
           "Butt, Major. Archibald Willingham"
          ],
          [
           "LeRoy, Miss. Bertha"
          ],
          [
           "Risien, Mr. Samuel Beard"
          ],
          [
           "Frolicher, Miss. Hedwig Margaritha"
          ],
          [
           "Crosby, Miss. Harriet R"
          ],
          [
           "Andersson, Miss. Ingeborg Constanzia"
          ],
          [
           "Andersson, Miss. Sigrid Elisabeth"
          ],
          [
           "Beane, Mr. Edward"
          ],
          [
           "Douglas, Mr. Walter Donald"
          ],
          [
           "Nicholson, Mr. Arthur Ernest"
          ],
          [
           "Beane, Mrs. Edward (Ethel Clarke)"
          ],
          [
           "Padro y Manent, Mr. Julian"
          ],
          [
           "Goldsmith, Mr. Frank John"
          ],
          [
           "Davies, Master. John Morgan Jr"
          ],
          [
           "Thayer, Mr. John Borland Jr"
          ],
          [
           "Sharp, Mr. Percival James R"
          ],
          [
           "O'Brien, Mr. Timothy"
          ],
          [
           "Leeni, Mr. Fahim (\"Philip Zenni\")"
          ],
          [
           "Ohman, Miss. Velin"
          ],
          [
           "Wright, Mr. George"
          ],
          [
           "Duff Gordon, Lady. (Lucille Christiana Sutherland) (\"Mrs Morgan\")"
          ],
          [
           "Robbins, Mr. Victor"
          ],
          [
           "Taussig, Mrs. Emil (Tillie Mandelbaum)"
          ],
          [
           "de Messemaeker, Mrs. Guillaume Joseph (Emma)"
          ],
          [
           "Morrow, Mr. Thomas Rowan"
          ],
          [
           "Sivic, Mr. Husein"
          ],
          [
           "Norman, Mr. Robert Douglas"
          ],
          [
           "Simmons, Mr. John"
          ],
          [
           "Meanwell, Miss. (Marion Ogden)"
          ],
          [
           "Davies, Mr. Alfred J"
          ],
          [
           "Stoytcheff, Mr. Ilia"
          ],
          [
           "Palsson, Mrs. Nils (Alma Cornelia Berglund)"
          ],
          [
           "Doharr, Mr. Tannous"
          ],
          [
           "Jonsson, Mr. Carl"
          ],
          [
           "Harris, Mr. George"
          ],
          [
           "Appleton, Mrs. Edward Dale (Charlotte Lamson)"
          ],
          [
           "Flynn, Mr. John Irwin (\"Irving\")"
          ],
          [
           "Kelly, Miss. Mary"
          ],
          [
           "Rush, Mr. Alfred George John"
          ],
          [
           "Patchett, Mr. George"
          ],
          [
           "Garside, Miss. Ethel"
          ],
          [
           "Silvey, Mrs. William Baird (Alice Munger)"
          ],
          [
           "Caram, Mrs. Joseph (Maria Elias)"
          ],
          [
           "Jussila, Mr. Eiriik"
          ],
          [
           "Christy, Miss. Julie Rachel"
          ],
          [
           "Thayer, Mrs. John Borland (Marian Longstreth Morris)"
          ],
          [
           "Downton, Mr. William James"
          ],
          [
           "Ross, Mr. John Hugo"
          ],
          [
           "Paulner, Mr. Uscher"
          ],
          [
           "Taussig, Miss. Ruth"
          ],
          [
           "Jarvis, Mr. John Denzil"
          ],
          [
           "Frolicher-Stehli, Mr. Maxmillian"
          ],
          [
           "Gilinski, Mr. Eliezer"
          ],
          [
           "Murdlin, Mr. Joseph"
          ],
          [
           "Rintamaki, Mr. Matti"
          ],
          [
           "Stephenson, Mrs. Walter Bertram (Martha Eustis)"
          ],
          [
           "Elsbury, Mr. William James"
          ],
          [
           "Bourke, Miss. Mary"
          ],
          [
           "Chapman, Mr. John Henry"
          ],
          [
           "Van Impe, Mr. Jean Baptiste"
          ],
          [
           "Leitch, Miss. Jessie Wills"
          ],
          [
           "Johnson, Mr. Alfred"
          ],
          [
           "Boulos, Mr. Hanna"
          ],
          [
           "Duff Gordon, Sir. Cosmo Edmund (\"Mr Morgan\")"
          ],
          [
           "Jacobsohn, Mrs. Sidney Samuel (Amy Frances Christy)"
          ],
          [
           "Slabenoff, Mr. Petco"
          ],
          [
           "Harrington, Mr. Charles H"
          ],
          [
           "Torber, Mr. Ernst William"
          ],
          [
           "Homer, Mr. Harry (\"Mr E Haven\")"
          ],
          [
           "Lindell, Mr. Edvard Bengtsson"
          ],
          [
           "Karaic, Mr. Milan"
          ],
          [
           "Daniel, Mr. Robert Williams"
          ],
          [
           "Laroche, Mrs. Joseph (Juliette Marie Louise Lafargue)"
          ],
          [
           "Shutes, Miss. Elizabeth W"
          ],
          [
           "Andersson, Mrs. Anders Johan (Alfrida Konstantia Brogren)"
          ],
          [
           "Jardin, Mr. Jose Neto"
          ],
          [
           "Murphy, Miss. Margaret Jane"
          ],
          [
           "Horgan, Mr. John"
          ],
          [
           "Brocklebank, Mr. William Alfred"
          ],
          [
           "Herman, Miss. Alice"
          ],
          [
           "Danbom, Mr. Ernst Gilbert"
          ],
          [
           "Lobb, Mrs. William Arthur (Cordelia K Stanlick)"
          ],
          [
           "Becker, Miss. Marion Louise"
          ],
          [
           "Gavey, Mr. Lawrence"
          ],
          [
           "Yasbeck, Mr. Antoni"
          ],
          [
           "Kimball, Mr. Edwin Nelson Jr"
          ],
          [
           "Nakid, Mr. Sahid"
          ],
          [
           "Hansen, Mr. Henry Damsgaard"
          ],
          [
           "Bowen, Mr. David John \"Dai\""
          ],
          [
           "Sutton, Mr. Frederick"
          ],
          [
           "Kirkland, Rev. Charles Leonard"
          ],
          [
           "Longley, Miss. Gretchen Fiske"
          ],
          [
           "Bostandyeff, Mr. Guentcho"
          ],
          [
           "O'Connell, Mr. Patrick D"
          ],
          [
           "Barkworth, Mr. Algernon Henry Wilson"
          ],
          [
           "Lundahl, Mr. Johan Svensson"
          ],
          [
           "Stahelin-Maeglin, Dr. Max"
          ],
          [
           "Parr, Mr. William Henry Marsh"
          ],
          [
           "Skoog, Miss. Mabel"
          ],
          [
           "Davis, Miss. Mary"
          ],
          [
           "Leinonen, Mr. Antti Gustaf"
          ],
          [
           "Collyer, Mr. Harvey"
          ],
          [
           "Panula, Mrs. Juha (Maria Emilia Ojala)"
          ],
          [
           "Thorneycroft, Mr. Percival"
          ],
          [
           "Jensen, Mr. Hans Peder"
          ],
          [
           "Sagesser, Mlle. Emma"
          ],
          [
           "Skoog, Miss. Margit Elizabeth"
          ],
          [
           "Foo, Mr. Choong"
          ],
          [
           "Baclini, Miss. Eugenie"
          ],
          [
           "Harper, Mr. Henry Sleeper"
          ],
          [
           "Cor, Mr. Liudevit"
          ],
          [
           "Simonius-Blumer, Col. Oberst Alfons"
          ],
          [
           "Willey, Mr. Edward"
          ],
          [
           "Stanley, Miss. Amy Zillah Elsie"
          ],
          [
           "Mitkoff, Mr. Mito"
          ],
          [
           "Doling, Miss. Elsie"
          ],
          [
           "Kalvik, Mr. Johannes Halvorsen"
          ],
          [
           "O'Leary, Miss. Hanora \"Norah\""
          ],
          [
           "Hegarty, Miss. Hanora \"Nora\""
          ],
          [
           "Hickman, Mr. Leonard Mark"
          ],
          [
           "Radeff, Mr. Alexander"
          ],
          [
           "Bourke, Mrs. John (Catherine)"
          ],
          [
           "Eitemiller, Mr. George Floyd"
          ],
          [
           "Newell, Mr. Arthur Webster"
          ],
          [
           "Frauenthal, Dr. Henry William"
          ],
          [
           "Badt, Mr. Mohamed"
          ],
          [
           "Colley, Mr. Edward Pomeroy"
          ],
          [
           "Coleff, Mr. Peju"
          ],
          [
           "Lindqvist, Mr. Eino William"
          ],
          [
           "Hickman, Mr. Lewis"
          ],
          [
           "Butler, Mr. Reginald Fenton"
          ],
          [
           "Rommetvedt, Mr. Knud Paust"
          ],
          [
           "Cook, Mr. Jacob"
          ],
          [
           "Taylor, Mrs. Elmer Zebley (Juliet Cummins Wright)"
          ],
          [
           "Brown, Mrs. Thomas William Solomon (Elizabeth Catherine Ford)"
          ],
          [
           "Davidson, Mr. Thornton"
          ],
          [
           "Mitchell, Mr. Henry Michael"
          ],
          [
           "Wilhelms, Mr. Charles"
          ],
          [
           "Watson, Mr. Ennis Hastings"
          ],
          [
           "Edvardsson, Mr. Gustaf Hjalmar"
          ],
          [
           "Sawyer, Mr. Frederick Charles"
          ],
          [
           "Turja, Miss. Anna Sofia"
          ],
          [
           "Goodwin, Mrs. Frederick (Augusta Tyler)"
          ],
          [
           "Cardeza, Mr. Thomas Drake Martinez"
          ],
          [
           "Peters, Miss. Katie"
          ],
          [
           "Hassab, Mr. Hammad"
          ],
          [
           "Olsvigen, Mr. Thor Anderson"
          ],
          [
           "Goodwin, Mr. Charles Edward"
          ],
          [
           "Brown, Mr. Thomas William Solomon"
          ],
          [
           "Laroche, Mr. Joseph Philippe Lemercier"
          ],
          [
           "Panula, Mr. Jaako Arnold"
          ],
          [
           "Dakic, Mr. Branko"
          ],
          [
           "Fischer, Mr. Eberhard Thelander"
          ],
          [
           "Madill, Miss. Georgette Alexandra"
          ],
          [
           "Dick, Mr. Albert Adrian"
          ],
          [
           "Karun, Miss. Manca"
          ],
          [
           "Lam, Mr. Ali"
          ],
          [
           "Saad, Mr. Khalil"
          ],
          [
           "Weir, Col. John"
          ],
          [
           "Chapman, Mr. Charles Henry"
          ],
          [
           "Kelly, Mr. James"
          ],
          [
           "Mullens, Miss. Katherine \"Katie\""
          ],
          [
           "Thayer, Mr. John Borland"
          ],
          [
           "Humblen, Mr. Adolf Mathias Nicolai Olsen"
          ],
          [
           "Astor, Mrs. John Jacob (Madeleine Talmadge Force)"
          ],
          [
           "Silverthorne, Mr. Spencer Victor"
          ],
          [
           "Barbara, Miss. Saiide"
          ],
          [
           "Gallagher, Mr. Martin"
          ],
          [
           "Hansen, Mr. Henrik Juul"
          ],
          [
           "Morley, Mr. Henry Samuel (\"Mr Henry Marshall\")"
          ],
          [
           "Kelly, Mrs. Florence \"Fannie\""
          ],
          [
           "Calderhead, Mr. Edward Pennington"
          ],
          [
           "Cleaver, Miss. Alice"
          ],
          [
           "Moubarek, Master. Halim Gonios (\"William George\")"
          ],
          [
           "Mayne, Mlle. Berthe Antonine (\"Mrs de Villiers\")"
          ],
          [
           "Klaber, Mr. Herman"
          ],
          [
           "Taylor, Mr. Elmer Zebley"
          ],
          [
           "Larsson, Mr. August Viktor"
          ],
          [
           "Greenberg, Mr. Samuel"
          ],
          [
           "Soholt, Mr. Peter Andreas Lauritz Andersen"
          ],
          [
           "Endres, Miss. Caroline Louise"
          ],
          [
           "Troutt, Miss. Edwina Celia \"Winnie\""
          ],
          [
           "McEvoy, Mr. Michael"
          ],
          [
           "Johnson, Mr. Malkolm Joackim"
          ],
          [
           "Harper, Miss. Annie Jessie \"Nina\""
          ],
          [
           "Jensen, Mr. Svend Lauritz"
          ],
          [
           "Gillespie, Mr. William Henry"
          ],
          [
           "Hodges, Mr. Henry Price"
          ],
          [
           "Chambers, Mr. Norman Campbell"
          ],
          [
           "Oreskovic, Mr. Luka"
          ],
          [
           "Renouf, Mrs. Peter Henry (Lillian Jefferys)"
          ],
          [
           "Mannion, Miss. Margareth"
          ],
          [
           "Bryhl, Mr. Kurt Arnold Gottfrid"
          ],
          [
           "Ilmakangas, Miss. Pieta Sofia"
          ],
          [
           "Allen, Miss. Elisabeth Walton"
          ],
          [
           "Hassan, Mr. Houssein G N"
          ],
          [
           "Knight, Mr. Robert J"
          ],
          [
           "Berriman, Mr. William John"
          ],
          [
           "Troupiansky, Mr. Moses Aaron"
          ],
          [
           "Williams, Mr. Leslie"
          ],
          [
           "Ford, Mrs. Edward (Margaret Ann Watson)"
          ],
          [
           "Lesurer, Mr. Gustave J"
          ],
          [
           "Ivanoff, Mr. Kanio"
          ],
          [
           "Nankoff, Mr. Minko"
          ],
          [
           "Hawksford, Mr. Walter James"
          ],
          [
           "Cavendish, Mr. Tyrell William"
          ],
          [
           "Ryerson, Miss. Susan Parker \"Suzette\""
          ],
          [
           "McNamee, Mr. Neal"
          ],
          [
           "Stranden, Mr. Juho"
          ],
          [
           "Crosby, Capt. Edward Gifford"
          ],
          [
           "Abbott, Mr. Rossmore Edward"
          ],
          [
           "Sinkkonen, Miss. Anna"
          ],
          [
           "Marvin, Mr. Daniel Warner"
          ],
          [
           "Connaghton, Mr. Michael"
          ],
          [
           "Wells, Miss. Joan"
          ],
          [
           "Moor, Master. Meier"
          ],
          [
           "Vande Velde, Mr. Johannes Joseph"
          ],
          [
           "Jonkoff, Mr. Lalio"
          ],
          [
           "Herman, Mrs. Samuel (Jane Laver)"
          ],
          [
           "Hamalainen, Master. Viljo"
          ],
          [
           "Carlsson, Mr. August Sigfrid"
          ],
          [
           "Bailey, Mr. Percy Andrew"
          ],
          [
           "Theobald, Mr. Thomas Leonard"
          ],
          [
           "Rothes, the Countess. of (Lucy Noel Martha Dyer-Edwards)"
          ],
          [
           "Garfirth, Mr. John"
          ],
          [
           "Nirva, Mr. Iisakki Antino Aijo"
          ],
          [
           "Barah, Mr. Hanna Assi"
          ],
          [
           "Carter, Mrs. William Ernest (Lucile Polk)"
          ],
          [
           "Eklund, Mr. Hans Linus"
          ],
          [
           "Hogeboom, Mrs. John C (Anna Andrews)"
          ],
          [
           "Brewe, Dr. Arthur Jackson"
          ],
          [
           "Mangan, Miss. Mary"
          ],
          [
           "Moran, Mr. Daniel J"
          ],
          [
           "Gronnestad, Mr. Daniel Danielsen"
          ],
          [
           "Lievens, Mr. Rene Aime"
          ],
          [
           "Jensen, Mr. Niels Peder"
          ],
          [
           "Mack, Mrs. (Mary)"
          ],
          [
           "Elias, Mr. Dibo"
          ],
          [
           "Hocking, Mrs. Elizabeth (Eliza Needs)"
          ],
          [
           "Myhrman, Mr. Pehr Fabian Oliver Malkolm"
          ],
          [
           "Tobin, Mr. Roger"
          ],
          [
           "Emanuel, Miss. Virginia Ethel"
          ],
          [
           "Kilgannon, Mr. Thomas J"
          ],
          [
           "Robert, Mrs. Edward Scott (Elisabeth Walton McMillan)"
          ],
          [
           "Ayoub, Miss. Banoura"
          ],
          [
           "Dick, Mrs. Albert Adrian (Vera Gillespie)"
          ],
          [
           "Long, Mr. Milton Clyde"
          ],
          [
           "Johnston, Mr. Andrew G"
          ],
          [
           "Ali, Mr. William"
          ],
          [
           "Harmer, Mr. Abraham (David Lishin)"
          ],
          [
           "Sjoblom, Miss. Anna Sofia"
          ],
          [
           "Rice, Master. George Hugh"
          ],
          [
           "Dean, Master. Bertram Vere"
          ],
          [
           "Guggenheim, Mr. Benjamin"
          ],
          [
           "Keane, Mr. Andrew \"Andy\""
          ],
          [
           "Gaskell, Mr. Alfred"
          ],
          [
           "Sage, Miss. Stella Anna"
          ],
          [
           "Hoyt, Mr. William Fisher"
          ],
          [
           "Dantcheff, Mr. Ristiu"
          ],
          [
           "Otter, Mr. Richard"
          ],
          [
           "Leader, Dr. Alice (Farnham)"
          ],
          [
           "Osman, Mrs. Mara"
          ],
          [
           "Ibrahim Shawah, Mr. Yousseff"
          ],
          [
           "Van Impe, Mrs. Jean Baptiste (Rosalie Paula Govaert)"
          ],
          [
           "Ponesell, Mr. Martin"
          ],
          [
           "Collyer, Mrs. Harvey (Charlotte Annie Tate)"
          ],
          [
           "Carter, Master. William Thornton II"
          ],
          [
           "Thomas, Master. Assad Alexander"
          ],
          [
           "Hedman, Mr. Oskar Arvid"
          ],
          [
           "Johansson, Mr. Karl Johan"
          ],
          [
           "Andrews, Mr. Thomas Jr"
          ],
          [
           "Pettersson, Miss. Ellen Natalia"
          ],
          [
           "Meyer, Mr. August"
          ],
          [
           "Chambers, Mrs. Norman Campbell (Bertha Griggs)"
          ],
          [
           "Alexander, Mr. William"
          ],
          [
           "Lester, Mr. James"
          ],
          [
           "Slemen, Mr. Richard James"
          ],
          [
           "Andersson, Miss. Ebba Iris Alfrida"
          ],
          [
           "Tomlin, Mr. Ernest Portage"
          ],
          [
           "Fry, Mr. Richard"
          ],
          [
           "Heininen, Miss. Wendla Maria"
          ],
          [
           "Mallet, Mr. Albert"
          ],
          [
           "Holm, Mr. John Fredrik Alexander"
          ],
          [
           "Skoog, Master. Karl Thorsten"
          ],
          [
           "Hays, Mrs. Charles Melville (Clara Jennings Gregg)"
          ],
          [
           "Lulic, Mr. Nikola"
          ],
          [
           "Reuchlin, Jonkheer. John George"
          ],
          [
           "Moor, Mrs. (Beila)"
          ],
          [
           "Panula, Master. Urho Abraham"
          ],
          [
           "Flynn, Mr. John"
          ],
          [
           "Lam, Mr. Len"
          ],
          [
           "Mallet, Master. Andre"
          ],
          [
           "McCormack, Mr. Thomas Joseph"
          ],
          [
           "Stone, Mrs. George Nelson (Martha Evelyn)"
          ],
          [
           "Yasbeck, Mrs. Antoni (Selini Alexander)"
          ],
          [
           "Richards, Master. George Sibley"
          ],
          [
           "Saad, Mr. Amin"
          ],
          [
           "Augustsson, Mr. Albert"
          ],
          [
           "Allum, Mr. Owen George"
          ],
          [
           "Compton, Miss. Sara Rebecca"
          ],
          [
           "Pasic, Mr. Jakob"
          ],
          [
           "Sirota, Mr. Maurice"
          ],
          [
           "Chip, Mr. Chang"
          ],
          [
           "Marechal, Mr. Pierre"
          ],
          [
           "Alhomaki, Mr. Ilmari Rudolf"
          ],
          [
           "Mudd, Mr. Thomas Charles"
          ],
          [
           "Serepeca, Miss. Augusta"
          ],
          [
           "Lemberopolous, Mr. Peter L"
          ],
          [
           "Culumovic, Mr. Jeso"
          ],
          [
           "Abbing, Mr. Anthony"
          ],
          [
           "Sage, Mr. Douglas Bullen"
          ],
          [
           "Markoff, Mr. Marin"
          ],
          [
           "Harper, Rev. John"
          ],
          [
           "Goldenberg, Mrs. Samuel L (Edwiga Grabowska)"
          ],
          [
           "Andersson, Master. Sigvard Harald Elias"
          ],
          [
           "Svensson, Mr. Johan"
          ],
          [
           "Boulos, Miss. Nourelain"
          ],
          [
           "Lines, Miss. Mary Conover"
          ],
          [
           "Carter, Mrs. Ernest Courtenay (Lilian Hughes)"
          ],
          [
           "Aks, Mrs. Sam (Leah Rosen)"
          ],
          [
           "Wick, Mrs. George Dennick (Mary Hitchcock)"
          ],
          [
           "Daly, Mr. Peter Denis "
          ],
          [
           "Baclini, Mrs. Solomon (Latifa Qurban)"
          ],
          [
           "Razi, Mr. Raihed"
          ],
          [
           "Hansen, Mr. Claus Peter"
          ],
          [
           "Giles, Mr. Frederick Edward"
          ],
          [
           "Swift, Mrs. Frederick Joel (Margaret Welles Barron)"
          ],
          [
           "Sage, Miss. Dorothy Edith \"Dolly\""
          ],
          [
           "Gill, Mr. John William"
          ],
          [
           "Bystrom, Mrs. (Karolina)"
          ],
          [
           "Duran y More, Miss. Asuncion"
          ],
          [
           "Roebling, Mr. Washington Augustus II"
          ],
          [
           "van Melkebeke, Mr. Philemon"
          ],
          [
           "Johnson, Master. Harold Theodor"
          ],
          [
           "Balkic, Mr. Cerin"
          ],
          [
           "Beckwith, Mrs. Richard Leonard (Sallie Monypeny)"
          ],
          [
           "Carlsson, Mr. Frans Olof"
          ],
          [
           "Vander Cruyssen, Mr. Victor"
          ],
          [
           "Abelson, Mrs. Samuel (Hannah Wizosky)"
          ],
          [
           "Najib, Miss. Adele Kiamie \"Jane\""
          ],
          [
           "Gustafsson, Mr. Alfred Ossian"
          ],
          [
           "Petroff, Mr. Nedelio"
          ],
          [
           "Laleff, Mr. Kristo"
          ],
          [
           "Potter, Mrs. Thomas Jr (Lily Alexenia Wilson)"
          ],
          [
           "Shelley, Mrs. William (Imanita Parrish Hall)"
          ],
          [
           "Markun, Mr. Johann"
          ],
          [
           "Dahlberg, Miss. Gerda Ulrika"
          ],
          [
           "Banfield, Mr. Frederick James"
          ],
          [
           "Sutehall, Mr. Henry Jr"
          ],
          [
           "Rice, Mrs. William (Margaret Norton)"
          ],
          [
           "Montvila, Rev. Juozas"
          ],
          [
           "Graham, Miss. Margaret Edith"
          ],
          [
           "Johnston, Miss. Catherine Helen \"Carrie\""
          ],
          [
           "Behr, Mr. Karl Howell"
          ],
          [
           "Dooley, Mr. Patrick"
          ]
         ],
         "hovertemplate": "Age=%{x}<br>Sex=%{y}<br>Name=%{customdata[0]}<extra></extra>",
         "legendgroup": "",
         "marker": {
          "color": "#1F77B4",
          "opacity": 0.5,
          "pattern": {
           "shape": ""
          }
         },
         "name": "",
         "offsetgroup": "",
         "orientation": "h",
         "showlegend": false,
         "textposition": "auto",
         "type": "bar",
         "x": [
          22,
          38,
          26,
          35,
          35,
          null,
          54,
          2,
          27,
          14,
          4,
          58,
          20,
          39,
          14,
          55,
          2,
          null,
          31,
          null,
          35,
          34,
          15,
          28,
          8,
          38,
          null,
          19,
          null,
          null,
          40,
          null,
          null,
          66,
          28,
          42,
          null,
          21,
          18,
          14,
          40,
          27,
          null,
          3,
          19,
          null,
          null,
          null,
          null,
          18,
          7,
          21,
          49,
          29,
          65,
          null,
          21,
          28.5,
          5,
          11,
          22,
          38,
          45,
          4,
          null,
          null,
          29,
          19,
          17,
          26,
          32,
          16,
          21,
          26,
          32,
          25,
          null,
          null,
          0.83,
          30,
          22,
          29,
          null,
          28,
          17,
          33,
          16,
          null,
          23,
          24,
          29,
          20,
          46,
          26,
          59,
          null,
          71,
          23,
          34,
          34,
          28,
          null,
          21,
          33,
          37,
          28,
          21,
          null,
          38,
          null,
          47,
          14.5,
          22,
          20,
          17,
          21,
          70.5,
          29,
          24,
          2,
          21,
          null,
          32.5,
          32.5,
          54,
          12,
          null,
          24,
          null,
          45,
          33,
          20,
          47,
          29,
          25,
          23,
          19,
          37,
          16,
          24,
          null,
          22,
          24,
          19,
          18,
          19,
          27,
          9,
          36.5,
          42,
          51,
          22,
          55.5,
          40.5,
          null,
          51,
          16,
          30,
          null,
          null,
          44,
          40,
          26,
          17,
          1,
          9,
          null,
          45,
          null,
          28,
          61,
          4,
          1,
          21,
          56,
          18,
          null,
          50,
          30,
          36,
          null,
          null,
          9,
          1,
          4,
          null,
          null,
          45,
          40,
          36,
          32,
          19,
          19,
          3,
          44,
          58,
          null,
          42,
          null,
          24,
          28,
          null,
          34,
          45.5,
          18,
          2,
          32,
          26,
          16,
          40,
          24,
          35,
          22,
          30,
          null,
          31,
          27,
          42,
          32,
          30,
          16,
          27,
          51,
          null,
          38,
          22,
          19,
          20.5,
          18,
          null,
          35,
          29,
          59,
          5,
          24,
          null,
          44,
          8,
          19,
          33,
          null,
          null,
          29,
          22,
          30,
          44,
          25,
          24,
          37,
          54,
          null,
          29,
          62,
          30,
          41,
          29,
          null,
          30,
          35,
          50,
          null,
          3,
          52,
          40,
          null,
          36,
          16,
          25,
          58,
          35,
          null,
          25,
          41,
          37,
          null,
          63,
          45,
          null,
          7,
          35,
          65,
          28,
          16,
          19,
          null,
          33,
          30,
          22,
          42,
          22,
          26,
          19,
          36,
          24,
          24,
          null,
          23.5,
          2,
          null,
          50,
          null,
          null,
          19,
          null,
          null,
          0.92,
          null,
          17,
          30,
          30,
          24,
          18,
          26,
          28,
          43,
          26,
          24,
          54,
          31,
          40,
          22,
          27,
          30,
          22,
          null,
          36,
          61,
          36,
          31,
          16,
          null,
          45.5,
          38,
          16,
          null,
          null,
          29,
          41,
          45,
          45,
          2,
          24,
          28,
          25,
          36,
          24,
          40,
          null,
          3,
          42,
          23,
          null,
          15,
          25,
          null,
          28,
          22,
          38,
          null,
          null,
          40,
          29,
          45,
          35,
          null,
          30,
          60,
          null,
          null,
          24,
          25,
          18,
          19,
          22,
          3,
          null,
          22,
          27,
          20,
          19,
          42,
          1,
          32,
          35,
          null,
          18,
          1,
          36,
          null,
          17,
          36,
          21,
          28,
          23,
          24,
          22,
          31,
          46,
          23,
          28,
          39,
          26,
          21,
          28,
          20,
          34,
          51,
          3,
          21,
          null,
          null,
          null,
          33,
          null,
          44,
          null,
          34,
          18,
          30,
          10,
          null,
          21,
          29,
          28,
          18,
          null,
          28,
          19,
          null,
          32,
          28,
          null,
          42,
          17,
          50,
          14,
          21,
          24,
          64,
          31,
          45,
          20,
          25,
          28,
          null,
          4,
          13,
          34,
          5,
          52,
          36,
          null,
          30,
          49,
          null,
          29,
          65,
          null,
          50,
          null,
          48,
          34,
          47,
          48,
          null,
          38,
          null,
          56,
          null,
          0.75,
          null,
          38,
          33,
          23,
          22,
          null,
          34,
          29,
          22,
          2,
          9,
          null,
          50,
          63,
          25,
          null,
          35,
          58,
          30,
          9,
          null,
          21,
          55,
          71,
          21,
          null,
          54,
          null,
          25,
          24,
          17,
          21,
          null,
          37,
          16,
          18,
          33,
          null,
          28,
          26,
          29,
          null,
          36,
          54,
          24,
          47,
          34,
          null,
          36,
          32,
          30,
          22,
          null,
          44,
          null,
          40.5,
          50,
          null,
          39,
          23,
          2,
          null,
          17,
          null,
          30,
          7,
          45,
          30,
          null,
          22,
          36,
          9,
          11,
          32,
          50,
          64,
          19,
          null,
          33,
          8,
          17,
          27,
          null,
          22,
          22,
          62,
          48,
          null,
          39,
          36,
          null,
          40,
          28,
          null,
          null,
          24,
          19,
          29,
          null,
          32,
          62,
          53,
          36,
          null,
          16,
          19,
          34,
          39,
          null,
          32,
          25,
          39,
          54,
          36,
          null,
          18,
          47,
          60,
          22,
          null,
          35,
          52,
          47,
          null,
          37,
          36,
          null,
          49,
          null,
          49,
          24,
          null,
          null,
          44,
          35,
          36,
          30,
          27,
          22,
          40,
          39,
          null,
          null,
          null,
          35,
          24,
          34,
          26,
          4,
          26,
          27,
          42,
          20,
          21,
          21,
          61,
          57,
          21,
          26,
          null,
          80,
          51,
          32,
          null,
          9,
          28,
          32,
          31,
          41,
          null,
          20,
          24,
          2,
          null,
          0.75,
          48,
          19,
          56,
          null,
          23,
          null,
          18,
          21,
          null,
          18,
          24,
          null,
          32,
          23,
          58,
          50,
          40,
          47,
          36,
          20,
          32,
          25,
          null,
          43,
          null,
          40,
          31,
          70,
          31,
          null,
          18,
          24.5,
          18,
          43,
          36,
          null,
          27,
          20,
          14,
          60,
          25,
          14,
          19,
          18,
          15,
          31,
          4,
          null,
          25,
          60,
          52,
          44,
          null,
          49,
          42,
          18,
          35,
          18,
          25,
          26,
          39,
          45,
          42,
          22,
          null,
          24,
          null,
          48,
          29,
          52,
          19,
          38,
          27,
          null,
          33,
          6,
          17,
          34,
          50,
          27,
          20,
          30,
          null,
          25,
          25,
          29,
          11,
          null,
          23,
          23,
          28.5,
          48,
          35,
          null,
          null,
          null,
          36,
          21,
          24,
          31,
          70,
          16,
          30,
          19,
          31,
          4,
          6,
          33,
          23,
          48,
          0.67,
          28,
          18,
          34,
          33,
          null,
          41,
          20,
          36,
          16,
          51,
          null,
          30.5,
          null,
          32,
          24,
          48,
          57,
          null,
          54,
          18,
          null,
          5,
          null,
          43,
          13,
          17,
          29,
          null,
          25,
          25,
          18,
          8,
          1,
          46,
          null,
          16,
          null,
          null,
          25,
          39,
          49,
          31,
          30,
          30,
          34,
          31,
          11,
          0.42,
          27,
          31,
          39,
          18,
          39,
          33,
          26,
          39,
          35,
          6,
          30.5,
          null,
          23,
          31,
          43,
          10,
          52,
          27,
          38,
          27,
          2,
          null,
          null,
          1,
          null,
          62,
          15,
          0.83,
          null,
          23,
          18,
          39,
          21,
          null,
          32,
          null,
          20,
          16,
          30,
          34.5,
          17,
          42,
          null,
          35,
          28,
          null,
          4,
          74,
          9,
          16,
          44,
          18,
          45,
          51,
          24,
          null,
          41,
          21,
          48,
          null,
          24,
          42,
          27,
          31,
          null,
          4,
          26,
          47,
          33,
          47,
          28,
          15,
          20,
          19,
          null,
          56,
          25,
          33,
          22,
          28,
          25,
          39,
          27,
          19,
          null,
          26,
          32
         ],
         "xaxis": "x",
         "y": [
          "male",
          "female",
          "female",
          "female",
          "male",
          "male",
          "male",
          "male",
          "female",
          "female",
          "female",
          "female",
          "male",
          "male",
          "female",
          "female",
          "male",
          "male",
          "female",
          "female",
          "male",
          "male",
          "female",
          "male",
          "female",
          "female",
          "male",
          "male",
          "female",
          "male",
          "male",
          "female",
          "female",
          "male",
          "male",
          "male",
          "male",
          "male",
          "female",
          "female",
          "female",
          "female",
          "male",
          "female",
          "female",
          "male",
          "male",
          "female",
          "male",
          "female",
          "male",
          "male",
          "female",
          "female",
          "male",
          "male",
          "female",
          "male",
          "female",
          "male",
          "male",
          "female",
          "male",
          "male",
          "male",
          "male",
          "female",
          "male",
          "female",
          "male",
          "male",
          "female",
          "male",
          "male",
          "male",
          "male",
          "male",
          "male",
          "male",
          "female",
          "male",
          "male",
          "female",
          "male",
          "female",
          "female",
          "male",
          "male",
          "female",
          "male",
          "male",
          "male",
          "male",
          "male",
          "male",
          "male",
          "male",
          "male",
          "female",
          "male",
          "female",
          "male",
          "male",
          "male",
          "male",
          "male",
          "female",
          "male",
          "male",
          "female",
          "male",
          "female",
          "male",
          "female",
          "female",
          "male",
          "male",
          "male",
          "male",
          "female",
          "male",
          "male",
          "male",
          "female",
          "male",
          "male",
          "male",
          "male",
          "female",
          "male",
          "male",
          "male",
          "female",
          "female",
          "male",
          "male",
          "female",
          "male",
          "male",
          "male",
          "female",
          "female",
          "female",
          "male",
          "male",
          "male",
          "male",
          "female",
          "male",
          "male",
          "male",
          "female",
          "male",
          "male",
          "male",
          "male",
          "female",
          "male",
          "male",
          "male",
          "male",
          "female",
          "male",
          "male",
          "male",
          "male",
          "female",
          "female",
          "male",
          "male",
          "male",
          "male",
          "female",
          "male",
          "male",
          "male",
          "male",
          "female",
          "male",
          "male",
          "female",
          "male",
          "male",
          "male",
          "female",
          "male",
          "female",
          "male",
          "male",
          "male",
          "female",
          "male",
          "female",
          "male",
          "female",
          "female",
          "male",
          "male",
          "female",
          "female",
          "male",
          "male",
          "male",
          "male",
          "male",
          "female",
          "male",
          "male",
          "female",
          "male",
          "male",
          "female",
          "male",
          "male",
          "male",
          "female",
          "female",
          "male",
          "female",
          "male",
          "male",
          "male",
          "male",
          "male",
          "male",
          "male",
          "male",
          "male",
          "male",
          "female",
          "female",
          "male",
          "male",
          "female",
          "male",
          "female",
          "male",
          "female",
          "male",
          "male",
          "female",
          "female",
          "male",
          "male",
          "male",
          "male",
          "female",
          "female",
          "male",
          "male",
          "male",
          "female",
          "male",
          "male",
          "female",
          "female",
          "female",
          "female",
          "female",
          "female",
          "male",
          "male",
          "male",
          "male",
          "female",
          "male",
          "male",
          "male",
          "female",
          "female",
          "male",
          "male",
          "female",
          "male",
          "female",
          "female",
          "female",
          "male",
          "male",
          "female",
          "male",
          "male",
          "male",
          "male",
          "male",
          "male",
          "male",
          "male",
          "male",
          "female",
          "female",
          "female",
          "male",
          "female",
          "male",
          "male",
          "male",
          "female",
          "male",
          "female",
          "female",
          "male",
          "male",
          "female",
          "male",
          "male",
          "female",
          "female",
          "male",
          "female",
          "female",
          "female",
          "female",
          "male",
          "male",
          "female",
          "female",
          "male",
          "female",
          "female",
          "male",
          "male",
          "female",
          "female",
          "male",
          "female",
          "male",
          "female",
          "female",
          "female",
          "female",
          "male",
          "male",
          "male",
          "female",
          "male",
          "male",
          "female",
          "male",
          "male",
          "male",
          "female",
          "male",
          "male",
          "male",
          "female",
          "female",
          "female",
          "male",
          "male",
          "male",
          "male",
          "male",
          "male",
          "male",
          "male",
          "female",
          "female",
          "female",
          "female",
          "male",
          "male",
          "female",
          "male",
          "male",
          "male",
          "female",
          "female",
          "female",
          "female",
          "male",
          "male",
          "male",
          "male",
          "female",
          "female",
          "female",
          "male",
          "male",
          "male",
          "female",
          "female",
          "male",
          "female",
          "male",
          "male",
          "male",
          "female",
          "male",
          "female",
          "male",
          "male",
          "male",
          "female",
          "female",
          "male",
          "female",
          "male",
          "male",
          "female",
          "male",
          "male",
          "female",
          "male",
          "female",
          "male",
          "male",
          "male",
          "male",
          "female",
          "male",
          "male",
          "female",
          "male",
          "male",
          "female",
          "female",
          "female",
          "male",
          "female",
          "male",
          "male",
          "male",
          "female",
          "male",
          "male",
          "female",
          "female",
          "male",
          "male",
          "male",
          "female",
          "female",
          "male",
          "male",
          "female",
          "female",
          "female",
          "male",
          "male",
          "female",
          "male",
          "male",
          "female",
          "male",
          "male",
          "female",
          "male",
          "female",
          "male",
          "male",
          "male",
          "male",
          "male",
          "male",
          "male",
          "male",
          "female",
          "female",
          "male",
          "male",
          "male",
          "male",
          "male",
          "male",
          "male",
          "male",
          "male",
          "male",
          "female",
          "male",
          "male",
          "female",
          "female",
          "female",
          "male",
          "male",
          "male",
          "male",
          "female",
          "male",
          "male",
          "male",
          "female",
          "male",
          "female",
          "female",
          "male",
          "male",
          "male",
          "male",
          "male",
          "male",
          "male",
          "male",
          "male",
          "female",
          "male",
          "female",
          "male",
          "male",
          "female",
          "female",
          "female",
          "female",
          "male",
          "female",
          "male",
          "male",
          "male",
          "male",
          "male",
          "male",
          "female",
          "male",
          "male",
          "female",
          "male",
          "female",
          "male",
          "female",
          "male",
          "male",
          "female",
          "male",
          "male",
          "female",
          "male",
          "male",
          "male",
          "female",
          "male",
          "male",
          "female",
          "female",
          "female",
          "male",
          "female",
          "male",
          "female",
          "female",
          "female",
          "female",
          "male",
          "male",
          "male",
          "female",
          "male",
          "male",
          "male",
          "male",
          "male",
          "male",
          "male",
          "female",
          "male",
          "female",
          "male",
          "female",
          "female",
          "male",
          "male",
          "male",
          "male",
          "female",
          "male",
          "male",
          "female",
          "male",
          "male",
          "male",
          "female",
          "male",
          "female",
          "male",
          "male",
          "female",
          "female",
          "female",
          "male",
          "female",
          "female",
          "male",
          "male",
          "male",
          "female",
          "male",
          "male",
          "male",
          "male",
          "male",
          "female",
          "male",
          "female",
          "male",
          "male",
          "female",
          "male",
          "male",
          "male",
          "female",
          "male",
          "male",
          "male",
          "male",
          "male",
          "male",
          "male",
          "female",
          "female",
          "female",
          "male",
          "female",
          "male",
          "male",
          "female",
          "male",
          "female",
          "female",
          "male",
          "male",
          "male",
          "male",
          "male",
          "male",
          "male",
          "male",
          "female",
          "male",
          "male",
          "male",
          "male",
          "male",
          "male",
          "female",
          "female",
          "male",
          "male",
          "female",
          "male",
          "male",
          "female",
          "female",
          "male",
          "female",
          "male",
          "male",
          "male",
          "male",
          "female",
          "male",
          "female",
          "male",
          "female",
          "female",
          "male",
          "male",
          "female",
          "male",
          "male",
          "male",
          "male",
          "male",
          "male",
          "male",
          "male",
          "male",
          "male",
          "male",
          "female",
          "female",
          "male",
          "male",
          "male",
          "male",
          "male",
          "male",
          "female",
          "female",
          "male",
          "female",
          "male",
          "male",
          "male",
          "male",
          "male",
          "male",
          "male",
          "male",
          "female",
          "male",
          "female",
          "male",
          "male",
          "male",
          "male",
          "male",
          "female",
          "male",
          "male",
          "female",
          "male",
          "female",
          "male",
          "male",
          "male",
          "female",
          "male",
          "female",
          "male",
          "female",
          "male",
          "male",
          "male",
          "male",
          "male",
          "female",
          "female",
          "male",
          "male",
          "female",
          "male",
          "male",
          "male",
          "male",
          "male",
          "female",
          "female",
          "male",
          "female",
          "female",
          "male",
          "male",
          "male",
          "male",
          "male",
          "female",
          "male",
          "male",
          "male",
          "male",
          "male",
          "female",
          "male",
          "male",
          "male",
          "male",
          "female",
          "male",
          "male",
          "female",
          "male",
          "male",
          "male",
          "female",
          "male",
          "male",
          "male",
          "male",
          "female",
          "male",
          "male",
          "male",
          "female",
          "male",
          "female",
          "male",
          "female",
          "male",
          "male",
          "male",
          "male",
          "female",
          "male",
          "female",
          "male",
          "male",
          "female",
          "male",
          "female",
          "female",
          "female",
          "male",
          "male",
          "male",
          "male",
          "female",
          "male",
          "male",
          "male",
          "male",
          "male",
          "female",
          "male",
          "male",
          "male",
          "female",
          "female",
          "male",
          "female",
          "male",
          "female",
          "male",
          "male",
          "male",
          "male",
          "male",
          "female",
          "male",
          "female",
          "male",
          "male",
          "male",
          "female",
          "male",
          "male",
          "female",
          "male",
          "male",
          "male",
          "female",
          "male",
          "male",
          "female",
          "male",
          "male",
          "male",
          "male",
          "male",
          "female",
          "female",
          "male",
          "male",
          "male",
          "male",
          "female",
          "male",
          "male",
          "male",
          "male",
          "male",
          "male",
          "female",
          "male",
          "male",
          "male",
          "male",
          "male",
          "male",
          "female",
          "male",
          "male",
          "female",
          "female",
          "female",
          "female",
          "female",
          "male",
          "female",
          "male",
          "male",
          "male",
          "female",
          "female",
          "male",
          "female",
          "female",
          "male",
          "male",
          "male",
          "male",
          "female",
          "male",
          "male",
          "female",
          "female",
          "male",
          "male",
          "male",
          "female",
          "female",
          "male",
          "female",
          "male",
          "male",
          "female",
          "male",
          "female",
          "female",
          "male",
          "male"
         ],
         "yaxis": "y"
        }
       ],
       "layout": {
        "barmode": "overlay",
        "legend": {
         "tracegroupgap": 0
        },
        "margin": {
         "t": 60
        },
        "template": {
         "data": {
          "bar": [
           {
            "error_x": {
             "color": "#2a3f5f"
            },
            "error_y": {
             "color": "#2a3f5f"
            },
            "marker": {
             "line": {
              "color": "white",
              "width": 0.5
             },
             "pattern": {
              "fillmode": "overlay",
              "size": 10,
              "solidity": 0.2
             }
            },
            "type": "bar"
           }
          ],
          "barpolar": [
           {
            "marker": {
             "line": {
              "color": "white",
              "width": 0.5
             },
             "pattern": {
              "fillmode": "overlay",
              "size": 10,
              "solidity": 0.2
             }
            },
            "type": "barpolar"
           }
          ],
          "carpet": [
           {
            "aaxis": {
             "endlinecolor": "#2a3f5f",
             "gridcolor": "#C8D4E3",
             "linecolor": "#C8D4E3",
             "minorgridcolor": "#C8D4E3",
             "startlinecolor": "#2a3f5f"
            },
            "baxis": {
             "endlinecolor": "#2a3f5f",
             "gridcolor": "#C8D4E3",
             "linecolor": "#C8D4E3",
             "minorgridcolor": "#C8D4E3",
             "startlinecolor": "#2a3f5f"
            },
            "type": "carpet"
           }
          ],
          "choropleth": [
           {
            "colorbar": {
             "outlinewidth": 0,
             "ticks": ""
            },
            "type": "choropleth"
           }
          ],
          "contour": [
           {
            "colorbar": {
             "outlinewidth": 0,
             "ticks": ""
            },
            "colorscale": [
             [
              0,
              "#0d0887"
             ],
             [
              0.1111111111111111,
              "#46039f"
             ],
             [
              0.2222222222222222,
              "#7201a8"
             ],
             [
              0.3333333333333333,
              "#9c179e"
             ],
             [
              0.4444444444444444,
              "#bd3786"
             ],
             [
              0.5555555555555556,
              "#d8576b"
             ],
             [
              0.6666666666666666,
              "#ed7953"
             ],
             [
              0.7777777777777778,
              "#fb9f3a"
             ],
             [
              0.8888888888888888,
              "#fdca26"
             ],
             [
              1,
              "#f0f921"
             ]
            ],
            "type": "contour"
           }
          ],
          "contourcarpet": [
           {
            "colorbar": {
             "outlinewidth": 0,
             "ticks": ""
            },
            "type": "contourcarpet"
           }
          ],
          "heatmap": [
           {
            "colorbar": {
             "outlinewidth": 0,
             "ticks": ""
            },
            "colorscale": [
             [
              0,
              "#0d0887"
             ],
             [
              0.1111111111111111,
              "#46039f"
             ],
             [
              0.2222222222222222,
              "#7201a8"
             ],
             [
              0.3333333333333333,
              "#9c179e"
             ],
             [
              0.4444444444444444,
              "#bd3786"
             ],
             [
              0.5555555555555556,
              "#d8576b"
             ],
             [
              0.6666666666666666,
              "#ed7953"
             ],
             [
              0.7777777777777778,
              "#fb9f3a"
             ],
             [
              0.8888888888888888,
              "#fdca26"
             ],
             [
              1,
              "#f0f921"
             ]
            ],
            "type": "heatmap"
           }
          ],
          "heatmapgl": [
           {
            "colorbar": {
             "outlinewidth": 0,
             "ticks": ""
            },
            "colorscale": [
             [
              0,
              "#0d0887"
             ],
             [
              0.1111111111111111,
              "#46039f"
             ],
             [
              0.2222222222222222,
              "#7201a8"
             ],
             [
              0.3333333333333333,
              "#9c179e"
             ],
             [
              0.4444444444444444,
              "#bd3786"
             ],
             [
              0.5555555555555556,
              "#d8576b"
             ],
             [
              0.6666666666666666,
              "#ed7953"
             ],
             [
              0.7777777777777778,
              "#fb9f3a"
             ],
             [
              0.8888888888888888,
              "#fdca26"
             ],
             [
              1,
              "#f0f921"
             ]
            ],
            "type": "heatmapgl"
           }
          ],
          "histogram": [
           {
            "marker": {
             "pattern": {
              "fillmode": "overlay",
              "size": 10,
              "solidity": 0.2
             }
            },
            "type": "histogram"
           }
          ],
          "histogram2d": [
           {
            "colorbar": {
             "outlinewidth": 0,
             "ticks": ""
            },
            "colorscale": [
             [
              0,
              "#0d0887"
             ],
             [
              0.1111111111111111,
              "#46039f"
             ],
             [
              0.2222222222222222,
              "#7201a8"
             ],
             [
              0.3333333333333333,
              "#9c179e"
             ],
             [
              0.4444444444444444,
              "#bd3786"
             ],
             [
              0.5555555555555556,
              "#d8576b"
             ],
             [
              0.6666666666666666,
              "#ed7953"
             ],
             [
              0.7777777777777778,
              "#fb9f3a"
             ],
             [
              0.8888888888888888,
              "#fdca26"
             ],
             [
              1,
              "#f0f921"
             ]
            ],
            "type": "histogram2d"
           }
          ],
          "histogram2dcontour": [
           {
            "colorbar": {
             "outlinewidth": 0,
             "ticks": ""
            },
            "colorscale": [
             [
              0,
              "#0d0887"
             ],
             [
              0.1111111111111111,
              "#46039f"
             ],
             [
              0.2222222222222222,
              "#7201a8"
             ],
             [
              0.3333333333333333,
              "#9c179e"
             ],
             [
              0.4444444444444444,
              "#bd3786"
             ],
             [
              0.5555555555555556,
              "#d8576b"
             ],
             [
              0.6666666666666666,
              "#ed7953"
             ],
             [
              0.7777777777777778,
              "#fb9f3a"
             ],
             [
              0.8888888888888888,
              "#fdca26"
             ],
             [
              1,
              "#f0f921"
             ]
            ],
            "type": "histogram2dcontour"
           }
          ],
          "mesh3d": [
           {
            "colorbar": {
             "outlinewidth": 0,
             "ticks": ""
            },
            "type": "mesh3d"
           }
          ],
          "parcoords": [
           {
            "line": {
             "colorbar": {
              "outlinewidth": 0,
              "ticks": ""
             }
            },
            "type": "parcoords"
           }
          ],
          "pie": [
           {
            "automargin": true,
            "type": "pie"
           }
          ],
          "scatter": [
           {
            "fillpattern": {
             "fillmode": "overlay",
             "size": 10,
             "solidity": 0.2
            },
            "type": "scatter"
           }
          ],
          "scatter3d": [
           {
            "line": {
             "colorbar": {
              "outlinewidth": 0,
              "ticks": ""
             }
            },
            "marker": {
             "colorbar": {
              "outlinewidth": 0,
              "ticks": ""
             }
            },
            "type": "scatter3d"
           }
          ],
          "scattercarpet": [
           {
            "marker": {
             "colorbar": {
              "outlinewidth": 0,
              "ticks": ""
             }
            },
            "type": "scattercarpet"
           }
          ],
          "scattergeo": [
           {
            "marker": {
             "colorbar": {
              "outlinewidth": 0,
              "ticks": ""
             }
            },
            "type": "scattergeo"
           }
          ],
          "scattergl": [
           {
            "marker": {
             "colorbar": {
              "outlinewidth": 0,
              "ticks": ""
             }
            },
            "type": "scattergl"
           }
          ],
          "scattermapbox": [
           {
            "marker": {
             "colorbar": {
              "outlinewidth": 0,
              "ticks": ""
             }
            },
            "type": "scattermapbox"
           }
          ],
          "scatterpolar": [
           {
            "marker": {
             "colorbar": {
              "outlinewidth": 0,
              "ticks": ""
             }
            },
            "type": "scatterpolar"
           }
          ],
          "scatterpolargl": [
           {
            "marker": {
             "colorbar": {
              "outlinewidth": 0,
              "ticks": ""
             }
            },
            "type": "scatterpolargl"
           }
          ],
          "scatterternary": [
           {
            "marker": {
             "colorbar": {
              "outlinewidth": 0,
              "ticks": ""
             }
            },
            "type": "scatterternary"
           }
          ],
          "surface": [
           {
            "colorbar": {
             "outlinewidth": 0,
             "ticks": ""
            },
            "colorscale": [
             [
              0,
              "#0d0887"
             ],
             [
              0.1111111111111111,
              "#46039f"
             ],
             [
              0.2222222222222222,
              "#7201a8"
             ],
             [
              0.3333333333333333,
              "#9c179e"
             ],
             [
              0.4444444444444444,
              "#bd3786"
             ],
             [
              0.5555555555555556,
              "#d8576b"
             ],
             [
              0.6666666666666666,
              "#ed7953"
             ],
             [
              0.7777777777777778,
              "#fb9f3a"
             ],
             [
              0.8888888888888888,
              "#fdca26"
             ],
             [
              1,
              "#f0f921"
             ]
            ],
            "type": "surface"
           }
          ],
          "table": [
           {
            "cells": {
             "fill": {
              "color": "#EBF0F8"
             },
             "line": {
              "color": "white"
             }
            },
            "header": {
             "fill": {
              "color": "#C8D4E3"
             },
             "line": {
              "color": "white"
             }
            },
            "type": "table"
           }
          ]
         },
         "layout": {
          "annotationdefaults": {
           "arrowcolor": "#2a3f5f",
           "arrowhead": 0,
           "arrowwidth": 1
          },
          "autotypenumbers": "strict",
          "coloraxis": {
           "colorbar": {
            "outlinewidth": 0,
            "ticks": ""
           }
          },
          "colorscale": {
           "diverging": [
            [
             0,
             "#8e0152"
            ],
            [
             0.1,
             "#c51b7d"
            ],
            [
             0.2,
             "#de77ae"
            ],
            [
             0.3,
             "#f1b6da"
            ],
            [
             0.4,
             "#fde0ef"
            ],
            [
             0.5,
             "#f7f7f7"
            ],
            [
             0.6,
             "#e6f5d0"
            ],
            [
             0.7,
             "#b8e186"
            ],
            [
             0.8,
             "#7fbc41"
            ],
            [
             0.9,
             "#4d9221"
            ],
            [
             1,
             "#276419"
            ]
           ],
           "sequential": [
            [
             0,
             "#0d0887"
            ],
            [
             0.1111111111111111,
             "#46039f"
            ],
            [
             0.2222222222222222,
             "#7201a8"
            ],
            [
             0.3333333333333333,
             "#9c179e"
            ],
            [
             0.4444444444444444,
             "#bd3786"
            ],
            [
             0.5555555555555556,
             "#d8576b"
            ],
            [
             0.6666666666666666,
             "#ed7953"
            ],
            [
             0.7777777777777778,
             "#fb9f3a"
            ],
            [
             0.8888888888888888,
             "#fdca26"
            ],
            [
             1,
             "#f0f921"
            ]
           ],
           "sequentialminus": [
            [
             0,
             "#0d0887"
            ],
            [
             0.1111111111111111,
             "#46039f"
            ],
            [
             0.2222222222222222,
             "#7201a8"
            ],
            [
             0.3333333333333333,
             "#9c179e"
            ],
            [
             0.4444444444444444,
             "#bd3786"
            ],
            [
             0.5555555555555556,
             "#d8576b"
            ],
            [
             0.6666666666666666,
             "#ed7953"
            ],
            [
             0.7777777777777778,
             "#fb9f3a"
            ],
            [
             0.8888888888888888,
             "#fdca26"
            ],
            [
             1,
             "#f0f921"
            ]
           ]
          },
          "colorway": [
           "#636efa",
           "#EF553B",
           "#00cc96",
           "#ab63fa",
           "#FFA15A",
           "#19d3f3",
           "#FF6692",
           "#B6E880",
           "#FF97FF",
           "#FECB52"
          ],
          "font": {
           "color": "#2a3f5f"
          },
          "geo": {
           "bgcolor": "white",
           "lakecolor": "white",
           "landcolor": "white",
           "showlakes": true,
           "showland": true,
           "subunitcolor": "#C8D4E3"
          },
          "hoverlabel": {
           "align": "left"
          },
          "hovermode": "closest",
          "mapbox": {
           "style": "light"
          },
          "paper_bgcolor": "white",
          "plot_bgcolor": "white",
          "polar": {
           "angularaxis": {
            "gridcolor": "#EBF0F8",
            "linecolor": "#EBF0F8",
            "ticks": ""
           },
           "bgcolor": "white",
           "radialaxis": {
            "gridcolor": "#EBF0F8",
            "linecolor": "#EBF0F8",
            "ticks": ""
           }
          },
          "scene": {
           "xaxis": {
            "backgroundcolor": "white",
            "gridcolor": "#DFE8F3",
            "gridwidth": 2,
            "linecolor": "#EBF0F8",
            "showbackground": true,
            "ticks": "",
            "zerolinecolor": "#EBF0F8"
           },
           "yaxis": {
            "backgroundcolor": "white",
            "gridcolor": "#DFE8F3",
            "gridwidth": 2,
            "linecolor": "#EBF0F8",
            "showbackground": true,
            "ticks": "",
            "zerolinecolor": "#EBF0F8"
           },
           "zaxis": {
            "backgroundcolor": "white",
            "gridcolor": "#DFE8F3",
            "gridwidth": 2,
            "linecolor": "#EBF0F8",
            "showbackground": true,
            "ticks": "",
            "zerolinecolor": "#EBF0F8"
           }
          },
          "shapedefaults": {
           "line": {
            "color": "#2a3f5f"
           }
          },
          "ternary": {
           "aaxis": {
            "gridcolor": "#DFE8F3",
            "linecolor": "#A2B1C6",
            "ticks": ""
           },
           "baxis": {
            "gridcolor": "#DFE8F3",
            "linecolor": "#A2B1C6",
            "ticks": ""
           },
           "bgcolor": "white",
           "caxis": {
            "gridcolor": "#DFE8F3",
            "linecolor": "#A2B1C6",
            "ticks": ""
           }
          },
          "title": {
           "x": 0.05
          },
          "xaxis": {
           "automargin": true,
           "gridcolor": "#EBF0F8",
           "linecolor": "#EBF0F8",
           "ticks": "",
           "title": {
            "standoff": 15
           },
           "zerolinecolor": "#EBF0F8",
           "zerolinewidth": 2
          },
          "yaxis": {
           "automargin": true,
           "gridcolor": "#EBF0F8",
           "linecolor": "#EBF0F8",
           "ticks": "",
           "title": {
            "standoff": 15
           },
           "zerolinecolor": "#EBF0F8",
           "zerolinewidth": 2
          }
         }
        },
        "xaxis": {
         "anchor": "y",
         "domain": [
          0,
          1
         ],
         "title": {
          "text": "Age"
         }
        },
        "yaxis": {
         "anchor": "x",
         "domain": [
          0,
          1
         ],
         "title": {
          "text": "Sex"
         }
        }
       }
      },
      "text/html": [
       "<div>                            <div id=\"59b5f924-6c34-4327-8d39-5a27f2db3356\" class=\"plotly-graph-div\" style=\"height:525px; width:100%;\"></div>            <script type=\"text/javascript\">                require([\"plotly\"], function(Plotly) {                    window.PLOTLYENV=window.PLOTLYENV || {};                                    if (document.getElementById(\"59b5f924-6c34-4327-8d39-5a27f2db3356\")) {                    Plotly.newPlot(                        \"59b5f924-6c34-4327-8d39-5a27f2db3356\",                        [{\"alignmentgroup\":\"True\",\"customdata\":[[\"Braund, Mr. Owen Harris\"],[\"Cumings, Mrs. John Bradley (Florence Briggs Thayer)\"],[\"Heikkinen, Miss. Laina\"],[\"Futrelle, Mrs. Jacques Heath (Lily May Peel)\"],[\"Allen, Mr. William Henry\"],[\"Moran, Mr. James\"],[\"McCarthy, Mr. Timothy J\"],[\"Palsson, Master. Gosta Leonard\"],[\"Johnson, Mrs. Oscar W (Elisabeth Vilhelmina Berg)\"],[\"Nasser, Mrs. Nicholas (Adele Achem)\"],[\"Sandstrom, Miss. Marguerite Rut\"],[\"Bonnell, Miss. Elizabeth\"],[\"Saundercock, Mr. William Henry\"],[\"Andersson, Mr. Anders Johan\"],[\"Vestrom, Miss. Hulda Amanda Adolfina\"],[\"Hewlett, Mrs. (Mary D Kingcome) \"],[\"Rice, Master. Eugene\"],[\"Williams, Mr. Charles Eugene\"],[\"Vander Planke, Mrs. Julius (Emelia Maria Vandemoortele)\"],[\"Masselmani, Mrs. Fatima\"],[\"Fynney, Mr. Joseph J\"],[\"Beesley, Mr. Lawrence\"],[\"McGowan, Miss. Anna \\\"Annie\\\"\"],[\"Sloper, Mr. William Thompson\"],[\"Palsson, Miss. Torborg Danira\"],[\"Asplund, Mrs. Carl Oscar (Selma Augusta Emilia Johansson)\"],[\"Emir, Mr. Farred Chehab\"],[\"Fortune, Mr. Charles Alexander\"],[\"O'Dwyer, Miss. Ellen \\\"Nellie\\\"\"],[\"Todoroff, Mr. Lalio\"],[\"Uruchurtu, Don. Manuel E\"],[\"Spencer, Mrs. William Augustus (Marie Eugenie)\"],[\"Glynn, Miss. Mary Agatha\"],[\"Wheadon, Mr. Edward H\"],[\"Meyer, Mr. Edgar Joseph\"],[\"Holverson, Mr. Alexander Oskar\"],[\"Mamee, Mr. Hanna\"],[\"Cann, Mr. Ernest Charles\"],[\"Vander Planke, Miss. Augusta Maria\"],[\"Nicola-Yarred, Miss. Jamila\"],[\"Ahlin, Mrs. Johan (Johanna Persdotter Larsson)\"],[\"Turpin, Mrs. William John Robert (Dorothy Ann Wonnacott)\"],[\"Kraeff, Mr. Theodor\"],[\"Laroche, Miss. Simonne Marie Anne Andree\"],[\"Devaney, Miss. Margaret Delia\"],[\"Rogers, Mr. William John\"],[\"Lennon, Mr. Denis\"],[\"O'Driscoll, Miss. Bridget\"],[\"Samaan, Mr. Youssef\"],[\"Arnold-Franchi, Mrs. Josef (Josefine Franchi)\"],[\"Panula, Master. Juha Niilo\"],[\"Nosworthy, Mr. Richard Cater\"],[\"Harper, Mrs. Henry Sleeper (Myna Haxtun)\"],[\"Faunthorpe, Mrs. Lizzie (Elizabeth Anne Wilkinson)\"],[\"Ostby, Mr. Engelhart Cornelius\"],[\"Woolner, Mr. Hugh\"],[\"Rugg, Miss. Emily\"],[\"Novel, Mr. Mansouer\"],[\"West, Miss. Constance Mirium\"],[\"Goodwin, Master. William Frederick\"],[\"Sirayanian, Mr. Orsen\"],[\"Icard, Miss. Amelie\"],[\"Harris, Mr. Henry Birkhardt\"],[\"Skoog, Master. Harald\"],[\"Stewart, Mr. Albert A\"],[\"Moubarek, Master. Gerios\"],[\"Nye, Mrs. (Elizabeth Ramell)\"],[\"Crease, Mr. Ernest James\"],[\"Andersson, Miss. Erna Alexandra\"],[\"Kink, Mr. Vincenz\"],[\"Jenkin, Mr. Stephen Curnow\"],[\"Goodwin, Miss. Lillian Amy\"],[\"Hood, Mr. Ambrose Jr\"],[\"Chronopoulos, Mr. Apostolos\"],[\"Bing, Mr. Lee\"],[\"Moen, Mr. Sigurd Hansen\"],[\"Staneff, Mr. Ivan\"],[\"Moutal, Mr. Rahamin Haim\"],[\"Caldwell, Master. Alden Gates\"],[\"Dowdell, Miss. Elizabeth\"],[\"Waelens, Mr. Achille\"],[\"Sheerlinck, Mr. Jan Baptist\"],[\"McDermott, Miss. Brigdet Delia\"],[\"Carrau, Mr. Francisco M\"],[\"Ilett, Miss. Bertha\"],[\"Backstrom, Mrs. Karl Alfred (Maria Mathilda Gustafsson)\"],[\"Ford, Mr. William Neal\"],[\"Slocovski, Mr. Selman Francis\"],[\"Fortune, Miss. Mabel Helen\"],[\"Celotti, Mr. Francesco\"],[\"Christmann, Mr. Emil\"],[\"Andreasson, Mr. Paul Edvin\"],[\"Chaffee, Mr. Herbert Fuller\"],[\"Dean, Mr. Bertram Frank\"],[\"Coxon, Mr. Daniel\"],[\"Shorney, Mr. Charles Joseph\"],[\"Goldschmidt, Mr. George B\"],[\"Greenfield, Mr. William Bertram\"],[\"Doling, Mrs. John T (Ada Julia Bone)\"],[\"Kantor, Mr. Sinai\"],[\"Petranec, Miss. Matilda\"],[\"Petroff, Mr. Pastcho (\\\"Pentcho\\\")\"],[\"White, Mr. Richard Frasar\"],[\"Johansson, Mr. Gustaf Joel\"],[\"Gustafsson, Mr. Anders Vilhelm\"],[\"Mionoff, Mr. Stoytcho\"],[\"Salkjelsvik, Miss. Anna Kristine\"],[\"Moss, Mr. Albert Johan\"],[\"Rekic, Mr. Tido\"],[\"Moran, Miss. Bertha\"],[\"Porter, Mr. Walter Chamberlain\"],[\"Zabour, Miss. Hileni\"],[\"Barton, Mr. David John\"],[\"Jussila, Miss. Katriina\"],[\"Attalah, Miss. Malake\"],[\"Pekoniemi, Mr. Edvard\"],[\"Connors, Mr. Patrick\"],[\"Turpin, Mr. William John Robert\"],[\"Baxter, Mr. Quigg Edmond\"],[\"Andersson, Miss. Ellis Anna Maria\"],[\"Hickman, Mr. Stanley George\"],[\"Moore, Mr. Leonard Charles\"],[\"Nasser, Mr. Nicholas\"],[\"Webber, Miss. Susan\"],[\"White, Mr. Percival Wayland\"],[\"Nicola-Yarred, Master. Elias\"],[\"McMahon, Mr. Martin\"],[\"Madsen, Mr. Fridtjof Arne\"],[\"Peter, Miss. Anna\"],[\"Ekstrom, Mr. Johan\"],[\"Drazenoic, Mr. Jozef\"],[\"Coelho, Mr. Domingos Fernandeo\"],[\"Robins, Mrs. Alexander A (Grace Charity Laury)\"],[\"Weisz, Mrs. Leopold (Mathilde Francoise Pede)\"],[\"Sobey, Mr. Samuel James Hayden\"],[\"Richard, Mr. Emile\"],[\"Newsom, Miss. Helen Monypeny\"],[\"Futrelle, Mr. Jacques Heath\"],[\"Osen, Mr. Olaf Elon\"],[\"Giglio, Mr. Victor\"],[\"Boulos, Mrs. Joseph (Sultana)\"],[\"Nysten, Miss. Anna Sofia\"],[\"Hakkarainen, Mrs. Pekka Pietari (Elin Matilda Dolck)\"],[\"Burke, Mr. Jeremiah\"],[\"Andrew, Mr. Edgardo Samuel\"],[\"Nicholls, Mr. Joseph Charles\"],[\"Andersson, Mr. August Edvard (\\\"Wennerstrom\\\")\"],[\"Ford, Miss. Robina Maggie \\\"Ruby\\\"\"],[\"Navratil, Mr. Michel (\\\"Louis M Hoffman\\\")\"],[\"Byles, Rev. Thomas Roussel Davids\"],[\"Bateman, Rev. Robert James\"],[\"Pears, Mrs. Thomas (Edith Wearne)\"],[\"Meo, Mr. Alfonzo\"],[\"van Billiard, Mr. Austin Blyler\"],[\"Olsen, Mr. Ole Martin\"],[\"Williams, Mr. Charles Duane\"],[\"Gilnagh, Miss. Katherine \\\"Katie\\\"\"],[\"Corn, Mr. Harry\"],[\"Smiljanic, Mr. Mile\"],[\"Sage, Master. Thomas Henry\"],[\"Cribb, Mr. John Hatfield\"],[\"Watt, Mrs. James (Elizabeth \\\"Bessie\\\" Inglis Milne)\"],[\"Bengtsson, Mr. John Viktor\"],[\"Calic, Mr. Jovo\"],[\"Panula, Master. Eino Viljami\"],[\"Goldsmith, Master. Frank John William \\\"Frankie\\\"\"],[\"Chibnall, Mrs. (Edith Martha Bowerman)\"],[\"Skoog, Mrs. William (Anna Bernhardina Karlsson)\"],[\"Baumann, Mr. John D\"],[\"Ling, Mr. Lee\"],[\"Van der hoef, Mr. Wyckoff\"],[\"Rice, Master. Arthur\"],[\"Johnson, Miss. Eleanor Ileen\"],[\"Sivola, Mr. Antti Wilhelm\"],[\"Smith, Mr. James Clinch\"],[\"Klasen, Mr. Klas Albin\"],[\"Lefebre, Master. Henry Forbes\"],[\"Isham, Miss. Ann Elizabeth\"],[\"Hale, Mr. Reginald\"],[\"Leonard, Mr. Lionel\"],[\"Sage, Miss. Constance Gladys\"],[\"Pernot, Mr. Rene\"],[\"Asplund, Master. Clarence Gustaf Hugo\"],[\"Becker, Master. Richard F\"],[\"Kink-Heilmann, Miss. Luise Gretchen\"],[\"Rood, Mr. Hugh Roscoe\"],[\"O'Brien, Mrs. Thomas (Johanna \\\"Hannah\\\" Godfrey)\"],[\"Romaine, Mr. Charles Hallace (\\\"Mr C Rolmane\\\")\"],[\"Bourke, Mr. John\"],[\"Turcin, Mr. Stjepan\"],[\"Pinsky, Mrs. (Rosa)\"],[\"Carbines, Mr. William\"],[\"Andersen-Jensen, Miss. Carla Christine Nielsine\"],[\"Navratil, Master. Michel M\"],[\"Brown, Mrs. James Joseph (Margaret Tobin)\"],[\"Lurette, Miss. Elise\"],[\"Mernagh, Mr. Robert\"],[\"Olsen, Mr. Karl Siegwart Andreas\"],[\"Madigan, Miss. Margaret \\\"Maggie\\\"\"],[\"Yrois, Miss. Henriette (\\\"Mrs Harbeck\\\")\"],[\"Vande Walle, Mr. Nestor Cyriel\"],[\"Sage, Mr. Frederick\"],[\"Johanson, Mr. Jakob Alfred\"],[\"Youseff, Mr. Gerious\"],[\"Cohen, Mr. Gurshon \\\"Gus\\\"\"],[\"Strom, Miss. Telma Matilda\"],[\"Backstrom, Mr. Karl Alfred\"],[\"Albimona, Mr. Nassef Cassem\"],[\"Carr, Miss. Helen \\\"Ellen\\\"\"],[\"Blank, Mr. Henry\"],[\"Ali, Mr. Ahmed\"],[\"Cameron, Miss. Clear Annie\"],[\"Perkin, Mr. John Henry\"],[\"Givard, Mr. Hans Kristensen\"],[\"Kiernan, Mr. Philip\"],[\"Newell, Miss. Madeleine\"],[\"Honkanen, Miss. Eliina\"],[\"Jacobsohn, Mr. Sidney Samuel\"],[\"Bazzani, Miss. Albina\"],[\"Harris, Mr. Walter\"],[\"Sunderland, Mr. Victor Francis\"],[\"Bracken, Mr. James H\"],[\"Green, Mr. George Henry\"],[\"Nenkoff, Mr. Christo\"],[\"Hoyt, Mr. Frederick Maxfield\"],[\"Berglund, Mr. Karl Ivar Sven\"],[\"Mellors, Mr. William John\"],[\"Lovell, Mr. John Hall (\\\"Henry\\\")\"],[\"Fahlstrom, Mr. Arne Jonas\"],[\"Lefebre, Miss. Mathilde\"],[\"Harris, Mrs. Henry Birkhardt (Irene Wallach)\"],[\"Larsson, Mr. Bengt Edvin\"],[\"Sjostedt, Mr. Ernst Adolf\"],[\"Asplund, Miss. Lillian Gertrud\"],[\"Leyson, Mr. Robert William Norman\"],[\"Harknett, Miss. Alice Phoebe\"],[\"Hold, Mr. Stephen\"],[\"Collyer, Miss. Marjorie \\\"Lottie\\\"\"],[\"Pengelly, Mr. Frederick William\"],[\"Hunt, Mr. George Henry\"],[\"Zabour, Miss. Thamine\"],[\"Murphy, Miss. Katherine \\\"Kate\\\"\"],[\"Coleridge, Mr. Reginald Charles\"],[\"Maenpaa, Mr. Matti Alexanteri\"],[\"Attalah, Mr. Sleiman\"],[\"Minahan, Dr. William Edward\"],[\"Lindahl, Miss. Agda Thorilda Viktoria\"],[\"Hamalainen, Mrs. William (Anna)\"],[\"Beckwith, Mr. Richard Leonard\"],[\"Carter, Rev. Ernest Courtenay\"],[\"Reed, Mr. James George\"],[\"Strom, Mrs. Wilhelm (Elna Matilda Persson)\"],[\"Stead, Mr. William Thomas\"],[\"Lobb, Mr. William Arthur\"],[\"Rosblom, Mrs. Viktor (Helena Wilhelmina)\"],[\"Touma, Mrs. Darwis (Hanne Youssef Razi)\"],[\"Thorne, Mrs. Gertrude Maybelle\"],[\"Cherry, Miss. Gladys\"],[\"Ward, Miss. Anna\"],[\"Parrish, Mrs. (Lutie Davis)\"],[\"Smith, Mr. Thomas\"],[\"Asplund, Master. Edvin Rojj Felix\"],[\"Taussig, Mr. Emil\"],[\"Harrison, Mr. William\"],[\"Henry, Miss. Delia\"],[\"Reeves, Mr. David\"],[\"Panula, Mr. Ernesti Arvid\"],[\"Persson, Mr. Ernst Ulrik\"],[\"Graham, Mrs. William Thompson (Edith Junkins)\"],[\"Bissette, Miss. Amelia\"],[\"Cairns, Mr. Alexander\"],[\"Tornquist, Mr. William Henry\"],[\"Mellinger, Mrs. (Elizabeth Anne Maidment)\"],[\"Natsch, Mr. Charles H\"],[\"Healy, Miss. Hanora \\\"Nora\\\"\"],[\"Andrews, Miss. Kornelia Theodosia\"],[\"Lindblom, Miss. Augusta Charlotta\"],[\"Parkes, Mr. Francis \\\"Frank\\\"\"],[\"Rice, Master. Eric\"],[\"Abbott, Mrs. Stanton (Rosa Hunt)\"],[\"Duane, Mr. Frank\"],[\"Olsson, Mr. Nils Johan Goransson\"],[\"de Pelsmaeker, Mr. Alfons\"],[\"Dorking, Mr. Edward Arthur\"],[\"Smith, Mr. Richard William\"],[\"Stankovic, Mr. Ivan\"],[\"de Mulder, Mr. Theodore\"],[\"Naidenoff, Mr. Penko\"],[\"Hosono, Mr. Masabumi\"],[\"Connolly, Miss. Kate\"],[\"Barber, Miss. Ellen \\\"Nellie\\\"\"],[\"Bishop, Mrs. Dickinson H (Helen Walton)\"],[\"Levy, Mr. Rene Jacques\"],[\"Haas, Miss. Aloisia\"],[\"Mineff, Mr. Ivan\"],[\"Lewy, Mr. Ervin G\"],[\"Hanna, Mr. Mansour\"],[\"Allison, Miss. Helen Loraine\"],[\"Saalfeld, Mr. Adolphe\"],[\"Baxter, Mrs. James (Helene DeLaudeniere Chaput)\"],[\"Kelly, Miss. Anna Katherine \\\"Annie Kate\\\"\"],[\"McCoy, Mr. Bernard\"],[\"Johnson, Mr. William Cahoone Jr\"],[\"Keane, Miss. Nora A\"],[\"Williams, Mr. Howard Hugh \\\"Harry\\\"\"],[\"Allison, Master. Hudson Trevor\"],[\"Fleming, Miss. Margaret\"],[\"Penasco y Castellana, Mrs. Victor de Satode (Maria Josefa Perez de Soto y Vallejo)\"],[\"Abelson, Mr. Samuel\"],[\"Francatelli, Miss. Laura Mabel\"],[\"Hays, Miss. Margaret Bechstein\"],[\"Ryerson, Miss. Emily Borie\"],[\"Lahtinen, Mrs. William (Anna Sylfven)\"],[\"Hendekovic, Mr. Ignjac\"],[\"Hart, Mr. Benjamin\"],[\"Nilsson, Miss. Helmina Josefina\"],[\"Kantor, Mrs. Sinai (Miriam Sternin)\"],[\"Moraweck, Dr. Ernest\"],[\"Wick, Miss. Mary Natalie\"],[\"Spedden, Mrs. Frederic Oakley (Margaretta Corning Stone)\"],[\"Dennis, Mr. Samuel\"],[\"Danoff, Mr. Yoto\"],[\"Slayter, Miss. Hilda Mary\"],[\"Caldwell, Mrs. Albert Francis (Sylvia Mae Harbaugh)\"],[\"Sage, Mr. George John Jr\"],[\"Young, Miss. Marie Grice\"],[\"Nysveen, Mr. Johan Hansen\"],[\"Ball, Mrs. (Ada E Hall)\"],[\"Goldsmith, Mrs. Frank John (Emily Alice Brown)\"],[\"Hippach, Miss. Jean Gertrude\"],[\"McCoy, Miss. Agnes\"],[\"Partner, Mr. Austen\"],[\"Graham, Mr. George Edward\"],[\"Vander Planke, Mr. Leo Edmondus\"],[\"Frauenthal, Mrs. Henry William (Clara Heinsheimer)\"],[\"Denkoff, Mr. Mitto\"],[\"Pears, Mr. Thomas Clinton\"],[\"Burns, Miss. Elizabeth Margaret\"],[\"Dahl, Mr. Karl Edwart\"],[\"Blackwell, Mr. Stephen Weart\"],[\"Navratil, Master. Edmond Roger\"],[\"Fortune, Miss. Alice Elizabeth\"],[\"Collander, Mr. Erik Gustaf\"],[\"Sedgwick, Mr. Charles Frederick Waddington\"],[\"Fox, Mr. Stanley Hubert\"],[\"Brown, Miss. Amelia \\\"Mildred\\\"\"],[\"Smith, Miss. Marion Elsie\"],[\"Davison, Mrs. Thomas Henry (Mary E Finck)\"],[\"Coutts, Master. William Loch \\\"William\\\"\"],[\"Dimic, Mr. Jovan\"],[\"Odahl, Mr. Nils Martin\"],[\"Williams-Lambert, Mr. Fletcher Fellows\"],[\"Elias, Mr. Tannous\"],[\"Arnold-Franchi, Mr. Josef\"],[\"Yousif, Mr. Wazli\"],[\"Vanden Steen, Mr. Leo Peter\"],[\"Bowerman, Miss. Elsie Edith\"],[\"Funk, Miss. Annie Clemmer\"],[\"McGovern, Miss. Mary\"],[\"Mockler, Miss. Helen Mary \\\"Ellie\\\"\"],[\"Skoog, Mr. Wilhelm\"],[\"del Carlo, Mr. Sebastiano\"],[\"Barbara, Mrs. (Catherine David)\"],[\"Asim, Mr. Adola\"],[\"O'Brien, Mr. Thomas\"],[\"Adahl, Mr. Mauritz Nils Martin\"],[\"Warren, Mrs. Frank Manley (Anna Sophia Atkinson)\"],[\"Moussa, Mrs. (Mantoura Boulos)\"],[\"Jermyn, Miss. Annie\"],[\"Aubart, Mme. Leontine Pauline\"],[\"Harder, Mr. George Achilles\"],[\"Wiklund, Mr. Jakob Alfred\"],[\"Beavan, Mr. William Thomas\"],[\"Ringhini, Mr. Sante\"],[\"Palsson, Miss. Stina Viola\"],[\"Meyer, Mrs. Edgar Joseph (Leila Saks)\"],[\"Landergren, Miss. Aurora Adelia\"],[\"Widener, Mr. Harry Elkins\"],[\"Betros, Mr. Tannous\"],[\"Gustafsson, Mr. Karl Gideon\"],[\"Bidois, Miss. Rosalie\"],[\"Nakid, Miss. Maria (\\\"Mary\\\")\"],[\"Tikkanen, Mr. Juho\"],[\"Holverson, Mrs. Alexander Oskar (Mary Aline Towner)\"],[\"Plotcharsky, Mr. Vasil\"],[\"Davies, Mr. Charles Henry\"],[\"Goodwin, Master. Sidney Leonard\"],[\"Buss, Miss. Kate\"],[\"Sadlier, Mr. Matthew\"],[\"Lehmann, Miss. Bertha\"],[\"Carter, Mr. William Ernest\"],[\"Jansson, Mr. Carl Olof\"],[\"Gustafsson, Mr. Johan Birger\"],[\"Newell, Miss. Marjorie\"],[\"Sandstrom, Mrs. Hjalmar (Agnes Charlotta Bengtsson)\"],[\"Johansson, Mr. Erik\"],[\"Olsson, Miss. Elina\"],[\"McKane, Mr. Peter David\"],[\"Pain, Dr. Alfred\"],[\"Trout, Mrs. William H (Jessie L)\"],[\"Niskanen, Mr. Juha\"],[\"Adams, Mr. John\"],[\"Jussila, Miss. Mari Aina\"],[\"Hakkarainen, Mr. Pekka Pietari\"],[\"Oreskovic, Miss. Marija\"],[\"Gale, Mr. Shadrach\"],[\"Widegren, Mr. Carl\\u002fCharles Peter\"],[\"Richards, Master. William Rowe\"],[\"Birkeland, Mr. Hans Martin Monsen\"],[\"Lefebre, Miss. Ida\"],[\"Sdycoff, Mr. Todor\"],[\"Hart, Mr. Henry\"],[\"Minahan, Miss. Daisy E\"],[\"Cunningham, Mr. Alfred Fleming\"],[\"Sundman, Mr. Johan Julian\"],[\"Meek, Mrs. Thomas (Annie Louise Rowley)\"],[\"Drew, Mrs. James Vivian (Lulu Thorne Christian)\"],[\"Silven, Miss. Lyyli Karoliina\"],[\"Matthews, Mr. William John\"],[\"Van Impe, Miss. Catharina\"],[\"Gheorgheff, Mr. Stanio\"],[\"Charters, Mr. David\"],[\"Zimmerman, Mr. Leo\"],[\"Danbom, Mrs. Ernst Gilbert (Anna Sigrid Maria Brogren)\"],[\"Rosblom, Mr. Viktor Richard\"],[\"Wiseman, Mr. Phillippe\"],[\"Clarke, Mrs. Charles V (Ada Maria Winfield)\"],[\"Phillips, Miss. Kate Florence (\\\"Mrs Kate Louise Phillips Marshall\\\")\"],[\"Flynn, Mr. James\"],[\"Pickard, Mr. Berk (Berk Trembisky)\"],[\"Bjornstrom-Steffansson, Mr. Mauritz Hakan\"],[\"Thorneycroft, Mrs. Percival (Florence Kate White)\"],[\"Louch, Mrs. Charles Alexander (Alice Adelaide Slow)\"],[\"Kallio, Mr. Nikolai Erland\"],[\"Silvey, Mr. William Baird\"],[\"Carter, Miss. Lucile Polk\"],[\"Ford, Miss. Doolina Margaret \\\"Daisy\\\"\"],[\"Richards, Mrs. Sidney (Emily Hocking)\"],[\"Fortune, Mr. Mark\"],[\"Kvillner, Mr. Johan Henrik Johannesson\"],[\"Hart, Mrs. Benjamin (Esther Ada Bloomfield)\"],[\"Hampe, Mr. Leon\"],[\"Petterson, Mr. Johan Emil\"],[\"Reynaldo, Ms. Encarnacion\"],[\"Johannesen-Bratthammer, Mr. Bernt\"],[\"Dodge, Master. Washington\"],[\"Mellinger, Miss. Madeleine Violet\"],[\"Seward, Mr. Frederic Kimber\"],[\"Baclini, Miss. Marie Catherine\"],[\"Peuchen, Major. Arthur Godfrey\"],[\"West, Mr. Edwy Arthur\"],[\"Hagland, Mr. Ingvald Olai Olsen\"],[\"Foreman, Mr. Benjamin Laventall\"],[\"Goldenberg, Mr. Samuel L\"],[\"Peduzzi, Mr. Joseph\"],[\"Jalsevac, Mr. Ivan\"],[\"Millet, Mr. Francis Davis\"],[\"Kenyon, Mrs. Frederick R (Marion)\"],[\"Toomey, Miss. Ellen\"],[\"O'Connor, Mr. Maurice\"],[\"Anderson, Mr. Harry\"],[\"Morley, Mr. William\"],[\"Gee, Mr. Arthur H\"],[\"Milling, Mr. Jacob Christian\"],[\"Maisner, Mr. Simon\"],[\"Goncalves, Mr. Manuel Estanslas\"],[\"Campbell, Mr. William\"],[\"Smart, Mr. John Montgomery\"],[\"Scanlan, Mr. James\"],[\"Baclini, Miss. Helene Barbara\"],[\"Keefe, Mr. Arthur\"],[\"Cacic, Mr. Luka\"],[\"West, Mrs. Edwy Arthur (Ada Mary Worth)\"],[\"Jerwan, Mrs. Amin S (Marie Marthe Thuillard)\"],[\"Strandberg, Miss. Ida Sofia\"],[\"Clifford, Mr. George Quincy\"],[\"Renouf, Mr. Peter Henry\"],[\"Braund, Mr. Lewis Richard\"],[\"Karlsson, Mr. Nils August\"],[\"Hirvonen, Miss. Hildur E\"],[\"Goodwin, Master. Harold Victor\"],[\"Frost, Mr. Anthony Wood \\\"Archie\\\"\"],[\"Rouse, Mr. Richard Henry\"],[\"Turkula, Mrs. (Hedwig)\"],[\"Bishop, Mr. Dickinson H\"],[\"Lefebre, Miss. Jeannie\"],[\"Hoyt, Mrs. Frederick Maxfield (Jane Anne Forby)\"],[\"Kent, Mr. Edward Austin\"],[\"Somerton, Mr. Francis William\"],[\"Coutts, Master. Eden Leslie \\\"Neville\\\"\"],[\"Hagland, Mr. Konrad Mathias Reiersen\"],[\"Windelov, Mr. Einar\"],[\"Molson, Mr. Harry Markland\"],[\"Artagaveytia, Mr. Ramon\"],[\"Stanley, Mr. Edward Roland\"],[\"Yousseff, Mr. Gerious\"],[\"Eustis, Miss. Elizabeth Mussey\"],[\"Shellard, Mr. Frederick William\"],[\"Allison, Mrs. Hudson J C (Bessie Waldo Daniels)\"],[\"Svensson, Mr. Olof\"],[\"Calic, Mr. Petar\"],[\"Canavan, Miss. Mary\"],[\"O'Sullivan, Miss. Bridget Mary\"],[\"Laitinen, Miss. Kristina Sofia\"],[\"Maioni, Miss. Roberta\"],[\"Penasco y Castellana, Mr. Victor de Satode\"],[\"Quick, Mrs. Frederick Charles (Jane Richards)\"],[\"Bradley, Mr. George (\\\"George Arthur Brayton\\\")\"],[\"Olsen, Mr. Henry Margido\"],[\"Lang, Mr. Fang\"],[\"Daly, Mr. Eugene Patrick\"],[\"Webber, Mr. James\"],[\"McGough, Mr. James Robert\"],[\"Rothschild, Mrs. Martin (Elizabeth L. Barrett)\"],[\"Coleff, Mr. Satio\"],[\"Walker, Mr. William Anderson\"],[\"Lemore, Mrs. (Amelia Milley)\"],[\"Ryan, Mr. Patrick\"],[\"Angle, Mrs. William A (Florence \\\"Mary\\\" Agnes Hughes)\"],[\"Pavlovic, Mr. Stefo\"],[\"Perreault, Miss. Anne\"],[\"Vovk, Mr. Janko\"],[\"Lahoud, Mr. Sarkis\"],[\"Hippach, Mrs. Louis Albert (Ida Sophia Fischer)\"],[\"Kassem, Mr. Fared\"],[\"Farrell, Mr. James\"],[\"Ridsdale, Miss. Lucy\"],[\"Farthing, Mr. John\"],[\"Salonen, Mr. Johan Werner\"],[\"Hocking, Mr. Richard George\"],[\"Quick, Miss. Phyllis May\"],[\"Toufik, Mr. Nakli\"],[\"Elias, Mr. Joseph Jr\"],[\"Peter, Mrs. Catherine (Catherine Rizk)\"],[\"Cacic, Miss. Marija\"],[\"Hart, Miss. Eva Miriam\"],[\"Butt, Major. Archibald Willingham\"],[\"LeRoy, Miss. Bertha\"],[\"Risien, Mr. Samuel Beard\"],[\"Frolicher, Miss. Hedwig Margaritha\"],[\"Crosby, Miss. Harriet R\"],[\"Andersson, Miss. Ingeborg Constanzia\"],[\"Andersson, Miss. Sigrid Elisabeth\"],[\"Beane, Mr. Edward\"],[\"Douglas, Mr. Walter Donald\"],[\"Nicholson, Mr. Arthur Ernest\"],[\"Beane, Mrs. Edward (Ethel Clarke)\"],[\"Padro y Manent, Mr. Julian\"],[\"Goldsmith, Mr. Frank John\"],[\"Davies, Master. John Morgan Jr\"],[\"Thayer, Mr. John Borland Jr\"],[\"Sharp, Mr. Percival James R\"],[\"O'Brien, Mr. Timothy\"],[\"Leeni, Mr. Fahim (\\\"Philip Zenni\\\")\"],[\"Ohman, Miss. Velin\"],[\"Wright, Mr. George\"],[\"Duff Gordon, Lady. (Lucille Christiana Sutherland) (\\\"Mrs Morgan\\\")\"],[\"Robbins, Mr. Victor\"],[\"Taussig, Mrs. Emil (Tillie Mandelbaum)\"],[\"de Messemaeker, Mrs. Guillaume Joseph (Emma)\"],[\"Morrow, Mr. Thomas Rowan\"],[\"Sivic, Mr. Husein\"],[\"Norman, Mr. Robert Douglas\"],[\"Simmons, Mr. John\"],[\"Meanwell, Miss. (Marion Ogden)\"],[\"Davies, Mr. Alfred J\"],[\"Stoytcheff, Mr. Ilia\"],[\"Palsson, Mrs. Nils (Alma Cornelia Berglund)\"],[\"Doharr, Mr. Tannous\"],[\"Jonsson, Mr. Carl\"],[\"Harris, Mr. George\"],[\"Appleton, Mrs. Edward Dale (Charlotte Lamson)\"],[\"Flynn, Mr. John Irwin (\\\"Irving\\\")\"],[\"Kelly, Miss. Mary\"],[\"Rush, Mr. Alfred George John\"],[\"Patchett, Mr. George\"],[\"Garside, Miss. Ethel\"],[\"Silvey, Mrs. William Baird (Alice Munger)\"],[\"Caram, Mrs. Joseph (Maria Elias)\"],[\"Jussila, Mr. Eiriik\"],[\"Christy, Miss. Julie Rachel\"],[\"Thayer, Mrs. John Borland (Marian Longstreth Morris)\"],[\"Downton, Mr. William James\"],[\"Ross, Mr. John Hugo\"],[\"Paulner, Mr. Uscher\"],[\"Taussig, Miss. Ruth\"],[\"Jarvis, Mr. John Denzil\"],[\"Frolicher-Stehli, Mr. Maxmillian\"],[\"Gilinski, Mr. Eliezer\"],[\"Murdlin, Mr. Joseph\"],[\"Rintamaki, Mr. Matti\"],[\"Stephenson, Mrs. Walter Bertram (Martha Eustis)\"],[\"Elsbury, Mr. William James\"],[\"Bourke, Miss. Mary\"],[\"Chapman, Mr. John Henry\"],[\"Van Impe, Mr. Jean Baptiste\"],[\"Leitch, Miss. Jessie Wills\"],[\"Johnson, Mr. Alfred\"],[\"Boulos, Mr. Hanna\"],[\"Duff Gordon, Sir. Cosmo Edmund (\\\"Mr Morgan\\\")\"],[\"Jacobsohn, Mrs. Sidney Samuel (Amy Frances Christy)\"],[\"Slabenoff, Mr. Petco\"],[\"Harrington, Mr. Charles H\"],[\"Torber, Mr. Ernst William\"],[\"Homer, Mr. Harry (\\\"Mr E Haven\\\")\"],[\"Lindell, Mr. Edvard Bengtsson\"],[\"Karaic, Mr. Milan\"],[\"Daniel, Mr. Robert Williams\"],[\"Laroche, Mrs. Joseph (Juliette Marie Louise Lafargue)\"],[\"Shutes, Miss. Elizabeth W\"],[\"Andersson, Mrs. Anders Johan (Alfrida Konstantia Brogren)\"],[\"Jardin, Mr. Jose Neto\"],[\"Murphy, Miss. Margaret Jane\"],[\"Horgan, Mr. John\"],[\"Brocklebank, Mr. William Alfred\"],[\"Herman, Miss. Alice\"],[\"Danbom, Mr. Ernst Gilbert\"],[\"Lobb, Mrs. William Arthur (Cordelia K Stanlick)\"],[\"Becker, Miss. Marion Louise\"],[\"Gavey, Mr. Lawrence\"],[\"Yasbeck, Mr. Antoni\"],[\"Kimball, Mr. Edwin Nelson Jr\"],[\"Nakid, Mr. Sahid\"],[\"Hansen, Mr. Henry Damsgaard\"],[\"Bowen, Mr. David John \\\"Dai\\\"\"],[\"Sutton, Mr. Frederick\"],[\"Kirkland, Rev. Charles Leonard\"],[\"Longley, Miss. Gretchen Fiske\"],[\"Bostandyeff, Mr. Guentcho\"],[\"O'Connell, Mr. Patrick D\"],[\"Barkworth, Mr. Algernon Henry Wilson\"],[\"Lundahl, Mr. Johan Svensson\"],[\"Stahelin-Maeglin, Dr. Max\"],[\"Parr, Mr. William Henry Marsh\"],[\"Skoog, Miss. Mabel\"],[\"Davis, Miss. Mary\"],[\"Leinonen, Mr. Antti Gustaf\"],[\"Collyer, Mr. Harvey\"],[\"Panula, Mrs. Juha (Maria Emilia Ojala)\"],[\"Thorneycroft, Mr. Percival\"],[\"Jensen, Mr. Hans Peder\"],[\"Sagesser, Mlle. Emma\"],[\"Skoog, Miss. Margit Elizabeth\"],[\"Foo, Mr. Choong\"],[\"Baclini, Miss. Eugenie\"],[\"Harper, Mr. Henry Sleeper\"],[\"Cor, Mr. Liudevit\"],[\"Simonius-Blumer, Col. Oberst Alfons\"],[\"Willey, Mr. Edward\"],[\"Stanley, Miss. Amy Zillah Elsie\"],[\"Mitkoff, Mr. Mito\"],[\"Doling, Miss. Elsie\"],[\"Kalvik, Mr. Johannes Halvorsen\"],[\"O'Leary, Miss. Hanora \\\"Norah\\\"\"],[\"Hegarty, Miss. Hanora \\\"Nora\\\"\"],[\"Hickman, Mr. Leonard Mark\"],[\"Radeff, Mr. Alexander\"],[\"Bourke, Mrs. John (Catherine)\"],[\"Eitemiller, Mr. George Floyd\"],[\"Newell, Mr. Arthur Webster\"],[\"Frauenthal, Dr. Henry William\"],[\"Badt, Mr. Mohamed\"],[\"Colley, Mr. Edward Pomeroy\"],[\"Coleff, Mr. Peju\"],[\"Lindqvist, Mr. Eino William\"],[\"Hickman, Mr. Lewis\"],[\"Butler, Mr. Reginald Fenton\"],[\"Rommetvedt, Mr. Knud Paust\"],[\"Cook, Mr. Jacob\"],[\"Taylor, Mrs. Elmer Zebley (Juliet Cummins Wright)\"],[\"Brown, Mrs. Thomas William Solomon (Elizabeth Catherine Ford)\"],[\"Davidson, Mr. Thornton\"],[\"Mitchell, Mr. Henry Michael\"],[\"Wilhelms, Mr. Charles\"],[\"Watson, Mr. Ennis Hastings\"],[\"Edvardsson, Mr. Gustaf Hjalmar\"],[\"Sawyer, Mr. Frederick Charles\"],[\"Turja, Miss. Anna Sofia\"],[\"Goodwin, Mrs. Frederick (Augusta Tyler)\"],[\"Cardeza, Mr. Thomas Drake Martinez\"],[\"Peters, Miss. Katie\"],[\"Hassab, Mr. Hammad\"],[\"Olsvigen, Mr. Thor Anderson\"],[\"Goodwin, Mr. Charles Edward\"],[\"Brown, Mr. Thomas William Solomon\"],[\"Laroche, Mr. Joseph Philippe Lemercier\"],[\"Panula, Mr. Jaako Arnold\"],[\"Dakic, Mr. Branko\"],[\"Fischer, Mr. Eberhard Thelander\"],[\"Madill, Miss. Georgette Alexandra\"],[\"Dick, Mr. Albert Adrian\"],[\"Karun, Miss. Manca\"],[\"Lam, Mr. Ali\"],[\"Saad, Mr. Khalil\"],[\"Weir, Col. John\"],[\"Chapman, Mr. Charles Henry\"],[\"Kelly, Mr. James\"],[\"Mullens, Miss. Katherine \\\"Katie\\\"\"],[\"Thayer, Mr. John Borland\"],[\"Humblen, Mr. Adolf Mathias Nicolai Olsen\"],[\"Astor, Mrs. John Jacob (Madeleine Talmadge Force)\"],[\"Silverthorne, Mr. Spencer Victor\"],[\"Barbara, Miss. Saiide\"],[\"Gallagher, Mr. Martin\"],[\"Hansen, Mr. Henrik Juul\"],[\"Morley, Mr. Henry Samuel (\\\"Mr Henry Marshall\\\")\"],[\"Kelly, Mrs. Florence \\\"Fannie\\\"\"],[\"Calderhead, Mr. Edward Pennington\"],[\"Cleaver, Miss. Alice\"],[\"Moubarek, Master. Halim Gonios (\\\"William George\\\")\"],[\"Mayne, Mlle. Berthe Antonine (\\\"Mrs de Villiers\\\")\"],[\"Klaber, Mr. Herman\"],[\"Taylor, Mr. Elmer Zebley\"],[\"Larsson, Mr. August Viktor\"],[\"Greenberg, Mr. Samuel\"],[\"Soholt, Mr. Peter Andreas Lauritz Andersen\"],[\"Endres, Miss. Caroline Louise\"],[\"Troutt, Miss. Edwina Celia \\\"Winnie\\\"\"],[\"McEvoy, Mr. Michael\"],[\"Johnson, Mr. Malkolm Joackim\"],[\"Harper, Miss. Annie Jessie \\\"Nina\\\"\"],[\"Jensen, Mr. Svend Lauritz\"],[\"Gillespie, Mr. William Henry\"],[\"Hodges, Mr. Henry Price\"],[\"Chambers, Mr. Norman Campbell\"],[\"Oreskovic, Mr. Luka\"],[\"Renouf, Mrs. Peter Henry (Lillian Jefferys)\"],[\"Mannion, Miss. Margareth\"],[\"Bryhl, Mr. Kurt Arnold Gottfrid\"],[\"Ilmakangas, Miss. Pieta Sofia\"],[\"Allen, Miss. Elisabeth Walton\"],[\"Hassan, Mr. Houssein G N\"],[\"Knight, Mr. Robert J\"],[\"Berriman, Mr. William John\"],[\"Troupiansky, Mr. Moses Aaron\"],[\"Williams, Mr. Leslie\"],[\"Ford, Mrs. Edward (Margaret Ann Watson)\"],[\"Lesurer, Mr. Gustave J\"],[\"Ivanoff, Mr. Kanio\"],[\"Nankoff, Mr. Minko\"],[\"Hawksford, Mr. Walter James\"],[\"Cavendish, Mr. Tyrell William\"],[\"Ryerson, Miss. Susan Parker \\\"Suzette\\\"\"],[\"McNamee, Mr. Neal\"],[\"Stranden, Mr. Juho\"],[\"Crosby, Capt. Edward Gifford\"],[\"Abbott, Mr. Rossmore Edward\"],[\"Sinkkonen, Miss. Anna\"],[\"Marvin, Mr. Daniel Warner\"],[\"Connaghton, Mr. Michael\"],[\"Wells, Miss. Joan\"],[\"Moor, Master. Meier\"],[\"Vande Velde, Mr. Johannes Joseph\"],[\"Jonkoff, Mr. Lalio\"],[\"Herman, Mrs. Samuel (Jane Laver)\"],[\"Hamalainen, Master. Viljo\"],[\"Carlsson, Mr. August Sigfrid\"],[\"Bailey, Mr. Percy Andrew\"],[\"Theobald, Mr. Thomas Leonard\"],[\"Rothes, the Countess. of (Lucy Noel Martha Dyer-Edwards)\"],[\"Garfirth, Mr. John\"],[\"Nirva, Mr. Iisakki Antino Aijo\"],[\"Barah, Mr. Hanna Assi\"],[\"Carter, Mrs. William Ernest (Lucile Polk)\"],[\"Eklund, Mr. Hans Linus\"],[\"Hogeboom, Mrs. John C (Anna Andrews)\"],[\"Brewe, Dr. Arthur Jackson\"],[\"Mangan, Miss. Mary\"],[\"Moran, Mr. Daniel J\"],[\"Gronnestad, Mr. Daniel Danielsen\"],[\"Lievens, Mr. Rene Aime\"],[\"Jensen, Mr. Niels Peder\"],[\"Mack, Mrs. (Mary)\"],[\"Elias, Mr. Dibo\"],[\"Hocking, Mrs. Elizabeth (Eliza Needs)\"],[\"Myhrman, Mr. Pehr Fabian Oliver Malkolm\"],[\"Tobin, Mr. Roger\"],[\"Emanuel, Miss. Virginia Ethel\"],[\"Kilgannon, Mr. Thomas J\"],[\"Robert, Mrs. Edward Scott (Elisabeth Walton McMillan)\"],[\"Ayoub, Miss. Banoura\"],[\"Dick, Mrs. Albert Adrian (Vera Gillespie)\"],[\"Long, Mr. Milton Clyde\"],[\"Johnston, Mr. Andrew G\"],[\"Ali, Mr. William\"],[\"Harmer, Mr. Abraham (David Lishin)\"],[\"Sjoblom, Miss. Anna Sofia\"],[\"Rice, Master. George Hugh\"],[\"Dean, Master. Bertram Vere\"],[\"Guggenheim, Mr. Benjamin\"],[\"Keane, Mr. Andrew \\\"Andy\\\"\"],[\"Gaskell, Mr. Alfred\"],[\"Sage, Miss. Stella Anna\"],[\"Hoyt, Mr. William Fisher\"],[\"Dantcheff, Mr. Ristiu\"],[\"Otter, Mr. Richard\"],[\"Leader, Dr. Alice (Farnham)\"],[\"Osman, Mrs. Mara\"],[\"Ibrahim Shawah, Mr. Yousseff\"],[\"Van Impe, Mrs. Jean Baptiste (Rosalie Paula Govaert)\"],[\"Ponesell, Mr. Martin\"],[\"Collyer, Mrs. Harvey (Charlotte Annie Tate)\"],[\"Carter, Master. William Thornton II\"],[\"Thomas, Master. Assad Alexander\"],[\"Hedman, Mr. Oskar Arvid\"],[\"Johansson, Mr. Karl Johan\"],[\"Andrews, Mr. Thomas Jr\"],[\"Pettersson, Miss. Ellen Natalia\"],[\"Meyer, Mr. August\"],[\"Chambers, Mrs. Norman Campbell (Bertha Griggs)\"],[\"Alexander, Mr. William\"],[\"Lester, Mr. James\"],[\"Slemen, Mr. Richard James\"],[\"Andersson, Miss. Ebba Iris Alfrida\"],[\"Tomlin, Mr. Ernest Portage\"],[\"Fry, Mr. Richard\"],[\"Heininen, Miss. Wendla Maria\"],[\"Mallet, Mr. Albert\"],[\"Holm, Mr. John Fredrik Alexander\"],[\"Skoog, Master. Karl Thorsten\"],[\"Hays, Mrs. Charles Melville (Clara Jennings Gregg)\"],[\"Lulic, Mr. Nikola\"],[\"Reuchlin, Jonkheer. John George\"],[\"Moor, Mrs. (Beila)\"],[\"Panula, Master. Urho Abraham\"],[\"Flynn, Mr. John\"],[\"Lam, Mr. Len\"],[\"Mallet, Master. Andre\"],[\"McCormack, Mr. Thomas Joseph\"],[\"Stone, Mrs. George Nelson (Martha Evelyn)\"],[\"Yasbeck, Mrs. Antoni (Selini Alexander)\"],[\"Richards, Master. George Sibley\"],[\"Saad, Mr. Amin\"],[\"Augustsson, Mr. Albert\"],[\"Allum, Mr. Owen George\"],[\"Compton, Miss. Sara Rebecca\"],[\"Pasic, Mr. Jakob\"],[\"Sirota, Mr. Maurice\"],[\"Chip, Mr. Chang\"],[\"Marechal, Mr. Pierre\"],[\"Alhomaki, Mr. Ilmari Rudolf\"],[\"Mudd, Mr. Thomas Charles\"],[\"Serepeca, Miss. Augusta\"],[\"Lemberopolous, Mr. Peter L\"],[\"Culumovic, Mr. Jeso\"],[\"Abbing, Mr. Anthony\"],[\"Sage, Mr. Douglas Bullen\"],[\"Markoff, Mr. Marin\"],[\"Harper, Rev. John\"],[\"Goldenberg, Mrs. Samuel L (Edwiga Grabowska)\"],[\"Andersson, Master. Sigvard Harald Elias\"],[\"Svensson, Mr. Johan\"],[\"Boulos, Miss. Nourelain\"],[\"Lines, Miss. Mary Conover\"],[\"Carter, Mrs. Ernest Courtenay (Lilian Hughes)\"],[\"Aks, Mrs. Sam (Leah Rosen)\"],[\"Wick, Mrs. George Dennick (Mary Hitchcock)\"],[\"Daly, Mr. Peter Denis \"],[\"Baclini, Mrs. Solomon (Latifa Qurban)\"],[\"Razi, Mr. Raihed\"],[\"Hansen, Mr. Claus Peter\"],[\"Giles, Mr. Frederick Edward\"],[\"Swift, Mrs. Frederick Joel (Margaret Welles Barron)\"],[\"Sage, Miss. Dorothy Edith \\\"Dolly\\\"\"],[\"Gill, Mr. John William\"],[\"Bystrom, Mrs. (Karolina)\"],[\"Duran y More, Miss. Asuncion\"],[\"Roebling, Mr. Washington Augustus II\"],[\"van Melkebeke, Mr. Philemon\"],[\"Johnson, Master. Harold Theodor\"],[\"Balkic, Mr. Cerin\"],[\"Beckwith, Mrs. Richard Leonard (Sallie Monypeny)\"],[\"Carlsson, Mr. Frans Olof\"],[\"Vander Cruyssen, Mr. Victor\"],[\"Abelson, Mrs. Samuel (Hannah Wizosky)\"],[\"Najib, Miss. Adele Kiamie \\\"Jane\\\"\"],[\"Gustafsson, Mr. Alfred Ossian\"],[\"Petroff, Mr. Nedelio\"],[\"Laleff, Mr. Kristo\"],[\"Potter, Mrs. Thomas Jr (Lily Alexenia Wilson)\"],[\"Shelley, Mrs. William (Imanita Parrish Hall)\"],[\"Markun, Mr. Johann\"],[\"Dahlberg, Miss. Gerda Ulrika\"],[\"Banfield, Mr. Frederick James\"],[\"Sutehall, Mr. Henry Jr\"],[\"Rice, Mrs. William (Margaret Norton)\"],[\"Montvila, Rev. Juozas\"],[\"Graham, Miss. Margaret Edith\"],[\"Johnston, Miss. Catherine Helen \\\"Carrie\\\"\"],[\"Behr, Mr. Karl Howell\"],[\"Dooley, Mr. Patrick\"]],\"hovertemplate\":\"Age=%{x}\\u003cbr\\u003eSex=%{y}\\u003cbr\\u003eName=%{customdata[0]}\\u003cextra\\u003e\\u003c\\u002fextra\\u003e\",\"legendgroup\":\"\",\"marker\":{\"color\":\"#1F77B4\",\"opacity\":0.5,\"pattern\":{\"shape\":\"\"}},\"name\":\"\",\"offsetgroup\":\"\",\"orientation\":\"h\",\"showlegend\":false,\"textposition\":\"auto\",\"x\":[22.0,38.0,26.0,35.0,35.0,null,54.0,2.0,27.0,14.0,4.0,58.0,20.0,39.0,14.0,55.0,2.0,null,31.0,null,35.0,34.0,15.0,28.0,8.0,38.0,null,19.0,null,null,40.0,null,null,66.0,28.0,42.0,null,21.0,18.0,14.0,40.0,27.0,null,3.0,19.0,null,null,null,null,18.0,7.0,21.0,49.0,29.0,65.0,null,21.0,28.5,5.0,11.0,22.0,38.0,45.0,4.0,null,null,29.0,19.0,17.0,26.0,32.0,16.0,21.0,26.0,32.0,25.0,null,null,0.83,30.0,22.0,29.0,null,28.0,17.0,33.0,16.0,null,23.0,24.0,29.0,20.0,46.0,26.0,59.0,null,71.0,23.0,34.0,34.0,28.0,null,21.0,33.0,37.0,28.0,21.0,null,38.0,null,47.0,14.5,22.0,20.0,17.0,21.0,70.5,29.0,24.0,2.0,21.0,null,32.5,32.5,54.0,12.0,null,24.0,null,45.0,33.0,20.0,47.0,29.0,25.0,23.0,19.0,37.0,16.0,24.0,null,22.0,24.0,19.0,18.0,19.0,27.0,9.0,36.5,42.0,51.0,22.0,55.5,40.5,null,51.0,16.0,30.0,null,null,44.0,40.0,26.0,17.0,1.0,9.0,null,45.0,null,28.0,61.0,4.0,1.0,21.0,56.0,18.0,null,50.0,30.0,36.0,null,null,9.0,1.0,4.0,null,null,45.0,40.0,36.0,32.0,19.0,19.0,3.0,44.0,58.0,null,42.0,null,24.0,28.0,null,34.0,45.5,18.0,2.0,32.0,26.0,16.0,40.0,24.0,35.0,22.0,30.0,null,31.0,27.0,42.0,32.0,30.0,16.0,27.0,51.0,null,38.0,22.0,19.0,20.5,18.0,null,35.0,29.0,59.0,5.0,24.0,null,44.0,8.0,19.0,33.0,null,null,29.0,22.0,30.0,44.0,25.0,24.0,37.0,54.0,null,29.0,62.0,30.0,41.0,29.0,null,30.0,35.0,50.0,null,3.0,52.0,40.0,null,36.0,16.0,25.0,58.0,35.0,null,25.0,41.0,37.0,null,63.0,45.0,null,7.0,35.0,65.0,28.0,16.0,19.0,null,33.0,30.0,22.0,42.0,22.0,26.0,19.0,36.0,24.0,24.0,null,23.5,2.0,null,50.0,null,null,19.0,null,null,0.92,null,17.0,30.0,30.0,24.0,18.0,26.0,28.0,43.0,26.0,24.0,54.0,31.0,40.0,22.0,27.0,30.0,22.0,null,36.0,61.0,36.0,31.0,16.0,null,45.5,38.0,16.0,null,null,29.0,41.0,45.0,45.0,2.0,24.0,28.0,25.0,36.0,24.0,40.0,null,3.0,42.0,23.0,null,15.0,25.0,null,28.0,22.0,38.0,null,null,40.0,29.0,45.0,35.0,null,30.0,60.0,null,null,24.0,25.0,18.0,19.0,22.0,3.0,null,22.0,27.0,20.0,19.0,42.0,1.0,32.0,35.0,null,18.0,1.0,36.0,null,17.0,36.0,21.0,28.0,23.0,24.0,22.0,31.0,46.0,23.0,28.0,39.0,26.0,21.0,28.0,20.0,34.0,51.0,3.0,21.0,null,null,null,33.0,null,44.0,null,34.0,18.0,30.0,10.0,null,21.0,29.0,28.0,18.0,null,28.0,19.0,null,32.0,28.0,null,42.0,17.0,50.0,14.0,21.0,24.0,64.0,31.0,45.0,20.0,25.0,28.0,null,4.0,13.0,34.0,5.0,52.0,36.0,null,30.0,49.0,null,29.0,65.0,null,50.0,null,48.0,34.0,47.0,48.0,null,38.0,null,56.0,null,0.75,null,38.0,33.0,23.0,22.0,null,34.0,29.0,22.0,2.0,9.0,null,50.0,63.0,25.0,null,35.0,58.0,30.0,9.0,null,21.0,55.0,71.0,21.0,null,54.0,null,25.0,24.0,17.0,21.0,null,37.0,16.0,18.0,33.0,null,28.0,26.0,29.0,null,36.0,54.0,24.0,47.0,34.0,null,36.0,32.0,30.0,22.0,null,44.0,null,40.5,50.0,null,39.0,23.0,2.0,null,17.0,null,30.0,7.0,45.0,30.0,null,22.0,36.0,9.0,11.0,32.0,50.0,64.0,19.0,null,33.0,8.0,17.0,27.0,null,22.0,22.0,62.0,48.0,null,39.0,36.0,null,40.0,28.0,null,null,24.0,19.0,29.0,null,32.0,62.0,53.0,36.0,null,16.0,19.0,34.0,39.0,null,32.0,25.0,39.0,54.0,36.0,null,18.0,47.0,60.0,22.0,null,35.0,52.0,47.0,null,37.0,36.0,null,49.0,null,49.0,24.0,null,null,44.0,35.0,36.0,30.0,27.0,22.0,40.0,39.0,null,null,null,35.0,24.0,34.0,26.0,4.0,26.0,27.0,42.0,20.0,21.0,21.0,61.0,57.0,21.0,26.0,null,80.0,51.0,32.0,null,9.0,28.0,32.0,31.0,41.0,null,20.0,24.0,2.0,null,0.75,48.0,19.0,56.0,null,23.0,null,18.0,21.0,null,18.0,24.0,null,32.0,23.0,58.0,50.0,40.0,47.0,36.0,20.0,32.0,25.0,null,43.0,null,40.0,31.0,70.0,31.0,null,18.0,24.5,18.0,43.0,36.0,null,27.0,20.0,14.0,60.0,25.0,14.0,19.0,18.0,15.0,31.0,4.0,null,25.0,60.0,52.0,44.0,null,49.0,42.0,18.0,35.0,18.0,25.0,26.0,39.0,45.0,42.0,22.0,null,24.0,null,48.0,29.0,52.0,19.0,38.0,27.0,null,33.0,6.0,17.0,34.0,50.0,27.0,20.0,30.0,null,25.0,25.0,29.0,11.0,null,23.0,23.0,28.5,48.0,35.0,null,null,null,36.0,21.0,24.0,31.0,70.0,16.0,30.0,19.0,31.0,4.0,6.0,33.0,23.0,48.0,0.67,28.0,18.0,34.0,33.0,null,41.0,20.0,36.0,16.0,51.0,null,30.5,null,32.0,24.0,48.0,57.0,null,54.0,18.0,null,5.0,null,43.0,13.0,17.0,29.0,null,25.0,25.0,18.0,8.0,1.0,46.0,null,16.0,null,null,25.0,39.0,49.0,31.0,30.0,30.0,34.0,31.0,11.0,0.42,27.0,31.0,39.0,18.0,39.0,33.0,26.0,39.0,35.0,6.0,30.5,null,23.0,31.0,43.0,10.0,52.0,27.0,38.0,27.0,2.0,null,null,1.0,null,62.0,15.0,0.83,null,23.0,18.0,39.0,21.0,null,32.0,null,20.0,16.0,30.0,34.5,17.0,42.0,null,35.0,28.0,null,4.0,74.0,9.0,16.0,44.0,18.0,45.0,51.0,24.0,null,41.0,21.0,48.0,null,24.0,42.0,27.0,31.0,null,4.0,26.0,47.0,33.0,47.0,28.0,15.0,20.0,19.0,null,56.0,25.0,33.0,22.0,28.0,25.0,39.0,27.0,19.0,null,26.0,32.0],\"xaxis\":\"x\",\"y\":[\"male\",\"female\",\"female\",\"female\",\"male\",\"male\",\"male\",\"male\",\"female\",\"female\",\"female\",\"female\",\"male\",\"male\",\"female\",\"female\",\"male\",\"male\",\"female\",\"female\",\"male\",\"male\",\"female\",\"male\",\"female\",\"female\",\"male\",\"male\",\"female\",\"male\",\"male\",\"female\",\"female\",\"male\",\"male\",\"male\",\"male\",\"male\",\"female\",\"female\",\"female\",\"female\",\"male\",\"female\",\"female\",\"male\",\"male\",\"female\",\"male\",\"female\",\"male\",\"male\",\"female\",\"female\",\"male\",\"male\",\"female\",\"male\",\"female\",\"male\",\"male\",\"female\",\"male\",\"male\",\"male\",\"male\",\"female\",\"male\",\"female\",\"male\",\"male\",\"female\",\"male\",\"male\",\"male\",\"male\",\"male\",\"male\",\"male\",\"female\",\"male\",\"male\",\"female\",\"male\",\"female\",\"female\",\"male\",\"male\",\"female\",\"male\",\"male\",\"male\",\"male\",\"male\",\"male\",\"male\",\"male\",\"male\",\"female\",\"male\",\"female\",\"male\",\"male\",\"male\",\"male\",\"male\",\"female\",\"male\",\"male\",\"female\",\"male\",\"female\",\"male\",\"female\",\"female\",\"male\",\"male\",\"male\",\"male\",\"female\",\"male\",\"male\",\"male\",\"female\",\"male\",\"male\",\"male\",\"male\",\"female\",\"male\",\"male\",\"male\",\"female\",\"female\",\"male\",\"male\",\"female\",\"male\",\"male\",\"male\",\"female\",\"female\",\"female\",\"male\",\"male\",\"male\",\"male\",\"female\",\"male\",\"male\",\"male\",\"female\",\"male\",\"male\",\"male\",\"male\",\"female\",\"male\",\"male\",\"male\",\"male\",\"female\",\"male\",\"male\",\"male\",\"male\",\"female\",\"female\",\"male\",\"male\",\"male\",\"male\",\"female\",\"male\",\"male\",\"male\",\"male\",\"female\",\"male\",\"male\",\"female\",\"male\",\"male\",\"male\",\"female\",\"male\",\"female\",\"male\",\"male\",\"male\",\"female\",\"male\",\"female\",\"male\",\"female\",\"female\",\"male\",\"male\",\"female\",\"female\",\"male\",\"male\",\"male\",\"male\",\"male\",\"female\",\"male\",\"male\",\"female\",\"male\",\"male\",\"female\",\"male\",\"male\",\"male\",\"female\",\"female\",\"male\",\"female\",\"male\",\"male\",\"male\",\"male\",\"male\",\"male\",\"male\",\"male\",\"male\",\"male\",\"female\",\"female\",\"male\",\"male\",\"female\",\"male\",\"female\",\"male\",\"female\",\"male\",\"male\",\"female\",\"female\",\"male\",\"male\",\"male\",\"male\",\"female\",\"female\",\"male\",\"male\",\"male\",\"female\",\"male\",\"male\",\"female\",\"female\",\"female\",\"female\",\"female\",\"female\",\"male\",\"male\",\"male\",\"male\",\"female\",\"male\",\"male\",\"male\",\"female\",\"female\",\"male\",\"male\",\"female\",\"male\",\"female\",\"female\",\"female\",\"male\",\"male\",\"female\",\"male\",\"male\",\"male\",\"male\",\"male\",\"male\",\"male\",\"male\",\"male\",\"female\",\"female\",\"female\",\"male\",\"female\",\"male\",\"male\",\"male\",\"female\",\"male\",\"female\",\"female\",\"male\",\"male\",\"female\",\"male\",\"male\",\"female\",\"female\",\"male\",\"female\",\"female\",\"female\",\"female\",\"male\",\"male\",\"female\",\"female\",\"male\",\"female\",\"female\",\"male\",\"male\",\"female\",\"female\",\"male\",\"female\",\"male\",\"female\",\"female\",\"female\",\"female\",\"male\",\"male\",\"male\",\"female\",\"male\",\"male\",\"female\",\"male\",\"male\",\"male\",\"female\",\"male\",\"male\",\"male\",\"female\",\"female\",\"female\",\"male\",\"male\",\"male\",\"male\",\"male\",\"male\",\"male\",\"male\",\"female\",\"female\",\"female\",\"female\",\"male\",\"male\",\"female\",\"male\",\"male\",\"male\",\"female\",\"female\",\"female\",\"female\",\"male\",\"male\",\"male\",\"male\",\"female\",\"female\",\"female\",\"male\",\"male\",\"male\",\"female\",\"female\",\"male\",\"female\",\"male\",\"male\",\"male\",\"female\",\"male\",\"female\",\"male\",\"male\",\"male\",\"female\",\"female\",\"male\",\"female\",\"male\",\"male\",\"female\",\"male\",\"male\",\"female\",\"male\",\"female\",\"male\",\"male\",\"male\",\"male\",\"female\",\"male\",\"male\",\"female\",\"male\",\"male\",\"female\",\"female\",\"female\",\"male\",\"female\",\"male\",\"male\",\"male\",\"female\",\"male\",\"male\",\"female\",\"female\",\"male\",\"male\",\"male\",\"female\",\"female\",\"male\",\"male\",\"female\",\"female\",\"female\",\"male\",\"male\",\"female\",\"male\",\"male\",\"female\",\"male\",\"male\",\"female\",\"male\",\"female\",\"male\",\"male\",\"male\",\"male\",\"male\",\"male\",\"male\",\"male\",\"female\",\"female\",\"male\",\"male\",\"male\",\"male\",\"male\",\"male\",\"male\",\"male\",\"male\",\"male\",\"female\",\"male\",\"male\",\"female\",\"female\",\"female\",\"male\",\"male\",\"male\",\"male\",\"female\",\"male\",\"male\",\"male\",\"female\",\"male\",\"female\",\"female\",\"male\",\"male\",\"male\",\"male\",\"male\",\"male\",\"male\",\"male\",\"male\",\"female\",\"male\",\"female\",\"male\",\"male\",\"female\",\"female\",\"female\",\"female\",\"male\",\"female\",\"male\",\"male\",\"male\",\"male\",\"male\",\"male\",\"female\",\"male\",\"male\",\"female\",\"male\",\"female\",\"male\",\"female\",\"male\",\"male\",\"female\",\"male\",\"male\",\"female\",\"male\",\"male\",\"male\",\"female\",\"male\",\"male\",\"female\",\"female\",\"female\",\"male\",\"female\",\"male\",\"female\",\"female\",\"female\",\"female\",\"male\",\"male\",\"male\",\"female\",\"male\",\"male\",\"male\",\"male\",\"male\",\"male\",\"male\",\"female\",\"male\",\"female\",\"male\",\"female\",\"female\",\"male\",\"male\",\"male\",\"male\",\"female\",\"male\",\"male\",\"female\",\"male\",\"male\",\"male\",\"female\",\"male\",\"female\",\"male\",\"male\",\"female\",\"female\",\"female\",\"male\",\"female\",\"female\",\"male\",\"male\",\"male\",\"female\",\"male\",\"male\",\"male\",\"male\",\"male\",\"female\",\"male\",\"female\",\"male\",\"male\",\"female\",\"male\",\"male\",\"male\",\"female\",\"male\",\"male\",\"male\",\"male\",\"male\",\"male\",\"male\",\"female\",\"female\",\"female\",\"male\",\"female\",\"male\",\"male\",\"female\",\"male\",\"female\",\"female\",\"male\",\"male\",\"male\",\"male\",\"male\",\"male\",\"male\",\"male\",\"female\",\"male\",\"male\",\"male\",\"male\",\"male\",\"male\",\"female\",\"female\",\"male\",\"male\",\"female\",\"male\",\"male\",\"female\",\"female\",\"male\",\"female\",\"male\",\"male\",\"male\",\"male\",\"female\",\"male\",\"female\",\"male\",\"female\",\"female\",\"male\",\"male\",\"female\",\"male\",\"male\",\"male\",\"male\",\"male\",\"male\",\"male\",\"male\",\"male\",\"male\",\"male\",\"female\",\"female\",\"male\",\"male\",\"male\",\"male\",\"male\",\"male\",\"female\",\"female\",\"male\",\"female\",\"male\",\"male\",\"male\",\"male\",\"male\",\"male\",\"male\",\"male\",\"female\",\"male\",\"female\",\"male\",\"male\",\"male\",\"male\",\"male\",\"female\",\"male\",\"male\",\"female\",\"male\",\"female\",\"male\",\"male\",\"male\",\"female\",\"male\",\"female\",\"male\",\"female\",\"male\",\"male\",\"male\",\"male\",\"male\",\"female\",\"female\",\"male\",\"male\",\"female\",\"male\",\"male\",\"male\",\"male\",\"male\",\"female\",\"female\",\"male\",\"female\",\"female\",\"male\",\"male\",\"male\",\"male\",\"male\",\"female\",\"male\",\"male\",\"male\",\"male\",\"male\",\"female\",\"male\",\"male\",\"male\",\"male\",\"female\",\"male\",\"male\",\"female\",\"male\",\"male\",\"male\",\"female\",\"male\",\"male\",\"male\",\"male\",\"female\",\"male\",\"male\",\"male\",\"female\",\"male\",\"female\",\"male\",\"female\",\"male\",\"male\",\"male\",\"male\",\"female\",\"male\",\"female\",\"male\",\"male\",\"female\",\"male\",\"female\",\"female\",\"female\",\"male\",\"male\",\"male\",\"male\",\"female\",\"male\",\"male\",\"male\",\"male\",\"male\",\"female\",\"male\",\"male\",\"male\",\"female\",\"female\",\"male\",\"female\",\"male\",\"female\",\"male\",\"male\",\"male\",\"male\",\"male\",\"female\",\"male\",\"female\",\"male\",\"male\",\"male\",\"female\",\"male\",\"male\",\"female\",\"male\",\"male\",\"male\",\"female\",\"male\",\"male\",\"female\",\"male\",\"male\",\"male\",\"male\",\"male\",\"female\",\"female\",\"male\",\"male\",\"male\",\"male\",\"female\",\"male\",\"male\",\"male\",\"male\",\"male\",\"male\",\"female\",\"male\",\"male\",\"male\",\"male\",\"male\",\"male\",\"female\",\"male\",\"male\",\"female\",\"female\",\"female\",\"female\",\"female\",\"male\",\"female\",\"male\",\"male\",\"male\",\"female\",\"female\",\"male\",\"female\",\"female\",\"male\",\"male\",\"male\",\"male\",\"female\",\"male\",\"male\",\"female\",\"female\",\"male\",\"male\",\"male\",\"female\",\"female\",\"male\",\"female\",\"male\",\"male\",\"female\",\"male\",\"female\",\"female\",\"male\",\"male\"],\"yaxis\":\"y\",\"type\":\"bar\"}],                        {\"template\":{\"data\":{\"barpolar\":[{\"marker\":{\"line\":{\"color\":\"white\",\"width\":0.5},\"pattern\":{\"fillmode\":\"overlay\",\"size\":10,\"solidity\":0.2}},\"type\":\"barpolar\"}],\"bar\":[{\"error_x\":{\"color\":\"#2a3f5f\"},\"error_y\":{\"color\":\"#2a3f5f\"},\"marker\":{\"line\":{\"color\":\"white\",\"width\":0.5},\"pattern\":{\"fillmode\":\"overlay\",\"size\":10,\"solidity\":0.2}},\"type\":\"bar\"}],\"carpet\":[{\"aaxis\":{\"endlinecolor\":\"#2a3f5f\",\"gridcolor\":\"#C8D4E3\",\"linecolor\":\"#C8D4E3\",\"minorgridcolor\":\"#C8D4E3\",\"startlinecolor\":\"#2a3f5f\"},\"baxis\":{\"endlinecolor\":\"#2a3f5f\",\"gridcolor\":\"#C8D4E3\",\"linecolor\":\"#C8D4E3\",\"minorgridcolor\":\"#C8D4E3\",\"startlinecolor\":\"#2a3f5f\"},\"type\":\"carpet\"}],\"choropleth\":[{\"colorbar\":{\"outlinewidth\":0,\"ticks\":\"\"},\"type\":\"choropleth\"}],\"contourcarpet\":[{\"colorbar\":{\"outlinewidth\":0,\"ticks\":\"\"},\"type\":\"contourcarpet\"}],\"contour\":[{\"colorbar\":{\"outlinewidth\":0,\"ticks\":\"\"},\"colorscale\":[[0.0,\"#0d0887\"],[0.1111111111111111,\"#46039f\"],[0.2222222222222222,\"#7201a8\"],[0.3333333333333333,\"#9c179e\"],[0.4444444444444444,\"#bd3786\"],[0.5555555555555556,\"#d8576b\"],[0.6666666666666666,\"#ed7953\"],[0.7777777777777778,\"#fb9f3a\"],[0.8888888888888888,\"#fdca26\"],[1.0,\"#f0f921\"]],\"type\":\"contour\"}],\"heatmapgl\":[{\"colorbar\":{\"outlinewidth\":0,\"ticks\":\"\"},\"colorscale\":[[0.0,\"#0d0887\"],[0.1111111111111111,\"#46039f\"],[0.2222222222222222,\"#7201a8\"],[0.3333333333333333,\"#9c179e\"],[0.4444444444444444,\"#bd3786\"],[0.5555555555555556,\"#d8576b\"],[0.6666666666666666,\"#ed7953\"],[0.7777777777777778,\"#fb9f3a\"],[0.8888888888888888,\"#fdca26\"],[1.0,\"#f0f921\"]],\"type\":\"heatmapgl\"}],\"heatmap\":[{\"colorbar\":{\"outlinewidth\":0,\"ticks\":\"\"},\"colorscale\":[[0.0,\"#0d0887\"],[0.1111111111111111,\"#46039f\"],[0.2222222222222222,\"#7201a8\"],[0.3333333333333333,\"#9c179e\"],[0.4444444444444444,\"#bd3786\"],[0.5555555555555556,\"#d8576b\"],[0.6666666666666666,\"#ed7953\"],[0.7777777777777778,\"#fb9f3a\"],[0.8888888888888888,\"#fdca26\"],[1.0,\"#f0f921\"]],\"type\":\"heatmap\"}],\"histogram2dcontour\":[{\"colorbar\":{\"outlinewidth\":0,\"ticks\":\"\"},\"colorscale\":[[0.0,\"#0d0887\"],[0.1111111111111111,\"#46039f\"],[0.2222222222222222,\"#7201a8\"],[0.3333333333333333,\"#9c179e\"],[0.4444444444444444,\"#bd3786\"],[0.5555555555555556,\"#d8576b\"],[0.6666666666666666,\"#ed7953\"],[0.7777777777777778,\"#fb9f3a\"],[0.8888888888888888,\"#fdca26\"],[1.0,\"#f0f921\"]],\"type\":\"histogram2dcontour\"}],\"histogram2d\":[{\"colorbar\":{\"outlinewidth\":0,\"ticks\":\"\"},\"colorscale\":[[0.0,\"#0d0887\"],[0.1111111111111111,\"#46039f\"],[0.2222222222222222,\"#7201a8\"],[0.3333333333333333,\"#9c179e\"],[0.4444444444444444,\"#bd3786\"],[0.5555555555555556,\"#d8576b\"],[0.6666666666666666,\"#ed7953\"],[0.7777777777777778,\"#fb9f3a\"],[0.8888888888888888,\"#fdca26\"],[1.0,\"#f0f921\"]],\"type\":\"histogram2d\"}],\"histogram\":[{\"marker\":{\"pattern\":{\"fillmode\":\"overlay\",\"size\":10,\"solidity\":0.2}},\"type\":\"histogram\"}],\"mesh3d\":[{\"colorbar\":{\"outlinewidth\":0,\"ticks\":\"\"},\"type\":\"mesh3d\"}],\"parcoords\":[{\"line\":{\"colorbar\":{\"outlinewidth\":0,\"ticks\":\"\"}},\"type\":\"parcoords\"}],\"pie\":[{\"automargin\":true,\"type\":\"pie\"}],\"scatter3d\":[{\"line\":{\"colorbar\":{\"outlinewidth\":0,\"ticks\":\"\"}},\"marker\":{\"colorbar\":{\"outlinewidth\":0,\"ticks\":\"\"}},\"type\":\"scatter3d\"}],\"scattercarpet\":[{\"marker\":{\"colorbar\":{\"outlinewidth\":0,\"ticks\":\"\"}},\"type\":\"scattercarpet\"}],\"scattergeo\":[{\"marker\":{\"colorbar\":{\"outlinewidth\":0,\"ticks\":\"\"}},\"type\":\"scattergeo\"}],\"scattergl\":[{\"marker\":{\"colorbar\":{\"outlinewidth\":0,\"ticks\":\"\"}},\"type\":\"scattergl\"}],\"scattermapbox\":[{\"marker\":{\"colorbar\":{\"outlinewidth\":0,\"ticks\":\"\"}},\"type\":\"scattermapbox\"}],\"scatterpolargl\":[{\"marker\":{\"colorbar\":{\"outlinewidth\":0,\"ticks\":\"\"}},\"type\":\"scatterpolargl\"}],\"scatterpolar\":[{\"marker\":{\"colorbar\":{\"outlinewidth\":0,\"ticks\":\"\"}},\"type\":\"scatterpolar\"}],\"scatter\":[{\"fillpattern\":{\"fillmode\":\"overlay\",\"size\":10,\"solidity\":0.2},\"type\":\"scatter\"}],\"scatterternary\":[{\"marker\":{\"colorbar\":{\"outlinewidth\":0,\"ticks\":\"\"}},\"type\":\"scatterternary\"}],\"surface\":[{\"colorbar\":{\"outlinewidth\":0,\"ticks\":\"\"},\"colorscale\":[[0.0,\"#0d0887\"],[0.1111111111111111,\"#46039f\"],[0.2222222222222222,\"#7201a8\"],[0.3333333333333333,\"#9c179e\"],[0.4444444444444444,\"#bd3786\"],[0.5555555555555556,\"#d8576b\"],[0.6666666666666666,\"#ed7953\"],[0.7777777777777778,\"#fb9f3a\"],[0.8888888888888888,\"#fdca26\"],[1.0,\"#f0f921\"]],\"type\":\"surface\"}],\"table\":[{\"cells\":{\"fill\":{\"color\":\"#EBF0F8\"},\"line\":{\"color\":\"white\"}},\"header\":{\"fill\":{\"color\":\"#C8D4E3\"},\"line\":{\"color\":\"white\"}},\"type\":\"table\"}]},\"layout\":{\"annotationdefaults\":{\"arrowcolor\":\"#2a3f5f\",\"arrowhead\":0,\"arrowwidth\":1},\"autotypenumbers\":\"strict\",\"coloraxis\":{\"colorbar\":{\"outlinewidth\":0,\"ticks\":\"\"}},\"colorscale\":{\"diverging\":[[0,\"#8e0152\"],[0.1,\"#c51b7d\"],[0.2,\"#de77ae\"],[0.3,\"#f1b6da\"],[0.4,\"#fde0ef\"],[0.5,\"#f7f7f7\"],[0.6,\"#e6f5d0\"],[0.7,\"#b8e186\"],[0.8,\"#7fbc41\"],[0.9,\"#4d9221\"],[1,\"#276419\"]],\"sequential\":[[0.0,\"#0d0887\"],[0.1111111111111111,\"#46039f\"],[0.2222222222222222,\"#7201a8\"],[0.3333333333333333,\"#9c179e\"],[0.4444444444444444,\"#bd3786\"],[0.5555555555555556,\"#d8576b\"],[0.6666666666666666,\"#ed7953\"],[0.7777777777777778,\"#fb9f3a\"],[0.8888888888888888,\"#fdca26\"],[1.0,\"#f0f921\"]],\"sequentialminus\":[[0.0,\"#0d0887\"],[0.1111111111111111,\"#46039f\"],[0.2222222222222222,\"#7201a8\"],[0.3333333333333333,\"#9c179e\"],[0.4444444444444444,\"#bd3786\"],[0.5555555555555556,\"#d8576b\"],[0.6666666666666666,\"#ed7953\"],[0.7777777777777778,\"#fb9f3a\"],[0.8888888888888888,\"#fdca26\"],[1.0,\"#f0f921\"]]},\"colorway\":[\"#636efa\",\"#EF553B\",\"#00cc96\",\"#ab63fa\",\"#FFA15A\",\"#19d3f3\",\"#FF6692\",\"#B6E880\",\"#FF97FF\",\"#FECB52\"],\"font\":{\"color\":\"#2a3f5f\"},\"geo\":{\"bgcolor\":\"white\",\"lakecolor\":\"white\",\"landcolor\":\"white\",\"showlakes\":true,\"showland\":true,\"subunitcolor\":\"#C8D4E3\"},\"hoverlabel\":{\"align\":\"left\"},\"hovermode\":\"closest\",\"mapbox\":{\"style\":\"light\"},\"paper_bgcolor\":\"white\",\"plot_bgcolor\":\"white\",\"polar\":{\"angularaxis\":{\"gridcolor\":\"#EBF0F8\",\"linecolor\":\"#EBF0F8\",\"ticks\":\"\"},\"bgcolor\":\"white\",\"radialaxis\":{\"gridcolor\":\"#EBF0F8\",\"linecolor\":\"#EBF0F8\",\"ticks\":\"\"}},\"scene\":{\"xaxis\":{\"backgroundcolor\":\"white\",\"gridcolor\":\"#DFE8F3\",\"gridwidth\":2,\"linecolor\":\"#EBF0F8\",\"showbackground\":true,\"ticks\":\"\",\"zerolinecolor\":\"#EBF0F8\"},\"yaxis\":{\"backgroundcolor\":\"white\",\"gridcolor\":\"#DFE8F3\",\"gridwidth\":2,\"linecolor\":\"#EBF0F8\",\"showbackground\":true,\"ticks\":\"\",\"zerolinecolor\":\"#EBF0F8\"},\"zaxis\":{\"backgroundcolor\":\"white\",\"gridcolor\":\"#DFE8F3\",\"gridwidth\":2,\"linecolor\":\"#EBF0F8\",\"showbackground\":true,\"ticks\":\"\",\"zerolinecolor\":\"#EBF0F8\"}},\"shapedefaults\":{\"line\":{\"color\":\"#2a3f5f\"}},\"ternary\":{\"aaxis\":{\"gridcolor\":\"#DFE8F3\",\"linecolor\":\"#A2B1C6\",\"ticks\":\"\"},\"baxis\":{\"gridcolor\":\"#DFE8F3\",\"linecolor\":\"#A2B1C6\",\"ticks\":\"\"},\"bgcolor\":\"white\",\"caxis\":{\"gridcolor\":\"#DFE8F3\",\"linecolor\":\"#A2B1C6\",\"ticks\":\"\"}},\"title\":{\"x\":0.05},\"xaxis\":{\"automargin\":true,\"gridcolor\":\"#EBF0F8\",\"linecolor\":\"#EBF0F8\",\"ticks\":\"\",\"title\":{\"standoff\":15},\"zerolinecolor\":\"#EBF0F8\",\"zerolinewidth\":2},\"yaxis\":{\"automargin\":true,\"gridcolor\":\"#EBF0F8\",\"linecolor\":\"#EBF0F8\",\"ticks\":\"\",\"title\":{\"standoff\":15},\"zerolinecolor\":\"#EBF0F8\",\"zerolinewidth\":2}}},\"xaxis\":{\"anchor\":\"y\",\"domain\":[0.0,1.0],\"title\":{\"text\":\"Age\"}},\"yaxis\":{\"anchor\":\"x\",\"domain\":[0.0,1.0],\"title\":{\"text\":\"Sex\"}},\"legend\":{\"tracegroupgap\":0},\"margin\":{\"t\":60},\"barmode\":\"overlay\"},                        {\"responsive\": true}                    ).then(function(){\n",
       "                            \n",
       "var gd = document.getElementById('59b5f924-6c34-4327-8d39-5a27f2db3356');\n",
       "var x = new MutationObserver(function (mutations, observer) {{\n",
       "        var display = window.getComputedStyle(gd).display;\n",
       "        if (!display || display === 'none') {{\n",
       "            console.log([gd, 'removed!']);\n",
       "            Plotly.purge(gd);\n",
       "            observer.disconnect();\n",
       "        }}\n",
       "}});\n",
       "\n",
       "// Listen for the removal of the full notebook cells\n",
       "var notebookContainer = gd.closest('#notebook-container');\n",
       "if (notebookContainer) {{\n",
       "    x.observe(notebookContainer, {childList: true});\n",
       "}}\n",
       "\n",
       "// Listen for the clearing of the current output cell\n",
       "var outputEl = gd.closest('.output');\n",
       "if (outputEl) {{\n",
       "    x.observe(outputEl, {childList: true});\n",
       "}}\n",
       "\n",
       "                        })                };                });            </script>        </div>"
      ]
     },
     "metadata": {},
     "output_type": "display_data"
    }
   ],
   "source": [
    "fig = px.bar(df, \n",
    "             x='Age', \n",
    "             y='Sex',\n",
    "             barmode='overlay',\n",
    "             hover_data=['Name'],\n",
    "             template='plotly_white',\n",
    "             color_discrete_sequence=px.colors.qualitative.D3\n",
    "            )\n",
    "fig.show()"
   ]
  },
  {
   "cell_type": "markdown",
   "id": "e9a29288-7228-4476-9e9c-cd3d6fa73726",
   "metadata": {},
   "source": [
    "## Histograms"
   ]
  },
  {
   "cell_type": "code",
   "execution_count": 26,
   "id": "69813105-e3cf-4c08-aca6-b24fe3ce55eb",
   "metadata": {
    "tags": []
   },
   "outputs": [
    {
     "data": {
      "text/plain": [
       "dtype('int64')"
      ]
     },
     "execution_count": 26,
     "metadata": {},
     "output_type": "execute_result"
    }
   ],
   "source": [
    "df['Survived'].dtype"
   ]
  },
  {
   "cell_type": "code",
   "execution_count": 27,
   "id": "d3f4bc2b-47b5-498a-a051-2b09a5662c43",
   "metadata": {
    "tags": []
   },
   "outputs": [
    {
     "data": {
      "application/vnd.plotly.v1+json": {
       "config": {
        "plotlyServerURL": "https://plot.ly"
       },
       "data": [
        {
         "alignmentgroup": "True",
         "bingroup": "x",
         "hovertemplate": "Survived=0<br>Age=%{x}<br>count=%{y}<extra></extra>",
         "legendgroup": "0",
         "marker": {
          "color": "#1F77B4",
          "pattern": {
           "shape": ""
          }
         },
         "name": "0",
         "offsetgroup": "0",
         "orientation": "v",
         "showlegend": true,
         "type": "histogram",
         "x": [
          22,
          35,
          null,
          54,
          2,
          20,
          39,
          14,
          2,
          31,
          35,
          8,
          null,
          19,
          null,
          40,
          66,
          28,
          42,
          21,
          18,
          40,
          27,
          null,
          null,
          null,
          null,
          18,
          7,
          21,
          65,
          28.5,
          11,
          22,
          45,
          4,
          null,
          19,
          26,
          32,
          16,
          21,
          26,
          25,
          null,
          null,
          22,
          28,
          16,
          null,
          24,
          29,
          20,
          46,
          26,
          59,
          null,
          71,
          34,
          28,
          null,
          21,
          33,
          37,
          28,
          38,
          47,
          14.5,
          22,
          20,
          17,
          21,
          70.5,
          29,
          24,
          2,
          21,
          null,
          32.5,
          54,
          null,
          45,
          33,
          20,
          47,
          25,
          23,
          37,
          16,
          24,
          null,
          19,
          18,
          19,
          9,
          36.5,
          42,
          51,
          55.5,
          40.5,
          null,
          51,
          30,
          null,
          null,
          44,
          26,
          17,
          1,
          45,
          null,
          28,
          61,
          4,
          21,
          56,
          18,
          null,
          50,
          30,
          36,
          null,
          null,
          9,
          null,
          40,
          36,
          19,
          null,
          42,
          24,
          28,
          null,
          34,
          45.5,
          2,
          32,
          24,
          22,
          30,
          null,
          42,
          30,
          27,
          51,
          null,
          22,
          20.5,
          18,
          null,
          29,
          59,
          24,
          null,
          44,
          19,
          33,
          null,
          29,
          22,
          30,
          44,
          25,
          54,
          null,
          29,
          62,
          30,
          41,
          null,
          52,
          40,
          null,
          36,
          16,
          null,
          37,
          45,
          null,
          7,
          65,
          28,
          16,
          null,
          33,
          22,
          36,
          24,
          24,
          null,
          23.5,
          2,
          19,
          null,
          30,
          26,
          28,
          43,
          54,
          22,
          27,
          null,
          61,
          45.5,
          38,
          16,
          null,
          29,
          45,
          28,
          25,
          36,
          42,
          23,
          null,
          15,
          25,
          null,
          28,
          38,
          40,
          29,
          45,
          35,
          null,
          30,
          18,
          19,
          22,
          3,
          27,
          20,
          19,
          32,
          null,
          18,
          1,
          null,
          28,
          22,
          31,
          46,
          23,
          26,
          21,
          28,
          20,
          34,
          51,
          21,
          null,
          null,
          null,
          null,
          null,
          30,
          10,
          null,
          21,
          29,
          28,
          18,
          null,
          null,
          17,
          50,
          21,
          64,
          31,
          20,
          25,
          36,
          null,
          30,
          null,
          65,
          null,
          34,
          47,
          48,
          null,
          38,
          null,
          56,
          null,
          null,
          38,
          22,
          null,
          34,
          29,
          22,
          9,
          null,
          50,
          null,
          58,
          30,
          null,
          21,
          55,
          71,
          21,
          null,
          null,
          25,
          24,
          17,
          21,
          null,
          37,
          18,
          28,
          null,
          24,
          47,
          null,
          32,
          22,
          null,
          null,
          40.5,
          null,
          39,
          23,
          null,
          17,
          30,
          45,
          null,
          9,
          11,
          50,
          64,
          33,
          27,
          null,
          62,
          null,
          null,
          40,
          28,
          null,
          null,
          24,
          19,
          29,
          null,
          16,
          19,
          null,
          54,
          36,
          null,
          47,
          22,
          null,
          35,
          47,
          null,
          37,
          36,
          49,
          null,
          null,
          null,
          44,
          36,
          30,
          39,
          null,
          null,
          35,
          34,
          26,
          26,
          27,
          21,
          21,
          61,
          57,
          26,
          null,
          51,
          null,
          9,
          32,
          31,
          41,
          null,
          20,
          2,
          19,
          null,
          null,
          21,
          18,
          24,
          null,
          32,
          23,
          58,
          40,
          47,
          36,
          32,
          25,
          null,
          43,
          31,
          70,
          null,
          18,
          24.5,
          43,
          null,
          20,
          14,
          60,
          25,
          14,
          19,
          18,
          25,
          60,
          52,
          44,
          49,
          42,
          18,
          25,
          26,
          39,
          null,
          29,
          52,
          19,
          null,
          33,
          17,
          34,
          50,
          20,
          25,
          25,
          11,
          null,
          23,
          23,
          28.5,
          48,
          null,
          null,
          36,
          24,
          70,
          16,
          19,
          31,
          33,
          23,
          28,
          18,
          34,
          null,
          41,
          16,
          null,
          30.5,
          null,
          32,
          24,
          48,
          57,
          null,
          18,
          null,
          null,
          29,
          null,
          25,
          25,
          8,
          46,
          null,
          16,
          null,
          null,
          25,
          39,
          30,
          30,
          34,
          31,
          39,
          18,
          39,
          26,
          39,
          35,
          6,
          30.5,
          null,
          23,
          31,
          43,
          10,
          38,
          2,
          null,
          null,
          null,
          23,
          18,
          21,
          null,
          20,
          16,
          34.5,
          17,
          42,
          null,
          35,
          28,
          4,
          74,
          9,
          44,
          null,
          41,
          21,
          null,
          24,
          31,
          null,
          26,
          33,
          47,
          20,
          19,
          null,
          33,
          22,
          28,
          25,
          39,
          27,
          null,
          32
         ],
         "xaxis": "x",
         "yaxis": "y"
        },
        {
         "alignmentgroup": "True",
         "bingroup": "x",
         "hovertemplate": "Survived=1<br>Age=%{x}<br>count=%{y}<extra></extra>",
         "legendgroup": "1",
         "marker": {
          "color": "#FF7F0E",
          "pattern": {
           "shape": ""
          }
         },
         "name": "1",
         "offsetgroup": "1",
         "orientation": "v",
         "showlegend": true,
         "type": "histogram",
         "x": [
          38,
          26,
          35,
          27,
          14,
          4,
          58,
          55,
          null,
          null,
          34,
          15,
          28,
          38,
          null,
          null,
          null,
          null,
          14,
          3,
          19,
          null,
          49,
          29,
          null,
          21,
          5,
          38,
          null,
          29,
          17,
          32,
          0.83,
          30,
          29,
          null,
          17,
          33,
          23,
          23,
          34,
          21,
          null,
          null,
          32.5,
          12,
          24,
          null,
          29,
          19,
          22,
          24,
          27,
          22,
          16,
          40,
          9,
          null,
          1,
          1,
          4,
          null,
          45,
          32,
          19,
          3,
          44,
          58,
          null,
          18,
          26,
          16,
          40,
          35,
          31,
          27,
          32,
          16,
          38,
          19,
          35,
          5,
          8,
          null,
          24,
          37,
          29,
          null,
          30,
          35,
          50,
          3,
          25,
          58,
          35,
          25,
          41,
          null,
          63,
          35,
          19,
          30,
          42,
          22,
          26,
          19,
          null,
          50,
          null,
          null,
          null,
          0.92,
          null,
          17,
          30,
          24,
          18,
          26,
          24,
          31,
          40,
          30,
          22,
          36,
          36,
          31,
          16,
          null,
          null,
          41,
          45,
          2,
          24,
          24,
          40,
          null,
          3,
          22,
          null,
          null,
          60,
          null,
          null,
          24,
          25,
          null,
          22,
          42,
          1,
          35,
          36,
          17,
          36,
          21,
          23,
          24,
          28,
          39,
          3,
          33,
          44,
          34,
          18,
          28,
          19,
          32,
          28,
          null,
          42,
          14,
          24,
          45,
          28,
          null,
          4,
          13,
          34,
          5,
          52,
          49,
          29,
          null,
          50,
          48,
          0.75,
          33,
          23,
          2,
          63,
          25,
          35,
          9,
          54,
          16,
          33,
          null,
          26,
          29,
          36,
          54,
          34,
          36,
          30,
          44,
          50,
          2,
          null,
          7,
          30,
          22,
          36,
          32,
          19,
          null,
          8,
          17,
          22,
          22,
          48,
          39,
          36,
          32,
          62,
          53,
          36,
          null,
          34,
          39,
          32,
          25,
          39,
          18,
          60,
          52,
          null,
          49,
          24,
          35,
          27,
          22,
          40,
          null,
          24,
          4,
          42,
          20,
          21,
          80,
          32,
          28,
          24,
          null,
          0.75,
          48,
          56,
          23,
          18,
          null,
          50,
          20,
          null,
          40,
          31,
          18,
          36,
          27,
          15,
          31,
          4,
          null,
          null,
          18,
          35,
          45,
          42,
          22,
          null,
          24,
          48,
          38,
          27,
          6,
          27,
          30,
          null,
          29,
          35,
          null,
          21,
          31,
          30,
          4,
          6,
          48,
          0.67,
          33,
          20,
          36,
          51,
          54,
          5,
          43,
          13,
          17,
          18,
          1,
          49,
          31,
          31,
          11,
          0.42,
          27,
          33,
          52,
          27,
          27,
          1,
          null,
          62,
          15,
          0.83,
          39,
          32,
          null,
          30,
          null,
          16,
          18,
          45,
          51,
          24,
          48,
          42,
          27,
          4,
          47,
          28,
          15,
          56,
          25,
          19,
          26
         ],
         "xaxis": "x",
         "yaxis": "y"
        }
       ],
       "layout": {
        "bargap": 0.1,
        "barmode": "relative",
        "legend": {
         "title": {
          "text": "Survived"
         },
         "tracegroupgap": 0
        },
        "margin": {
         "t": 60
        },
        "template": {
         "data": {
          "bar": [
           {
            "error_x": {
             "color": "#2a3f5f"
            },
            "error_y": {
             "color": "#2a3f5f"
            },
            "marker": {
             "line": {
              "color": "white",
              "width": 0.5
             },
             "pattern": {
              "fillmode": "overlay",
              "size": 10,
              "solidity": 0.2
             }
            },
            "type": "bar"
           }
          ],
          "barpolar": [
           {
            "marker": {
             "line": {
              "color": "white",
              "width": 0.5
             },
             "pattern": {
              "fillmode": "overlay",
              "size": 10,
              "solidity": 0.2
             }
            },
            "type": "barpolar"
           }
          ],
          "carpet": [
           {
            "aaxis": {
             "endlinecolor": "#2a3f5f",
             "gridcolor": "#C8D4E3",
             "linecolor": "#C8D4E3",
             "minorgridcolor": "#C8D4E3",
             "startlinecolor": "#2a3f5f"
            },
            "baxis": {
             "endlinecolor": "#2a3f5f",
             "gridcolor": "#C8D4E3",
             "linecolor": "#C8D4E3",
             "minorgridcolor": "#C8D4E3",
             "startlinecolor": "#2a3f5f"
            },
            "type": "carpet"
           }
          ],
          "choropleth": [
           {
            "colorbar": {
             "outlinewidth": 0,
             "ticks": ""
            },
            "type": "choropleth"
           }
          ],
          "contour": [
           {
            "colorbar": {
             "outlinewidth": 0,
             "ticks": ""
            },
            "colorscale": [
             [
              0,
              "#0d0887"
             ],
             [
              0.1111111111111111,
              "#46039f"
             ],
             [
              0.2222222222222222,
              "#7201a8"
             ],
             [
              0.3333333333333333,
              "#9c179e"
             ],
             [
              0.4444444444444444,
              "#bd3786"
             ],
             [
              0.5555555555555556,
              "#d8576b"
             ],
             [
              0.6666666666666666,
              "#ed7953"
             ],
             [
              0.7777777777777778,
              "#fb9f3a"
             ],
             [
              0.8888888888888888,
              "#fdca26"
             ],
             [
              1,
              "#f0f921"
             ]
            ],
            "type": "contour"
           }
          ],
          "contourcarpet": [
           {
            "colorbar": {
             "outlinewidth": 0,
             "ticks": ""
            },
            "type": "contourcarpet"
           }
          ],
          "heatmap": [
           {
            "colorbar": {
             "outlinewidth": 0,
             "ticks": ""
            },
            "colorscale": [
             [
              0,
              "#0d0887"
             ],
             [
              0.1111111111111111,
              "#46039f"
             ],
             [
              0.2222222222222222,
              "#7201a8"
             ],
             [
              0.3333333333333333,
              "#9c179e"
             ],
             [
              0.4444444444444444,
              "#bd3786"
             ],
             [
              0.5555555555555556,
              "#d8576b"
             ],
             [
              0.6666666666666666,
              "#ed7953"
             ],
             [
              0.7777777777777778,
              "#fb9f3a"
             ],
             [
              0.8888888888888888,
              "#fdca26"
             ],
             [
              1,
              "#f0f921"
             ]
            ],
            "type": "heatmap"
           }
          ],
          "heatmapgl": [
           {
            "colorbar": {
             "outlinewidth": 0,
             "ticks": ""
            },
            "colorscale": [
             [
              0,
              "#0d0887"
             ],
             [
              0.1111111111111111,
              "#46039f"
             ],
             [
              0.2222222222222222,
              "#7201a8"
             ],
             [
              0.3333333333333333,
              "#9c179e"
             ],
             [
              0.4444444444444444,
              "#bd3786"
             ],
             [
              0.5555555555555556,
              "#d8576b"
             ],
             [
              0.6666666666666666,
              "#ed7953"
             ],
             [
              0.7777777777777778,
              "#fb9f3a"
             ],
             [
              0.8888888888888888,
              "#fdca26"
             ],
             [
              1,
              "#f0f921"
             ]
            ],
            "type": "heatmapgl"
           }
          ],
          "histogram": [
           {
            "marker": {
             "pattern": {
              "fillmode": "overlay",
              "size": 10,
              "solidity": 0.2
             }
            },
            "type": "histogram"
           }
          ],
          "histogram2d": [
           {
            "colorbar": {
             "outlinewidth": 0,
             "ticks": ""
            },
            "colorscale": [
             [
              0,
              "#0d0887"
             ],
             [
              0.1111111111111111,
              "#46039f"
             ],
             [
              0.2222222222222222,
              "#7201a8"
             ],
             [
              0.3333333333333333,
              "#9c179e"
             ],
             [
              0.4444444444444444,
              "#bd3786"
             ],
             [
              0.5555555555555556,
              "#d8576b"
             ],
             [
              0.6666666666666666,
              "#ed7953"
             ],
             [
              0.7777777777777778,
              "#fb9f3a"
             ],
             [
              0.8888888888888888,
              "#fdca26"
             ],
             [
              1,
              "#f0f921"
             ]
            ],
            "type": "histogram2d"
           }
          ],
          "histogram2dcontour": [
           {
            "colorbar": {
             "outlinewidth": 0,
             "ticks": ""
            },
            "colorscale": [
             [
              0,
              "#0d0887"
             ],
             [
              0.1111111111111111,
              "#46039f"
             ],
             [
              0.2222222222222222,
              "#7201a8"
             ],
             [
              0.3333333333333333,
              "#9c179e"
             ],
             [
              0.4444444444444444,
              "#bd3786"
             ],
             [
              0.5555555555555556,
              "#d8576b"
             ],
             [
              0.6666666666666666,
              "#ed7953"
             ],
             [
              0.7777777777777778,
              "#fb9f3a"
             ],
             [
              0.8888888888888888,
              "#fdca26"
             ],
             [
              1,
              "#f0f921"
             ]
            ],
            "type": "histogram2dcontour"
           }
          ],
          "mesh3d": [
           {
            "colorbar": {
             "outlinewidth": 0,
             "ticks": ""
            },
            "type": "mesh3d"
           }
          ],
          "parcoords": [
           {
            "line": {
             "colorbar": {
              "outlinewidth": 0,
              "ticks": ""
             }
            },
            "type": "parcoords"
           }
          ],
          "pie": [
           {
            "automargin": true,
            "type": "pie"
           }
          ],
          "scatter": [
           {
            "fillpattern": {
             "fillmode": "overlay",
             "size": 10,
             "solidity": 0.2
            },
            "type": "scatter"
           }
          ],
          "scatter3d": [
           {
            "line": {
             "colorbar": {
              "outlinewidth": 0,
              "ticks": ""
             }
            },
            "marker": {
             "colorbar": {
              "outlinewidth": 0,
              "ticks": ""
             }
            },
            "type": "scatter3d"
           }
          ],
          "scattercarpet": [
           {
            "marker": {
             "colorbar": {
              "outlinewidth": 0,
              "ticks": ""
             }
            },
            "type": "scattercarpet"
           }
          ],
          "scattergeo": [
           {
            "marker": {
             "colorbar": {
              "outlinewidth": 0,
              "ticks": ""
             }
            },
            "type": "scattergeo"
           }
          ],
          "scattergl": [
           {
            "marker": {
             "colorbar": {
              "outlinewidth": 0,
              "ticks": ""
             }
            },
            "type": "scattergl"
           }
          ],
          "scattermapbox": [
           {
            "marker": {
             "colorbar": {
              "outlinewidth": 0,
              "ticks": ""
             }
            },
            "type": "scattermapbox"
           }
          ],
          "scatterpolar": [
           {
            "marker": {
             "colorbar": {
              "outlinewidth": 0,
              "ticks": ""
             }
            },
            "type": "scatterpolar"
           }
          ],
          "scatterpolargl": [
           {
            "marker": {
             "colorbar": {
              "outlinewidth": 0,
              "ticks": ""
             }
            },
            "type": "scatterpolargl"
           }
          ],
          "scatterternary": [
           {
            "marker": {
             "colorbar": {
              "outlinewidth": 0,
              "ticks": ""
             }
            },
            "type": "scatterternary"
           }
          ],
          "surface": [
           {
            "colorbar": {
             "outlinewidth": 0,
             "ticks": ""
            },
            "colorscale": [
             [
              0,
              "#0d0887"
             ],
             [
              0.1111111111111111,
              "#46039f"
             ],
             [
              0.2222222222222222,
              "#7201a8"
             ],
             [
              0.3333333333333333,
              "#9c179e"
             ],
             [
              0.4444444444444444,
              "#bd3786"
             ],
             [
              0.5555555555555556,
              "#d8576b"
             ],
             [
              0.6666666666666666,
              "#ed7953"
             ],
             [
              0.7777777777777778,
              "#fb9f3a"
             ],
             [
              0.8888888888888888,
              "#fdca26"
             ],
             [
              1,
              "#f0f921"
             ]
            ],
            "type": "surface"
           }
          ],
          "table": [
           {
            "cells": {
             "fill": {
              "color": "#EBF0F8"
             },
             "line": {
              "color": "white"
             }
            },
            "header": {
             "fill": {
              "color": "#C8D4E3"
             },
             "line": {
              "color": "white"
             }
            },
            "type": "table"
           }
          ]
         },
         "layout": {
          "annotationdefaults": {
           "arrowcolor": "#2a3f5f",
           "arrowhead": 0,
           "arrowwidth": 1
          },
          "autotypenumbers": "strict",
          "coloraxis": {
           "colorbar": {
            "outlinewidth": 0,
            "ticks": ""
           }
          },
          "colorscale": {
           "diverging": [
            [
             0,
             "#8e0152"
            ],
            [
             0.1,
             "#c51b7d"
            ],
            [
             0.2,
             "#de77ae"
            ],
            [
             0.3,
             "#f1b6da"
            ],
            [
             0.4,
             "#fde0ef"
            ],
            [
             0.5,
             "#f7f7f7"
            ],
            [
             0.6,
             "#e6f5d0"
            ],
            [
             0.7,
             "#b8e186"
            ],
            [
             0.8,
             "#7fbc41"
            ],
            [
             0.9,
             "#4d9221"
            ],
            [
             1,
             "#276419"
            ]
           ],
           "sequential": [
            [
             0,
             "#0d0887"
            ],
            [
             0.1111111111111111,
             "#46039f"
            ],
            [
             0.2222222222222222,
             "#7201a8"
            ],
            [
             0.3333333333333333,
             "#9c179e"
            ],
            [
             0.4444444444444444,
             "#bd3786"
            ],
            [
             0.5555555555555556,
             "#d8576b"
            ],
            [
             0.6666666666666666,
             "#ed7953"
            ],
            [
             0.7777777777777778,
             "#fb9f3a"
            ],
            [
             0.8888888888888888,
             "#fdca26"
            ],
            [
             1,
             "#f0f921"
            ]
           ],
           "sequentialminus": [
            [
             0,
             "#0d0887"
            ],
            [
             0.1111111111111111,
             "#46039f"
            ],
            [
             0.2222222222222222,
             "#7201a8"
            ],
            [
             0.3333333333333333,
             "#9c179e"
            ],
            [
             0.4444444444444444,
             "#bd3786"
            ],
            [
             0.5555555555555556,
             "#d8576b"
            ],
            [
             0.6666666666666666,
             "#ed7953"
            ],
            [
             0.7777777777777778,
             "#fb9f3a"
            ],
            [
             0.8888888888888888,
             "#fdca26"
            ],
            [
             1,
             "#f0f921"
            ]
           ]
          },
          "colorway": [
           "#636efa",
           "#EF553B",
           "#00cc96",
           "#ab63fa",
           "#FFA15A",
           "#19d3f3",
           "#FF6692",
           "#B6E880",
           "#FF97FF",
           "#FECB52"
          ],
          "font": {
           "color": "#2a3f5f"
          },
          "geo": {
           "bgcolor": "white",
           "lakecolor": "white",
           "landcolor": "white",
           "showlakes": true,
           "showland": true,
           "subunitcolor": "#C8D4E3"
          },
          "hoverlabel": {
           "align": "left"
          },
          "hovermode": "closest",
          "mapbox": {
           "style": "light"
          },
          "paper_bgcolor": "white",
          "plot_bgcolor": "white",
          "polar": {
           "angularaxis": {
            "gridcolor": "#EBF0F8",
            "linecolor": "#EBF0F8",
            "ticks": ""
           },
           "bgcolor": "white",
           "radialaxis": {
            "gridcolor": "#EBF0F8",
            "linecolor": "#EBF0F8",
            "ticks": ""
           }
          },
          "scene": {
           "xaxis": {
            "backgroundcolor": "white",
            "gridcolor": "#DFE8F3",
            "gridwidth": 2,
            "linecolor": "#EBF0F8",
            "showbackground": true,
            "ticks": "",
            "zerolinecolor": "#EBF0F8"
           },
           "yaxis": {
            "backgroundcolor": "white",
            "gridcolor": "#DFE8F3",
            "gridwidth": 2,
            "linecolor": "#EBF0F8",
            "showbackground": true,
            "ticks": "",
            "zerolinecolor": "#EBF0F8"
           },
           "zaxis": {
            "backgroundcolor": "white",
            "gridcolor": "#DFE8F3",
            "gridwidth": 2,
            "linecolor": "#EBF0F8",
            "showbackground": true,
            "ticks": "",
            "zerolinecolor": "#EBF0F8"
           }
          },
          "shapedefaults": {
           "line": {
            "color": "#2a3f5f"
           }
          },
          "ternary": {
           "aaxis": {
            "gridcolor": "#DFE8F3",
            "linecolor": "#A2B1C6",
            "ticks": ""
           },
           "baxis": {
            "gridcolor": "#DFE8F3",
            "linecolor": "#A2B1C6",
            "ticks": ""
           },
           "bgcolor": "white",
           "caxis": {
            "gridcolor": "#DFE8F3",
            "linecolor": "#A2B1C6",
            "ticks": ""
           }
          },
          "title": {
           "x": 0.05
          },
          "xaxis": {
           "automargin": true,
           "gridcolor": "#EBF0F8",
           "linecolor": "#EBF0F8",
           "ticks": "",
           "title": {
            "standoff": 15
           },
           "zerolinecolor": "#EBF0F8",
           "zerolinewidth": 2
          },
          "yaxis": {
           "automargin": true,
           "gridcolor": "#EBF0F8",
           "linecolor": "#EBF0F8",
           "ticks": "",
           "title": {
            "standoff": 15
           },
           "zerolinecolor": "#EBF0F8",
           "zerolinewidth": 2
          }
         }
        },
        "xaxis": {
         "anchor": "y",
         "domain": [
          0,
          1
         ],
         "title": {
          "text": "Age"
         }
        },
        "yaxis": {
         "anchor": "x",
         "domain": [
          0,
          1
         ],
         "title": {
          "text": "count"
         }
        }
       }
      },
      "text/html": [
       "<div>                            <div id=\"91d762c7-68e0-4512-9146-9a09065cb9c1\" class=\"plotly-graph-div\" style=\"height:525px; width:100%;\"></div>            <script type=\"text/javascript\">                require([\"plotly\"], function(Plotly) {                    window.PLOTLYENV=window.PLOTLYENV || {};                                    if (document.getElementById(\"91d762c7-68e0-4512-9146-9a09065cb9c1\")) {                    Plotly.newPlot(                        \"91d762c7-68e0-4512-9146-9a09065cb9c1\",                        [{\"alignmentgroup\":\"True\",\"bingroup\":\"x\",\"hovertemplate\":\"Survived=0\\u003cbr\\u003eAge=%{x}\\u003cbr\\u003ecount=%{y}\\u003cextra\\u003e\\u003c\\u002fextra\\u003e\",\"legendgroup\":\"0\",\"marker\":{\"color\":\"#1F77B4\",\"pattern\":{\"shape\":\"\"}},\"name\":\"0\",\"offsetgroup\":\"0\",\"orientation\":\"v\",\"showlegend\":true,\"x\":[22.0,35.0,null,54.0,2.0,20.0,39.0,14.0,2.0,31.0,35.0,8.0,null,19.0,null,40.0,66.0,28.0,42.0,21.0,18.0,40.0,27.0,null,null,null,null,18.0,7.0,21.0,65.0,28.5,11.0,22.0,45.0,4.0,null,19.0,26.0,32.0,16.0,21.0,26.0,25.0,null,null,22.0,28.0,16.0,null,24.0,29.0,20.0,46.0,26.0,59.0,null,71.0,34.0,28.0,null,21.0,33.0,37.0,28.0,38.0,47.0,14.5,22.0,20.0,17.0,21.0,70.5,29.0,24.0,2.0,21.0,null,32.5,54.0,null,45.0,33.0,20.0,47.0,25.0,23.0,37.0,16.0,24.0,null,19.0,18.0,19.0,9.0,36.5,42.0,51.0,55.5,40.5,null,51.0,30.0,null,null,44.0,26.0,17.0,1.0,45.0,null,28.0,61.0,4.0,21.0,56.0,18.0,null,50.0,30.0,36.0,null,null,9.0,null,40.0,36.0,19.0,null,42.0,24.0,28.0,null,34.0,45.5,2.0,32.0,24.0,22.0,30.0,null,42.0,30.0,27.0,51.0,null,22.0,20.5,18.0,null,29.0,59.0,24.0,null,44.0,19.0,33.0,null,29.0,22.0,30.0,44.0,25.0,54.0,null,29.0,62.0,30.0,41.0,null,52.0,40.0,null,36.0,16.0,null,37.0,45.0,null,7.0,65.0,28.0,16.0,null,33.0,22.0,36.0,24.0,24.0,null,23.5,2.0,19.0,null,30.0,26.0,28.0,43.0,54.0,22.0,27.0,null,61.0,45.5,38.0,16.0,null,29.0,45.0,28.0,25.0,36.0,42.0,23.0,null,15.0,25.0,null,28.0,38.0,40.0,29.0,45.0,35.0,null,30.0,18.0,19.0,22.0,3.0,27.0,20.0,19.0,32.0,null,18.0,1.0,null,28.0,22.0,31.0,46.0,23.0,26.0,21.0,28.0,20.0,34.0,51.0,21.0,null,null,null,null,null,30.0,10.0,null,21.0,29.0,28.0,18.0,null,null,17.0,50.0,21.0,64.0,31.0,20.0,25.0,36.0,null,30.0,null,65.0,null,34.0,47.0,48.0,null,38.0,null,56.0,null,null,38.0,22.0,null,34.0,29.0,22.0,9.0,null,50.0,null,58.0,30.0,null,21.0,55.0,71.0,21.0,null,null,25.0,24.0,17.0,21.0,null,37.0,18.0,28.0,null,24.0,47.0,null,32.0,22.0,null,null,40.5,null,39.0,23.0,null,17.0,30.0,45.0,null,9.0,11.0,50.0,64.0,33.0,27.0,null,62.0,null,null,40.0,28.0,null,null,24.0,19.0,29.0,null,16.0,19.0,null,54.0,36.0,null,47.0,22.0,null,35.0,47.0,null,37.0,36.0,49.0,null,null,null,44.0,36.0,30.0,39.0,null,null,35.0,34.0,26.0,26.0,27.0,21.0,21.0,61.0,57.0,26.0,null,51.0,null,9.0,32.0,31.0,41.0,null,20.0,2.0,19.0,null,null,21.0,18.0,24.0,null,32.0,23.0,58.0,40.0,47.0,36.0,32.0,25.0,null,43.0,31.0,70.0,null,18.0,24.5,43.0,null,20.0,14.0,60.0,25.0,14.0,19.0,18.0,25.0,60.0,52.0,44.0,49.0,42.0,18.0,25.0,26.0,39.0,null,29.0,52.0,19.0,null,33.0,17.0,34.0,50.0,20.0,25.0,25.0,11.0,null,23.0,23.0,28.5,48.0,null,null,36.0,24.0,70.0,16.0,19.0,31.0,33.0,23.0,28.0,18.0,34.0,null,41.0,16.0,null,30.5,null,32.0,24.0,48.0,57.0,null,18.0,null,null,29.0,null,25.0,25.0,8.0,46.0,null,16.0,null,null,25.0,39.0,30.0,30.0,34.0,31.0,39.0,18.0,39.0,26.0,39.0,35.0,6.0,30.5,null,23.0,31.0,43.0,10.0,38.0,2.0,null,null,null,23.0,18.0,21.0,null,20.0,16.0,34.5,17.0,42.0,null,35.0,28.0,4.0,74.0,9.0,44.0,null,41.0,21.0,null,24.0,31.0,null,26.0,33.0,47.0,20.0,19.0,null,33.0,22.0,28.0,25.0,39.0,27.0,null,32.0],\"xaxis\":\"x\",\"yaxis\":\"y\",\"type\":\"histogram\"},{\"alignmentgroup\":\"True\",\"bingroup\":\"x\",\"hovertemplate\":\"Survived=1\\u003cbr\\u003eAge=%{x}\\u003cbr\\u003ecount=%{y}\\u003cextra\\u003e\\u003c\\u002fextra\\u003e\",\"legendgroup\":\"1\",\"marker\":{\"color\":\"#FF7F0E\",\"pattern\":{\"shape\":\"\"}},\"name\":\"1\",\"offsetgroup\":\"1\",\"orientation\":\"v\",\"showlegend\":true,\"x\":[38.0,26.0,35.0,27.0,14.0,4.0,58.0,55.0,null,null,34.0,15.0,28.0,38.0,null,null,null,null,14.0,3.0,19.0,null,49.0,29.0,null,21.0,5.0,38.0,null,29.0,17.0,32.0,0.83,30.0,29.0,null,17.0,33.0,23.0,23.0,34.0,21.0,null,null,32.5,12.0,24.0,null,29.0,19.0,22.0,24.0,27.0,22.0,16.0,40.0,9.0,null,1.0,1.0,4.0,null,45.0,32.0,19.0,3.0,44.0,58.0,null,18.0,26.0,16.0,40.0,35.0,31.0,27.0,32.0,16.0,38.0,19.0,35.0,5.0,8.0,null,24.0,37.0,29.0,null,30.0,35.0,50.0,3.0,25.0,58.0,35.0,25.0,41.0,null,63.0,35.0,19.0,30.0,42.0,22.0,26.0,19.0,null,50.0,null,null,null,0.92,null,17.0,30.0,24.0,18.0,26.0,24.0,31.0,40.0,30.0,22.0,36.0,36.0,31.0,16.0,null,null,41.0,45.0,2.0,24.0,24.0,40.0,null,3.0,22.0,null,null,60.0,null,null,24.0,25.0,null,22.0,42.0,1.0,35.0,36.0,17.0,36.0,21.0,23.0,24.0,28.0,39.0,3.0,33.0,44.0,34.0,18.0,28.0,19.0,32.0,28.0,null,42.0,14.0,24.0,45.0,28.0,null,4.0,13.0,34.0,5.0,52.0,49.0,29.0,null,50.0,48.0,0.75,33.0,23.0,2.0,63.0,25.0,35.0,9.0,54.0,16.0,33.0,null,26.0,29.0,36.0,54.0,34.0,36.0,30.0,44.0,50.0,2.0,null,7.0,30.0,22.0,36.0,32.0,19.0,null,8.0,17.0,22.0,22.0,48.0,39.0,36.0,32.0,62.0,53.0,36.0,null,34.0,39.0,32.0,25.0,39.0,18.0,60.0,52.0,null,49.0,24.0,35.0,27.0,22.0,40.0,null,24.0,4.0,42.0,20.0,21.0,80.0,32.0,28.0,24.0,null,0.75,48.0,56.0,23.0,18.0,null,50.0,20.0,null,40.0,31.0,18.0,36.0,27.0,15.0,31.0,4.0,null,null,18.0,35.0,45.0,42.0,22.0,null,24.0,48.0,38.0,27.0,6.0,27.0,30.0,null,29.0,35.0,null,21.0,31.0,30.0,4.0,6.0,48.0,0.67,33.0,20.0,36.0,51.0,54.0,5.0,43.0,13.0,17.0,18.0,1.0,49.0,31.0,31.0,11.0,0.42,27.0,33.0,52.0,27.0,27.0,1.0,null,62.0,15.0,0.83,39.0,32.0,null,30.0,null,16.0,18.0,45.0,51.0,24.0,48.0,42.0,27.0,4.0,47.0,28.0,15.0,56.0,25.0,19.0,26.0],\"xaxis\":\"x\",\"yaxis\":\"y\",\"type\":\"histogram\"}],                        {\"template\":{\"data\":{\"barpolar\":[{\"marker\":{\"line\":{\"color\":\"white\",\"width\":0.5},\"pattern\":{\"fillmode\":\"overlay\",\"size\":10,\"solidity\":0.2}},\"type\":\"barpolar\"}],\"bar\":[{\"error_x\":{\"color\":\"#2a3f5f\"},\"error_y\":{\"color\":\"#2a3f5f\"},\"marker\":{\"line\":{\"color\":\"white\",\"width\":0.5},\"pattern\":{\"fillmode\":\"overlay\",\"size\":10,\"solidity\":0.2}},\"type\":\"bar\"}],\"carpet\":[{\"aaxis\":{\"endlinecolor\":\"#2a3f5f\",\"gridcolor\":\"#C8D4E3\",\"linecolor\":\"#C8D4E3\",\"minorgridcolor\":\"#C8D4E3\",\"startlinecolor\":\"#2a3f5f\"},\"baxis\":{\"endlinecolor\":\"#2a3f5f\",\"gridcolor\":\"#C8D4E3\",\"linecolor\":\"#C8D4E3\",\"minorgridcolor\":\"#C8D4E3\",\"startlinecolor\":\"#2a3f5f\"},\"type\":\"carpet\"}],\"choropleth\":[{\"colorbar\":{\"outlinewidth\":0,\"ticks\":\"\"},\"type\":\"choropleth\"}],\"contourcarpet\":[{\"colorbar\":{\"outlinewidth\":0,\"ticks\":\"\"},\"type\":\"contourcarpet\"}],\"contour\":[{\"colorbar\":{\"outlinewidth\":0,\"ticks\":\"\"},\"colorscale\":[[0.0,\"#0d0887\"],[0.1111111111111111,\"#46039f\"],[0.2222222222222222,\"#7201a8\"],[0.3333333333333333,\"#9c179e\"],[0.4444444444444444,\"#bd3786\"],[0.5555555555555556,\"#d8576b\"],[0.6666666666666666,\"#ed7953\"],[0.7777777777777778,\"#fb9f3a\"],[0.8888888888888888,\"#fdca26\"],[1.0,\"#f0f921\"]],\"type\":\"contour\"}],\"heatmapgl\":[{\"colorbar\":{\"outlinewidth\":0,\"ticks\":\"\"},\"colorscale\":[[0.0,\"#0d0887\"],[0.1111111111111111,\"#46039f\"],[0.2222222222222222,\"#7201a8\"],[0.3333333333333333,\"#9c179e\"],[0.4444444444444444,\"#bd3786\"],[0.5555555555555556,\"#d8576b\"],[0.6666666666666666,\"#ed7953\"],[0.7777777777777778,\"#fb9f3a\"],[0.8888888888888888,\"#fdca26\"],[1.0,\"#f0f921\"]],\"type\":\"heatmapgl\"}],\"heatmap\":[{\"colorbar\":{\"outlinewidth\":0,\"ticks\":\"\"},\"colorscale\":[[0.0,\"#0d0887\"],[0.1111111111111111,\"#46039f\"],[0.2222222222222222,\"#7201a8\"],[0.3333333333333333,\"#9c179e\"],[0.4444444444444444,\"#bd3786\"],[0.5555555555555556,\"#d8576b\"],[0.6666666666666666,\"#ed7953\"],[0.7777777777777778,\"#fb9f3a\"],[0.8888888888888888,\"#fdca26\"],[1.0,\"#f0f921\"]],\"type\":\"heatmap\"}],\"histogram2dcontour\":[{\"colorbar\":{\"outlinewidth\":0,\"ticks\":\"\"},\"colorscale\":[[0.0,\"#0d0887\"],[0.1111111111111111,\"#46039f\"],[0.2222222222222222,\"#7201a8\"],[0.3333333333333333,\"#9c179e\"],[0.4444444444444444,\"#bd3786\"],[0.5555555555555556,\"#d8576b\"],[0.6666666666666666,\"#ed7953\"],[0.7777777777777778,\"#fb9f3a\"],[0.8888888888888888,\"#fdca26\"],[1.0,\"#f0f921\"]],\"type\":\"histogram2dcontour\"}],\"histogram2d\":[{\"colorbar\":{\"outlinewidth\":0,\"ticks\":\"\"},\"colorscale\":[[0.0,\"#0d0887\"],[0.1111111111111111,\"#46039f\"],[0.2222222222222222,\"#7201a8\"],[0.3333333333333333,\"#9c179e\"],[0.4444444444444444,\"#bd3786\"],[0.5555555555555556,\"#d8576b\"],[0.6666666666666666,\"#ed7953\"],[0.7777777777777778,\"#fb9f3a\"],[0.8888888888888888,\"#fdca26\"],[1.0,\"#f0f921\"]],\"type\":\"histogram2d\"}],\"histogram\":[{\"marker\":{\"pattern\":{\"fillmode\":\"overlay\",\"size\":10,\"solidity\":0.2}},\"type\":\"histogram\"}],\"mesh3d\":[{\"colorbar\":{\"outlinewidth\":0,\"ticks\":\"\"},\"type\":\"mesh3d\"}],\"parcoords\":[{\"line\":{\"colorbar\":{\"outlinewidth\":0,\"ticks\":\"\"}},\"type\":\"parcoords\"}],\"pie\":[{\"automargin\":true,\"type\":\"pie\"}],\"scatter3d\":[{\"line\":{\"colorbar\":{\"outlinewidth\":0,\"ticks\":\"\"}},\"marker\":{\"colorbar\":{\"outlinewidth\":0,\"ticks\":\"\"}},\"type\":\"scatter3d\"}],\"scattercarpet\":[{\"marker\":{\"colorbar\":{\"outlinewidth\":0,\"ticks\":\"\"}},\"type\":\"scattercarpet\"}],\"scattergeo\":[{\"marker\":{\"colorbar\":{\"outlinewidth\":0,\"ticks\":\"\"}},\"type\":\"scattergeo\"}],\"scattergl\":[{\"marker\":{\"colorbar\":{\"outlinewidth\":0,\"ticks\":\"\"}},\"type\":\"scattergl\"}],\"scattermapbox\":[{\"marker\":{\"colorbar\":{\"outlinewidth\":0,\"ticks\":\"\"}},\"type\":\"scattermapbox\"}],\"scatterpolargl\":[{\"marker\":{\"colorbar\":{\"outlinewidth\":0,\"ticks\":\"\"}},\"type\":\"scatterpolargl\"}],\"scatterpolar\":[{\"marker\":{\"colorbar\":{\"outlinewidth\":0,\"ticks\":\"\"}},\"type\":\"scatterpolar\"}],\"scatter\":[{\"fillpattern\":{\"fillmode\":\"overlay\",\"size\":10,\"solidity\":0.2},\"type\":\"scatter\"}],\"scatterternary\":[{\"marker\":{\"colorbar\":{\"outlinewidth\":0,\"ticks\":\"\"}},\"type\":\"scatterternary\"}],\"surface\":[{\"colorbar\":{\"outlinewidth\":0,\"ticks\":\"\"},\"colorscale\":[[0.0,\"#0d0887\"],[0.1111111111111111,\"#46039f\"],[0.2222222222222222,\"#7201a8\"],[0.3333333333333333,\"#9c179e\"],[0.4444444444444444,\"#bd3786\"],[0.5555555555555556,\"#d8576b\"],[0.6666666666666666,\"#ed7953\"],[0.7777777777777778,\"#fb9f3a\"],[0.8888888888888888,\"#fdca26\"],[1.0,\"#f0f921\"]],\"type\":\"surface\"}],\"table\":[{\"cells\":{\"fill\":{\"color\":\"#EBF0F8\"},\"line\":{\"color\":\"white\"}},\"header\":{\"fill\":{\"color\":\"#C8D4E3\"},\"line\":{\"color\":\"white\"}},\"type\":\"table\"}]},\"layout\":{\"annotationdefaults\":{\"arrowcolor\":\"#2a3f5f\",\"arrowhead\":0,\"arrowwidth\":1},\"autotypenumbers\":\"strict\",\"coloraxis\":{\"colorbar\":{\"outlinewidth\":0,\"ticks\":\"\"}},\"colorscale\":{\"diverging\":[[0,\"#8e0152\"],[0.1,\"#c51b7d\"],[0.2,\"#de77ae\"],[0.3,\"#f1b6da\"],[0.4,\"#fde0ef\"],[0.5,\"#f7f7f7\"],[0.6,\"#e6f5d0\"],[0.7,\"#b8e186\"],[0.8,\"#7fbc41\"],[0.9,\"#4d9221\"],[1,\"#276419\"]],\"sequential\":[[0.0,\"#0d0887\"],[0.1111111111111111,\"#46039f\"],[0.2222222222222222,\"#7201a8\"],[0.3333333333333333,\"#9c179e\"],[0.4444444444444444,\"#bd3786\"],[0.5555555555555556,\"#d8576b\"],[0.6666666666666666,\"#ed7953\"],[0.7777777777777778,\"#fb9f3a\"],[0.8888888888888888,\"#fdca26\"],[1.0,\"#f0f921\"]],\"sequentialminus\":[[0.0,\"#0d0887\"],[0.1111111111111111,\"#46039f\"],[0.2222222222222222,\"#7201a8\"],[0.3333333333333333,\"#9c179e\"],[0.4444444444444444,\"#bd3786\"],[0.5555555555555556,\"#d8576b\"],[0.6666666666666666,\"#ed7953\"],[0.7777777777777778,\"#fb9f3a\"],[0.8888888888888888,\"#fdca26\"],[1.0,\"#f0f921\"]]},\"colorway\":[\"#636efa\",\"#EF553B\",\"#00cc96\",\"#ab63fa\",\"#FFA15A\",\"#19d3f3\",\"#FF6692\",\"#B6E880\",\"#FF97FF\",\"#FECB52\"],\"font\":{\"color\":\"#2a3f5f\"},\"geo\":{\"bgcolor\":\"white\",\"lakecolor\":\"white\",\"landcolor\":\"white\",\"showlakes\":true,\"showland\":true,\"subunitcolor\":\"#C8D4E3\"},\"hoverlabel\":{\"align\":\"left\"},\"hovermode\":\"closest\",\"mapbox\":{\"style\":\"light\"},\"paper_bgcolor\":\"white\",\"plot_bgcolor\":\"white\",\"polar\":{\"angularaxis\":{\"gridcolor\":\"#EBF0F8\",\"linecolor\":\"#EBF0F8\",\"ticks\":\"\"},\"bgcolor\":\"white\",\"radialaxis\":{\"gridcolor\":\"#EBF0F8\",\"linecolor\":\"#EBF0F8\",\"ticks\":\"\"}},\"scene\":{\"xaxis\":{\"backgroundcolor\":\"white\",\"gridcolor\":\"#DFE8F3\",\"gridwidth\":2,\"linecolor\":\"#EBF0F8\",\"showbackground\":true,\"ticks\":\"\",\"zerolinecolor\":\"#EBF0F8\"},\"yaxis\":{\"backgroundcolor\":\"white\",\"gridcolor\":\"#DFE8F3\",\"gridwidth\":2,\"linecolor\":\"#EBF0F8\",\"showbackground\":true,\"ticks\":\"\",\"zerolinecolor\":\"#EBF0F8\"},\"zaxis\":{\"backgroundcolor\":\"white\",\"gridcolor\":\"#DFE8F3\",\"gridwidth\":2,\"linecolor\":\"#EBF0F8\",\"showbackground\":true,\"ticks\":\"\",\"zerolinecolor\":\"#EBF0F8\"}},\"shapedefaults\":{\"line\":{\"color\":\"#2a3f5f\"}},\"ternary\":{\"aaxis\":{\"gridcolor\":\"#DFE8F3\",\"linecolor\":\"#A2B1C6\",\"ticks\":\"\"},\"baxis\":{\"gridcolor\":\"#DFE8F3\",\"linecolor\":\"#A2B1C6\",\"ticks\":\"\"},\"bgcolor\":\"white\",\"caxis\":{\"gridcolor\":\"#DFE8F3\",\"linecolor\":\"#A2B1C6\",\"ticks\":\"\"}},\"title\":{\"x\":0.05},\"xaxis\":{\"automargin\":true,\"gridcolor\":\"#EBF0F8\",\"linecolor\":\"#EBF0F8\",\"ticks\":\"\",\"title\":{\"standoff\":15},\"zerolinecolor\":\"#EBF0F8\",\"zerolinewidth\":2},\"yaxis\":{\"automargin\":true,\"gridcolor\":\"#EBF0F8\",\"linecolor\":\"#EBF0F8\",\"ticks\":\"\",\"title\":{\"standoff\":15},\"zerolinecolor\":\"#EBF0F8\",\"zerolinewidth\":2}}},\"xaxis\":{\"anchor\":\"y\",\"domain\":[0.0,1.0],\"title\":{\"text\":\"Age\"}},\"yaxis\":{\"anchor\":\"x\",\"domain\":[0.0,1.0],\"title\":{\"text\":\"count\"}},\"legend\":{\"title\":{\"text\":\"Survived\"},\"tracegroupgap\":0},\"margin\":{\"t\":60},\"barmode\":\"relative\",\"bargap\":0.1},                        {\"responsive\": true}                    ).then(function(){\n",
       "                            \n",
       "var gd = document.getElementById('91d762c7-68e0-4512-9146-9a09065cb9c1');\n",
       "var x = new MutationObserver(function (mutations, observer) {{\n",
       "        var display = window.getComputedStyle(gd).display;\n",
       "        if (!display || display === 'none') {{\n",
       "            console.log([gd, 'removed!']);\n",
       "            Plotly.purge(gd);\n",
       "            observer.disconnect();\n",
       "        }}\n",
       "}});\n",
       "\n",
       "// Listen for the removal of the full notebook cells\n",
       "var notebookContainer = gd.closest('#notebook-container');\n",
       "if (notebookContainer) {{\n",
       "    x.observe(notebookContainer, {childList: true});\n",
       "}}\n",
       "\n",
       "// Listen for the clearing of the current output cell\n",
       "var outputEl = gd.closest('.output');\n",
       "if (outputEl) {{\n",
       "    x.observe(outputEl, {childList: true});\n",
       "}}\n",
       "\n",
       "                        })                };                });            </script>        </div>"
      ]
     },
     "metadata": {},
     "output_type": "display_data"
    }
   ],
   "source": [
    "fig = px.histogram(df, \n",
    "                   x='Age', \n",
    "                   color='Survived',\n",
    "                   template='plotly_white',\n",
    "                   color_discrete_sequence=px.colors.qualitative.D3\n",
    "                  )\n",
    "\n",
    "fig.update_layout(\n",
    "    bargap=0.1, # gap between bars of adjacent location coordinates\n",
    ")\n",
    "\n",
    "fig.show()"
   ]
  },
  {
   "cell_type": "markdown",
   "id": "6e4f3cf1-d431-4dfb-8e15-40fc61007b49",
   "metadata": {},
   "source": [
    "## Bubble Plot\n",
    "\n",
    "For this plot, we'll transform the data a bit to investigate the survival rates across different age decades."
   ]
  },
  {
   "cell_type": "code",
   "execution_count": 28,
   "id": "65d8b9ae-8928-4899-98dc-47cd650b64b9",
   "metadata": {},
   "outputs": [
    {
     "data": {
      "text/html": [
       "<div>\n",
       "<style scoped>\n",
       "    .dataframe tbody tr th:only-of-type {\n",
       "        vertical-align: middle;\n",
       "    }\n",
       "\n",
       "    .dataframe tbody tr th {\n",
       "        vertical-align: top;\n",
       "    }\n",
       "\n",
       "    .dataframe thead th {\n",
       "        text-align: right;\n",
       "    }\n",
       "</style>\n",
       "<table border=\"1\" class=\"dataframe\">\n",
       "  <thead>\n",
       "    <tr style=\"text-align: right;\">\n",
       "      <th></th>\n",
       "      <th>Age</th>\n",
       "      <th>Age_rounded</th>\n",
       "    </tr>\n",
       "  </thead>\n",
       "  <tbody>\n",
       "    <tr>\n",
       "      <th>0</th>\n",
       "      <td>22.0</td>\n",
       "      <td>20.0</td>\n",
       "    </tr>\n",
       "    <tr>\n",
       "      <th>1</th>\n",
       "      <td>38.0</td>\n",
       "      <td>40.0</td>\n",
       "    </tr>\n",
       "    <tr>\n",
       "      <th>2</th>\n",
       "      <td>26.0</td>\n",
       "      <td>30.0</td>\n",
       "    </tr>\n",
       "    <tr>\n",
       "      <th>3</th>\n",
       "      <td>35.0</td>\n",
       "      <td>40.0</td>\n",
       "    </tr>\n",
       "    <tr>\n",
       "      <th>4</th>\n",
       "      <td>35.0</td>\n",
       "      <td>40.0</td>\n",
       "    </tr>\n",
       "  </tbody>\n",
       "</table>\n",
       "</div>"
      ],
      "text/plain": [
       "    Age  Age_rounded\n",
       "0  22.0         20.0\n",
       "1  38.0         40.0\n",
       "2  26.0         30.0\n",
       "3  35.0         40.0\n",
       "4  35.0         40.0"
      ]
     },
     "execution_count": 28,
     "metadata": {},
     "output_type": "execute_result"
    }
   ],
   "source": [
    "# calculate decade\n",
    "df['Age_rounded'] = df['Age'].round(-1)\n",
    "df[['Age', 'Age_rounded']].head()"
   ]
  },
  {
   "cell_type": "code",
   "execution_count": 29,
   "id": "626f49ac-0fab-4cbf-8ac9-0d66fe6ef34d",
   "metadata": {},
   "outputs": [
    {
     "data": {
      "application/vnd.plotly.v1+json": {
       "config": {
        "plotlyServerURL": "https://plot.ly"
       },
       "data": [
        {
         "hovertemplate": "Pclass=1<br>Age_rounded=%{x}<br>Survived=%{y}<br>Passengers=%{marker.size}<extra></extra>",
         "legendgroup": "1",
         "marker": {
          "color": "#1F77B4",
          "size": [
           3,
           2,
           37,
           31,
           51,
           35,
           23,
           3,
           1
          ],
          "sizemode": "area",
          "sizeref": 0.35,
          "symbol": "circle"
         },
         "mode": "markers",
         "name": "1",
         "orientation": "v",
         "showlegend": true,
         "type": "scatter",
         "x": [
          0,
          10,
          20,
          30,
          40,
          50,
          60,
          70,
          80
         ],
         "xaxis": "x",
         "y": [
          2,
          2,
          29,
          22,
          37,
          20,
          9,
          0,
          1
         ],
         "yaxis": "y"
        },
        {
         "hovertemplate": "Pclass=2<br>Age_rounded=%{x}<br>Survived=%{y}<br>Passengers=%{marker.size}<extra></extra>",
         "legendgroup": "2",
         "marker": {
          "color": "#FF7F0E",
          "size": [
           13,
           6,
           46,
           55,
           30,
           15,
           6,
           2
          ],
          "sizemode": "area",
          "sizeref": 0.35,
          "symbol": "circle"
         },
         "mode": "markers",
         "name": "2",
         "orientation": "v",
         "showlegend": true,
         "type": "scatter",
         "x": [
          0,
          10,
          20,
          30,
          40,
          50,
          60,
          70
         ],
         "xaxis": "x",
         "y": [
          13,
          6,
          19,
          25,
          13,
          5,
          2,
          0
         ],
         "yaxis": "y"
        },
        {
         "hovertemplate": "Pclass=3<br>Age_rounded=%{x}<br>Survived=%{y}<br>Passengers=%{marker.size}<extra></extra>",
         "legendgroup": "3",
         "marker": {
          "color": "#2CA02C",
          "size": [
           28,
           26,
           140,
           92,
           51,
           11,
           5,
           2
          ],
          "sizemode": "area",
          "sizeref": 0.35,
          "symbol": "circle"
         },
         "mode": "markers",
         "name": "3",
         "orientation": "v",
         "showlegend": true,
         "type": "scatter",
         "x": [
          0,
          10,
          20,
          30,
          40,
          50,
          60,
          70
         ],
         "xaxis": "x",
         "y": [
          16,
          6,
          31,
          25,
          6,
          0,
          1,
          0
         ],
         "yaxis": "y"
        }
       ],
       "layout": {
        "legend": {
         "itemsizing": "constant",
         "title": {
          "text": "Pclass"
         },
         "tracegroupgap": 0
        },
        "margin": {
         "t": 60
        },
        "template": {
         "data": {
          "bar": [
           {
            "error_x": {
             "color": "#2a3f5f"
            },
            "error_y": {
             "color": "#2a3f5f"
            },
            "marker": {
             "line": {
              "color": "white",
              "width": 0.5
             },
             "pattern": {
              "fillmode": "overlay",
              "size": 10,
              "solidity": 0.2
             }
            },
            "type": "bar"
           }
          ],
          "barpolar": [
           {
            "marker": {
             "line": {
              "color": "white",
              "width": 0.5
             },
             "pattern": {
              "fillmode": "overlay",
              "size": 10,
              "solidity": 0.2
             }
            },
            "type": "barpolar"
           }
          ],
          "carpet": [
           {
            "aaxis": {
             "endlinecolor": "#2a3f5f",
             "gridcolor": "#C8D4E3",
             "linecolor": "#C8D4E3",
             "minorgridcolor": "#C8D4E3",
             "startlinecolor": "#2a3f5f"
            },
            "baxis": {
             "endlinecolor": "#2a3f5f",
             "gridcolor": "#C8D4E3",
             "linecolor": "#C8D4E3",
             "minorgridcolor": "#C8D4E3",
             "startlinecolor": "#2a3f5f"
            },
            "type": "carpet"
           }
          ],
          "choropleth": [
           {
            "colorbar": {
             "outlinewidth": 0,
             "ticks": ""
            },
            "type": "choropleth"
           }
          ],
          "contour": [
           {
            "colorbar": {
             "outlinewidth": 0,
             "ticks": ""
            },
            "colorscale": [
             [
              0,
              "#0d0887"
             ],
             [
              0.1111111111111111,
              "#46039f"
             ],
             [
              0.2222222222222222,
              "#7201a8"
             ],
             [
              0.3333333333333333,
              "#9c179e"
             ],
             [
              0.4444444444444444,
              "#bd3786"
             ],
             [
              0.5555555555555556,
              "#d8576b"
             ],
             [
              0.6666666666666666,
              "#ed7953"
             ],
             [
              0.7777777777777778,
              "#fb9f3a"
             ],
             [
              0.8888888888888888,
              "#fdca26"
             ],
             [
              1,
              "#f0f921"
             ]
            ],
            "type": "contour"
           }
          ],
          "contourcarpet": [
           {
            "colorbar": {
             "outlinewidth": 0,
             "ticks": ""
            },
            "type": "contourcarpet"
           }
          ],
          "heatmap": [
           {
            "colorbar": {
             "outlinewidth": 0,
             "ticks": ""
            },
            "colorscale": [
             [
              0,
              "#0d0887"
             ],
             [
              0.1111111111111111,
              "#46039f"
             ],
             [
              0.2222222222222222,
              "#7201a8"
             ],
             [
              0.3333333333333333,
              "#9c179e"
             ],
             [
              0.4444444444444444,
              "#bd3786"
             ],
             [
              0.5555555555555556,
              "#d8576b"
             ],
             [
              0.6666666666666666,
              "#ed7953"
             ],
             [
              0.7777777777777778,
              "#fb9f3a"
             ],
             [
              0.8888888888888888,
              "#fdca26"
             ],
             [
              1,
              "#f0f921"
             ]
            ],
            "type": "heatmap"
           }
          ],
          "heatmapgl": [
           {
            "colorbar": {
             "outlinewidth": 0,
             "ticks": ""
            },
            "colorscale": [
             [
              0,
              "#0d0887"
             ],
             [
              0.1111111111111111,
              "#46039f"
             ],
             [
              0.2222222222222222,
              "#7201a8"
             ],
             [
              0.3333333333333333,
              "#9c179e"
             ],
             [
              0.4444444444444444,
              "#bd3786"
             ],
             [
              0.5555555555555556,
              "#d8576b"
             ],
             [
              0.6666666666666666,
              "#ed7953"
             ],
             [
              0.7777777777777778,
              "#fb9f3a"
             ],
             [
              0.8888888888888888,
              "#fdca26"
             ],
             [
              1,
              "#f0f921"
             ]
            ],
            "type": "heatmapgl"
           }
          ],
          "histogram": [
           {
            "marker": {
             "pattern": {
              "fillmode": "overlay",
              "size": 10,
              "solidity": 0.2
             }
            },
            "type": "histogram"
           }
          ],
          "histogram2d": [
           {
            "colorbar": {
             "outlinewidth": 0,
             "ticks": ""
            },
            "colorscale": [
             [
              0,
              "#0d0887"
             ],
             [
              0.1111111111111111,
              "#46039f"
             ],
             [
              0.2222222222222222,
              "#7201a8"
             ],
             [
              0.3333333333333333,
              "#9c179e"
             ],
             [
              0.4444444444444444,
              "#bd3786"
             ],
             [
              0.5555555555555556,
              "#d8576b"
             ],
             [
              0.6666666666666666,
              "#ed7953"
             ],
             [
              0.7777777777777778,
              "#fb9f3a"
             ],
             [
              0.8888888888888888,
              "#fdca26"
             ],
             [
              1,
              "#f0f921"
             ]
            ],
            "type": "histogram2d"
           }
          ],
          "histogram2dcontour": [
           {
            "colorbar": {
             "outlinewidth": 0,
             "ticks": ""
            },
            "colorscale": [
             [
              0,
              "#0d0887"
             ],
             [
              0.1111111111111111,
              "#46039f"
             ],
             [
              0.2222222222222222,
              "#7201a8"
             ],
             [
              0.3333333333333333,
              "#9c179e"
             ],
             [
              0.4444444444444444,
              "#bd3786"
             ],
             [
              0.5555555555555556,
              "#d8576b"
             ],
             [
              0.6666666666666666,
              "#ed7953"
             ],
             [
              0.7777777777777778,
              "#fb9f3a"
             ],
             [
              0.8888888888888888,
              "#fdca26"
             ],
             [
              1,
              "#f0f921"
             ]
            ],
            "type": "histogram2dcontour"
           }
          ],
          "mesh3d": [
           {
            "colorbar": {
             "outlinewidth": 0,
             "ticks": ""
            },
            "type": "mesh3d"
           }
          ],
          "parcoords": [
           {
            "line": {
             "colorbar": {
              "outlinewidth": 0,
              "ticks": ""
             }
            },
            "type": "parcoords"
           }
          ],
          "pie": [
           {
            "automargin": true,
            "type": "pie"
           }
          ],
          "scatter": [
           {
            "fillpattern": {
             "fillmode": "overlay",
             "size": 10,
             "solidity": 0.2
            },
            "type": "scatter"
           }
          ],
          "scatter3d": [
           {
            "line": {
             "colorbar": {
              "outlinewidth": 0,
              "ticks": ""
             }
            },
            "marker": {
             "colorbar": {
              "outlinewidth": 0,
              "ticks": ""
             }
            },
            "type": "scatter3d"
           }
          ],
          "scattercarpet": [
           {
            "marker": {
             "colorbar": {
              "outlinewidth": 0,
              "ticks": ""
             }
            },
            "type": "scattercarpet"
           }
          ],
          "scattergeo": [
           {
            "marker": {
             "colorbar": {
              "outlinewidth": 0,
              "ticks": ""
             }
            },
            "type": "scattergeo"
           }
          ],
          "scattergl": [
           {
            "marker": {
             "colorbar": {
              "outlinewidth": 0,
              "ticks": ""
             }
            },
            "type": "scattergl"
           }
          ],
          "scattermapbox": [
           {
            "marker": {
             "colorbar": {
              "outlinewidth": 0,
              "ticks": ""
             }
            },
            "type": "scattermapbox"
           }
          ],
          "scatterpolar": [
           {
            "marker": {
             "colorbar": {
              "outlinewidth": 0,
              "ticks": ""
             }
            },
            "type": "scatterpolar"
           }
          ],
          "scatterpolargl": [
           {
            "marker": {
             "colorbar": {
              "outlinewidth": 0,
              "ticks": ""
             }
            },
            "type": "scatterpolargl"
           }
          ],
          "scatterternary": [
           {
            "marker": {
             "colorbar": {
              "outlinewidth": 0,
              "ticks": ""
             }
            },
            "type": "scatterternary"
           }
          ],
          "surface": [
           {
            "colorbar": {
             "outlinewidth": 0,
             "ticks": ""
            },
            "colorscale": [
             [
              0,
              "#0d0887"
             ],
             [
              0.1111111111111111,
              "#46039f"
             ],
             [
              0.2222222222222222,
              "#7201a8"
             ],
             [
              0.3333333333333333,
              "#9c179e"
             ],
             [
              0.4444444444444444,
              "#bd3786"
             ],
             [
              0.5555555555555556,
              "#d8576b"
             ],
             [
              0.6666666666666666,
              "#ed7953"
             ],
             [
              0.7777777777777778,
              "#fb9f3a"
             ],
             [
              0.8888888888888888,
              "#fdca26"
             ],
             [
              1,
              "#f0f921"
             ]
            ],
            "type": "surface"
           }
          ],
          "table": [
           {
            "cells": {
             "fill": {
              "color": "#EBF0F8"
             },
             "line": {
              "color": "white"
             }
            },
            "header": {
             "fill": {
              "color": "#C8D4E3"
             },
             "line": {
              "color": "white"
             }
            },
            "type": "table"
           }
          ]
         },
         "layout": {
          "annotationdefaults": {
           "arrowcolor": "#2a3f5f",
           "arrowhead": 0,
           "arrowwidth": 1
          },
          "autotypenumbers": "strict",
          "coloraxis": {
           "colorbar": {
            "outlinewidth": 0,
            "ticks": ""
           }
          },
          "colorscale": {
           "diverging": [
            [
             0,
             "#8e0152"
            ],
            [
             0.1,
             "#c51b7d"
            ],
            [
             0.2,
             "#de77ae"
            ],
            [
             0.3,
             "#f1b6da"
            ],
            [
             0.4,
             "#fde0ef"
            ],
            [
             0.5,
             "#f7f7f7"
            ],
            [
             0.6,
             "#e6f5d0"
            ],
            [
             0.7,
             "#b8e186"
            ],
            [
             0.8,
             "#7fbc41"
            ],
            [
             0.9,
             "#4d9221"
            ],
            [
             1,
             "#276419"
            ]
           ],
           "sequential": [
            [
             0,
             "#0d0887"
            ],
            [
             0.1111111111111111,
             "#46039f"
            ],
            [
             0.2222222222222222,
             "#7201a8"
            ],
            [
             0.3333333333333333,
             "#9c179e"
            ],
            [
             0.4444444444444444,
             "#bd3786"
            ],
            [
             0.5555555555555556,
             "#d8576b"
            ],
            [
             0.6666666666666666,
             "#ed7953"
            ],
            [
             0.7777777777777778,
             "#fb9f3a"
            ],
            [
             0.8888888888888888,
             "#fdca26"
            ],
            [
             1,
             "#f0f921"
            ]
           ],
           "sequentialminus": [
            [
             0,
             "#0d0887"
            ],
            [
             0.1111111111111111,
             "#46039f"
            ],
            [
             0.2222222222222222,
             "#7201a8"
            ],
            [
             0.3333333333333333,
             "#9c179e"
            ],
            [
             0.4444444444444444,
             "#bd3786"
            ],
            [
             0.5555555555555556,
             "#d8576b"
            ],
            [
             0.6666666666666666,
             "#ed7953"
            ],
            [
             0.7777777777777778,
             "#fb9f3a"
            ],
            [
             0.8888888888888888,
             "#fdca26"
            ],
            [
             1,
             "#f0f921"
            ]
           ]
          },
          "colorway": [
           "#636efa",
           "#EF553B",
           "#00cc96",
           "#ab63fa",
           "#FFA15A",
           "#19d3f3",
           "#FF6692",
           "#B6E880",
           "#FF97FF",
           "#FECB52"
          ],
          "font": {
           "color": "#2a3f5f"
          },
          "geo": {
           "bgcolor": "white",
           "lakecolor": "white",
           "landcolor": "white",
           "showlakes": true,
           "showland": true,
           "subunitcolor": "#C8D4E3"
          },
          "hoverlabel": {
           "align": "left"
          },
          "hovermode": "closest",
          "mapbox": {
           "style": "light"
          },
          "paper_bgcolor": "white",
          "plot_bgcolor": "white",
          "polar": {
           "angularaxis": {
            "gridcolor": "#EBF0F8",
            "linecolor": "#EBF0F8",
            "ticks": ""
           },
           "bgcolor": "white",
           "radialaxis": {
            "gridcolor": "#EBF0F8",
            "linecolor": "#EBF0F8",
            "ticks": ""
           }
          },
          "scene": {
           "xaxis": {
            "backgroundcolor": "white",
            "gridcolor": "#DFE8F3",
            "gridwidth": 2,
            "linecolor": "#EBF0F8",
            "showbackground": true,
            "ticks": "",
            "zerolinecolor": "#EBF0F8"
           },
           "yaxis": {
            "backgroundcolor": "white",
            "gridcolor": "#DFE8F3",
            "gridwidth": 2,
            "linecolor": "#EBF0F8",
            "showbackground": true,
            "ticks": "",
            "zerolinecolor": "#EBF0F8"
           },
           "zaxis": {
            "backgroundcolor": "white",
            "gridcolor": "#DFE8F3",
            "gridwidth": 2,
            "linecolor": "#EBF0F8",
            "showbackground": true,
            "ticks": "",
            "zerolinecolor": "#EBF0F8"
           }
          },
          "shapedefaults": {
           "line": {
            "color": "#2a3f5f"
           }
          },
          "ternary": {
           "aaxis": {
            "gridcolor": "#DFE8F3",
            "linecolor": "#A2B1C6",
            "ticks": ""
           },
           "baxis": {
            "gridcolor": "#DFE8F3",
            "linecolor": "#A2B1C6",
            "ticks": ""
           },
           "bgcolor": "white",
           "caxis": {
            "gridcolor": "#DFE8F3",
            "linecolor": "#A2B1C6",
            "ticks": ""
           }
          },
          "title": {
           "x": 0.05
          },
          "xaxis": {
           "automargin": true,
           "gridcolor": "#EBF0F8",
           "linecolor": "#EBF0F8",
           "ticks": "",
           "title": {
            "standoff": 15
           },
           "zerolinecolor": "#EBF0F8",
           "zerolinewidth": 2
          },
          "yaxis": {
           "automargin": true,
           "gridcolor": "#EBF0F8",
           "linecolor": "#EBF0F8",
           "ticks": "",
           "title": {
            "standoff": 15
           },
           "zerolinecolor": "#EBF0F8",
           "zerolinewidth": 2
          }
         }
        },
        "xaxis": {
         "anchor": "y",
         "domain": [
          0,
          1
         ],
         "title": {
          "text": "Age_rounded"
         }
        },
        "yaxis": {
         "anchor": "x",
         "domain": [
          0,
          1
         ],
         "title": {
          "text": "Survived"
         }
        }
       }
      },
      "text/html": [
       "<div>                            <div id=\"0dddee9e-0ad3-4a91-bc01-d50666491ed1\" class=\"plotly-graph-div\" style=\"height:525px; width:100%;\"></div>            <script type=\"text/javascript\">                require([\"plotly\"], function(Plotly) {                    window.PLOTLYENV=window.PLOTLYENV || {};                                    if (document.getElementById(\"0dddee9e-0ad3-4a91-bc01-d50666491ed1\")) {                    Plotly.newPlot(                        \"0dddee9e-0ad3-4a91-bc01-d50666491ed1\",                        [{\"hovertemplate\":\"Pclass=1\\u003cbr\\u003eAge_rounded=%{x}\\u003cbr\\u003eSurvived=%{y}\\u003cbr\\u003ePassengers=%{marker.size}\\u003cextra\\u003e\\u003c\\u002fextra\\u003e\",\"legendgroup\":\"1\",\"marker\":{\"color\":\"#1F77B4\",\"size\":[3,2,37,31,51,35,23,3,1],\"sizemode\":\"area\",\"sizeref\":0.35,\"symbol\":\"circle\"},\"mode\":\"markers\",\"name\":\"1\",\"orientation\":\"v\",\"showlegend\":true,\"x\":[0.0,10.0,20.0,30.0,40.0,50.0,60.0,70.0,80.0],\"xaxis\":\"x\",\"y\":[2,2,29,22,37,20,9,0,1],\"yaxis\":\"y\",\"type\":\"scatter\"},{\"hovertemplate\":\"Pclass=2\\u003cbr\\u003eAge_rounded=%{x}\\u003cbr\\u003eSurvived=%{y}\\u003cbr\\u003ePassengers=%{marker.size}\\u003cextra\\u003e\\u003c\\u002fextra\\u003e\",\"legendgroup\":\"2\",\"marker\":{\"color\":\"#FF7F0E\",\"size\":[13,6,46,55,30,15,6,2],\"sizemode\":\"area\",\"sizeref\":0.35,\"symbol\":\"circle\"},\"mode\":\"markers\",\"name\":\"2\",\"orientation\":\"v\",\"showlegend\":true,\"x\":[0.0,10.0,20.0,30.0,40.0,50.0,60.0,70.0],\"xaxis\":\"x\",\"y\":[13,6,19,25,13,5,2,0],\"yaxis\":\"y\",\"type\":\"scatter\"},{\"hovertemplate\":\"Pclass=3\\u003cbr\\u003eAge_rounded=%{x}\\u003cbr\\u003eSurvived=%{y}\\u003cbr\\u003ePassengers=%{marker.size}\\u003cextra\\u003e\\u003c\\u002fextra\\u003e\",\"legendgroup\":\"3\",\"marker\":{\"color\":\"#2CA02C\",\"size\":[28,26,140,92,51,11,5,2],\"sizemode\":\"area\",\"sizeref\":0.35,\"symbol\":\"circle\"},\"mode\":\"markers\",\"name\":\"3\",\"orientation\":\"v\",\"showlegend\":true,\"x\":[0.0,10.0,20.0,30.0,40.0,50.0,60.0,70.0],\"xaxis\":\"x\",\"y\":[16,6,31,25,6,0,1,0],\"yaxis\":\"y\",\"type\":\"scatter\"}],                        {\"template\":{\"data\":{\"barpolar\":[{\"marker\":{\"line\":{\"color\":\"white\",\"width\":0.5},\"pattern\":{\"fillmode\":\"overlay\",\"size\":10,\"solidity\":0.2}},\"type\":\"barpolar\"}],\"bar\":[{\"error_x\":{\"color\":\"#2a3f5f\"},\"error_y\":{\"color\":\"#2a3f5f\"},\"marker\":{\"line\":{\"color\":\"white\",\"width\":0.5},\"pattern\":{\"fillmode\":\"overlay\",\"size\":10,\"solidity\":0.2}},\"type\":\"bar\"}],\"carpet\":[{\"aaxis\":{\"endlinecolor\":\"#2a3f5f\",\"gridcolor\":\"#C8D4E3\",\"linecolor\":\"#C8D4E3\",\"minorgridcolor\":\"#C8D4E3\",\"startlinecolor\":\"#2a3f5f\"},\"baxis\":{\"endlinecolor\":\"#2a3f5f\",\"gridcolor\":\"#C8D4E3\",\"linecolor\":\"#C8D4E3\",\"minorgridcolor\":\"#C8D4E3\",\"startlinecolor\":\"#2a3f5f\"},\"type\":\"carpet\"}],\"choropleth\":[{\"colorbar\":{\"outlinewidth\":0,\"ticks\":\"\"},\"type\":\"choropleth\"}],\"contourcarpet\":[{\"colorbar\":{\"outlinewidth\":0,\"ticks\":\"\"},\"type\":\"contourcarpet\"}],\"contour\":[{\"colorbar\":{\"outlinewidth\":0,\"ticks\":\"\"},\"colorscale\":[[0.0,\"#0d0887\"],[0.1111111111111111,\"#46039f\"],[0.2222222222222222,\"#7201a8\"],[0.3333333333333333,\"#9c179e\"],[0.4444444444444444,\"#bd3786\"],[0.5555555555555556,\"#d8576b\"],[0.6666666666666666,\"#ed7953\"],[0.7777777777777778,\"#fb9f3a\"],[0.8888888888888888,\"#fdca26\"],[1.0,\"#f0f921\"]],\"type\":\"contour\"}],\"heatmapgl\":[{\"colorbar\":{\"outlinewidth\":0,\"ticks\":\"\"},\"colorscale\":[[0.0,\"#0d0887\"],[0.1111111111111111,\"#46039f\"],[0.2222222222222222,\"#7201a8\"],[0.3333333333333333,\"#9c179e\"],[0.4444444444444444,\"#bd3786\"],[0.5555555555555556,\"#d8576b\"],[0.6666666666666666,\"#ed7953\"],[0.7777777777777778,\"#fb9f3a\"],[0.8888888888888888,\"#fdca26\"],[1.0,\"#f0f921\"]],\"type\":\"heatmapgl\"}],\"heatmap\":[{\"colorbar\":{\"outlinewidth\":0,\"ticks\":\"\"},\"colorscale\":[[0.0,\"#0d0887\"],[0.1111111111111111,\"#46039f\"],[0.2222222222222222,\"#7201a8\"],[0.3333333333333333,\"#9c179e\"],[0.4444444444444444,\"#bd3786\"],[0.5555555555555556,\"#d8576b\"],[0.6666666666666666,\"#ed7953\"],[0.7777777777777778,\"#fb9f3a\"],[0.8888888888888888,\"#fdca26\"],[1.0,\"#f0f921\"]],\"type\":\"heatmap\"}],\"histogram2dcontour\":[{\"colorbar\":{\"outlinewidth\":0,\"ticks\":\"\"},\"colorscale\":[[0.0,\"#0d0887\"],[0.1111111111111111,\"#46039f\"],[0.2222222222222222,\"#7201a8\"],[0.3333333333333333,\"#9c179e\"],[0.4444444444444444,\"#bd3786\"],[0.5555555555555556,\"#d8576b\"],[0.6666666666666666,\"#ed7953\"],[0.7777777777777778,\"#fb9f3a\"],[0.8888888888888888,\"#fdca26\"],[1.0,\"#f0f921\"]],\"type\":\"histogram2dcontour\"}],\"histogram2d\":[{\"colorbar\":{\"outlinewidth\":0,\"ticks\":\"\"},\"colorscale\":[[0.0,\"#0d0887\"],[0.1111111111111111,\"#46039f\"],[0.2222222222222222,\"#7201a8\"],[0.3333333333333333,\"#9c179e\"],[0.4444444444444444,\"#bd3786\"],[0.5555555555555556,\"#d8576b\"],[0.6666666666666666,\"#ed7953\"],[0.7777777777777778,\"#fb9f3a\"],[0.8888888888888888,\"#fdca26\"],[1.0,\"#f0f921\"]],\"type\":\"histogram2d\"}],\"histogram\":[{\"marker\":{\"pattern\":{\"fillmode\":\"overlay\",\"size\":10,\"solidity\":0.2}},\"type\":\"histogram\"}],\"mesh3d\":[{\"colorbar\":{\"outlinewidth\":0,\"ticks\":\"\"},\"type\":\"mesh3d\"}],\"parcoords\":[{\"line\":{\"colorbar\":{\"outlinewidth\":0,\"ticks\":\"\"}},\"type\":\"parcoords\"}],\"pie\":[{\"automargin\":true,\"type\":\"pie\"}],\"scatter3d\":[{\"line\":{\"colorbar\":{\"outlinewidth\":0,\"ticks\":\"\"}},\"marker\":{\"colorbar\":{\"outlinewidth\":0,\"ticks\":\"\"}},\"type\":\"scatter3d\"}],\"scattercarpet\":[{\"marker\":{\"colorbar\":{\"outlinewidth\":0,\"ticks\":\"\"}},\"type\":\"scattercarpet\"}],\"scattergeo\":[{\"marker\":{\"colorbar\":{\"outlinewidth\":0,\"ticks\":\"\"}},\"type\":\"scattergeo\"}],\"scattergl\":[{\"marker\":{\"colorbar\":{\"outlinewidth\":0,\"ticks\":\"\"}},\"type\":\"scattergl\"}],\"scattermapbox\":[{\"marker\":{\"colorbar\":{\"outlinewidth\":0,\"ticks\":\"\"}},\"type\":\"scattermapbox\"}],\"scatterpolargl\":[{\"marker\":{\"colorbar\":{\"outlinewidth\":0,\"ticks\":\"\"}},\"type\":\"scatterpolargl\"}],\"scatterpolar\":[{\"marker\":{\"colorbar\":{\"outlinewidth\":0,\"ticks\":\"\"}},\"type\":\"scatterpolar\"}],\"scatter\":[{\"fillpattern\":{\"fillmode\":\"overlay\",\"size\":10,\"solidity\":0.2},\"type\":\"scatter\"}],\"scatterternary\":[{\"marker\":{\"colorbar\":{\"outlinewidth\":0,\"ticks\":\"\"}},\"type\":\"scatterternary\"}],\"surface\":[{\"colorbar\":{\"outlinewidth\":0,\"ticks\":\"\"},\"colorscale\":[[0.0,\"#0d0887\"],[0.1111111111111111,\"#46039f\"],[0.2222222222222222,\"#7201a8\"],[0.3333333333333333,\"#9c179e\"],[0.4444444444444444,\"#bd3786\"],[0.5555555555555556,\"#d8576b\"],[0.6666666666666666,\"#ed7953\"],[0.7777777777777778,\"#fb9f3a\"],[0.8888888888888888,\"#fdca26\"],[1.0,\"#f0f921\"]],\"type\":\"surface\"}],\"table\":[{\"cells\":{\"fill\":{\"color\":\"#EBF0F8\"},\"line\":{\"color\":\"white\"}},\"header\":{\"fill\":{\"color\":\"#C8D4E3\"},\"line\":{\"color\":\"white\"}},\"type\":\"table\"}]},\"layout\":{\"annotationdefaults\":{\"arrowcolor\":\"#2a3f5f\",\"arrowhead\":0,\"arrowwidth\":1},\"autotypenumbers\":\"strict\",\"coloraxis\":{\"colorbar\":{\"outlinewidth\":0,\"ticks\":\"\"}},\"colorscale\":{\"diverging\":[[0,\"#8e0152\"],[0.1,\"#c51b7d\"],[0.2,\"#de77ae\"],[0.3,\"#f1b6da\"],[0.4,\"#fde0ef\"],[0.5,\"#f7f7f7\"],[0.6,\"#e6f5d0\"],[0.7,\"#b8e186\"],[0.8,\"#7fbc41\"],[0.9,\"#4d9221\"],[1,\"#276419\"]],\"sequential\":[[0.0,\"#0d0887\"],[0.1111111111111111,\"#46039f\"],[0.2222222222222222,\"#7201a8\"],[0.3333333333333333,\"#9c179e\"],[0.4444444444444444,\"#bd3786\"],[0.5555555555555556,\"#d8576b\"],[0.6666666666666666,\"#ed7953\"],[0.7777777777777778,\"#fb9f3a\"],[0.8888888888888888,\"#fdca26\"],[1.0,\"#f0f921\"]],\"sequentialminus\":[[0.0,\"#0d0887\"],[0.1111111111111111,\"#46039f\"],[0.2222222222222222,\"#7201a8\"],[0.3333333333333333,\"#9c179e\"],[0.4444444444444444,\"#bd3786\"],[0.5555555555555556,\"#d8576b\"],[0.6666666666666666,\"#ed7953\"],[0.7777777777777778,\"#fb9f3a\"],[0.8888888888888888,\"#fdca26\"],[1.0,\"#f0f921\"]]},\"colorway\":[\"#636efa\",\"#EF553B\",\"#00cc96\",\"#ab63fa\",\"#FFA15A\",\"#19d3f3\",\"#FF6692\",\"#B6E880\",\"#FF97FF\",\"#FECB52\"],\"font\":{\"color\":\"#2a3f5f\"},\"geo\":{\"bgcolor\":\"white\",\"lakecolor\":\"white\",\"landcolor\":\"white\",\"showlakes\":true,\"showland\":true,\"subunitcolor\":\"#C8D4E3\"},\"hoverlabel\":{\"align\":\"left\"},\"hovermode\":\"closest\",\"mapbox\":{\"style\":\"light\"},\"paper_bgcolor\":\"white\",\"plot_bgcolor\":\"white\",\"polar\":{\"angularaxis\":{\"gridcolor\":\"#EBF0F8\",\"linecolor\":\"#EBF0F8\",\"ticks\":\"\"},\"bgcolor\":\"white\",\"radialaxis\":{\"gridcolor\":\"#EBF0F8\",\"linecolor\":\"#EBF0F8\",\"ticks\":\"\"}},\"scene\":{\"xaxis\":{\"backgroundcolor\":\"white\",\"gridcolor\":\"#DFE8F3\",\"gridwidth\":2,\"linecolor\":\"#EBF0F8\",\"showbackground\":true,\"ticks\":\"\",\"zerolinecolor\":\"#EBF0F8\"},\"yaxis\":{\"backgroundcolor\":\"white\",\"gridcolor\":\"#DFE8F3\",\"gridwidth\":2,\"linecolor\":\"#EBF0F8\",\"showbackground\":true,\"ticks\":\"\",\"zerolinecolor\":\"#EBF0F8\"},\"zaxis\":{\"backgroundcolor\":\"white\",\"gridcolor\":\"#DFE8F3\",\"gridwidth\":2,\"linecolor\":\"#EBF0F8\",\"showbackground\":true,\"ticks\":\"\",\"zerolinecolor\":\"#EBF0F8\"}},\"shapedefaults\":{\"line\":{\"color\":\"#2a3f5f\"}},\"ternary\":{\"aaxis\":{\"gridcolor\":\"#DFE8F3\",\"linecolor\":\"#A2B1C6\",\"ticks\":\"\"},\"baxis\":{\"gridcolor\":\"#DFE8F3\",\"linecolor\":\"#A2B1C6\",\"ticks\":\"\"},\"bgcolor\":\"white\",\"caxis\":{\"gridcolor\":\"#DFE8F3\",\"linecolor\":\"#A2B1C6\",\"ticks\":\"\"}},\"title\":{\"x\":0.05},\"xaxis\":{\"automargin\":true,\"gridcolor\":\"#EBF0F8\",\"linecolor\":\"#EBF0F8\",\"ticks\":\"\",\"title\":{\"standoff\":15},\"zerolinecolor\":\"#EBF0F8\",\"zerolinewidth\":2},\"yaxis\":{\"automargin\":true,\"gridcolor\":\"#EBF0F8\",\"linecolor\":\"#EBF0F8\",\"ticks\":\"\",\"title\":{\"standoff\":15},\"zerolinecolor\":\"#EBF0F8\",\"zerolinewidth\":2}}},\"xaxis\":{\"anchor\":\"y\",\"domain\":[0.0,1.0],\"title\":{\"text\":\"Age_rounded\"}},\"yaxis\":{\"anchor\":\"x\",\"domain\":[0.0,1.0],\"title\":{\"text\":\"Survived\"}},\"legend\":{\"title\":{\"text\":\"Pclass\"},\"tracegroupgap\":0,\"itemsizing\":\"constant\"},\"margin\":{\"t\":60}},                        {\"responsive\": true}                    ).then(function(){\n",
       "                            \n",
       "var gd = document.getElementById('0dddee9e-0ad3-4a91-bc01-d50666491ed1');\n",
       "var x = new MutationObserver(function (mutations, observer) {{\n",
       "        var display = window.getComputedStyle(gd).display;\n",
       "        if (!display || display === 'none') {{\n",
       "            console.log([gd, 'removed!']);\n",
       "            Plotly.purge(gd);\n",
       "            observer.disconnect();\n",
       "        }}\n",
       "}});\n",
       "\n",
       "// Listen for the removal of the full notebook cells\n",
       "var notebookContainer = gd.closest('#notebook-container');\n",
       "if (notebookContainer) {{\n",
       "    x.observe(notebookContainer, {childList: true});\n",
       "}}\n",
       "\n",
       "// Listen for the clearing of the current output cell\n",
       "var outputEl = gd.closest('.output');\n",
       "if (outputEl) {{\n",
       "    x.observe(outputEl, {childList: true});\n",
       "}}\n",
       "\n",
       "                        })                };                });            </script>        </div>"
      ]
     },
     "metadata": {},
     "output_type": "display_data"
    }
   ],
   "source": [
    "df_plot = df.groupby(['Pclass', 'Age_rounded'])['Survived'] \\\n",
    "            .agg([('Survived', 'sum'), \n",
    "                  ('Passengers', 'count')]).reset_index()\n",
    "\n",
    "df_plot[\"Pclass\"] = df_plot[\"Pclass\"].astype(str)\n",
    "\n",
    "fig = px.scatter(data_frame=df_plot,\n",
    "                 x='Age_rounded',\n",
    "                 y='Survived',\n",
    "                 size='Passengers',\n",
    "                 color='Pclass',\n",
    "                 color_discrete_sequence=px.colors.qualitative.D3,\n",
    "                 template='plotly_white')\n",
    "fig.show()"
   ]
  },
  {
   "cell_type": "markdown",
   "id": "ce35979f-ce79-4f40-9550-9dceaf9c9191",
   "metadata": {},
   "source": [
    "## Limitations ...\n",
    "\n",
    "What if we want to be able to \"animate\" the age decade of the passengers? [Be careful](https://plotly.com/python/animations/#:~:text=Animations%20are%20designed%20to%20work%20well%20when%20each%20row%20of%20input%20is%20present%20across%20all%20animation%20frames%2C%20and%20when%20categorical%20values%20mapped%20to%20symbol%2C%20color%20and%20facet%20are%20constant%20across%20frames.%20Animations%20may%20be%20misleading%20or%20inconsistent%20if%20these%20constraints%20are%20not%20met.)."
   ]
  },
  {
   "cell_type": "code",
   "execution_count": 67,
   "id": "97b6677b-5442-4e3d-bd4a-4f36659b44c1",
   "metadata": {
    "scrolled": true,
    "tags": []
   },
   "outputs": [
    {
     "ename": "KeyError",
     "evalue": "'Age_rounded'",
     "output_type": "error",
     "traceback": [
      "\u001b[1;31m---------------------------------------------------------------------------\u001b[0m",
      "\u001b[1;31mKeyError\u001b[0m                                  Traceback (most recent call last)",
      "\u001b[1;32m~\\AppData\\Local\\Temp\\ipykernel_32544\\3220985072.py\u001b[0m in \u001b[0;36m?\u001b[1;34m()\u001b[0m\n\u001b[1;32m----> 1\u001b[1;33m fig = px.histogram(df.sort_values('Age_rounded'), \n\u001b[0m\u001b[0;32m      2\u001b[0m                    \u001b[0mx\u001b[0m\u001b[1;33m=\u001b[0m\u001b[1;34m'Pclass'\u001b[0m\u001b[1;33m,\u001b[0m\u001b[1;33m\u001b[0m\u001b[1;33m\u001b[0m\u001b[0m\n\u001b[0;32m      3\u001b[0m                    \u001b[0mcolor\u001b[0m\u001b[1;33m=\u001b[0m\u001b[1;34m'Survived'\u001b[0m\u001b[1;33m,\u001b[0m\u001b[1;33m\u001b[0m\u001b[1;33m\u001b[0m\u001b[0m\n\u001b[0;32m      4\u001b[0m                    \u001b[0mtemplate\u001b[0m\u001b[1;33m=\u001b[0m\u001b[1;34m'plotly_white'\u001b[0m\u001b[1;33m,\u001b[0m\u001b[1;33m\u001b[0m\u001b[1;33m\u001b[0m\u001b[0m\n",
      "\u001b[1;32m~\\miniconda3\\envs\\ENV_1\\Lib\\site-packages\\pandas\\core\\frame.py\u001b[0m in \u001b[0;36m?\u001b[1;34m(self, by, axis, ascending, inplace, kind, na_position, ignore_index, key)\u001b[0m\n\u001b[0;32m   7169\u001b[0m             )\n\u001b[0;32m   7170\u001b[0m         \u001b[1;32melif\u001b[0m \u001b[0mlen\u001b[0m\u001b[1;33m(\u001b[0m\u001b[0mby\u001b[0m\u001b[1;33m)\u001b[0m\u001b[1;33m:\u001b[0m\u001b[1;33m\u001b[0m\u001b[1;33m\u001b[0m\u001b[0m\n\u001b[0;32m   7171\u001b[0m             \u001b[1;31m# len(by) == 1\u001b[0m\u001b[1;33m\u001b[0m\u001b[1;33m\u001b[0m\u001b[0m\n\u001b[0;32m   7172\u001b[0m \u001b[1;33m\u001b[0m\u001b[0m\n\u001b[1;32m-> 7173\u001b[1;33m             \u001b[0mk\u001b[0m \u001b[1;33m=\u001b[0m \u001b[0mself\u001b[0m\u001b[1;33m.\u001b[0m\u001b[0m_get_label_or_level_values\u001b[0m\u001b[1;33m(\u001b[0m\u001b[0mby\u001b[0m\u001b[1;33m[\u001b[0m\u001b[1;36m0\u001b[0m\u001b[1;33m]\u001b[0m\u001b[1;33m,\u001b[0m \u001b[0maxis\u001b[0m\u001b[1;33m=\u001b[0m\u001b[0maxis\u001b[0m\u001b[1;33m)\u001b[0m\u001b[1;33m\u001b[0m\u001b[1;33m\u001b[0m\u001b[0m\n\u001b[0m\u001b[0;32m   7174\u001b[0m \u001b[1;33m\u001b[0m\u001b[0m\n\u001b[0;32m   7175\u001b[0m             \u001b[1;31m# need to rewrap column in Series to apply key function\u001b[0m\u001b[1;33m\u001b[0m\u001b[1;33m\u001b[0m\u001b[0m\n\u001b[0;32m   7176\u001b[0m             \u001b[1;32mif\u001b[0m \u001b[0mkey\u001b[0m \u001b[1;32mis\u001b[0m \u001b[1;32mnot\u001b[0m \u001b[1;32mNone\u001b[0m\u001b[1;33m:\u001b[0m\u001b[1;33m\u001b[0m\u001b[1;33m\u001b[0m\u001b[0m\n",
      "\u001b[1;32m~\\miniconda3\\envs\\ENV_1\\Lib\\site-packages\\pandas\\core\\generic.py\u001b[0m in \u001b[0;36m?\u001b[1;34m(self, key, axis)\u001b[0m\n\u001b[0;32m   1906\u001b[0m             \u001b[0mvalues\u001b[0m \u001b[1;33m=\u001b[0m \u001b[0mself\u001b[0m\u001b[1;33m.\u001b[0m\u001b[0mxs\u001b[0m\u001b[1;33m(\u001b[0m\u001b[0mkey\u001b[0m\u001b[1;33m,\u001b[0m \u001b[0maxis\u001b[0m\u001b[1;33m=\u001b[0m\u001b[0mother_axes\u001b[0m\u001b[1;33m[\u001b[0m\u001b[1;36m0\u001b[0m\u001b[1;33m]\u001b[0m\u001b[1;33m)\u001b[0m\u001b[1;33m.\u001b[0m\u001b[0m_values\u001b[0m\u001b[1;33m\u001b[0m\u001b[1;33m\u001b[0m\u001b[0m\n\u001b[0;32m   1907\u001b[0m         \u001b[1;32melif\u001b[0m \u001b[0mself\u001b[0m\u001b[1;33m.\u001b[0m\u001b[0m_is_level_reference\u001b[0m\u001b[1;33m(\u001b[0m\u001b[0mkey\u001b[0m\u001b[1;33m,\u001b[0m \u001b[0maxis\u001b[0m\u001b[1;33m=\u001b[0m\u001b[0maxis\u001b[0m\u001b[1;33m)\u001b[0m\u001b[1;33m:\u001b[0m\u001b[1;33m\u001b[0m\u001b[1;33m\u001b[0m\u001b[0m\n\u001b[0;32m   1908\u001b[0m             \u001b[0mvalues\u001b[0m \u001b[1;33m=\u001b[0m \u001b[0mself\u001b[0m\u001b[1;33m.\u001b[0m\u001b[0maxes\u001b[0m\u001b[1;33m[\u001b[0m\u001b[0maxis\u001b[0m\u001b[1;33m]\u001b[0m\u001b[1;33m.\u001b[0m\u001b[0mget_level_values\u001b[0m\u001b[1;33m(\u001b[0m\u001b[0mkey\u001b[0m\u001b[1;33m)\u001b[0m\u001b[1;33m.\u001b[0m\u001b[0m_values\u001b[0m\u001b[1;33m\u001b[0m\u001b[1;33m\u001b[0m\u001b[0m\n\u001b[0;32m   1909\u001b[0m         \u001b[1;32melse\u001b[0m\u001b[1;33m:\u001b[0m\u001b[1;33m\u001b[0m\u001b[1;33m\u001b[0m\u001b[0m\n\u001b[1;32m-> 1910\u001b[1;33m             \u001b[1;32mraise\u001b[0m \u001b[0mKeyError\u001b[0m\u001b[1;33m(\u001b[0m\u001b[0mkey\u001b[0m\u001b[1;33m)\u001b[0m\u001b[1;33m\u001b[0m\u001b[1;33m\u001b[0m\u001b[0m\n\u001b[0m\u001b[0;32m   1911\u001b[0m \u001b[1;33m\u001b[0m\u001b[0m\n\u001b[0;32m   1912\u001b[0m         \u001b[1;31m# Check for duplicates\u001b[0m\u001b[1;33m\u001b[0m\u001b[1;33m\u001b[0m\u001b[0m\n\u001b[0;32m   1913\u001b[0m         \u001b[1;32mif\u001b[0m \u001b[0mvalues\u001b[0m\u001b[1;33m.\u001b[0m\u001b[0mndim\u001b[0m \u001b[1;33m>\u001b[0m \u001b[1;36m1\u001b[0m\u001b[1;33m:\u001b[0m\u001b[1;33m\u001b[0m\u001b[1;33m\u001b[0m\u001b[0m\n",
      "\u001b[1;31mKeyError\u001b[0m: 'Age_rounded'"
     ]
    }
   ],
   "source": [
    "fig = px.histogram(df.sort_values('Age_rounded'), \n",
    "                   x='Pclass',\n",
    "                   color='Survived',\n",
    "                   template='plotly_white',\n",
    "                   animation_frame=\"Age_rounded\",  # this is the value to \"animate\"\n",
    "                   # animation_group=\"PassengerId\",  # uncomment this ...\n",
    "                   color_discrete_sequence=px.colors.qualitative.D3)\n",
    "\n",
    "fig.update_layout(\n",
    "    xaxis_tickmode = 'array',\n",
    "    xaxis_tickvals = [1, 2, 3],\n",
    "    xaxis_ticktext = ['First', 'Second', 'Third'],\n",
    "    bargap=0.1, # gap between bars of adjacent location coordinates\n",
    ")\n",
    "\n",
    "fig[\"layout\"].pop(\"updatemenus\") # drop animation buttons\n",
    "fig.show()"
   ]
  },
  {
   "cell_type": "markdown",
   "id": "34231004-e2d5-4292-b434-244867166448",
   "metadata": {},
   "source": [
    "**(In class, if there's time) Can we improve on this?**"
   ]
  },
  {
   "cell_type": "code",
   "execution_count": 31,
   "id": "932395e8-e6a9-4d91-84a2-104b7d3a7c7c",
   "metadata": {
    "tags": []
   },
   "outputs": [],
   "source": [
    "# fig = px.histogram(df.sort_values('Age_rounded'), \n",
    "#                    x='Pclass',\n",
    "#                    facet_row='Survived',\n",
    "#                    color='Age_rounded',\n",
    "#                    template='plotly_white',\n",
    "#                    color_discrete_sequence=px.colors.sequential.Blues)\n",
    "\n",
    "# fig.update_layout(\n",
    "#     xaxis_tickmode = 'array',\n",
    "#     xaxis_tickvals = [1, 2, 3],\n",
    "#     xaxis_ticktext = ['First', 'Second', 'Third'],\n",
    "#     bargap=0.1, # gap between bars of adjacent location coordinates\n",
    "# )\n",
    "\n",
    "# fig[\"layout\"].pop(\"updatemenus\") # drop animation buttons\n",
    "# fig.show()"
   ]
  },
  {
   "cell_type": "markdown",
   "id": "fa7b94ec-9165-4c8d-94eb-44b3676777c2",
   "metadata": {},
   "source": [
    "# EXERCISES"
   ]
  },
  {
   "cell_type": "markdown",
   "id": "2d2419b3-2b1b-43ab-8c47-32c9dcc3ab69",
   "metadata": {
    "tags": []
   },
   "source": [
    "## Exercise 1\n",
    "\n",
    "Take a look at the `Cabin` column of the data, and investigate how it relates to at least one other column. Consider the context of the Titanic ship wreck. Try to formulate a question around this column, and visualize it using Plotly. **Build at least 2 different plots** of the same data.\n",
    "\n",
    "Feel free to use the [gallery](https://plotly.com/python/) as a resource."
   ]
  },
  {
   "cell_type": "markdown",
   "id": "cd76ef4d",
   "metadata": {},
   "source": [
    "<li>The question I figured out is <b>\"Did passengers traveling alone (without any family members) have a higher or lower chance of survival compared to passengers traveling with family members?\"</b>. So I am going to work on that for my Exercise 1"
   ]
  },
  {
   "cell_type": "code",
   "execution_count": 69,
   "id": "c1ce5fa4",
   "metadata": {},
   "outputs": [
    {
     "data": {
      "application/vnd.plotly.v1+json": {
       "config": {
        "plotlyServerURL": "https://plot.ly"
       },
       "data": [
        {
         "alignmentgroup": "True",
         "hovertemplate": "Travel Companion=%{x}<br>Survival Rate=%{y}<extra></extra>",
         "legendgroup": "",
         "marker": {
          "color": "#636efa",
          "pattern": {
           "shape": ""
          }
         },
         "name": "",
         "offsetgroup": "",
         "orientation": "v",
         "showlegend": false,
         "textposition": "auto",
         "type": "bar",
         "x": [
          "Alone",
          "With Family"
         ],
         "xaxis": "x",
         "y": [
          0.30353817504655495,
          0.5056497175141242
         ],
         "yaxis": "y"
        }
       ],
       "layout": {
        "barmode": "relative",
        "legend": {
         "tracegroupgap": 0
        },
        "template": {
         "data": {
          "bar": [
           {
            "error_x": {
             "color": "#2a3f5f"
            },
            "error_y": {
             "color": "#2a3f5f"
            },
            "marker": {
             "line": {
              "color": "#E5ECF6",
              "width": 0.5
             },
             "pattern": {
              "fillmode": "overlay",
              "size": 10,
              "solidity": 0.2
             }
            },
            "type": "bar"
           }
          ],
          "barpolar": [
           {
            "marker": {
             "line": {
              "color": "#E5ECF6",
              "width": 0.5
             },
             "pattern": {
              "fillmode": "overlay",
              "size": 10,
              "solidity": 0.2
             }
            },
            "type": "barpolar"
           }
          ],
          "carpet": [
           {
            "aaxis": {
             "endlinecolor": "#2a3f5f",
             "gridcolor": "white",
             "linecolor": "white",
             "minorgridcolor": "white",
             "startlinecolor": "#2a3f5f"
            },
            "baxis": {
             "endlinecolor": "#2a3f5f",
             "gridcolor": "white",
             "linecolor": "white",
             "minorgridcolor": "white",
             "startlinecolor": "#2a3f5f"
            },
            "type": "carpet"
           }
          ],
          "choropleth": [
           {
            "colorbar": {
             "outlinewidth": 0,
             "ticks": ""
            },
            "type": "choropleth"
           }
          ],
          "contour": [
           {
            "colorbar": {
             "outlinewidth": 0,
             "ticks": ""
            },
            "colorscale": [
             [
              0,
              "#0d0887"
             ],
             [
              0.1111111111111111,
              "#46039f"
             ],
             [
              0.2222222222222222,
              "#7201a8"
             ],
             [
              0.3333333333333333,
              "#9c179e"
             ],
             [
              0.4444444444444444,
              "#bd3786"
             ],
             [
              0.5555555555555556,
              "#d8576b"
             ],
             [
              0.6666666666666666,
              "#ed7953"
             ],
             [
              0.7777777777777778,
              "#fb9f3a"
             ],
             [
              0.8888888888888888,
              "#fdca26"
             ],
             [
              1,
              "#f0f921"
             ]
            ],
            "type": "contour"
           }
          ],
          "contourcarpet": [
           {
            "colorbar": {
             "outlinewidth": 0,
             "ticks": ""
            },
            "type": "contourcarpet"
           }
          ],
          "heatmap": [
           {
            "colorbar": {
             "outlinewidth": 0,
             "ticks": ""
            },
            "colorscale": [
             [
              0,
              "#0d0887"
             ],
             [
              0.1111111111111111,
              "#46039f"
             ],
             [
              0.2222222222222222,
              "#7201a8"
             ],
             [
              0.3333333333333333,
              "#9c179e"
             ],
             [
              0.4444444444444444,
              "#bd3786"
             ],
             [
              0.5555555555555556,
              "#d8576b"
             ],
             [
              0.6666666666666666,
              "#ed7953"
             ],
             [
              0.7777777777777778,
              "#fb9f3a"
             ],
             [
              0.8888888888888888,
              "#fdca26"
             ],
             [
              1,
              "#f0f921"
             ]
            ],
            "type": "heatmap"
           }
          ],
          "heatmapgl": [
           {
            "colorbar": {
             "outlinewidth": 0,
             "ticks": ""
            },
            "colorscale": [
             [
              0,
              "#0d0887"
             ],
             [
              0.1111111111111111,
              "#46039f"
             ],
             [
              0.2222222222222222,
              "#7201a8"
             ],
             [
              0.3333333333333333,
              "#9c179e"
             ],
             [
              0.4444444444444444,
              "#bd3786"
             ],
             [
              0.5555555555555556,
              "#d8576b"
             ],
             [
              0.6666666666666666,
              "#ed7953"
             ],
             [
              0.7777777777777778,
              "#fb9f3a"
             ],
             [
              0.8888888888888888,
              "#fdca26"
             ],
             [
              1,
              "#f0f921"
             ]
            ],
            "type": "heatmapgl"
           }
          ],
          "histogram": [
           {
            "marker": {
             "pattern": {
              "fillmode": "overlay",
              "size": 10,
              "solidity": 0.2
             }
            },
            "type": "histogram"
           }
          ],
          "histogram2d": [
           {
            "colorbar": {
             "outlinewidth": 0,
             "ticks": ""
            },
            "colorscale": [
             [
              0,
              "#0d0887"
             ],
             [
              0.1111111111111111,
              "#46039f"
             ],
             [
              0.2222222222222222,
              "#7201a8"
             ],
             [
              0.3333333333333333,
              "#9c179e"
             ],
             [
              0.4444444444444444,
              "#bd3786"
             ],
             [
              0.5555555555555556,
              "#d8576b"
             ],
             [
              0.6666666666666666,
              "#ed7953"
             ],
             [
              0.7777777777777778,
              "#fb9f3a"
             ],
             [
              0.8888888888888888,
              "#fdca26"
             ],
             [
              1,
              "#f0f921"
             ]
            ],
            "type": "histogram2d"
           }
          ],
          "histogram2dcontour": [
           {
            "colorbar": {
             "outlinewidth": 0,
             "ticks": ""
            },
            "colorscale": [
             [
              0,
              "#0d0887"
             ],
             [
              0.1111111111111111,
              "#46039f"
             ],
             [
              0.2222222222222222,
              "#7201a8"
             ],
             [
              0.3333333333333333,
              "#9c179e"
             ],
             [
              0.4444444444444444,
              "#bd3786"
             ],
             [
              0.5555555555555556,
              "#d8576b"
             ],
             [
              0.6666666666666666,
              "#ed7953"
             ],
             [
              0.7777777777777778,
              "#fb9f3a"
             ],
             [
              0.8888888888888888,
              "#fdca26"
             ],
             [
              1,
              "#f0f921"
             ]
            ],
            "type": "histogram2dcontour"
           }
          ],
          "mesh3d": [
           {
            "colorbar": {
             "outlinewidth": 0,
             "ticks": ""
            },
            "type": "mesh3d"
           }
          ],
          "parcoords": [
           {
            "line": {
             "colorbar": {
              "outlinewidth": 0,
              "ticks": ""
             }
            },
            "type": "parcoords"
           }
          ],
          "pie": [
           {
            "automargin": true,
            "type": "pie"
           }
          ],
          "scatter": [
           {
            "fillpattern": {
             "fillmode": "overlay",
             "size": 10,
             "solidity": 0.2
            },
            "type": "scatter"
           }
          ],
          "scatter3d": [
           {
            "line": {
             "colorbar": {
              "outlinewidth": 0,
              "ticks": ""
             }
            },
            "marker": {
             "colorbar": {
              "outlinewidth": 0,
              "ticks": ""
             }
            },
            "type": "scatter3d"
           }
          ],
          "scattercarpet": [
           {
            "marker": {
             "colorbar": {
              "outlinewidth": 0,
              "ticks": ""
             }
            },
            "type": "scattercarpet"
           }
          ],
          "scattergeo": [
           {
            "marker": {
             "colorbar": {
              "outlinewidth": 0,
              "ticks": ""
             }
            },
            "type": "scattergeo"
           }
          ],
          "scattergl": [
           {
            "marker": {
             "colorbar": {
              "outlinewidth": 0,
              "ticks": ""
             }
            },
            "type": "scattergl"
           }
          ],
          "scattermapbox": [
           {
            "marker": {
             "colorbar": {
              "outlinewidth": 0,
              "ticks": ""
             }
            },
            "type": "scattermapbox"
           }
          ],
          "scatterpolar": [
           {
            "marker": {
             "colorbar": {
              "outlinewidth": 0,
              "ticks": ""
             }
            },
            "type": "scatterpolar"
           }
          ],
          "scatterpolargl": [
           {
            "marker": {
             "colorbar": {
              "outlinewidth": 0,
              "ticks": ""
             }
            },
            "type": "scatterpolargl"
           }
          ],
          "scatterternary": [
           {
            "marker": {
             "colorbar": {
              "outlinewidth": 0,
              "ticks": ""
             }
            },
            "type": "scatterternary"
           }
          ],
          "surface": [
           {
            "colorbar": {
             "outlinewidth": 0,
             "ticks": ""
            },
            "colorscale": [
             [
              0,
              "#0d0887"
             ],
             [
              0.1111111111111111,
              "#46039f"
             ],
             [
              0.2222222222222222,
              "#7201a8"
             ],
             [
              0.3333333333333333,
              "#9c179e"
             ],
             [
              0.4444444444444444,
              "#bd3786"
             ],
             [
              0.5555555555555556,
              "#d8576b"
             ],
             [
              0.6666666666666666,
              "#ed7953"
             ],
             [
              0.7777777777777778,
              "#fb9f3a"
             ],
             [
              0.8888888888888888,
              "#fdca26"
             ],
             [
              1,
              "#f0f921"
             ]
            ],
            "type": "surface"
           }
          ],
          "table": [
           {
            "cells": {
             "fill": {
              "color": "#EBF0F8"
             },
             "line": {
              "color": "white"
             }
            },
            "header": {
             "fill": {
              "color": "#C8D4E3"
             },
             "line": {
              "color": "white"
             }
            },
            "type": "table"
           }
          ]
         },
         "layout": {
          "annotationdefaults": {
           "arrowcolor": "#2a3f5f",
           "arrowhead": 0,
           "arrowwidth": 1
          },
          "autotypenumbers": "strict",
          "coloraxis": {
           "colorbar": {
            "outlinewidth": 0,
            "ticks": ""
           }
          },
          "colorscale": {
           "diverging": [
            [
             0,
             "#8e0152"
            ],
            [
             0.1,
             "#c51b7d"
            ],
            [
             0.2,
             "#de77ae"
            ],
            [
             0.3,
             "#f1b6da"
            ],
            [
             0.4,
             "#fde0ef"
            ],
            [
             0.5,
             "#f7f7f7"
            ],
            [
             0.6,
             "#e6f5d0"
            ],
            [
             0.7,
             "#b8e186"
            ],
            [
             0.8,
             "#7fbc41"
            ],
            [
             0.9,
             "#4d9221"
            ],
            [
             1,
             "#276419"
            ]
           ],
           "sequential": [
            [
             0,
             "#0d0887"
            ],
            [
             0.1111111111111111,
             "#46039f"
            ],
            [
             0.2222222222222222,
             "#7201a8"
            ],
            [
             0.3333333333333333,
             "#9c179e"
            ],
            [
             0.4444444444444444,
             "#bd3786"
            ],
            [
             0.5555555555555556,
             "#d8576b"
            ],
            [
             0.6666666666666666,
             "#ed7953"
            ],
            [
             0.7777777777777778,
             "#fb9f3a"
            ],
            [
             0.8888888888888888,
             "#fdca26"
            ],
            [
             1,
             "#f0f921"
            ]
           ],
           "sequentialminus": [
            [
             0,
             "#0d0887"
            ],
            [
             0.1111111111111111,
             "#46039f"
            ],
            [
             0.2222222222222222,
             "#7201a8"
            ],
            [
             0.3333333333333333,
             "#9c179e"
            ],
            [
             0.4444444444444444,
             "#bd3786"
            ],
            [
             0.5555555555555556,
             "#d8576b"
            ],
            [
             0.6666666666666666,
             "#ed7953"
            ],
            [
             0.7777777777777778,
             "#fb9f3a"
            ],
            [
             0.8888888888888888,
             "#fdca26"
            ],
            [
             1,
             "#f0f921"
            ]
           ]
          },
          "colorway": [
           "#636efa",
           "#EF553B",
           "#00cc96",
           "#ab63fa",
           "#FFA15A",
           "#19d3f3",
           "#FF6692",
           "#B6E880",
           "#FF97FF",
           "#FECB52"
          ],
          "font": {
           "color": "#2a3f5f"
          },
          "geo": {
           "bgcolor": "white",
           "lakecolor": "white",
           "landcolor": "#E5ECF6",
           "showlakes": true,
           "showland": true,
           "subunitcolor": "white"
          },
          "hoverlabel": {
           "align": "left"
          },
          "hovermode": "closest",
          "mapbox": {
           "style": "light"
          },
          "paper_bgcolor": "white",
          "plot_bgcolor": "#E5ECF6",
          "polar": {
           "angularaxis": {
            "gridcolor": "white",
            "linecolor": "white",
            "ticks": ""
           },
           "bgcolor": "#E5ECF6",
           "radialaxis": {
            "gridcolor": "white",
            "linecolor": "white",
            "ticks": ""
           }
          },
          "scene": {
           "xaxis": {
            "backgroundcolor": "#E5ECF6",
            "gridcolor": "white",
            "gridwidth": 2,
            "linecolor": "white",
            "showbackground": true,
            "ticks": "",
            "zerolinecolor": "white"
           },
           "yaxis": {
            "backgroundcolor": "#E5ECF6",
            "gridcolor": "white",
            "gridwidth": 2,
            "linecolor": "white",
            "showbackground": true,
            "ticks": "",
            "zerolinecolor": "white"
           },
           "zaxis": {
            "backgroundcolor": "#E5ECF6",
            "gridcolor": "white",
            "gridwidth": 2,
            "linecolor": "white",
            "showbackground": true,
            "ticks": "",
            "zerolinecolor": "white"
           }
          },
          "shapedefaults": {
           "line": {
            "color": "#2a3f5f"
           }
          },
          "ternary": {
           "aaxis": {
            "gridcolor": "white",
            "linecolor": "white",
            "ticks": ""
           },
           "baxis": {
            "gridcolor": "white",
            "linecolor": "white",
            "ticks": ""
           },
           "bgcolor": "#E5ECF6",
           "caxis": {
            "gridcolor": "white",
            "linecolor": "white",
            "ticks": ""
           }
          },
          "title": {
           "x": 0.05
          },
          "xaxis": {
           "automargin": true,
           "gridcolor": "white",
           "linecolor": "white",
           "ticks": "",
           "title": {
            "standoff": 15
           },
           "zerolinecolor": "white",
           "zerolinewidth": 2
          },
          "yaxis": {
           "automargin": true,
           "gridcolor": "white",
           "linecolor": "white",
           "ticks": "",
           "title": {
            "standoff": 15
           },
           "zerolinecolor": "white",
           "zerolinewidth": 2
          }
         }
        },
        "title": {
         "text": "Survival Rate by Travel Companion Status"
        },
        "xaxis": {
         "anchor": "y",
         "domain": [
          0,
          1
         ],
         "title": {
          "text": "Travel Companion"
         }
        },
        "yaxis": {
         "anchor": "x",
         "domain": [
          0,
          1
         ],
         "title": {
          "text": "Survival Rate"
         }
        }
       }
      },
      "text/html": [
       "<div>                            <div id=\"4fbc1fcb-4366-47df-a86e-ba5893f77e72\" class=\"plotly-graph-div\" style=\"height:525px; width:100%;\"></div>            <script type=\"text/javascript\">                require([\"plotly\"], function(Plotly) {                    window.PLOTLYENV=window.PLOTLYENV || {};                                    if (document.getElementById(\"4fbc1fcb-4366-47df-a86e-ba5893f77e72\")) {                    Plotly.newPlot(                        \"4fbc1fcb-4366-47df-a86e-ba5893f77e72\",                        [{\"alignmentgroup\":\"True\",\"hovertemplate\":\"Travel Companion=%{x}\\u003cbr\\u003eSurvival Rate=%{y}\\u003cextra\\u003e\\u003c\\u002fextra\\u003e\",\"legendgroup\":\"\",\"marker\":{\"color\":\"#636efa\",\"pattern\":{\"shape\":\"\"}},\"name\":\"\",\"offsetgroup\":\"\",\"orientation\":\"v\",\"showlegend\":false,\"textposition\":\"auto\",\"x\":[\"Alone\",\"With Family\"],\"xaxis\":\"x\",\"y\":[0.30353817504655495,0.5056497175141242],\"yaxis\":\"y\",\"type\":\"bar\"}],                        {\"template\":{\"data\":{\"histogram2dcontour\":[{\"type\":\"histogram2dcontour\",\"colorbar\":{\"outlinewidth\":0,\"ticks\":\"\"},\"colorscale\":[[0.0,\"#0d0887\"],[0.1111111111111111,\"#46039f\"],[0.2222222222222222,\"#7201a8\"],[0.3333333333333333,\"#9c179e\"],[0.4444444444444444,\"#bd3786\"],[0.5555555555555556,\"#d8576b\"],[0.6666666666666666,\"#ed7953\"],[0.7777777777777778,\"#fb9f3a\"],[0.8888888888888888,\"#fdca26\"],[1.0,\"#f0f921\"]]}],\"choropleth\":[{\"type\":\"choropleth\",\"colorbar\":{\"outlinewidth\":0,\"ticks\":\"\"}}],\"histogram2d\":[{\"type\":\"histogram2d\",\"colorbar\":{\"outlinewidth\":0,\"ticks\":\"\"},\"colorscale\":[[0.0,\"#0d0887\"],[0.1111111111111111,\"#46039f\"],[0.2222222222222222,\"#7201a8\"],[0.3333333333333333,\"#9c179e\"],[0.4444444444444444,\"#bd3786\"],[0.5555555555555556,\"#d8576b\"],[0.6666666666666666,\"#ed7953\"],[0.7777777777777778,\"#fb9f3a\"],[0.8888888888888888,\"#fdca26\"],[1.0,\"#f0f921\"]]}],\"heatmap\":[{\"type\":\"heatmap\",\"colorbar\":{\"outlinewidth\":0,\"ticks\":\"\"},\"colorscale\":[[0.0,\"#0d0887\"],[0.1111111111111111,\"#46039f\"],[0.2222222222222222,\"#7201a8\"],[0.3333333333333333,\"#9c179e\"],[0.4444444444444444,\"#bd3786\"],[0.5555555555555556,\"#d8576b\"],[0.6666666666666666,\"#ed7953\"],[0.7777777777777778,\"#fb9f3a\"],[0.8888888888888888,\"#fdca26\"],[1.0,\"#f0f921\"]]}],\"heatmapgl\":[{\"type\":\"heatmapgl\",\"colorbar\":{\"outlinewidth\":0,\"ticks\":\"\"},\"colorscale\":[[0.0,\"#0d0887\"],[0.1111111111111111,\"#46039f\"],[0.2222222222222222,\"#7201a8\"],[0.3333333333333333,\"#9c179e\"],[0.4444444444444444,\"#bd3786\"],[0.5555555555555556,\"#d8576b\"],[0.6666666666666666,\"#ed7953\"],[0.7777777777777778,\"#fb9f3a\"],[0.8888888888888888,\"#fdca26\"],[1.0,\"#f0f921\"]]}],\"contourcarpet\":[{\"type\":\"contourcarpet\",\"colorbar\":{\"outlinewidth\":0,\"ticks\":\"\"}}],\"contour\":[{\"type\":\"contour\",\"colorbar\":{\"outlinewidth\":0,\"ticks\":\"\"},\"colorscale\":[[0.0,\"#0d0887\"],[0.1111111111111111,\"#46039f\"],[0.2222222222222222,\"#7201a8\"],[0.3333333333333333,\"#9c179e\"],[0.4444444444444444,\"#bd3786\"],[0.5555555555555556,\"#d8576b\"],[0.6666666666666666,\"#ed7953\"],[0.7777777777777778,\"#fb9f3a\"],[0.8888888888888888,\"#fdca26\"],[1.0,\"#f0f921\"]]}],\"surface\":[{\"type\":\"surface\",\"colorbar\":{\"outlinewidth\":0,\"ticks\":\"\"},\"colorscale\":[[0.0,\"#0d0887\"],[0.1111111111111111,\"#46039f\"],[0.2222222222222222,\"#7201a8\"],[0.3333333333333333,\"#9c179e\"],[0.4444444444444444,\"#bd3786\"],[0.5555555555555556,\"#d8576b\"],[0.6666666666666666,\"#ed7953\"],[0.7777777777777778,\"#fb9f3a\"],[0.8888888888888888,\"#fdca26\"],[1.0,\"#f0f921\"]]}],\"mesh3d\":[{\"type\":\"mesh3d\",\"colorbar\":{\"outlinewidth\":0,\"ticks\":\"\"}}],\"scatter\":[{\"fillpattern\":{\"fillmode\":\"overlay\",\"size\":10,\"solidity\":0.2},\"type\":\"scatter\"}],\"parcoords\":[{\"type\":\"parcoords\",\"line\":{\"colorbar\":{\"outlinewidth\":0,\"ticks\":\"\"}}}],\"scatterpolargl\":[{\"type\":\"scatterpolargl\",\"marker\":{\"colorbar\":{\"outlinewidth\":0,\"ticks\":\"\"}}}],\"bar\":[{\"error_x\":{\"color\":\"#2a3f5f\"},\"error_y\":{\"color\":\"#2a3f5f\"},\"marker\":{\"line\":{\"color\":\"#E5ECF6\",\"width\":0.5},\"pattern\":{\"fillmode\":\"overlay\",\"size\":10,\"solidity\":0.2}},\"type\":\"bar\"}],\"scattergeo\":[{\"type\":\"scattergeo\",\"marker\":{\"colorbar\":{\"outlinewidth\":0,\"ticks\":\"\"}}}],\"scatterpolar\":[{\"type\":\"scatterpolar\",\"marker\":{\"colorbar\":{\"outlinewidth\":0,\"ticks\":\"\"}}}],\"histogram\":[{\"marker\":{\"pattern\":{\"fillmode\":\"overlay\",\"size\":10,\"solidity\":0.2}},\"type\":\"histogram\"}],\"scattergl\":[{\"type\":\"scattergl\",\"marker\":{\"colorbar\":{\"outlinewidth\":0,\"ticks\":\"\"}}}],\"scatter3d\":[{\"type\":\"scatter3d\",\"line\":{\"colorbar\":{\"outlinewidth\":0,\"ticks\":\"\"}},\"marker\":{\"colorbar\":{\"outlinewidth\":0,\"ticks\":\"\"}}}],\"scattermapbox\":[{\"type\":\"scattermapbox\",\"marker\":{\"colorbar\":{\"outlinewidth\":0,\"ticks\":\"\"}}}],\"scatterternary\":[{\"type\":\"scatterternary\",\"marker\":{\"colorbar\":{\"outlinewidth\":0,\"ticks\":\"\"}}}],\"scattercarpet\":[{\"type\":\"scattercarpet\",\"marker\":{\"colorbar\":{\"outlinewidth\":0,\"ticks\":\"\"}}}],\"carpet\":[{\"aaxis\":{\"endlinecolor\":\"#2a3f5f\",\"gridcolor\":\"white\",\"linecolor\":\"white\",\"minorgridcolor\":\"white\",\"startlinecolor\":\"#2a3f5f\"},\"baxis\":{\"endlinecolor\":\"#2a3f5f\",\"gridcolor\":\"white\",\"linecolor\":\"white\",\"minorgridcolor\":\"white\",\"startlinecolor\":\"#2a3f5f\"},\"type\":\"carpet\"}],\"table\":[{\"cells\":{\"fill\":{\"color\":\"#EBF0F8\"},\"line\":{\"color\":\"white\"}},\"header\":{\"fill\":{\"color\":\"#C8D4E3\"},\"line\":{\"color\":\"white\"}},\"type\":\"table\"}],\"barpolar\":[{\"marker\":{\"line\":{\"color\":\"#E5ECF6\",\"width\":0.5},\"pattern\":{\"fillmode\":\"overlay\",\"size\":10,\"solidity\":0.2}},\"type\":\"barpolar\"}],\"pie\":[{\"automargin\":true,\"type\":\"pie\"}]},\"layout\":{\"autotypenumbers\":\"strict\",\"colorway\":[\"#636efa\",\"#EF553B\",\"#00cc96\",\"#ab63fa\",\"#FFA15A\",\"#19d3f3\",\"#FF6692\",\"#B6E880\",\"#FF97FF\",\"#FECB52\"],\"font\":{\"color\":\"#2a3f5f\"},\"hovermode\":\"closest\",\"hoverlabel\":{\"align\":\"left\"},\"paper_bgcolor\":\"white\",\"plot_bgcolor\":\"#E5ECF6\",\"polar\":{\"bgcolor\":\"#E5ECF6\",\"angularaxis\":{\"gridcolor\":\"white\",\"linecolor\":\"white\",\"ticks\":\"\"},\"radialaxis\":{\"gridcolor\":\"white\",\"linecolor\":\"white\",\"ticks\":\"\"}},\"ternary\":{\"bgcolor\":\"#E5ECF6\",\"aaxis\":{\"gridcolor\":\"white\",\"linecolor\":\"white\",\"ticks\":\"\"},\"baxis\":{\"gridcolor\":\"white\",\"linecolor\":\"white\",\"ticks\":\"\"},\"caxis\":{\"gridcolor\":\"white\",\"linecolor\":\"white\",\"ticks\":\"\"}},\"coloraxis\":{\"colorbar\":{\"outlinewidth\":0,\"ticks\":\"\"}},\"colorscale\":{\"sequential\":[[0.0,\"#0d0887\"],[0.1111111111111111,\"#46039f\"],[0.2222222222222222,\"#7201a8\"],[0.3333333333333333,\"#9c179e\"],[0.4444444444444444,\"#bd3786\"],[0.5555555555555556,\"#d8576b\"],[0.6666666666666666,\"#ed7953\"],[0.7777777777777778,\"#fb9f3a\"],[0.8888888888888888,\"#fdca26\"],[1.0,\"#f0f921\"]],\"sequentialminus\":[[0.0,\"#0d0887\"],[0.1111111111111111,\"#46039f\"],[0.2222222222222222,\"#7201a8\"],[0.3333333333333333,\"#9c179e\"],[0.4444444444444444,\"#bd3786\"],[0.5555555555555556,\"#d8576b\"],[0.6666666666666666,\"#ed7953\"],[0.7777777777777778,\"#fb9f3a\"],[0.8888888888888888,\"#fdca26\"],[1.0,\"#f0f921\"]],\"diverging\":[[0,\"#8e0152\"],[0.1,\"#c51b7d\"],[0.2,\"#de77ae\"],[0.3,\"#f1b6da\"],[0.4,\"#fde0ef\"],[0.5,\"#f7f7f7\"],[0.6,\"#e6f5d0\"],[0.7,\"#b8e186\"],[0.8,\"#7fbc41\"],[0.9,\"#4d9221\"],[1,\"#276419\"]]},\"xaxis\":{\"gridcolor\":\"white\",\"linecolor\":\"white\",\"ticks\":\"\",\"title\":{\"standoff\":15},\"zerolinecolor\":\"white\",\"automargin\":true,\"zerolinewidth\":2},\"yaxis\":{\"gridcolor\":\"white\",\"linecolor\":\"white\",\"ticks\":\"\",\"title\":{\"standoff\":15},\"zerolinecolor\":\"white\",\"automargin\":true,\"zerolinewidth\":2},\"scene\":{\"xaxis\":{\"backgroundcolor\":\"#E5ECF6\",\"gridcolor\":\"white\",\"linecolor\":\"white\",\"showbackground\":true,\"ticks\":\"\",\"zerolinecolor\":\"white\",\"gridwidth\":2},\"yaxis\":{\"backgroundcolor\":\"#E5ECF6\",\"gridcolor\":\"white\",\"linecolor\":\"white\",\"showbackground\":true,\"ticks\":\"\",\"zerolinecolor\":\"white\",\"gridwidth\":2},\"zaxis\":{\"backgroundcolor\":\"#E5ECF6\",\"gridcolor\":\"white\",\"linecolor\":\"white\",\"showbackground\":true,\"ticks\":\"\",\"zerolinecolor\":\"white\",\"gridwidth\":2}},\"shapedefaults\":{\"line\":{\"color\":\"#2a3f5f\"}},\"annotationdefaults\":{\"arrowcolor\":\"#2a3f5f\",\"arrowhead\":0,\"arrowwidth\":1},\"geo\":{\"bgcolor\":\"white\",\"landcolor\":\"#E5ECF6\",\"subunitcolor\":\"white\",\"showland\":true,\"showlakes\":true,\"lakecolor\":\"white\"},\"title\":{\"x\":0.05},\"mapbox\":{\"style\":\"light\"}}},\"xaxis\":{\"anchor\":\"y\",\"domain\":[0.0,1.0],\"title\":{\"text\":\"Travel Companion\"}},\"yaxis\":{\"anchor\":\"x\",\"domain\":[0.0,1.0],\"title\":{\"text\":\"Survival Rate\"}},\"legend\":{\"tracegroupgap\":0},\"title\":{\"text\":\"Survival Rate by Travel Companion Status\"},\"barmode\":\"relative\"},                        {\"responsive\": true}                    ).then(function(){\n",
       "                            \n",
       "var gd = document.getElementById('4fbc1fcb-4366-47df-a86e-ba5893f77e72');\n",
       "var x = new MutationObserver(function (mutations, observer) {{\n",
       "        var display = window.getComputedStyle(gd).display;\n",
       "        if (!display || display === 'none') {{\n",
       "            console.log([gd, 'removed!']);\n",
       "            Plotly.purge(gd);\n",
       "            observer.disconnect();\n",
       "        }}\n",
       "}});\n",
       "\n",
       "// Listen for the removal of the full notebook cells\n",
       "var notebookContainer = gd.closest('#notebook-container');\n",
       "if (notebookContainer) {{\n",
       "    x.observe(notebookContainer, {childList: true});\n",
       "}}\n",
       "\n",
       "// Listen for the clearing of the current output cell\n",
       "var outputEl = gd.closest('.output');\n",
       "if (outputEl) {{\n",
       "    x.observe(outputEl, {childList: true});\n",
       "}}\n",
       "\n",
       "                        })                };                });            </script>        </div>"
      ]
     },
     "metadata": {},
     "output_type": "display_data"
    }
   ],
   "source": [
    "import pandas as pd\n",
    "import plotly.express as px\n",
    "\n",
    "df['Family_Size'] = df['SibSp'] + df['Parch']\n",
    "\n",
    "df['Travel_Companion'] = df['Family_Size'].apply(lambda x: 'Alone' if x == 0 else 'With Family')\n",
    "\n",
    "survival_rates = df.groupby('Travel_Companion')['Survived'].mean().reset_index()\n",
    "\n",
    "fig1 = px.bar(survival_rates, x='Travel_Companion', y='Survived',\n",
    "              labels={'Travel_Companion': 'Travel Companion', 'Survived': 'Survival Rate'},\n",
    "              title='Survival Rate by Travel Companion Status')\n",
    "\n",
    "\n",
    "\n",
    "fig1.show()\n",
    "\n"
   ]
  },
  {
   "attachments": {
    "Screenshot%202024-02-27%20104210.png": {
     "image/png": "[encoded data removed]"
    }
   },
   "cell_type": "markdown",
   "id": "c579e743",
   "metadata": {},
   "source": [
    "![Screenshot%202024-02-27%20104210.png](attachment:Screenshot%202024-02-27%20104210.png)"
   ]
  },
  {
   "cell_type": "code",
   "execution_count": 70,
   "id": "27015485",
   "metadata": {},
   "outputs": [
    {
     "data": {
      "application/vnd.plotly.v1+json": {
       "config": {
        "plotlyServerURL": "https://plot.ly"
       },
       "data": [
        {
         "domain": {
          "x": [
           0,
           1
          ],
          "y": [
           0,
           1
          ]
         },
         "hole": 0.3,
         "hovertemplate": "Travel Companion=%{label}<br>Survival Rate=%{value}<extra></extra>",
         "labels": [
          "Alone",
          "With Family"
         ],
         "legendgroup": "",
         "name": "",
         "showlegend": true,
         "type": "pie",
         "values": [
          0.30353817504655495,
          0.5056497175141242
         ]
        }
       ],
       "layout": {
        "legend": {
         "tracegroupgap": 0
        },
        "template": {
         "data": {
          "bar": [
           {
            "error_x": {
             "color": "#2a3f5f"
            },
            "error_y": {
             "color": "#2a3f5f"
            },
            "marker": {
             "line": {
              "color": "#E5ECF6",
              "width": 0.5
             },
             "pattern": {
              "fillmode": "overlay",
              "size": 10,
              "solidity": 0.2
             }
            },
            "type": "bar"
           }
          ],
          "barpolar": [
           {
            "marker": {
             "line": {
              "color": "#E5ECF6",
              "width": 0.5
             },
             "pattern": {
              "fillmode": "overlay",
              "size": 10,
              "solidity": 0.2
             }
            },
            "type": "barpolar"
           }
          ],
          "carpet": [
           {
            "aaxis": {
             "endlinecolor": "#2a3f5f",
             "gridcolor": "white",
             "linecolor": "white",
             "minorgridcolor": "white",
             "startlinecolor": "#2a3f5f"
            },
            "baxis": {
             "endlinecolor": "#2a3f5f",
             "gridcolor": "white",
             "linecolor": "white",
             "minorgridcolor": "white",
             "startlinecolor": "#2a3f5f"
            },
            "type": "carpet"
           }
          ],
          "choropleth": [
           {
            "colorbar": {
             "outlinewidth": 0,
             "ticks": ""
            },
            "type": "choropleth"
           }
          ],
          "contour": [
           {
            "colorbar": {
             "outlinewidth": 0,
             "ticks": ""
            },
            "colorscale": [
             [
              0,
              "#0d0887"
             ],
             [
              0.1111111111111111,
              "#46039f"
             ],
             [
              0.2222222222222222,
              "#7201a8"
             ],
             [
              0.3333333333333333,
              "#9c179e"
             ],
             [
              0.4444444444444444,
              "#bd3786"
             ],
             [
              0.5555555555555556,
              "#d8576b"
             ],
             [
              0.6666666666666666,
              "#ed7953"
             ],
             [
              0.7777777777777778,
              "#fb9f3a"
             ],
             [
              0.8888888888888888,
              "#fdca26"
             ],
             [
              1,
              "#f0f921"
             ]
            ],
            "type": "contour"
           }
          ],
          "contourcarpet": [
           {
            "colorbar": {
             "outlinewidth": 0,
             "ticks": ""
            },
            "type": "contourcarpet"
           }
          ],
          "heatmap": [
           {
            "colorbar": {
             "outlinewidth": 0,
             "ticks": ""
            },
            "colorscale": [
             [
              0,
              "#0d0887"
             ],
             [
              0.1111111111111111,
              "#46039f"
             ],
             [
              0.2222222222222222,
              "#7201a8"
             ],
             [
              0.3333333333333333,
              "#9c179e"
             ],
             [
              0.4444444444444444,
              "#bd3786"
             ],
             [
              0.5555555555555556,
              "#d8576b"
             ],
             [
              0.6666666666666666,
              "#ed7953"
             ],
             [
              0.7777777777777778,
              "#fb9f3a"
             ],
             [
              0.8888888888888888,
              "#fdca26"
             ],
             [
              1,
              "#f0f921"
             ]
            ],
            "type": "heatmap"
           }
          ],
          "heatmapgl": [
           {
            "colorbar": {
             "outlinewidth": 0,
             "ticks": ""
            },
            "colorscale": [
             [
              0,
              "#0d0887"
             ],
             [
              0.1111111111111111,
              "#46039f"
             ],
             [
              0.2222222222222222,
              "#7201a8"
             ],
             [
              0.3333333333333333,
              "#9c179e"
             ],
             [
              0.4444444444444444,
              "#bd3786"
             ],
             [
              0.5555555555555556,
              "#d8576b"
             ],
             [
              0.6666666666666666,
              "#ed7953"
             ],
             [
              0.7777777777777778,
              "#fb9f3a"
             ],
             [
              0.8888888888888888,
              "#fdca26"
             ],
             [
              1,
              "#f0f921"
             ]
            ],
            "type": "heatmapgl"
           }
          ],
          "histogram": [
           {
            "marker": {
             "pattern": {
              "fillmode": "overlay",
              "size": 10,
              "solidity": 0.2
             }
            },
            "type": "histogram"
           }
          ],
          "histogram2d": [
           {
            "colorbar": {
             "outlinewidth": 0,
             "ticks": ""
            },
            "colorscale": [
             [
              0,
              "#0d0887"
             ],
             [
              0.1111111111111111,
              "#46039f"
             ],
             [
              0.2222222222222222,
              "#7201a8"
             ],
             [
              0.3333333333333333,
              "#9c179e"
             ],
             [
              0.4444444444444444,
              "#bd3786"
             ],
             [
              0.5555555555555556,
              "#d8576b"
             ],
             [
              0.6666666666666666,
              "#ed7953"
             ],
             [
              0.7777777777777778,
              "#fb9f3a"
             ],
             [
              0.8888888888888888,
              "#fdca26"
             ],
             [
              1,
              "#f0f921"
             ]
            ],
            "type": "histogram2d"
           }
          ],
          "histogram2dcontour": [
           {
            "colorbar": {
             "outlinewidth": 0,
             "ticks": ""
            },
            "colorscale": [
             [
              0,
              "#0d0887"
             ],
             [
              0.1111111111111111,
              "#46039f"
             ],
             [
              0.2222222222222222,
              "#7201a8"
             ],
             [
              0.3333333333333333,
              "#9c179e"
             ],
             [
              0.4444444444444444,
              "#bd3786"
             ],
             [
              0.5555555555555556,
              "#d8576b"
             ],
             [
              0.6666666666666666,
              "#ed7953"
             ],
             [
              0.7777777777777778,
              "#fb9f3a"
             ],
             [
              0.8888888888888888,
              "#fdca26"
             ],
             [
              1,
              "#f0f921"
             ]
            ],
            "type": "histogram2dcontour"
           }
          ],
          "mesh3d": [
           {
            "colorbar": {
             "outlinewidth": 0,
             "ticks": ""
            },
            "type": "mesh3d"
           }
          ],
          "parcoords": [
           {
            "line": {
             "colorbar": {
              "outlinewidth": 0,
              "ticks": ""
             }
            },
            "type": "parcoords"
           }
          ],
          "pie": [
           {
            "automargin": true,
            "type": "pie"
           }
          ],
          "scatter": [
           {
            "fillpattern": {
             "fillmode": "overlay",
             "size": 10,
             "solidity": 0.2
            },
            "type": "scatter"
           }
          ],
          "scatter3d": [
           {
            "line": {
             "colorbar": {
              "outlinewidth": 0,
              "ticks": ""
             }
            },
            "marker": {
             "colorbar": {
              "outlinewidth": 0,
              "ticks": ""
             }
            },
            "type": "scatter3d"
           }
          ],
          "scattercarpet": [
           {
            "marker": {
             "colorbar": {
              "outlinewidth": 0,
              "ticks": ""
             }
            },
            "type": "scattercarpet"
           }
          ],
          "scattergeo": [
           {
            "marker": {
             "colorbar": {
              "outlinewidth": 0,
              "ticks": ""
             }
            },
            "type": "scattergeo"
           }
          ],
          "scattergl": [
           {
            "marker": {
             "colorbar": {
              "outlinewidth": 0,
              "ticks": ""
             }
            },
            "type": "scattergl"
           }
          ],
          "scattermapbox": [
           {
            "marker": {
             "colorbar": {
              "outlinewidth": 0,
              "ticks": ""
             }
            },
            "type": "scattermapbox"
           }
          ],
          "scatterpolar": [
           {
            "marker": {
             "colorbar": {
              "outlinewidth": 0,
              "ticks": ""
             }
            },
            "type": "scatterpolar"
           }
          ],
          "scatterpolargl": [
           {
            "marker": {
             "colorbar": {
              "outlinewidth": 0,
              "ticks": ""
             }
            },
            "type": "scatterpolargl"
           }
          ],
          "scatterternary": [
           {
            "marker": {
             "colorbar": {
              "outlinewidth": 0,
              "ticks": ""
             }
            },
            "type": "scatterternary"
           }
          ],
          "surface": [
           {
            "colorbar": {
             "outlinewidth": 0,
             "ticks": ""
            },
            "colorscale": [
             [
              0,
              "#0d0887"
             ],
             [
              0.1111111111111111,
              "#46039f"
             ],
             [
              0.2222222222222222,
              "#7201a8"
             ],
             [
              0.3333333333333333,
              "#9c179e"
             ],
             [
              0.4444444444444444,
              "#bd3786"
             ],
             [
              0.5555555555555556,
              "#d8576b"
             ],
             [
              0.6666666666666666,
              "#ed7953"
             ],
             [
              0.7777777777777778,
              "#fb9f3a"
             ],
             [
              0.8888888888888888,
              "#fdca26"
             ],
             [
              1,
              "#f0f921"
             ]
            ],
            "type": "surface"
           }
          ],
          "table": [
           {
            "cells": {
             "fill": {
              "color": "#EBF0F8"
             },
             "line": {
              "color": "white"
             }
            },
            "header": {
             "fill": {
              "color": "#C8D4E3"
             },
             "line": {
              "color": "white"
             }
            },
            "type": "table"
           }
          ]
         },
         "layout": {
          "annotationdefaults": {
           "arrowcolor": "#2a3f5f",
           "arrowhead": 0,
           "arrowwidth": 1
          },
          "autotypenumbers": "strict",
          "coloraxis": {
           "colorbar": {
            "outlinewidth": 0,
            "ticks": ""
           }
          },
          "colorscale": {
           "diverging": [
            [
             0,
             "#8e0152"
            ],
            [
             0.1,
             "#c51b7d"
            ],
            [
             0.2,
             "#de77ae"
            ],
            [
             0.3,
             "#f1b6da"
            ],
            [
             0.4,
             "#fde0ef"
            ],
            [
             0.5,
             "#f7f7f7"
            ],
            [
             0.6,
             "#e6f5d0"
            ],
            [
             0.7,
             "#b8e186"
            ],
            [
             0.8,
             "#7fbc41"
            ],
            [
             0.9,
             "#4d9221"
            ],
            [
             1,
             "#276419"
            ]
           ],
           "sequential": [
            [
             0,
             "#0d0887"
            ],
            [
             0.1111111111111111,
             "#46039f"
            ],
            [
             0.2222222222222222,
             "#7201a8"
            ],
            [
             0.3333333333333333,
             "#9c179e"
            ],
            [
             0.4444444444444444,
             "#bd3786"
            ],
            [
             0.5555555555555556,
             "#d8576b"
            ],
            [
             0.6666666666666666,
             "#ed7953"
            ],
            [
             0.7777777777777778,
             "#fb9f3a"
            ],
            [
             0.8888888888888888,
             "#fdca26"
            ],
            [
             1,
             "#f0f921"
            ]
           ],
           "sequentialminus": [
            [
             0,
             "#0d0887"
            ],
            [
             0.1111111111111111,
             "#46039f"
            ],
            [
             0.2222222222222222,
             "#7201a8"
            ],
            [
             0.3333333333333333,
             "#9c179e"
            ],
            [
             0.4444444444444444,
             "#bd3786"
            ],
            [
             0.5555555555555556,
             "#d8576b"
            ],
            [
             0.6666666666666666,
             "#ed7953"
            ],
            [
             0.7777777777777778,
             "#fb9f3a"
            ],
            [
             0.8888888888888888,
             "#fdca26"
            ],
            [
             1,
             "#f0f921"
            ]
           ]
          },
          "colorway": [
           "#636efa",
           "#EF553B",
           "#00cc96",
           "#ab63fa",
           "#FFA15A",
           "#19d3f3",
           "#FF6692",
           "#B6E880",
           "#FF97FF",
           "#FECB52"
          ],
          "font": {
           "color": "#2a3f5f"
          },
          "geo": {
           "bgcolor": "white",
           "lakecolor": "white",
           "landcolor": "#E5ECF6",
           "showlakes": true,
           "showland": true,
           "subunitcolor": "white"
          },
          "hoverlabel": {
           "align": "left"
          },
          "hovermode": "closest",
          "mapbox": {
           "style": "light"
          },
          "paper_bgcolor": "white",
          "plot_bgcolor": "#E5ECF6",
          "polar": {
           "angularaxis": {
            "gridcolor": "white",
            "linecolor": "white",
            "ticks": ""
           },
           "bgcolor": "#E5ECF6",
           "radialaxis": {
            "gridcolor": "white",
            "linecolor": "white",
            "ticks": ""
           }
          },
          "scene": {
           "xaxis": {
            "backgroundcolor": "#E5ECF6",
            "gridcolor": "white",
            "gridwidth": 2,
            "linecolor": "white",
            "showbackground": true,
            "ticks": "",
            "zerolinecolor": "white"
           },
           "yaxis": {
            "backgroundcolor": "#E5ECF6",
            "gridcolor": "white",
            "gridwidth": 2,
            "linecolor": "white",
            "showbackground": true,
            "ticks": "",
            "zerolinecolor": "white"
           },
           "zaxis": {
            "backgroundcolor": "#E5ECF6",
            "gridcolor": "white",
            "gridwidth": 2,
            "linecolor": "white",
            "showbackground": true,
            "ticks": "",
            "zerolinecolor": "white"
           }
          },
          "shapedefaults": {
           "line": {
            "color": "#2a3f5f"
           }
          },
          "ternary": {
           "aaxis": {
            "gridcolor": "white",
            "linecolor": "white",
            "ticks": ""
           },
           "baxis": {
            "gridcolor": "white",
            "linecolor": "white",
            "ticks": ""
           },
           "bgcolor": "#E5ECF6",
           "caxis": {
            "gridcolor": "white",
            "linecolor": "white",
            "ticks": ""
           }
          },
          "title": {
           "x": 0.05
          },
          "xaxis": {
           "automargin": true,
           "gridcolor": "white",
           "linecolor": "white",
           "ticks": "",
           "title": {
            "standoff": 15
           },
           "zerolinecolor": "white",
           "zerolinewidth": 2
          },
          "yaxis": {
           "automargin": true,
           "gridcolor": "white",
           "linecolor": "white",
           "ticks": "",
           "title": {
            "standoff": 15
           },
           "zerolinecolor": "white",
           "zerolinewidth": 2
          }
         }
        },
        "title": {
         "text": "Proportion of Survivors by Travel Companion Status"
        }
       }
      },
      "text/html": [
       "<div>                            <div id=\"fbcdb3bc-dd7e-406d-a00e-e5fea657d737\" class=\"plotly-graph-div\" style=\"height:525px; width:100%;\"></div>            <script type=\"text/javascript\">                require([\"plotly\"], function(Plotly) {                    window.PLOTLYENV=window.PLOTLYENV || {};                                    if (document.getElementById(\"fbcdb3bc-dd7e-406d-a00e-e5fea657d737\")) {                    Plotly.newPlot(                        \"fbcdb3bc-dd7e-406d-a00e-e5fea657d737\",                        [{\"domain\":{\"x\":[0.0,1.0],\"y\":[0.0,1.0]},\"hole\":0.3,\"hovertemplate\":\"Travel Companion=%{label}\\u003cbr\\u003eSurvival Rate=%{value}\\u003cextra\\u003e\\u003c\\u002fextra\\u003e\",\"labels\":[\"Alone\",\"With Family\"],\"legendgroup\":\"\",\"name\":\"\",\"showlegend\":true,\"values\":[0.30353817504655495,0.5056497175141242],\"type\":\"pie\"}],                        {\"template\":{\"data\":{\"histogram2dcontour\":[{\"type\":\"histogram2dcontour\",\"colorbar\":{\"outlinewidth\":0,\"ticks\":\"\"},\"colorscale\":[[0.0,\"#0d0887\"],[0.1111111111111111,\"#46039f\"],[0.2222222222222222,\"#7201a8\"],[0.3333333333333333,\"#9c179e\"],[0.4444444444444444,\"#bd3786\"],[0.5555555555555556,\"#d8576b\"],[0.6666666666666666,\"#ed7953\"],[0.7777777777777778,\"#fb9f3a\"],[0.8888888888888888,\"#fdca26\"],[1.0,\"#f0f921\"]]}],\"choropleth\":[{\"type\":\"choropleth\",\"colorbar\":{\"outlinewidth\":0,\"ticks\":\"\"}}],\"histogram2d\":[{\"type\":\"histogram2d\",\"colorbar\":{\"outlinewidth\":0,\"ticks\":\"\"},\"colorscale\":[[0.0,\"#0d0887\"],[0.1111111111111111,\"#46039f\"],[0.2222222222222222,\"#7201a8\"],[0.3333333333333333,\"#9c179e\"],[0.4444444444444444,\"#bd3786\"],[0.5555555555555556,\"#d8576b\"],[0.6666666666666666,\"#ed7953\"],[0.7777777777777778,\"#fb9f3a\"],[0.8888888888888888,\"#fdca26\"],[1.0,\"#f0f921\"]]}],\"heatmap\":[{\"type\":\"heatmap\",\"colorbar\":{\"outlinewidth\":0,\"ticks\":\"\"},\"colorscale\":[[0.0,\"#0d0887\"],[0.1111111111111111,\"#46039f\"],[0.2222222222222222,\"#7201a8\"],[0.3333333333333333,\"#9c179e\"],[0.4444444444444444,\"#bd3786\"],[0.5555555555555556,\"#d8576b\"],[0.6666666666666666,\"#ed7953\"],[0.7777777777777778,\"#fb9f3a\"],[0.8888888888888888,\"#fdca26\"],[1.0,\"#f0f921\"]]}],\"heatmapgl\":[{\"type\":\"heatmapgl\",\"colorbar\":{\"outlinewidth\":0,\"ticks\":\"\"},\"colorscale\":[[0.0,\"#0d0887\"],[0.1111111111111111,\"#46039f\"],[0.2222222222222222,\"#7201a8\"],[0.3333333333333333,\"#9c179e\"],[0.4444444444444444,\"#bd3786\"],[0.5555555555555556,\"#d8576b\"],[0.6666666666666666,\"#ed7953\"],[0.7777777777777778,\"#fb9f3a\"],[0.8888888888888888,\"#fdca26\"],[1.0,\"#f0f921\"]]}],\"contourcarpet\":[{\"type\":\"contourcarpet\",\"colorbar\":{\"outlinewidth\":0,\"ticks\":\"\"}}],\"contour\":[{\"type\":\"contour\",\"colorbar\":{\"outlinewidth\":0,\"ticks\":\"\"},\"colorscale\":[[0.0,\"#0d0887\"],[0.1111111111111111,\"#46039f\"],[0.2222222222222222,\"#7201a8\"],[0.3333333333333333,\"#9c179e\"],[0.4444444444444444,\"#bd3786\"],[0.5555555555555556,\"#d8576b\"],[0.6666666666666666,\"#ed7953\"],[0.7777777777777778,\"#fb9f3a\"],[0.8888888888888888,\"#fdca26\"],[1.0,\"#f0f921\"]]}],\"surface\":[{\"type\":\"surface\",\"colorbar\":{\"outlinewidth\":0,\"ticks\":\"\"},\"colorscale\":[[0.0,\"#0d0887\"],[0.1111111111111111,\"#46039f\"],[0.2222222222222222,\"#7201a8\"],[0.3333333333333333,\"#9c179e\"],[0.4444444444444444,\"#bd3786\"],[0.5555555555555556,\"#d8576b\"],[0.6666666666666666,\"#ed7953\"],[0.7777777777777778,\"#fb9f3a\"],[0.8888888888888888,\"#fdca26\"],[1.0,\"#f0f921\"]]}],\"mesh3d\":[{\"type\":\"mesh3d\",\"colorbar\":{\"outlinewidth\":0,\"ticks\":\"\"}}],\"scatter\":[{\"fillpattern\":{\"fillmode\":\"overlay\",\"size\":10,\"solidity\":0.2},\"type\":\"scatter\"}],\"parcoords\":[{\"type\":\"parcoords\",\"line\":{\"colorbar\":{\"outlinewidth\":0,\"ticks\":\"\"}}}],\"scatterpolargl\":[{\"type\":\"scatterpolargl\",\"marker\":{\"colorbar\":{\"outlinewidth\":0,\"ticks\":\"\"}}}],\"bar\":[{\"error_x\":{\"color\":\"#2a3f5f\"},\"error_y\":{\"color\":\"#2a3f5f\"},\"marker\":{\"line\":{\"color\":\"#E5ECF6\",\"width\":0.5},\"pattern\":{\"fillmode\":\"overlay\",\"size\":10,\"solidity\":0.2}},\"type\":\"bar\"}],\"scattergeo\":[{\"type\":\"scattergeo\",\"marker\":{\"colorbar\":{\"outlinewidth\":0,\"ticks\":\"\"}}}],\"scatterpolar\":[{\"type\":\"scatterpolar\",\"marker\":{\"colorbar\":{\"outlinewidth\":0,\"ticks\":\"\"}}}],\"histogram\":[{\"marker\":{\"pattern\":{\"fillmode\":\"overlay\",\"size\":10,\"solidity\":0.2}},\"type\":\"histogram\"}],\"scattergl\":[{\"type\":\"scattergl\",\"marker\":{\"colorbar\":{\"outlinewidth\":0,\"ticks\":\"\"}}}],\"scatter3d\":[{\"type\":\"scatter3d\",\"line\":{\"colorbar\":{\"outlinewidth\":0,\"ticks\":\"\"}},\"marker\":{\"colorbar\":{\"outlinewidth\":0,\"ticks\":\"\"}}}],\"scattermapbox\":[{\"type\":\"scattermapbox\",\"marker\":{\"colorbar\":{\"outlinewidth\":0,\"ticks\":\"\"}}}],\"scatterternary\":[{\"type\":\"scatterternary\",\"marker\":{\"colorbar\":{\"outlinewidth\":0,\"ticks\":\"\"}}}],\"scattercarpet\":[{\"type\":\"scattercarpet\",\"marker\":{\"colorbar\":{\"outlinewidth\":0,\"ticks\":\"\"}}}],\"carpet\":[{\"aaxis\":{\"endlinecolor\":\"#2a3f5f\",\"gridcolor\":\"white\",\"linecolor\":\"white\",\"minorgridcolor\":\"white\",\"startlinecolor\":\"#2a3f5f\"},\"baxis\":{\"endlinecolor\":\"#2a3f5f\",\"gridcolor\":\"white\",\"linecolor\":\"white\",\"minorgridcolor\":\"white\",\"startlinecolor\":\"#2a3f5f\"},\"type\":\"carpet\"}],\"table\":[{\"cells\":{\"fill\":{\"color\":\"#EBF0F8\"},\"line\":{\"color\":\"white\"}},\"header\":{\"fill\":{\"color\":\"#C8D4E3\"},\"line\":{\"color\":\"white\"}},\"type\":\"table\"}],\"barpolar\":[{\"marker\":{\"line\":{\"color\":\"#E5ECF6\",\"width\":0.5},\"pattern\":{\"fillmode\":\"overlay\",\"size\":10,\"solidity\":0.2}},\"type\":\"barpolar\"}],\"pie\":[{\"automargin\":true,\"type\":\"pie\"}]},\"layout\":{\"autotypenumbers\":\"strict\",\"colorway\":[\"#636efa\",\"#EF553B\",\"#00cc96\",\"#ab63fa\",\"#FFA15A\",\"#19d3f3\",\"#FF6692\",\"#B6E880\",\"#FF97FF\",\"#FECB52\"],\"font\":{\"color\":\"#2a3f5f\"},\"hovermode\":\"closest\",\"hoverlabel\":{\"align\":\"left\"},\"paper_bgcolor\":\"white\",\"plot_bgcolor\":\"#E5ECF6\",\"polar\":{\"bgcolor\":\"#E5ECF6\",\"angularaxis\":{\"gridcolor\":\"white\",\"linecolor\":\"white\",\"ticks\":\"\"},\"radialaxis\":{\"gridcolor\":\"white\",\"linecolor\":\"white\",\"ticks\":\"\"}},\"ternary\":{\"bgcolor\":\"#E5ECF6\",\"aaxis\":{\"gridcolor\":\"white\",\"linecolor\":\"white\",\"ticks\":\"\"},\"baxis\":{\"gridcolor\":\"white\",\"linecolor\":\"white\",\"ticks\":\"\"},\"caxis\":{\"gridcolor\":\"white\",\"linecolor\":\"white\",\"ticks\":\"\"}},\"coloraxis\":{\"colorbar\":{\"outlinewidth\":0,\"ticks\":\"\"}},\"colorscale\":{\"sequential\":[[0.0,\"#0d0887\"],[0.1111111111111111,\"#46039f\"],[0.2222222222222222,\"#7201a8\"],[0.3333333333333333,\"#9c179e\"],[0.4444444444444444,\"#bd3786\"],[0.5555555555555556,\"#d8576b\"],[0.6666666666666666,\"#ed7953\"],[0.7777777777777778,\"#fb9f3a\"],[0.8888888888888888,\"#fdca26\"],[1.0,\"#f0f921\"]],\"sequentialminus\":[[0.0,\"#0d0887\"],[0.1111111111111111,\"#46039f\"],[0.2222222222222222,\"#7201a8\"],[0.3333333333333333,\"#9c179e\"],[0.4444444444444444,\"#bd3786\"],[0.5555555555555556,\"#d8576b\"],[0.6666666666666666,\"#ed7953\"],[0.7777777777777778,\"#fb9f3a\"],[0.8888888888888888,\"#fdca26\"],[1.0,\"#f0f921\"]],\"diverging\":[[0,\"#8e0152\"],[0.1,\"#c51b7d\"],[0.2,\"#de77ae\"],[0.3,\"#f1b6da\"],[0.4,\"#fde0ef\"],[0.5,\"#f7f7f7\"],[0.6,\"#e6f5d0\"],[0.7,\"#b8e186\"],[0.8,\"#7fbc41\"],[0.9,\"#4d9221\"],[1,\"#276419\"]]},\"xaxis\":{\"gridcolor\":\"white\",\"linecolor\":\"white\",\"ticks\":\"\",\"title\":{\"standoff\":15},\"zerolinecolor\":\"white\",\"automargin\":true,\"zerolinewidth\":2},\"yaxis\":{\"gridcolor\":\"white\",\"linecolor\":\"white\",\"ticks\":\"\",\"title\":{\"standoff\":15},\"zerolinecolor\":\"white\",\"automargin\":true,\"zerolinewidth\":2},\"scene\":{\"xaxis\":{\"backgroundcolor\":\"#E5ECF6\",\"gridcolor\":\"white\",\"linecolor\":\"white\",\"showbackground\":true,\"ticks\":\"\",\"zerolinecolor\":\"white\",\"gridwidth\":2},\"yaxis\":{\"backgroundcolor\":\"#E5ECF6\",\"gridcolor\":\"white\",\"linecolor\":\"white\",\"showbackground\":true,\"ticks\":\"\",\"zerolinecolor\":\"white\",\"gridwidth\":2},\"zaxis\":{\"backgroundcolor\":\"#E5ECF6\",\"gridcolor\":\"white\",\"linecolor\":\"white\",\"showbackground\":true,\"ticks\":\"\",\"zerolinecolor\":\"white\",\"gridwidth\":2}},\"shapedefaults\":{\"line\":{\"color\":\"#2a3f5f\"}},\"annotationdefaults\":{\"arrowcolor\":\"#2a3f5f\",\"arrowhead\":0,\"arrowwidth\":1},\"geo\":{\"bgcolor\":\"white\",\"landcolor\":\"#E5ECF6\",\"subunitcolor\":\"white\",\"showland\":true,\"showlakes\":true,\"lakecolor\":\"white\"},\"title\":{\"x\":0.05},\"mapbox\":{\"style\":\"light\"}}},\"legend\":{\"tracegroupgap\":0},\"title\":{\"text\":\"Proportion of Survivors by Travel Companion Status\"}},                        {\"responsive\": true}                    ).then(function(){\n",
       "                            \n",
       "var gd = document.getElementById('fbcdb3bc-dd7e-406d-a00e-e5fea657d737');\n",
       "var x = new MutationObserver(function (mutations, observer) {{\n",
       "        var display = window.getComputedStyle(gd).display;\n",
       "        if (!display || display === 'none') {{\n",
       "            console.log([gd, 'removed!']);\n",
       "            Plotly.purge(gd);\n",
       "            observer.disconnect();\n",
       "        }}\n",
       "}});\n",
       "\n",
       "// Listen for the removal of the full notebook cells\n",
       "var notebookContainer = gd.closest('#notebook-container');\n",
       "if (notebookContainer) {{\n",
       "    x.observe(notebookContainer, {childList: true});\n",
       "}}\n",
       "\n",
       "// Listen for the clearing of the current output cell\n",
       "var outputEl = gd.closest('.output');\n",
       "if (outputEl) {{\n",
       "    x.observe(outputEl, {childList: true});\n",
       "}}\n",
       "\n",
       "                        })                };                });            </script>        </div>"
      ]
     },
     "metadata": {},
     "output_type": "display_data"
    }
   ],
   "source": [
    "\n",
    "# Plot: Pie chart showing the proportion of survivors among passengers traveling alone and with family\n",
    "fig = px.pie(survival_rates, values='Survived', names='Travel_Companion', \n",
    "             title='Proportion of Survivors by Travel Companion Status',\n",
    "             labels={'Survived': 'Survival Rate', 'Travel_Companion': 'Travel Companion'},\n",
    "             hole=0.3)\n",
    "\n",
    "fig.show()"
   ]
  },
  {
   "attachments": {
    "Screenshot%202024-02-27%20104221.png": {
     "image/png": "[encoded data removed]"
    }
   },
   "cell_type": "markdown",
   "id": "b242a641",
   "metadata": {},
   "source": [
    "![Screenshot%202024-02-27%20104221.png](attachment:Screenshot%202024-02-27%20104221.png)"
   ]
  },
  {
   "cell_type": "markdown",
   "id": "d5db71ab-b228-449d-9a64-f824678bd552",
   "metadata": {},
   "source": [
    "## Exercise 2\n",
    "\n",
    "Consider the Bubble Plot, above. Try to figure out what it might be trying to communicate.\n",
    "\n",
    "1. Point out at least three issues with this visualization.\n",
    "2. Build at least two visualizations in Plotly that communicate a similar message, but which do it far better."
   ]
  },
  {
   "cell_type": "markdown",
   "id": "8cb0d7eb",
   "metadata": {},
   "source": [
    "### Problems in the above Bubble plot:\n",
    "1. The bubbles representing \"Survived\" and \"Not Survived\" passengers are all jumbled together, making it hard to tell who's who.\n",
    "2. There aren't any labels telling us what the numbers mean on the graph.\n",
    "3. Some bubbles look  bigger than other ones, even if they're supposed to represent the same thing. This is creating confusion."
   ]
  },
  {
   "cell_type": "markdown",
   "id": "11c81e1f",
   "metadata": {},
   "source": [
    "Now here I am using <b>Bar Chart</b> and <b> Scatter plot</b> to repersent the data;\n",
    "1. The bar chart and scatter plot show things more clearly than the bubble plot because they don't squish everything together.\n",
    "2. They both tell us what is what with clear labels, unlike the bubble plot that makes it difficult for us to understand.\n",
    "3. And unlike those weird-sized bubbles, the bar chart and scatter plot give each group a fair shape without any confusion."
   ]
  },
  {
   "cell_type": "code",
   "execution_count": 71,
   "id": "60780de3",
   "metadata": {},
   "outputs": [
    {
     "data": {
      "application/vnd.plotly.v1+json": {
       "config": {
        "plotlyServerURL": "https://plot.ly"
       },
       "data": [
        {
         "alignmentgroup": "True",
         "hovertemplate": "Pclass=1<br>Age Rounded=%{x}<br>Survivors=%{y}<extra></extra>",
         "legendgroup": "1",
         "marker": {
          "color": "#636efa",
          "pattern": {
           "shape": ""
          }
         },
         "name": "1",
         "offsetgroup": "1",
         "orientation": "v",
         "showlegend": true,
         "textposition": "auto",
         "type": "bar",
         "x": [
          0,
          10,
          20,
          30,
          40,
          50,
          60,
          70,
          80
         ],
         "xaxis": "x",
         "y": [
          2,
          2,
          29,
          22,
          37,
          20,
          9,
          0,
          1
         ],
         "yaxis": "y"
        },
        {
         "alignmentgroup": "True",
         "hovertemplate": "Pclass=2<br>Age Rounded=%{x}<br>Survivors=%{y}<extra></extra>",
         "legendgroup": "2",
         "marker": {
          "color": "#EF553B",
          "pattern": {
           "shape": ""
          }
         },
         "name": "2",
         "offsetgroup": "2",
         "orientation": "v",
         "showlegend": true,
         "textposition": "auto",
         "type": "bar",
         "x": [
          0,
          10,
          20,
          30,
          40,
          50,
          60,
          70
         ],
         "xaxis": "x",
         "y": [
          13,
          6,
          19,
          25,
          13,
          5,
          2,
          0
         ],
         "yaxis": "y"
        },
        {
         "alignmentgroup": "True",
         "hovertemplate": "Pclass=3<br>Age Rounded=%{x}<br>Survivors=%{y}<extra></extra>",
         "legendgroup": "3",
         "marker": {
          "color": "#00cc96",
          "pattern": {
           "shape": ""
          }
         },
         "name": "3",
         "offsetgroup": "3",
         "orientation": "v",
         "showlegend": true,
         "textposition": "auto",
         "type": "bar",
         "x": [
          0,
          10,
          20,
          30,
          40,
          50,
          60,
          70
         ],
         "xaxis": "x",
         "y": [
          16,
          6,
          31,
          25,
          6,
          0,
          1,
          0
         ],
         "yaxis": "y"
        }
       ],
       "layout": {
        "barmode": "relative",
        "legend": {
         "title": {
          "text": "Pclass"
         },
         "tracegroupgap": 0
        },
        "margin": {
         "t": 60
        },
        "template": {
         "data": {
          "bar": [
           {
            "error_x": {
             "color": "#2a3f5f"
            },
            "error_y": {
             "color": "#2a3f5f"
            },
            "marker": {
             "line": {
              "color": "white",
              "width": 0.5
             },
             "pattern": {
              "fillmode": "overlay",
              "size": 10,
              "solidity": 0.2
             }
            },
            "type": "bar"
           }
          ],
          "barpolar": [
           {
            "marker": {
             "line": {
              "color": "white",
              "width": 0.5
             },
             "pattern": {
              "fillmode": "overlay",
              "size": 10,
              "solidity": 0.2
             }
            },
            "type": "barpolar"
           }
          ],
          "carpet": [
           {
            "aaxis": {
             "endlinecolor": "#2a3f5f",
             "gridcolor": "#C8D4E3",
             "linecolor": "#C8D4E3",
             "minorgridcolor": "#C8D4E3",
             "startlinecolor": "#2a3f5f"
            },
            "baxis": {
             "endlinecolor": "#2a3f5f",
             "gridcolor": "#C8D4E3",
             "linecolor": "#C8D4E3",
             "minorgridcolor": "#C8D4E3",
             "startlinecolor": "#2a3f5f"
            },
            "type": "carpet"
           }
          ],
          "choropleth": [
           {
            "colorbar": {
             "outlinewidth": 0,
             "ticks": ""
            },
            "type": "choropleth"
           }
          ],
          "contour": [
           {
            "colorbar": {
             "outlinewidth": 0,
             "ticks": ""
            },
            "colorscale": [
             [
              0,
              "#0d0887"
             ],
             [
              0.1111111111111111,
              "#46039f"
             ],
             [
              0.2222222222222222,
              "#7201a8"
             ],
             [
              0.3333333333333333,
              "#9c179e"
             ],
             [
              0.4444444444444444,
              "#bd3786"
             ],
             [
              0.5555555555555556,
              "#d8576b"
             ],
             [
              0.6666666666666666,
              "#ed7953"
             ],
             [
              0.7777777777777778,
              "#fb9f3a"
             ],
             [
              0.8888888888888888,
              "#fdca26"
             ],
             [
              1,
              "#f0f921"
             ]
            ],
            "type": "contour"
           }
          ],
          "contourcarpet": [
           {
            "colorbar": {
             "outlinewidth": 0,
             "ticks": ""
            },
            "type": "contourcarpet"
           }
          ],
          "heatmap": [
           {
            "colorbar": {
             "outlinewidth": 0,
             "ticks": ""
            },
            "colorscale": [
             [
              0,
              "#0d0887"
             ],
             [
              0.1111111111111111,
              "#46039f"
             ],
             [
              0.2222222222222222,
              "#7201a8"
             ],
             [
              0.3333333333333333,
              "#9c179e"
             ],
             [
              0.4444444444444444,
              "#bd3786"
             ],
             [
              0.5555555555555556,
              "#d8576b"
             ],
             [
              0.6666666666666666,
              "#ed7953"
             ],
             [
              0.7777777777777778,
              "#fb9f3a"
             ],
             [
              0.8888888888888888,
              "#fdca26"
             ],
             [
              1,
              "#f0f921"
             ]
            ],
            "type": "heatmap"
           }
          ],
          "heatmapgl": [
           {
            "colorbar": {
             "outlinewidth": 0,
             "ticks": ""
            },
            "colorscale": [
             [
              0,
              "#0d0887"
             ],
             [
              0.1111111111111111,
              "#46039f"
             ],
             [
              0.2222222222222222,
              "#7201a8"
             ],
             [
              0.3333333333333333,
              "#9c179e"
             ],
             [
              0.4444444444444444,
              "#bd3786"
             ],
             [
              0.5555555555555556,
              "#d8576b"
             ],
             [
              0.6666666666666666,
              "#ed7953"
             ],
             [
              0.7777777777777778,
              "#fb9f3a"
             ],
             [
              0.8888888888888888,
              "#fdca26"
             ],
             [
              1,
              "#f0f921"
             ]
            ],
            "type": "heatmapgl"
           }
          ],
          "histogram": [
           {
            "marker": {
             "pattern": {
              "fillmode": "overlay",
              "size": 10,
              "solidity": 0.2
             }
            },
            "type": "histogram"
           }
          ],
          "histogram2d": [
           {
            "colorbar": {
             "outlinewidth": 0,
             "ticks": ""
            },
            "colorscale": [
             [
              0,
              "#0d0887"
             ],
             [
              0.1111111111111111,
              "#46039f"
             ],
             [
              0.2222222222222222,
              "#7201a8"
             ],
             [
              0.3333333333333333,
              "#9c179e"
             ],
             [
              0.4444444444444444,
              "#bd3786"
             ],
             [
              0.5555555555555556,
              "#d8576b"
             ],
             [
              0.6666666666666666,
              "#ed7953"
             ],
             [
              0.7777777777777778,
              "#fb9f3a"
             ],
             [
              0.8888888888888888,
              "#fdca26"
             ],
             [
              1,
              "#f0f921"
             ]
            ],
            "type": "histogram2d"
           }
          ],
          "histogram2dcontour": [
           {
            "colorbar": {
             "outlinewidth": 0,
             "ticks": ""
            },
            "colorscale": [
             [
              0,
              "#0d0887"
             ],
             [
              0.1111111111111111,
              "#46039f"
             ],
             [
              0.2222222222222222,
              "#7201a8"
             ],
             [
              0.3333333333333333,
              "#9c179e"
             ],
             [
              0.4444444444444444,
              "#bd3786"
             ],
             [
              0.5555555555555556,
              "#d8576b"
             ],
             [
              0.6666666666666666,
              "#ed7953"
             ],
             [
              0.7777777777777778,
              "#fb9f3a"
             ],
             [
              0.8888888888888888,
              "#fdca26"
             ],
             [
              1,
              "#f0f921"
             ]
            ],
            "type": "histogram2dcontour"
           }
          ],
          "mesh3d": [
           {
            "colorbar": {
             "outlinewidth": 0,
             "ticks": ""
            },
            "type": "mesh3d"
           }
          ],
          "parcoords": [
           {
            "line": {
             "colorbar": {
              "outlinewidth": 0,
              "ticks": ""
             }
            },
            "type": "parcoords"
           }
          ],
          "pie": [
           {
            "automargin": true,
            "type": "pie"
           }
          ],
          "scatter": [
           {
            "fillpattern": {
             "fillmode": "overlay",
             "size": 10,
             "solidity": 0.2
            },
            "type": "scatter"
           }
          ],
          "scatter3d": [
           {
            "line": {
             "colorbar": {
              "outlinewidth": 0,
              "ticks": ""
             }
            },
            "marker": {
             "colorbar": {
              "outlinewidth": 0,
              "ticks": ""
             }
            },
            "type": "scatter3d"
           }
          ],
          "scattercarpet": [
           {
            "marker": {
             "colorbar": {
              "outlinewidth": 0,
              "ticks": ""
             }
            },
            "type": "scattercarpet"
           }
          ],
          "scattergeo": [
           {
            "marker": {
             "colorbar": {
              "outlinewidth": 0,
              "ticks": ""
             }
            },
            "type": "scattergeo"
           }
          ],
          "scattergl": [
           {
            "marker": {
             "colorbar": {
              "outlinewidth": 0,
              "ticks": ""
             }
            },
            "type": "scattergl"
           }
          ],
          "scattermapbox": [
           {
            "marker": {
             "colorbar": {
              "outlinewidth": 0,
              "ticks": ""
             }
            },
            "type": "scattermapbox"
           }
          ],
          "scatterpolar": [
           {
            "marker": {
             "colorbar": {
              "outlinewidth": 0,
              "ticks": ""
             }
            },
            "type": "scatterpolar"
           }
          ],
          "scatterpolargl": [
           {
            "marker": {
             "colorbar": {
              "outlinewidth": 0,
              "ticks": ""
             }
            },
            "type": "scatterpolargl"
           }
          ],
          "scatterternary": [
           {
            "marker": {
             "colorbar": {
              "outlinewidth": 0,
              "ticks": ""
             }
            },
            "type": "scatterternary"
           }
          ],
          "surface": [
           {
            "colorbar": {
             "outlinewidth": 0,
             "ticks": ""
            },
            "colorscale": [
             [
              0,
              "#0d0887"
             ],
             [
              0.1111111111111111,
              "#46039f"
             ],
             [
              0.2222222222222222,
              "#7201a8"
             ],
             [
              0.3333333333333333,
              "#9c179e"
             ],
             [
              0.4444444444444444,
              "#bd3786"
             ],
             [
              0.5555555555555556,
              "#d8576b"
             ],
             [
              0.6666666666666666,
              "#ed7953"
             ],
             [
              0.7777777777777778,
              "#fb9f3a"
             ],
             [
              0.8888888888888888,
              "#fdca26"
             ],
             [
              1,
              "#f0f921"
             ]
            ],
            "type": "surface"
           }
          ],
          "table": [
           {
            "cells": {
             "fill": {
              "color": "#EBF0F8"
             },
             "line": {
              "color": "white"
             }
            },
            "header": {
             "fill": {
              "color": "#C8D4E3"
             },
             "line": {
              "color": "white"
             }
            },
            "type": "table"
           }
          ]
         },
         "layout": {
          "annotationdefaults": {
           "arrowcolor": "#2a3f5f",
           "arrowhead": 0,
           "arrowwidth": 1
          },
          "autotypenumbers": "strict",
          "coloraxis": {
           "colorbar": {
            "outlinewidth": 0,
            "ticks": ""
           }
          },
          "colorscale": {
           "diverging": [
            [
             0,
             "#8e0152"
            ],
            [
             0.1,
             "#c51b7d"
            ],
            [
             0.2,
             "#de77ae"
            ],
            [
             0.3,
             "#f1b6da"
            ],
            [
             0.4,
             "#fde0ef"
            ],
            [
             0.5,
             "#f7f7f7"
            ],
            [
             0.6,
             "#e6f5d0"
            ],
            [
             0.7,
             "#b8e186"
            ],
            [
             0.8,
             "#7fbc41"
            ],
            [
             0.9,
             "#4d9221"
            ],
            [
             1,
             "#276419"
            ]
           ],
           "sequential": [
            [
             0,
             "#0d0887"
            ],
            [
             0.1111111111111111,
             "#46039f"
            ],
            [
             0.2222222222222222,
             "#7201a8"
            ],
            [
             0.3333333333333333,
             "#9c179e"
            ],
            [
             0.4444444444444444,
             "#bd3786"
            ],
            [
             0.5555555555555556,
             "#d8576b"
            ],
            [
             0.6666666666666666,
             "#ed7953"
            ],
            [
             0.7777777777777778,
             "#fb9f3a"
            ],
            [
             0.8888888888888888,
             "#fdca26"
            ],
            [
             1,
             "#f0f921"
            ]
           ],
           "sequentialminus": [
            [
             0,
             "#0d0887"
            ],
            [
             0.1111111111111111,
             "#46039f"
            ],
            [
             0.2222222222222222,
             "#7201a8"
            ],
            [
             0.3333333333333333,
             "#9c179e"
            ],
            [
             0.4444444444444444,
             "#bd3786"
            ],
            [
             0.5555555555555556,
             "#d8576b"
            ],
            [
             0.6666666666666666,
             "#ed7953"
            ],
            [
             0.7777777777777778,
             "#fb9f3a"
            ],
            [
             0.8888888888888888,
             "#fdca26"
            ],
            [
             1,
             "#f0f921"
            ]
           ]
          },
          "colorway": [
           "#636efa",
           "#EF553B",
           "#00cc96",
           "#ab63fa",
           "#FFA15A",
           "#19d3f3",
           "#FF6692",
           "#B6E880",
           "#FF97FF",
           "#FECB52"
          ],
          "font": {
           "color": "#2a3f5f"
          },
          "geo": {
           "bgcolor": "white",
           "lakecolor": "white",
           "landcolor": "white",
           "showlakes": true,
           "showland": true,
           "subunitcolor": "#C8D4E3"
          },
          "hoverlabel": {
           "align": "left"
          },
          "hovermode": "closest",
          "mapbox": {
           "style": "light"
          },
          "paper_bgcolor": "white",
          "plot_bgcolor": "white",
          "polar": {
           "angularaxis": {
            "gridcolor": "#EBF0F8",
            "linecolor": "#EBF0F8",
            "ticks": ""
           },
           "bgcolor": "white",
           "radialaxis": {
            "gridcolor": "#EBF0F8",
            "linecolor": "#EBF0F8",
            "ticks": ""
           }
          },
          "scene": {
           "xaxis": {
            "backgroundcolor": "white",
            "gridcolor": "#DFE8F3",
            "gridwidth": 2,
            "linecolor": "#EBF0F8",
            "showbackground": true,
            "ticks": "",
            "zerolinecolor": "#EBF0F8"
           },
           "yaxis": {
            "backgroundcolor": "white",
            "gridcolor": "#DFE8F3",
            "gridwidth": 2,
            "linecolor": "#EBF0F8",
            "showbackground": true,
            "ticks": "",
            "zerolinecolor": "#EBF0F8"
           },
           "zaxis": {
            "backgroundcolor": "white",
            "gridcolor": "#DFE8F3",
            "gridwidth": 2,
            "linecolor": "#EBF0F8",
            "showbackground": true,
            "ticks": "",
            "zerolinecolor": "#EBF0F8"
           }
          },
          "shapedefaults": {
           "line": {
            "color": "#2a3f5f"
           }
          },
          "ternary": {
           "aaxis": {
            "gridcolor": "#DFE8F3",
            "linecolor": "#A2B1C6",
            "ticks": ""
           },
           "baxis": {
            "gridcolor": "#DFE8F3",
            "linecolor": "#A2B1C6",
            "ticks": ""
           },
           "bgcolor": "white",
           "caxis": {
            "gridcolor": "#DFE8F3",
            "linecolor": "#A2B1C6",
            "ticks": ""
           }
          },
          "title": {
           "x": 0.05
          },
          "xaxis": {
           "automargin": true,
           "gridcolor": "#EBF0F8",
           "linecolor": "#EBF0F8",
           "ticks": "",
           "title": {
            "standoff": 15
           },
           "zerolinecolor": "#EBF0F8",
           "zerolinewidth": 2
          },
          "yaxis": {
           "automargin": true,
           "gridcolor": "#EBF0F8",
           "linecolor": "#EBF0F8",
           "ticks": "",
           "title": {
            "standoff": 15
           },
           "zerolinecolor": "#EBF0F8",
           "zerolinewidth": 2
          }
         }
        },
        "title": {
         "text": "Survival Rate by Age Rounded and Passenger Class (Bar Chart)"
        },
        "xaxis": {
         "anchor": "y",
         "domain": [
          0,
          1
         ],
         "title": {
          "text": "Age Rounded"
         }
        },
        "yaxis": {
         "anchor": "x",
         "domain": [
          0,
          1
         ],
         "title": {
          "text": "Survival Rate"
         }
        }
       }
      },
      "text/html": [
       "<div>                            <div id=\"b7f4f8e4-a6b0-442e-a80e-a84e20d4bda5\" class=\"plotly-graph-div\" style=\"height:525px; width:100%;\"></div>            <script type=\"text/javascript\">                require([\"plotly\"], function(Plotly) {                    window.PLOTLYENV=window.PLOTLYENV || {};                                    if (document.getElementById(\"b7f4f8e4-a6b0-442e-a80e-a84e20d4bda5\")) {                    Plotly.newPlot(                        \"b7f4f8e4-a6b0-442e-a80e-a84e20d4bda5\",                        [{\"alignmentgroup\":\"True\",\"hovertemplate\":\"Pclass=1\\u003cbr\\u003eAge Rounded=%{x}\\u003cbr\\u003eSurvivors=%{y}\\u003cextra\\u003e\\u003c\\u002fextra\\u003e\",\"legendgroup\":\"1\",\"marker\":{\"color\":\"#636efa\",\"pattern\":{\"shape\":\"\"}},\"name\":\"1\",\"offsetgroup\":\"1\",\"orientation\":\"v\",\"showlegend\":true,\"textposition\":\"auto\",\"x\":[0.0,10.0,20.0,30.0,40.0,50.0,60.0,70.0,80.0],\"xaxis\":\"x\",\"y\":[2,2,29,22,37,20,9,0,1],\"yaxis\":\"y\",\"type\":\"bar\"},{\"alignmentgroup\":\"True\",\"hovertemplate\":\"Pclass=2\\u003cbr\\u003eAge Rounded=%{x}\\u003cbr\\u003eSurvivors=%{y}\\u003cextra\\u003e\\u003c\\u002fextra\\u003e\",\"legendgroup\":\"2\",\"marker\":{\"color\":\"#EF553B\",\"pattern\":{\"shape\":\"\"}},\"name\":\"2\",\"offsetgroup\":\"2\",\"orientation\":\"v\",\"showlegend\":true,\"textposition\":\"auto\",\"x\":[0.0,10.0,20.0,30.0,40.0,50.0,60.0,70.0],\"xaxis\":\"x\",\"y\":[13,6,19,25,13,5,2,0],\"yaxis\":\"y\",\"type\":\"bar\"},{\"alignmentgroup\":\"True\",\"hovertemplate\":\"Pclass=3\\u003cbr\\u003eAge Rounded=%{x}\\u003cbr\\u003eSurvivors=%{y}\\u003cextra\\u003e\\u003c\\u002fextra\\u003e\",\"legendgroup\":\"3\",\"marker\":{\"color\":\"#00cc96\",\"pattern\":{\"shape\":\"\"}},\"name\":\"3\",\"offsetgroup\":\"3\",\"orientation\":\"v\",\"showlegend\":true,\"textposition\":\"auto\",\"x\":[0.0,10.0,20.0,30.0,40.0,50.0,60.0,70.0],\"xaxis\":\"x\",\"y\":[16,6,31,25,6,0,1,0],\"yaxis\":\"y\",\"type\":\"bar\"}],                        {\"template\":{\"data\":{\"barpolar\":[{\"marker\":{\"line\":{\"color\":\"white\",\"width\":0.5},\"pattern\":{\"fillmode\":\"overlay\",\"size\":10,\"solidity\":0.2}},\"type\":\"barpolar\"}],\"bar\":[{\"error_x\":{\"color\":\"#2a3f5f\"},\"error_y\":{\"color\":\"#2a3f5f\"},\"marker\":{\"line\":{\"color\":\"white\",\"width\":0.5},\"pattern\":{\"fillmode\":\"overlay\",\"size\":10,\"solidity\":0.2}},\"type\":\"bar\"}],\"carpet\":[{\"aaxis\":{\"endlinecolor\":\"#2a3f5f\",\"gridcolor\":\"#C8D4E3\",\"linecolor\":\"#C8D4E3\",\"minorgridcolor\":\"#C8D4E3\",\"startlinecolor\":\"#2a3f5f\"},\"baxis\":{\"endlinecolor\":\"#2a3f5f\",\"gridcolor\":\"#C8D4E3\",\"linecolor\":\"#C8D4E3\",\"minorgridcolor\":\"#C8D4E3\",\"startlinecolor\":\"#2a3f5f\"},\"type\":\"carpet\"}],\"choropleth\":[{\"colorbar\":{\"outlinewidth\":0,\"ticks\":\"\"},\"type\":\"choropleth\"}],\"contourcarpet\":[{\"colorbar\":{\"outlinewidth\":0,\"ticks\":\"\"},\"type\":\"contourcarpet\"}],\"contour\":[{\"colorbar\":{\"outlinewidth\":0,\"ticks\":\"\"},\"colorscale\":[[0.0,\"#0d0887\"],[0.1111111111111111,\"#46039f\"],[0.2222222222222222,\"#7201a8\"],[0.3333333333333333,\"#9c179e\"],[0.4444444444444444,\"#bd3786\"],[0.5555555555555556,\"#d8576b\"],[0.6666666666666666,\"#ed7953\"],[0.7777777777777778,\"#fb9f3a\"],[0.8888888888888888,\"#fdca26\"],[1.0,\"#f0f921\"]],\"type\":\"contour\"}],\"heatmapgl\":[{\"colorbar\":{\"outlinewidth\":0,\"ticks\":\"\"},\"colorscale\":[[0.0,\"#0d0887\"],[0.1111111111111111,\"#46039f\"],[0.2222222222222222,\"#7201a8\"],[0.3333333333333333,\"#9c179e\"],[0.4444444444444444,\"#bd3786\"],[0.5555555555555556,\"#d8576b\"],[0.6666666666666666,\"#ed7953\"],[0.7777777777777778,\"#fb9f3a\"],[0.8888888888888888,\"#fdca26\"],[1.0,\"#f0f921\"]],\"type\":\"heatmapgl\"}],\"heatmap\":[{\"colorbar\":{\"outlinewidth\":0,\"ticks\":\"\"},\"colorscale\":[[0.0,\"#0d0887\"],[0.1111111111111111,\"#46039f\"],[0.2222222222222222,\"#7201a8\"],[0.3333333333333333,\"#9c179e\"],[0.4444444444444444,\"#bd3786\"],[0.5555555555555556,\"#d8576b\"],[0.6666666666666666,\"#ed7953\"],[0.7777777777777778,\"#fb9f3a\"],[0.8888888888888888,\"#fdca26\"],[1.0,\"#f0f921\"]],\"type\":\"heatmap\"}],\"histogram2dcontour\":[{\"colorbar\":{\"outlinewidth\":0,\"ticks\":\"\"},\"colorscale\":[[0.0,\"#0d0887\"],[0.1111111111111111,\"#46039f\"],[0.2222222222222222,\"#7201a8\"],[0.3333333333333333,\"#9c179e\"],[0.4444444444444444,\"#bd3786\"],[0.5555555555555556,\"#d8576b\"],[0.6666666666666666,\"#ed7953\"],[0.7777777777777778,\"#fb9f3a\"],[0.8888888888888888,\"#fdca26\"],[1.0,\"#f0f921\"]],\"type\":\"histogram2dcontour\"}],\"histogram2d\":[{\"colorbar\":{\"outlinewidth\":0,\"ticks\":\"\"},\"colorscale\":[[0.0,\"#0d0887\"],[0.1111111111111111,\"#46039f\"],[0.2222222222222222,\"#7201a8\"],[0.3333333333333333,\"#9c179e\"],[0.4444444444444444,\"#bd3786\"],[0.5555555555555556,\"#d8576b\"],[0.6666666666666666,\"#ed7953\"],[0.7777777777777778,\"#fb9f3a\"],[0.8888888888888888,\"#fdca26\"],[1.0,\"#f0f921\"]],\"type\":\"histogram2d\"}],\"histogram\":[{\"marker\":{\"pattern\":{\"fillmode\":\"overlay\",\"size\":10,\"solidity\":0.2}},\"type\":\"histogram\"}],\"mesh3d\":[{\"colorbar\":{\"outlinewidth\":0,\"ticks\":\"\"},\"type\":\"mesh3d\"}],\"parcoords\":[{\"line\":{\"colorbar\":{\"outlinewidth\":0,\"ticks\":\"\"}},\"type\":\"parcoords\"}],\"pie\":[{\"automargin\":true,\"type\":\"pie\"}],\"scatter3d\":[{\"line\":{\"colorbar\":{\"outlinewidth\":0,\"ticks\":\"\"}},\"marker\":{\"colorbar\":{\"outlinewidth\":0,\"ticks\":\"\"}},\"type\":\"scatter3d\"}],\"scattercarpet\":[{\"marker\":{\"colorbar\":{\"outlinewidth\":0,\"ticks\":\"\"}},\"type\":\"scattercarpet\"}],\"scattergeo\":[{\"marker\":{\"colorbar\":{\"outlinewidth\":0,\"ticks\":\"\"}},\"type\":\"scattergeo\"}],\"scattergl\":[{\"marker\":{\"colorbar\":{\"outlinewidth\":0,\"ticks\":\"\"}},\"type\":\"scattergl\"}],\"scattermapbox\":[{\"marker\":{\"colorbar\":{\"outlinewidth\":0,\"ticks\":\"\"}},\"type\":\"scattermapbox\"}],\"scatterpolargl\":[{\"marker\":{\"colorbar\":{\"outlinewidth\":0,\"ticks\":\"\"}},\"type\":\"scatterpolargl\"}],\"scatterpolar\":[{\"marker\":{\"colorbar\":{\"outlinewidth\":0,\"ticks\":\"\"}},\"type\":\"scatterpolar\"}],\"scatter\":[{\"fillpattern\":{\"fillmode\":\"overlay\",\"size\":10,\"solidity\":0.2},\"type\":\"scatter\"}],\"scatterternary\":[{\"marker\":{\"colorbar\":{\"outlinewidth\":0,\"ticks\":\"\"}},\"type\":\"scatterternary\"}],\"surface\":[{\"colorbar\":{\"outlinewidth\":0,\"ticks\":\"\"},\"colorscale\":[[0.0,\"#0d0887\"],[0.1111111111111111,\"#46039f\"],[0.2222222222222222,\"#7201a8\"],[0.3333333333333333,\"#9c179e\"],[0.4444444444444444,\"#bd3786\"],[0.5555555555555556,\"#d8576b\"],[0.6666666666666666,\"#ed7953\"],[0.7777777777777778,\"#fb9f3a\"],[0.8888888888888888,\"#fdca26\"],[1.0,\"#f0f921\"]],\"type\":\"surface\"}],\"table\":[{\"cells\":{\"fill\":{\"color\":\"#EBF0F8\"},\"line\":{\"color\":\"white\"}},\"header\":{\"fill\":{\"color\":\"#C8D4E3\"},\"line\":{\"color\":\"white\"}},\"type\":\"table\"}]},\"layout\":{\"annotationdefaults\":{\"arrowcolor\":\"#2a3f5f\",\"arrowhead\":0,\"arrowwidth\":1},\"autotypenumbers\":\"strict\",\"coloraxis\":{\"colorbar\":{\"outlinewidth\":0,\"ticks\":\"\"}},\"colorscale\":{\"diverging\":[[0,\"#8e0152\"],[0.1,\"#c51b7d\"],[0.2,\"#de77ae\"],[0.3,\"#f1b6da\"],[0.4,\"#fde0ef\"],[0.5,\"#f7f7f7\"],[0.6,\"#e6f5d0\"],[0.7,\"#b8e186\"],[0.8,\"#7fbc41\"],[0.9,\"#4d9221\"],[1,\"#276419\"]],\"sequential\":[[0.0,\"#0d0887\"],[0.1111111111111111,\"#46039f\"],[0.2222222222222222,\"#7201a8\"],[0.3333333333333333,\"#9c179e\"],[0.4444444444444444,\"#bd3786\"],[0.5555555555555556,\"#d8576b\"],[0.6666666666666666,\"#ed7953\"],[0.7777777777777778,\"#fb9f3a\"],[0.8888888888888888,\"#fdca26\"],[1.0,\"#f0f921\"]],\"sequentialminus\":[[0.0,\"#0d0887\"],[0.1111111111111111,\"#46039f\"],[0.2222222222222222,\"#7201a8\"],[0.3333333333333333,\"#9c179e\"],[0.4444444444444444,\"#bd3786\"],[0.5555555555555556,\"#d8576b\"],[0.6666666666666666,\"#ed7953\"],[0.7777777777777778,\"#fb9f3a\"],[0.8888888888888888,\"#fdca26\"],[1.0,\"#f0f921\"]]},\"colorway\":[\"#636efa\",\"#EF553B\",\"#00cc96\",\"#ab63fa\",\"#FFA15A\",\"#19d3f3\",\"#FF6692\",\"#B6E880\",\"#FF97FF\",\"#FECB52\"],\"font\":{\"color\":\"#2a3f5f\"},\"geo\":{\"bgcolor\":\"white\",\"lakecolor\":\"white\",\"landcolor\":\"white\",\"showlakes\":true,\"showland\":true,\"subunitcolor\":\"#C8D4E3\"},\"hoverlabel\":{\"align\":\"left\"},\"hovermode\":\"closest\",\"mapbox\":{\"style\":\"light\"},\"paper_bgcolor\":\"white\",\"plot_bgcolor\":\"white\",\"polar\":{\"angularaxis\":{\"gridcolor\":\"#EBF0F8\",\"linecolor\":\"#EBF0F8\",\"ticks\":\"\"},\"bgcolor\":\"white\",\"radialaxis\":{\"gridcolor\":\"#EBF0F8\",\"linecolor\":\"#EBF0F8\",\"ticks\":\"\"}},\"scene\":{\"xaxis\":{\"backgroundcolor\":\"white\",\"gridcolor\":\"#DFE8F3\",\"gridwidth\":2,\"linecolor\":\"#EBF0F8\",\"showbackground\":true,\"ticks\":\"\",\"zerolinecolor\":\"#EBF0F8\"},\"yaxis\":{\"backgroundcolor\":\"white\",\"gridcolor\":\"#DFE8F3\",\"gridwidth\":2,\"linecolor\":\"#EBF0F8\",\"showbackground\":true,\"ticks\":\"\",\"zerolinecolor\":\"#EBF0F8\"},\"zaxis\":{\"backgroundcolor\":\"white\",\"gridcolor\":\"#DFE8F3\",\"gridwidth\":2,\"linecolor\":\"#EBF0F8\",\"showbackground\":true,\"ticks\":\"\",\"zerolinecolor\":\"#EBF0F8\"}},\"shapedefaults\":{\"line\":{\"color\":\"#2a3f5f\"}},\"ternary\":{\"aaxis\":{\"gridcolor\":\"#DFE8F3\",\"linecolor\":\"#A2B1C6\",\"ticks\":\"\"},\"baxis\":{\"gridcolor\":\"#DFE8F3\",\"linecolor\":\"#A2B1C6\",\"ticks\":\"\"},\"bgcolor\":\"white\",\"caxis\":{\"gridcolor\":\"#DFE8F3\",\"linecolor\":\"#A2B1C6\",\"ticks\":\"\"}},\"title\":{\"x\":0.05},\"xaxis\":{\"automargin\":true,\"gridcolor\":\"#EBF0F8\",\"linecolor\":\"#EBF0F8\",\"ticks\":\"\",\"title\":{\"standoff\":15},\"zerolinecolor\":\"#EBF0F8\",\"zerolinewidth\":2},\"yaxis\":{\"automargin\":true,\"gridcolor\":\"#EBF0F8\",\"linecolor\":\"#EBF0F8\",\"ticks\":\"\",\"title\":{\"standoff\":15},\"zerolinecolor\":\"#EBF0F8\",\"zerolinewidth\":2}}},\"xaxis\":{\"anchor\":\"y\",\"domain\":[0.0,1.0],\"title\":{\"text\":\"Age Rounded\"}},\"yaxis\":{\"anchor\":\"x\",\"domain\":[0.0,1.0],\"title\":{\"text\":\"Survival Rate\"}},\"legend\":{\"title\":{\"text\":\"Pclass\"},\"tracegroupgap\":0},\"margin\":{\"t\":60},\"barmode\":\"relative\",\"title\":{\"text\":\"Survival Rate by Age Rounded and Passenger Class (Bar Chart)\"}},                        {\"responsive\": true}                    ).then(function(){\n",
       "                            \n",
       "var gd = document.getElementById('b7f4f8e4-a6b0-442e-a80e-a84e20d4bda5');\n",
       "var x = new MutationObserver(function (mutations, observer) {{\n",
       "        var display = window.getComputedStyle(gd).display;\n",
       "        if (!display || display === 'none') {{\n",
       "            console.log([gd, 'removed!']);\n",
       "            Plotly.purge(gd);\n",
       "            observer.disconnect();\n",
       "        }}\n",
       "}});\n",
       "\n",
       "// Listen for the removal of the full notebook cells\n",
       "var notebookContainer = gd.closest('#notebook-container');\n",
       "if (notebookContainer) {{\n",
       "    x.observe(notebookContainer, {childList: true});\n",
       "}}\n",
       "\n",
       "// Listen for the clearing of the current output cell\n",
       "var outputEl = gd.closest('.output');\n",
       "if (outputEl) {{\n",
       "    x.observe(outputEl, {childList: true});\n",
       "}}\n",
       "\n",
       "                        })                };                });            </script>        </div>"
      ]
     },
     "metadata": {},
     "output_type": "display_data"
    }
   ],
   "source": [
    "import plotly.express as px\n",
    "\n",
    "# Bar Chart\n",
    "fig_bar = px.bar(df_plot, x='Age_rounded', y='Survived', color='Pclass',\n",
    "                 labels={'Survived': 'Survivors', 'Age_rounded': 'Age Rounded'},\n",
    "                 template='plotly_white')\n",
    "fig_bar.update_layout(title='Survival Rate by Age Rounded and Passenger Class (Bar Chart)',\n",
    "                      xaxis_title='Age Rounded',\n",
    "                      yaxis_title='Survival Rate')\n",
    "fig_bar.show()\n"
   ]
  },
  {
   "attachments": {
    "Screenshot%202024-02-27%20104237.png": {
     "image/png": "[encoded data removed]"
    }
   },
   "cell_type": "markdown",
   "id": "8ca098a2",
   "metadata": {},
   "source": [
    "![Screenshot%202024-02-27%20104237.png](attachment:Screenshot%202024-02-27%20104237.png)"
   ]
  },
  {
   "cell_type": "code",
   "execution_count": 72,
   "id": "7c614a3f",
   "metadata": {
    "scrolled": true
   },
   "outputs": [
    {
     "data": {
      "application/vnd.plotly.v1+json": {
       "config": {
        "plotlyServerURL": "https://plot.ly"
       },
       "data": [
        {
         "hovertemplate": "Pclass=1<br>Age Rounded=%{x}<br>Survivors=%{y}<extra></extra>",
         "legendgroup": "1",
         "marker": {
          "color": "#636efa",
          "symbol": "circle"
         },
         "mode": "markers",
         "name": "1",
         "orientation": "v",
         "showlegend": true,
         "type": "scatter",
         "x": [
          0,
          10,
          20,
          30,
          40,
          50,
          60,
          70,
          80
         ],
         "xaxis": "x",
         "y": [
          2,
          2,
          29,
          22,
          37,
          20,
          9,
          0,
          1
         ],
         "yaxis": "y"
        },
        {
         "hovertemplate": "Pclass=2<br>Age Rounded=%{x}<br>Survivors=%{y}<extra></extra>",
         "legendgroup": "2",
         "marker": {
          "color": "#EF553B",
          "symbol": "diamond"
         },
         "mode": "markers",
         "name": "2",
         "orientation": "v",
         "showlegend": true,
         "type": "scatter",
         "x": [
          0,
          10,
          20,
          30,
          40,
          50,
          60,
          70
         ],
         "xaxis": "x",
         "y": [
          13,
          6,
          19,
          25,
          13,
          5,
          2,
          0
         ],
         "yaxis": "y"
        },
        {
         "hovertemplate": "Pclass=3<br>Age Rounded=%{x}<br>Survivors=%{y}<extra></extra>",
         "legendgroup": "3",
         "marker": {
          "color": "#00cc96",
          "symbol": "square"
         },
         "mode": "markers",
         "name": "3",
         "orientation": "v",
         "showlegend": true,
         "type": "scatter",
         "x": [
          0,
          10,
          20,
          30,
          40,
          50,
          60,
          70
         ],
         "xaxis": "x",
         "y": [
          16,
          6,
          31,
          25,
          6,
          0,
          1,
          0
         ],
         "yaxis": "y"
        }
       ],
       "layout": {
        "legend": {
         "title": {
          "text": "Pclass"
         },
         "tracegroupgap": 0
        },
        "margin": {
         "t": 60
        },
        "template": {
         "data": {
          "bar": [
           {
            "error_x": {
             "color": "#2a3f5f"
            },
            "error_y": {
             "color": "#2a3f5f"
            },
            "marker": {
             "line": {
              "color": "white",
              "width": 0.5
             },
             "pattern": {
              "fillmode": "overlay",
              "size": 10,
              "solidity": 0.2
             }
            },
            "type": "bar"
           }
          ],
          "barpolar": [
           {
            "marker": {
             "line": {
              "color": "white",
              "width": 0.5
             },
             "pattern": {
              "fillmode": "overlay",
              "size": 10,
              "solidity": 0.2
             }
            },
            "type": "barpolar"
           }
          ],
          "carpet": [
           {
            "aaxis": {
             "endlinecolor": "#2a3f5f",
             "gridcolor": "#C8D4E3",
             "linecolor": "#C8D4E3",
             "minorgridcolor": "#C8D4E3",
             "startlinecolor": "#2a3f5f"
            },
            "baxis": {
             "endlinecolor": "#2a3f5f",
             "gridcolor": "#C8D4E3",
             "linecolor": "#C8D4E3",
             "minorgridcolor": "#C8D4E3",
             "startlinecolor": "#2a3f5f"
            },
            "type": "carpet"
           }
          ],
          "choropleth": [
           {
            "colorbar": {
             "outlinewidth": 0,
             "ticks": ""
            },
            "type": "choropleth"
           }
          ],
          "contour": [
           {
            "colorbar": {
             "outlinewidth": 0,
             "ticks": ""
            },
            "colorscale": [
             [
              0,
              "#0d0887"
             ],
             [
              0.1111111111111111,
              "#46039f"
             ],
             [
              0.2222222222222222,
              "#7201a8"
             ],
             [
              0.3333333333333333,
              "#9c179e"
             ],
             [
              0.4444444444444444,
              "#bd3786"
             ],
             [
              0.5555555555555556,
              "#d8576b"
             ],
             [
              0.6666666666666666,
              "#ed7953"
             ],
             [
              0.7777777777777778,
              "#fb9f3a"
             ],
             [
              0.8888888888888888,
              "#fdca26"
             ],
             [
              1,
              "#f0f921"
             ]
            ],
            "type": "contour"
           }
          ],
          "contourcarpet": [
           {
            "colorbar": {
             "outlinewidth": 0,
             "ticks": ""
            },
            "type": "contourcarpet"
           }
          ],
          "heatmap": [
           {
            "colorbar": {
             "outlinewidth": 0,
             "ticks": ""
            },
            "colorscale": [
             [
              0,
              "#0d0887"
             ],
             [
              0.1111111111111111,
              "#46039f"
             ],
             [
              0.2222222222222222,
              "#7201a8"
             ],
             [
              0.3333333333333333,
              "#9c179e"
             ],
             [
              0.4444444444444444,
              "#bd3786"
             ],
             [
              0.5555555555555556,
              "#d8576b"
             ],
             [
              0.6666666666666666,
              "#ed7953"
             ],
             [
              0.7777777777777778,
              "#fb9f3a"
             ],
             [
              0.8888888888888888,
              "#fdca26"
             ],
             [
              1,
              "#f0f921"
             ]
            ],
            "type": "heatmap"
           }
          ],
          "heatmapgl": [
           {
            "colorbar": {
             "outlinewidth": 0,
             "ticks": ""
            },
            "colorscale": [
             [
              0,
              "#0d0887"
             ],
             [
              0.1111111111111111,
              "#46039f"
             ],
             [
              0.2222222222222222,
              "#7201a8"
             ],
             [
              0.3333333333333333,
              "#9c179e"
             ],
             [
              0.4444444444444444,
              "#bd3786"
             ],
             [
              0.5555555555555556,
              "#d8576b"
             ],
             [
              0.6666666666666666,
              "#ed7953"
             ],
             [
              0.7777777777777778,
              "#fb9f3a"
             ],
             [
              0.8888888888888888,
              "#fdca26"
             ],
             [
              1,
              "#f0f921"
             ]
            ],
            "type": "heatmapgl"
           }
          ],
          "histogram": [
           {
            "marker": {
             "pattern": {
              "fillmode": "overlay",
              "size": 10,
              "solidity": 0.2
             }
            },
            "type": "histogram"
           }
          ],
          "histogram2d": [
           {
            "colorbar": {
             "outlinewidth": 0,
             "ticks": ""
            },
            "colorscale": [
             [
              0,
              "#0d0887"
             ],
             [
              0.1111111111111111,
              "#46039f"
             ],
             [
              0.2222222222222222,
              "#7201a8"
             ],
             [
              0.3333333333333333,
              "#9c179e"
             ],
             [
              0.4444444444444444,
              "#bd3786"
             ],
             [
              0.5555555555555556,
              "#d8576b"
             ],
             [
              0.6666666666666666,
              "#ed7953"
             ],
             [
              0.7777777777777778,
              "#fb9f3a"
             ],
             [
              0.8888888888888888,
              "#fdca26"
             ],
             [
              1,
              "#f0f921"
             ]
            ],
            "type": "histogram2d"
           }
          ],
          "histogram2dcontour": [
           {
            "colorbar": {
             "outlinewidth": 0,
             "ticks": ""
            },
            "colorscale": [
             [
              0,
              "#0d0887"
             ],
             [
              0.1111111111111111,
              "#46039f"
             ],
             [
              0.2222222222222222,
              "#7201a8"
             ],
             [
              0.3333333333333333,
              "#9c179e"
             ],
             [
              0.4444444444444444,
              "#bd3786"
             ],
             [
              0.5555555555555556,
              "#d8576b"
             ],
             [
              0.6666666666666666,
              "#ed7953"
             ],
             [
              0.7777777777777778,
              "#fb9f3a"
             ],
             [
              0.8888888888888888,
              "#fdca26"
             ],
             [
              1,
              "#f0f921"
             ]
            ],
            "type": "histogram2dcontour"
           }
          ],
          "mesh3d": [
           {
            "colorbar": {
             "outlinewidth": 0,
             "ticks": ""
            },
            "type": "mesh3d"
           }
          ],
          "parcoords": [
           {
            "line": {
             "colorbar": {
              "outlinewidth": 0,
              "ticks": ""
             }
            },
            "type": "parcoords"
           }
          ],
          "pie": [
           {
            "automargin": true,
            "type": "pie"
           }
          ],
          "scatter": [
           {
            "fillpattern": {
             "fillmode": "overlay",
             "size": 10,
             "solidity": 0.2
            },
            "type": "scatter"
           }
          ],
          "scatter3d": [
           {
            "line": {
             "colorbar": {
              "outlinewidth": 0,
              "ticks": ""
             }
            },
            "marker": {
             "colorbar": {
              "outlinewidth": 0,
              "ticks": ""
             }
            },
            "type": "scatter3d"
           }
          ],
          "scattercarpet": [
           {
            "marker": {
             "colorbar": {
              "outlinewidth": 0,
              "ticks": ""
             }
            },
            "type": "scattercarpet"
           }
          ],
          "scattergeo": [
           {
            "marker": {
             "colorbar": {
              "outlinewidth": 0,
              "ticks": ""
             }
            },
            "type": "scattergeo"
           }
          ],
          "scattergl": [
           {
            "marker": {
             "colorbar": {
              "outlinewidth": 0,
              "ticks": ""
             }
            },
            "type": "scattergl"
           }
          ],
          "scattermapbox": [
           {
            "marker": {
             "colorbar": {
              "outlinewidth": 0,
              "ticks": ""
             }
            },
            "type": "scattermapbox"
           }
          ],
          "scatterpolar": [
           {
            "marker": {
             "colorbar": {
              "outlinewidth": 0,
              "ticks": ""
             }
            },
            "type": "scatterpolar"
           }
          ],
          "scatterpolargl": [
           {
            "marker": {
             "colorbar": {
              "outlinewidth": 0,
              "ticks": ""
             }
            },
            "type": "scatterpolargl"
           }
          ],
          "scatterternary": [
           {
            "marker": {
             "colorbar": {
              "outlinewidth": 0,
              "ticks": ""
             }
            },
            "type": "scatterternary"
           }
          ],
          "surface": [
           {
            "colorbar": {
             "outlinewidth": 0,
             "ticks": ""
            },
            "colorscale": [
             [
              0,
              "#0d0887"
             ],
             [
              0.1111111111111111,
              "#46039f"
             ],
             [
              0.2222222222222222,
              "#7201a8"
             ],
             [
              0.3333333333333333,
              "#9c179e"
             ],
             [
              0.4444444444444444,
              "#bd3786"
             ],
             [
              0.5555555555555556,
              "#d8576b"
             ],
             [
              0.6666666666666666,
              "#ed7953"
             ],
             [
              0.7777777777777778,
              "#fb9f3a"
             ],
             [
              0.8888888888888888,
              "#fdca26"
             ],
             [
              1,
              "#f0f921"
             ]
            ],
            "type": "surface"
           }
          ],
          "table": [
           {
            "cells": {
             "fill": {
              "color": "#EBF0F8"
             },
             "line": {
              "color": "white"
             }
            },
            "header": {
             "fill": {
              "color": "#C8D4E3"
             },
             "line": {
              "color": "white"
             }
            },
            "type": "table"
           }
          ]
         },
         "layout": {
          "annotationdefaults": {
           "arrowcolor": "#2a3f5f",
           "arrowhead": 0,
           "arrowwidth": 1
          },
          "autotypenumbers": "strict",
          "coloraxis": {
           "colorbar": {
            "outlinewidth": 0,
            "ticks": ""
           }
          },
          "colorscale": {
           "diverging": [
            [
             0,
             "#8e0152"
            ],
            [
             0.1,
             "#c51b7d"
            ],
            [
             0.2,
             "#de77ae"
            ],
            [
             0.3,
             "#f1b6da"
            ],
            [
             0.4,
             "#fde0ef"
            ],
            [
             0.5,
             "#f7f7f7"
            ],
            [
             0.6,
             "#e6f5d0"
            ],
            [
             0.7,
             "#b8e186"
            ],
            [
             0.8,
             "#7fbc41"
            ],
            [
             0.9,
             "#4d9221"
            ],
            [
             1,
             "#276419"
            ]
           ],
           "sequential": [
            [
             0,
             "#0d0887"
            ],
            [
             0.1111111111111111,
             "#46039f"
            ],
            [
             0.2222222222222222,
             "#7201a8"
            ],
            [
             0.3333333333333333,
             "#9c179e"
            ],
            [
             0.4444444444444444,
             "#bd3786"
            ],
            [
             0.5555555555555556,
             "#d8576b"
            ],
            [
             0.6666666666666666,
             "#ed7953"
            ],
            [
             0.7777777777777778,
             "#fb9f3a"
            ],
            [
             0.8888888888888888,
             "#fdca26"
            ],
            [
             1,
             "#f0f921"
            ]
           ],
           "sequentialminus": [
            [
             0,
             "#0d0887"
            ],
            [
             0.1111111111111111,
             "#46039f"
            ],
            [
             0.2222222222222222,
             "#7201a8"
            ],
            [
             0.3333333333333333,
             "#9c179e"
            ],
            [
             0.4444444444444444,
             "#bd3786"
            ],
            [
             0.5555555555555556,
             "#d8576b"
            ],
            [
             0.6666666666666666,
             "#ed7953"
            ],
            [
             0.7777777777777778,
             "#fb9f3a"
            ],
            [
             0.8888888888888888,
             "#fdca26"
            ],
            [
             1,
             "#f0f921"
            ]
           ]
          },
          "colorway": [
           "#636efa",
           "#EF553B",
           "#00cc96",
           "#ab63fa",
           "#FFA15A",
           "#19d3f3",
           "#FF6692",
           "#B6E880",
           "#FF97FF",
           "#FECB52"
          ],
          "font": {
           "color": "#2a3f5f"
          },
          "geo": {
           "bgcolor": "white",
           "lakecolor": "white",
           "landcolor": "white",
           "showlakes": true,
           "showland": true,
           "subunitcolor": "#C8D4E3"
          },
          "hoverlabel": {
           "align": "left"
          },
          "hovermode": "closest",
          "mapbox": {
           "style": "light"
          },
          "paper_bgcolor": "white",
          "plot_bgcolor": "white",
          "polar": {
           "angularaxis": {
            "gridcolor": "#EBF0F8",
            "linecolor": "#EBF0F8",
            "ticks": ""
           },
           "bgcolor": "white",
           "radialaxis": {
            "gridcolor": "#EBF0F8",
            "linecolor": "#EBF0F8",
            "ticks": ""
           }
          },
          "scene": {
           "xaxis": {
            "backgroundcolor": "white",
            "gridcolor": "#DFE8F3",
            "gridwidth": 2,
            "linecolor": "#EBF0F8",
            "showbackground": true,
            "ticks": "",
            "zerolinecolor": "#EBF0F8"
           },
           "yaxis": {
            "backgroundcolor": "white",
            "gridcolor": "#DFE8F3",
            "gridwidth": 2,
            "linecolor": "#EBF0F8",
            "showbackground": true,
            "ticks": "",
            "zerolinecolor": "#EBF0F8"
           },
           "zaxis": {
            "backgroundcolor": "white",
            "gridcolor": "#DFE8F3",
            "gridwidth": 2,
            "linecolor": "#EBF0F8",
            "showbackground": true,
            "ticks": "",
            "zerolinecolor": "#EBF0F8"
           }
          },
          "shapedefaults": {
           "line": {
            "color": "#2a3f5f"
           }
          },
          "ternary": {
           "aaxis": {
            "gridcolor": "#DFE8F3",
            "linecolor": "#A2B1C6",
            "ticks": ""
           },
           "baxis": {
            "gridcolor": "#DFE8F3",
            "linecolor": "#A2B1C6",
            "ticks": ""
           },
           "bgcolor": "white",
           "caxis": {
            "gridcolor": "#DFE8F3",
            "linecolor": "#A2B1C6",
            "ticks": ""
           }
          },
          "title": {
           "x": 0.05
          },
          "xaxis": {
           "automargin": true,
           "gridcolor": "#EBF0F8",
           "linecolor": "#EBF0F8",
           "ticks": "",
           "title": {
            "standoff": 15
           },
           "zerolinecolor": "#EBF0F8",
           "zerolinewidth": 2
          },
          "yaxis": {
           "automargin": true,
           "gridcolor": "#EBF0F8",
           "linecolor": "#EBF0F8",
           "ticks": "",
           "title": {
            "standoff": 15
           },
           "zerolinecolor": "#EBF0F8",
           "zerolinewidth": 2
          }
         }
        },
        "title": {
         "text": "Survival Rate by Age Rounded and Passenger Class (Grouped Scatter Plot)"
        },
        "xaxis": {
         "anchor": "y",
         "domain": [
          0,
          1
         ],
         "title": {
          "text": "Age Rounded"
         }
        },
        "yaxis": {
         "anchor": "x",
         "domain": [
          0,
          1
         ],
         "title": {
          "text": "Survival Rate"
         }
        }
       }
      },
      "text/html": [
       "<div>                            <div id=\"8b6d1f6a-ee8e-4dbd-8c32-c558dedefdfb\" class=\"plotly-graph-div\" style=\"height:525px; width:100%;\"></div>            <script type=\"text/javascript\">                require([\"plotly\"], function(Plotly) {                    window.PLOTLYENV=window.PLOTLYENV || {};                                    if (document.getElementById(\"8b6d1f6a-ee8e-4dbd-8c32-c558dedefdfb\")) {                    Plotly.newPlot(                        \"8b6d1f6a-ee8e-4dbd-8c32-c558dedefdfb\",                        [{\"hovertemplate\":\"Pclass=1\\u003cbr\\u003eAge Rounded=%{x}\\u003cbr\\u003eSurvivors=%{y}\\u003cextra\\u003e\\u003c\\u002fextra\\u003e\",\"legendgroup\":\"1\",\"marker\":{\"color\":\"#636efa\",\"symbol\":\"circle\"},\"mode\":\"markers\",\"name\":\"1\",\"orientation\":\"v\",\"showlegend\":true,\"x\":[0.0,10.0,20.0,30.0,40.0,50.0,60.0,70.0,80.0],\"xaxis\":\"x\",\"y\":[2,2,29,22,37,20,9,0,1],\"yaxis\":\"y\",\"type\":\"scatter\"},{\"hovertemplate\":\"Pclass=2\\u003cbr\\u003eAge Rounded=%{x}\\u003cbr\\u003eSurvivors=%{y}\\u003cextra\\u003e\\u003c\\u002fextra\\u003e\",\"legendgroup\":\"2\",\"marker\":{\"color\":\"#EF553B\",\"symbol\":\"diamond\"},\"mode\":\"markers\",\"name\":\"2\",\"orientation\":\"v\",\"showlegend\":true,\"x\":[0.0,10.0,20.0,30.0,40.0,50.0,60.0,70.0],\"xaxis\":\"x\",\"y\":[13,6,19,25,13,5,2,0],\"yaxis\":\"y\",\"type\":\"scatter\"},{\"hovertemplate\":\"Pclass=3\\u003cbr\\u003eAge Rounded=%{x}\\u003cbr\\u003eSurvivors=%{y}\\u003cextra\\u003e\\u003c\\u002fextra\\u003e\",\"legendgroup\":\"3\",\"marker\":{\"color\":\"#00cc96\",\"symbol\":\"square\"},\"mode\":\"markers\",\"name\":\"3\",\"orientation\":\"v\",\"showlegend\":true,\"x\":[0.0,10.0,20.0,30.0,40.0,50.0,60.0,70.0],\"xaxis\":\"x\",\"y\":[16,6,31,25,6,0,1,0],\"yaxis\":\"y\",\"type\":\"scatter\"}],                        {\"template\":{\"data\":{\"barpolar\":[{\"marker\":{\"line\":{\"color\":\"white\",\"width\":0.5},\"pattern\":{\"fillmode\":\"overlay\",\"size\":10,\"solidity\":0.2}},\"type\":\"barpolar\"}],\"bar\":[{\"error_x\":{\"color\":\"#2a3f5f\"},\"error_y\":{\"color\":\"#2a3f5f\"},\"marker\":{\"line\":{\"color\":\"white\",\"width\":0.5},\"pattern\":{\"fillmode\":\"overlay\",\"size\":10,\"solidity\":0.2}},\"type\":\"bar\"}],\"carpet\":[{\"aaxis\":{\"endlinecolor\":\"#2a3f5f\",\"gridcolor\":\"#C8D4E3\",\"linecolor\":\"#C8D4E3\",\"minorgridcolor\":\"#C8D4E3\",\"startlinecolor\":\"#2a3f5f\"},\"baxis\":{\"endlinecolor\":\"#2a3f5f\",\"gridcolor\":\"#C8D4E3\",\"linecolor\":\"#C8D4E3\",\"minorgridcolor\":\"#C8D4E3\",\"startlinecolor\":\"#2a3f5f\"},\"type\":\"carpet\"}],\"choropleth\":[{\"colorbar\":{\"outlinewidth\":0,\"ticks\":\"\"},\"type\":\"choropleth\"}],\"contourcarpet\":[{\"colorbar\":{\"outlinewidth\":0,\"ticks\":\"\"},\"type\":\"contourcarpet\"}],\"contour\":[{\"colorbar\":{\"outlinewidth\":0,\"ticks\":\"\"},\"colorscale\":[[0.0,\"#0d0887\"],[0.1111111111111111,\"#46039f\"],[0.2222222222222222,\"#7201a8\"],[0.3333333333333333,\"#9c179e\"],[0.4444444444444444,\"#bd3786\"],[0.5555555555555556,\"#d8576b\"],[0.6666666666666666,\"#ed7953\"],[0.7777777777777778,\"#fb9f3a\"],[0.8888888888888888,\"#fdca26\"],[1.0,\"#f0f921\"]],\"type\":\"contour\"}],\"heatmapgl\":[{\"colorbar\":{\"outlinewidth\":0,\"ticks\":\"\"},\"colorscale\":[[0.0,\"#0d0887\"],[0.1111111111111111,\"#46039f\"],[0.2222222222222222,\"#7201a8\"],[0.3333333333333333,\"#9c179e\"],[0.4444444444444444,\"#bd3786\"],[0.5555555555555556,\"#d8576b\"],[0.6666666666666666,\"#ed7953\"],[0.7777777777777778,\"#fb9f3a\"],[0.8888888888888888,\"#fdca26\"],[1.0,\"#f0f921\"]],\"type\":\"heatmapgl\"}],\"heatmap\":[{\"colorbar\":{\"outlinewidth\":0,\"ticks\":\"\"},\"colorscale\":[[0.0,\"#0d0887\"],[0.1111111111111111,\"#46039f\"],[0.2222222222222222,\"#7201a8\"],[0.3333333333333333,\"#9c179e\"],[0.4444444444444444,\"#bd3786\"],[0.5555555555555556,\"#d8576b\"],[0.6666666666666666,\"#ed7953\"],[0.7777777777777778,\"#fb9f3a\"],[0.8888888888888888,\"#fdca26\"],[1.0,\"#f0f921\"]],\"type\":\"heatmap\"}],\"histogram2dcontour\":[{\"colorbar\":{\"outlinewidth\":0,\"ticks\":\"\"},\"colorscale\":[[0.0,\"#0d0887\"],[0.1111111111111111,\"#46039f\"],[0.2222222222222222,\"#7201a8\"],[0.3333333333333333,\"#9c179e\"],[0.4444444444444444,\"#bd3786\"],[0.5555555555555556,\"#d8576b\"],[0.6666666666666666,\"#ed7953\"],[0.7777777777777778,\"#fb9f3a\"],[0.8888888888888888,\"#fdca26\"],[1.0,\"#f0f921\"]],\"type\":\"histogram2dcontour\"}],\"histogram2d\":[{\"colorbar\":{\"outlinewidth\":0,\"ticks\":\"\"},\"colorscale\":[[0.0,\"#0d0887\"],[0.1111111111111111,\"#46039f\"],[0.2222222222222222,\"#7201a8\"],[0.3333333333333333,\"#9c179e\"],[0.4444444444444444,\"#bd3786\"],[0.5555555555555556,\"#d8576b\"],[0.6666666666666666,\"#ed7953\"],[0.7777777777777778,\"#fb9f3a\"],[0.8888888888888888,\"#fdca26\"],[1.0,\"#f0f921\"]],\"type\":\"histogram2d\"}],\"histogram\":[{\"marker\":{\"pattern\":{\"fillmode\":\"overlay\",\"size\":10,\"solidity\":0.2}},\"type\":\"histogram\"}],\"mesh3d\":[{\"colorbar\":{\"outlinewidth\":0,\"ticks\":\"\"},\"type\":\"mesh3d\"}],\"parcoords\":[{\"line\":{\"colorbar\":{\"outlinewidth\":0,\"ticks\":\"\"}},\"type\":\"parcoords\"}],\"pie\":[{\"automargin\":true,\"type\":\"pie\"}],\"scatter3d\":[{\"line\":{\"colorbar\":{\"outlinewidth\":0,\"ticks\":\"\"}},\"marker\":{\"colorbar\":{\"outlinewidth\":0,\"ticks\":\"\"}},\"type\":\"scatter3d\"}],\"scattercarpet\":[{\"marker\":{\"colorbar\":{\"outlinewidth\":0,\"ticks\":\"\"}},\"type\":\"scattercarpet\"}],\"scattergeo\":[{\"marker\":{\"colorbar\":{\"outlinewidth\":0,\"ticks\":\"\"}},\"type\":\"scattergeo\"}],\"scattergl\":[{\"marker\":{\"colorbar\":{\"outlinewidth\":0,\"ticks\":\"\"}},\"type\":\"scattergl\"}],\"scattermapbox\":[{\"marker\":{\"colorbar\":{\"outlinewidth\":0,\"ticks\":\"\"}},\"type\":\"scattermapbox\"}],\"scatterpolargl\":[{\"marker\":{\"colorbar\":{\"outlinewidth\":0,\"ticks\":\"\"}},\"type\":\"scatterpolargl\"}],\"scatterpolar\":[{\"marker\":{\"colorbar\":{\"outlinewidth\":0,\"ticks\":\"\"}},\"type\":\"scatterpolar\"}],\"scatter\":[{\"fillpattern\":{\"fillmode\":\"overlay\",\"size\":10,\"solidity\":0.2},\"type\":\"scatter\"}],\"scatterternary\":[{\"marker\":{\"colorbar\":{\"outlinewidth\":0,\"ticks\":\"\"}},\"type\":\"scatterternary\"}],\"surface\":[{\"colorbar\":{\"outlinewidth\":0,\"ticks\":\"\"},\"colorscale\":[[0.0,\"#0d0887\"],[0.1111111111111111,\"#46039f\"],[0.2222222222222222,\"#7201a8\"],[0.3333333333333333,\"#9c179e\"],[0.4444444444444444,\"#bd3786\"],[0.5555555555555556,\"#d8576b\"],[0.6666666666666666,\"#ed7953\"],[0.7777777777777778,\"#fb9f3a\"],[0.8888888888888888,\"#fdca26\"],[1.0,\"#f0f921\"]],\"type\":\"surface\"}],\"table\":[{\"cells\":{\"fill\":{\"color\":\"#EBF0F8\"},\"line\":{\"color\":\"white\"}},\"header\":{\"fill\":{\"color\":\"#C8D4E3\"},\"line\":{\"color\":\"white\"}},\"type\":\"table\"}]},\"layout\":{\"annotationdefaults\":{\"arrowcolor\":\"#2a3f5f\",\"arrowhead\":0,\"arrowwidth\":1},\"autotypenumbers\":\"strict\",\"coloraxis\":{\"colorbar\":{\"outlinewidth\":0,\"ticks\":\"\"}},\"colorscale\":{\"diverging\":[[0,\"#8e0152\"],[0.1,\"#c51b7d\"],[0.2,\"#de77ae\"],[0.3,\"#f1b6da\"],[0.4,\"#fde0ef\"],[0.5,\"#f7f7f7\"],[0.6,\"#e6f5d0\"],[0.7,\"#b8e186\"],[0.8,\"#7fbc41\"],[0.9,\"#4d9221\"],[1,\"#276419\"]],\"sequential\":[[0.0,\"#0d0887\"],[0.1111111111111111,\"#46039f\"],[0.2222222222222222,\"#7201a8\"],[0.3333333333333333,\"#9c179e\"],[0.4444444444444444,\"#bd3786\"],[0.5555555555555556,\"#d8576b\"],[0.6666666666666666,\"#ed7953\"],[0.7777777777777778,\"#fb9f3a\"],[0.8888888888888888,\"#fdca26\"],[1.0,\"#f0f921\"]],\"sequentialminus\":[[0.0,\"#0d0887\"],[0.1111111111111111,\"#46039f\"],[0.2222222222222222,\"#7201a8\"],[0.3333333333333333,\"#9c179e\"],[0.4444444444444444,\"#bd3786\"],[0.5555555555555556,\"#d8576b\"],[0.6666666666666666,\"#ed7953\"],[0.7777777777777778,\"#fb9f3a\"],[0.8888888888888888,\"#fdca26\"],[1.0,\"#f0f921\"]]},\"colorway\":[\"#636efa\",\"#EF553B\",\"#00cc96\",\"#ab63fa\",\"#FFA15A\",\"#19d3f3\",\"#FF6692\",\"#B6E880\",\"#FF97FF\",\"#FECB52\"],\"font\":{\"color\":\"#2a3f5f\"},\"geo\":{\"bgcolor\":\"white\",\"lakecolor\":\"white\",\"landcolor\":\"white\",\"showlakes\":true,\"showland\":true,\"subunitcolor\":\"#C8D4E3\"},\"hoverlabel\":{\"align\":\"left\"},\"hovermode\":\"closest\",\"mapbox\":{\"style\":\"light\"},\"paper_bgcolor\":\"white\",\"plot_bgcolor\":\"white\",\"polar\":{\"angularaxis\":{\"gridcolor\":\"#EBF0F8\",\"linecolor\":\"#EBF0F8\",\"ticks\":\"\"},\"bgcolor\":\"white\",\"radialaxis\":{\"gridcolor\":\"#EBF0F8\",\"linecolor\":\"#EBF0F8\",\"ticks\":\"\"}},\"scene\":{\"xaxis\":{\"backgroundcolor\":\"white\",\"gridcolor\":\"#DFE8F3\",\"gridwidth\":2,\"linecolor\":\"#EBF0F8\",\"showbackground\":true,\"ticks\":\"\",\"zerolinecolor\":\"#EBF0F8\"},\"yaxis\":{\"backgroundcolor\":\"white\",\"gridcolor\":\"#DFE8F3\",\"gridwidth\":2,\"linecolor\":\"#EBF0F8\",\"showbackground\":true,\"ticks\":\"\",\"zerolinecolor\":\"#EBF0F8\"},\"zaxis\":{\"backgroundcolor\":\"white\",\"gridcolor\":\"#DFE8F3\",\"gridwidth\":2,\"linecolor\":\"#EBF0F8\",\"showbackground\":true,\"ticks\":\"\",\"zerolinecolor\":\"#EBF0F8\"}},\"shapedefaults\":{\"line\":{\"color\":\"#2a3f5f\"}},\"ternary\":{\"aaxis\":{\"gridcolor\":\"#DFE8F3\",\"linecolor\":\"#A2B1C6\",\"ticks\":\"\"},\"baxis\":{\"gridcolor\":\"#DFE8F3\",\"linecolor\":\"#A2B1C6\",\"ticks\":\"\"},\"bgcolor\":\"white\",\"caxis\":{\"gridcolor\":\"#DFE8F3\",\"linecolor\":\"#A2B1C6\",\"ticks\":\"\"}},\"title\":{\"x\":0.05},\"xaxis\":{\"automargin\":true,\"gridcolor\":\"#EBF0F8\",\"linecolor\":\"#EBF0F8\",\"ticks\":\"\",\"title\":{\"standoff\":15},\"zerolinecolor\":\"#EBF0F8\",\"zerolinewidth\":2},\"yaxis\":{\"automargin\":true,\"gridcolor\":\"#EBF0F8\",\"linecolor\":\"#EBF0F8\",\"ticks\":\"\",\"title\":{\"standoff\":15},\"zerolinecolor\":\"#EBF0F8\",\"zerolinewidth\":2}}},\"xaxis\":{\"anchor\":\"y\",\"domain\":[0.0,1.0],\"title\":{\"text\":\"Age Rounded\"}},\"yaxis\":{\"anchor\":\"x\",\"domain\":[0.0,1.0],\"title\":{\"text\":\"Survival Rate\"}},\"legend\":{\"title\":{\"text\":\"Pclass\"},\"tracegroupgap\":0},\"margin\":{\"t\":60},\"title\":{\"text\":\"Survival Rate by Age Rounded and Passenger Class (Grouped Scatter Plot)\"}},                        {\"responsive\": true}                    ).then(function(){\n",
       "                            \n",
       "var gd = document.getElementById('8b6d1f6a-ee8e-4dbd-8c32-c558dedefdfb');\n",
       "var x = new MutationObserver(function (mutations, observer) {{\n",
       "        var display = window.getComputedStyle(gd).display;\n",
       "        if (!display || display === 'none') {{\n",
       "            console.log([gd, 'removed!']);\n",
       "            Plotly.purge(gd);\n",
       "            observer.disconnect();\n",
       "        }}\n",
       "}});\n",
       "\n",
       "// Listen for the removal of the full notebook cells\n",
       "var notebookContainer = gd.closest('#notebook-container');\n",
       "if (notebookContainer) {{\n",
       "    x.observe(notebookContainer, {childList: true});\n",
       "}}\n",
       "\n",
       "// Listen for the clearing of the current output cell\n",
       "var outputEl = gd.closest('.output');\n",
       "if (outputEl) {{\n",
       "    x.observe(outputEl, {childList: true});\n",
       "}}\n",
       "\n",
       "                        })                };                });            </script>        </div>"
      ]
     },
     "metadata": {},
     "output_type": "display_data"
    }
   ],
   "source": [
    "import plotly.express as px\n",
    "\n",
    "# Grouped Scatter Plot\n",
    "fig_scatter_grouped = px.scatter(df_plot, x='Age_rounded', y='Survived', color='Pclass', symbol='Pclass',\n",
    "                                 labels={'Survived': 'Survivors', 'Age_rounded': 'Age Rounded'},\n",
    "                                 template='plotly_white')\n",
    "fig_scatter_grouped.update_layout(title='Survival Rate by Age Rounded and Passenger Class (Grouped Scatter Plot)',\n",
    "                                  xaxis_title='Age Rounded',\n",
    "                                  yaxis_title='Survival Rate')\n",
    "fig_scatter_grouped.show()\n"
   ]
  },
  {
   "attachments": {
    "newplot.png": {
     "image/png": "[encoded data removed]"
    }
   },
   "cell_type": "markdown",
   "id": "954007be",
   "metadata": {},
   "source": [
    "![newplot.png](attachment:newplot.png)"
   ]
  },
  {
   "cell_type": "code",
   "execution_count": null,
   "id": "37ac0f14",
   "metadata": {},
   "outputs": [],
   "source": []
  }
 ],
 "metadata": {
  "kernelspec": {
   "display_name": "ENV_1",
   "language": "python",
   "name": "env_1"
  },
  "language_info": {
   "codemirror_mode": {
    "name": "ipython",
    "version": 3
   },
   "file_extension": ".py",
   "mimetype": "text/x-python",
   "name": "python",
   "nbconvert_exporter": "python",
   "pygments_lexer": "ipython3",
   "version": "3.11.5"
  }
 },
 "nbformat": 4,
 "nbformat_minor": 5
}
